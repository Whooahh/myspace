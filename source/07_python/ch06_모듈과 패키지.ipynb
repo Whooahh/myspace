{
 "cells": [
  {
   "cell_type": "code",
   "execution_count": 1,
   "id": "ff2b63ba",
   "metadata": {
    "ExecuteTime": {
     "end_time": "2024-11-15T00:35:20.813895Z",
     "start_time": "2024-11-15T00:35:20.804919Z"
    }
   },
   "outputs": [
    {
     "data": {
      "text/html": [
       "\n",
       "<style>\n",
       "div.container{width:99% !important;}\n",
       "div.cell.code_cell.rendered{width:95%;}\n",
       "div.CodeMirror {font-family:Consolas; font-size:10pt;}\n",
       "div.output {font-size:10pt; font-weight:bold;}\n",
       "div.input {font-family:Consolas; font-size:10pt;}\n",
       "div.prompt {min-width:70px;}\n",
       "div#toc-wrapper{padding-top:120px;}\n",
       "span.toc-item-num{display:none;}\n",
       "div.text_cell_render ul li{font-size:18pt;padding:5px;}\n",
       "div.CodeMirror-lines > div {padding-left:10px;}\n",
       "</style>\n"
      ],
      "text/plain": [
       "<IPython.core.display.HTML object>"
      ]
     },
     "metadata": {},
     "output_type": "display_data"
    }
   ],
   "source": [
    "from IPython.display import display, HTML\n",
    "display(HTML(\"\"\"\n",
    "<style>\n",
    "div.container{width:99% !important;}\n",
    "div.cell.code_cell.rendered{width:95%;}\n",
    "div.CodeMirror {font-family:Consolas; font-size:10pt;}\n",
    "div.output {font-size:10pt; font-weight:bold;}\n",
    "div.input {font-family:Consolas; font-size:10pt;}\n",
    "div.prompt {min-width:70px;}\n",
    "div#toc-wrapper{padding-top:120px;}\n",
    "span.toc-item-num{display:none;}\n",
    "div.text_cell_render ul li{font-size:18pt;padding:5px;}\n",
    "div.CodeMirror-lines > div {padding-left:10px;}\n",
    "</style>\n",
    "\"\"\"))"
   ]
  },
  {
   "cell_type": "markdown",
   "id": "b398ce45",
   "metadata": {},
   "source": [
    "<b><font color=\"red\" size=\"6\">ch06. 모듈과 패키지</font></b>"
   ]
  },
  {
   "cell_type": "markdown",
   "id": "23f50b95",
   "metadata": {},
   "source": [
    "## 1절. 파이썬 표준 모둘 사용\n",
    "- 모듈: 함수, 변수, 클래스 등을 담고 있는 파이썬 코드 파일 (*.py)\n",
    "- 파이썬 표준 모듈 200여개는 파이썬 인터프리터와 함께 install됨\n",
    "- anaconda는 1500개 이상의패키지 install(정확한 갯수는 버전마다 상이)"
   ]
  },
  {
   "cell_type": "code",
   "execution_count": 11,
   "id": "4b86752f",
   "metadata": {
    "ExecuteTime": {
     "end_time": "2024-11-12T03:51:21.681663Z",
     "start_time": "2024-11-12T03:51:21.677673Z"
    }
   },
   "outputs": [],
   "source": [
    "import time"
   ]
  },
  {
   "cell_type": "code",
   "execution_count": 12,
   "id": "37689a02",
   "metadata": {
    "ExecuteTime": {
     "end_time": "2024-11-12T03:51:22.666277Z",
     "start_time": "2024-11-12T03:51:22.662270Z"
    }
   },
   "outputs": [
    {
     "data": {
      "text/plain": [
       "'Tue Nov 12 12:51:22 2024'"
      ]
     },
     "execution_count": 12,
     "metadata": {},
     "output_type": "execute_result"
    }
   ],
   "source": [
    "time.ctime()"
   ]
  },
  {
   "cell_type": "code",
   "execution_count": 13,
   "id": "78bca78e",
   "metadata": {
    "ExecuteTime": {
     "end_time": "2024-11-12T03:51:23.810782Z",
     "start_time": "2024-11-12T03:51:23.805795Z"
    }
   },
   "outputs": [
    {
     "data": {
      "text/plain": [
       "1731383483.8067932"
      ]
     },
     "execution_count": 13,
     "metadata": {},
     "output_type": "execute_result"
    }
   ],
   "source": [
    "time.time()"
   ]
  },
  {
   "cell_type": "code",
   "execution_count": 14,
   "id": "5a5c3de0",
   "metadata": {
    "ExecuteTime": {
     "end_time": "2024-11-12T03:51:24.280971Z",
     "start_time": "2024-11-12T03:51:24.276972Z"
    }
   },
   "outputs": [],
   "source": [
    "del time"
   ]
  },
  {
   "cell_type": "code",
   "execution_count": 16,
   "id": "252a7a10",
   "metadata": {
    "ExecuteTime": {
     "end_time": "2024-11-12T03:56:55.939544Z",
     "start_time": "2024-11-12T03:56:55.933580Z"
    }
   },
   "outputs": [
    {
     "data": {
      "text/plain": [
       "'Tue Nov 12 12:56:55 2024'"
      ]
     },
     "execution_count": 16,
     "metadata": {},
     "output_type": "execute_result"
    }
   ],
   "source": [
    "# 2. from 모듈(A) import 함수 또는 클래스 또는 변수(B) : A 모듈 안에 B만 로드\n",
    "#    from 패키지(A) import 모듈(B) : A패키지 안의 B모듈 로드\n",
    "#    from 패키지.모듈명 import 함수명 : 패키지안의 모듈 안의 함수\n",
    "from time import ctime, time\n",
    "ctime()"
   ]
  },
  {
   "cell_type": "code",
   "execution_count": 17,
   "id": "8351b35d",
   "metadata": {
    "ExecuteTime": {
     "end_time": "2024-11-12T03:57:00.899126Z",
     "start_time": "2024-11-12T03:57:00.893128Z"
    }
   },
   "outputs": [
    {
     "data": {
      "text/plain": [
       "1731383820.89413"
      ]
     },
     "execution_count": 17,
     "metadata": {},
     "output_type": "execute_result"
    }
   ],
   "source": [
    "time()"
   ]
  },
  {
   "cell_type": "code",
   "execution_count": 18,
   "id": "c08148f5",
   "metadata": {
    "ExecuteTime": {
     "end_time": "2024-11-12T03:57:09.306005Z",
     "start_time": "2024-11-12T03:57:09.301019Z"
    }
   },
   "outputs": [],
   "source": [
    "del ctime\n",
    "del time"
   ]
  },
  {
   "cell_type": "code",
   "execution_count": 20,
   "id": "a513fbb0",
   "metadata": {
    "ExecuteTime": {
     "end_time": "2024-11-12T03:59:51.299260Z",
     "start_time": "2024-11-12T03:59:51.293264Z"
    }
   },
   "outputs": [
    {
     "data": {
      "text/plain": [
       "'Tue Nov 12 12:59:51 2024'"
      ]
     },
     "execution_count": 20,
     "metadata": {},
     "output_type": "execute_result"
    }
   ],
   "source": [
    "# 3. import 모듈명 as 별칭 : 모듈의 메모리에서 로드하고 별칭으로 사용\n",
    "import time as t\n",
    "t.ctime()"
   ]
  },
  {
   "cell_type": "code",
   "execution_count": 21,
   "id": "134a17b6",
   "metadata": {
    "ExecuteTime": {
     "end_time": "2024-11-12T03:59:57.218804Z",
     "start_time": "2024-11-12T03:59:57.212814Z"
    }
   },
   "outputs": [
    {
     "data": {
      "text/plain": [
       "1731383997.2148101"
      ]
     },
     "execution_count": 21,
     "metadata": {},
     "output_type": "execute_result"
    }
   ],
   "source": [
    "t.time()"
   ]
  },
  {
   "cell_type": "code",
   "execution_count": 22,
   "id": "2385fdc9",
   "metadata": {
    "ExecuteTime": {
     "end_time": "2024-11-12T04:00:57.848345Z",
     "start_time": "2024-11-12T04:00:57.845370Z"
    }
   },
   "outputs": [],
   "source": [
    "del t"
   ]
  },
  {
   "cell_type": "code",
   "execution_count": null,
   "id": "a5d5da6e",
   "metadata": {},
   "outputs": [],
   "source": [
    "# 4. from 모듈명 import 함수명 as 별칭\n",
    "#   from 패키지명 import 모듈명 as 별칭\n",
    "#   from 패키지명.모듈명 import 함수명 as 별칭"
   ]
  },
  {
   "cell_type": "markdown",
   "id": "c200a451",
   "metadata": {
    "ExecuteTime": {
     "end_time": "2024-11-12T04:09:26.955577Z",
     "start_time": "2024-11-12T04:09:26.949573Z"
    }
   },
   "source": [
    "- import A = A모듈을 로드\n",
    "- import A as B A모듈을 B이름으로 로드\n",
    "- from A import B - A 모듈안의 함수(클래스 변수)를 가져옴\n",
    "- from A import B as C - A 모듈 안의 B 함수를 C이름으로 가져옴\n",
    "\n",
    "\n",
    "- from A import B - A패키지 안의 B모듈을 가져옴\n",
    "- from A.B import C - A패키지안의 B모듈 안의 C함수를 가져옴\n",
    "- from A import B as C\n",
    "- from A.B import C as D\n"
   ]
  },
  {
   "cell_type": "code",
   "execution_count": 1,
   "id": "576a0916",
   "metadata": {
    "ExecuteTime": {
     "end_time": "2024-11-12T05:17:35.577852Z",
     "start_time": "2024-11-12T05:17:35.568862Z"
    }
   },
   "outputs": [
    {
     "data": {
      "text/plain": [
       "['_STRUCT_TM_ITEMS',\n",
       " '__doc__',\n",
       " '__loader__',\n",
       " '__name__',\n",
       " '__package__',\n",
       " '__spec__',\n",
       " 'altzone',\n",
       " 'asctime',\n",
       " 'ctime',\n",
       " 'daylight',\n",
       " 'get_clock_info',\n",
       " 'gmtime',\n",
       " 'localtime',\n",
       " 'mktime',\n",
       " 'monotonic',\n",
       " 'monotonic_ns',\n",
       " 'perf_counter',\n",
       " 'perf_counter_ns',\n",
       " 'process_time',\n",
       " 'process_time_ns',\n",
       " 'sleep',\n",
       " 'strftime',\n",
       " 'strptime',\n",
       " 'struct_time',\n",
       " 'thread_time',\n",
       " 'thread_time_ns',\n",
       " 'time',\n",
       " 'time_ns',\n",
       " 'timezone',\n",
       " 'tzname']"
      ]
     },
     "execution_count": 1,
     "metadata": {},
     "output_type": "execute_result"
    }
   ],
   "source": [
    "import time\n",
    "dir(time) # time내의 변수, 함수, 클래스 등이 list로 출력"
   ]
  },
  {
   "cell_type": "markdown",
   "id": "27c337c6",
   "metadata": {},
   "source": [
    "# 2절. 사용자 정의 모듈\n",
    "- 함수나 클래스등을 파이썬 파일에 저장해서 모듈을 만들고 재사용할 수 있음\n",
    "- 모듈을 가져오는 순서\n"
   ]
  },
  {
   "cell_type": "code",
   "execution_count": 5,
   "id": "4e51dc91",
   "metadata": {
    "ExecuteTime": {
     "end_time": "2024-11-12T05:54:32.330118Z",
     "start_time": "2024-11-12T05:54:32.325150Z"
    }
   },
   "outputs": [
    {
     "data": {
      "text/plain": [
       "'D:/myspace/source/pylib'"
      ]
     },
     "execution_count": 5,
     "metadata": {},
     "output_type": "execute_result"
    }
   ],
   "source": [
    "'D:/myspace/source/pylib'"
   ]
  },
  {
   "cell_type": "code",
   "execution_count": 9,
   "id": "62988839",
   "metadata": {
    "ExecuteTime": {
     "end_time": "2024-11-12T05:55:26.891107Z",
     "start_time": "2024-11-12T05:55:26.885132Z"
    }
   },
   "outputs": [
    {
     "data": {
      "text/plain": [
       "['D:\\\\myspace\\\\source\\\\07_python',\n",
       " 'C:\\\\Users\\\\4545\\\\anaconda3\\\\python310.zip',\n",
       " 'C:\\\\Users\\\\4545\\\\anaconda3\\\\DLLs',\n",
       " 'C:\\\\Users\\\\4545\\\\anaconda3\\\\lib',\n",
       " 'C:\\\\Users\\\\4545\\\\anaconda3',\n",
       " '',\n",
       " 'C:\\\\Users\\\\4545\\\\anaconda3\\\\lib\\\\site-packages',\n",
       " 'C:\\\\Users\\\\4545\\\\anaconda3\\\\lib\\\\site-packages\\\\win32',\n",
       " 'C:\\\\Users\\\\4545\\\\anaconda3\\\\lib\\\\site-packages\\\\win32\\\\lib',\n",
       " 'C:\\\\Users\\\\4545\\\\anaconda3\\\\lib\\\\site-packages\\\\Pythonwin',\n",
       " 'D:/myspace/source/pylib']"
      ]
     },
     "execution_count": 9,
     "metadata": {},
     "output_type": "execute_result"
    }
   ],
   "source": [
    "import sys\n",
    "sys.path.append('D:/myspace/source/pylib')\n",
    "sys.path"
   ]
  },
  {
   "cell_type": "code",
   "execution_count": 10,
   "id": "2e731d19",
   "metadata": {
    "ExecuteTime": {
     "end_time": "2024-11-12T05:56:40.039203Z",
     "start_time": "2024-11-12T05:56:40.029025Z"
    }
   },
   "outputs": [],
   "source": [
    "# 1. import 모듈명\n",
    "import fibonacci"
   ]
  },
  {
   "cell_type": "code",
   "execution_count": 11,
   "id": "d30ca729",
   "metadata": {
    "ExecuteTime": {
     "end_time": "2024-11-12T05:56:49.603018Z",
     "start_time": "2024-11-12T05:56:49.597049Z"
    }
   },
   "outputs": [
    {
     "name": "stdout",
     "output_type": "stream",
     "text": [
      "0 1 1 2 3 5 8 13 21 34 55 89 \n"
     ]
    }
   ],
   "source": [
    "fibonacci.fibo_print(100)"
   ]
  },
  {
   "cell_type": "code",
   "execution_count": 12,
   "id": "eac94efe",
   "metadata": {
    "ExecuteTime": {
     "end_time": "2024-11-12T05:57:00.835522Z",
     "start_time": "2024-11-12T05:57:00.829538Z"
    }
   },
   "outputs": [
    {
     "data": {
      "text/plain": [
       "[0, 1, 1, 2, 3, 5, 8, 13, 21, 34, 55, 89]"
      ]
     },
     "execution_count": 12,
     "metadata": {},
     "output_type": "execute_result"
    }
   ],
   "source": [
    "fibonacci.fibo_return(100)"
   ]
  },
  {
   "cell_type": "code",
   "execution_count": 14,
   "id": "0edf908f",
   "metadata": {
    "ExecuteTime": {
     "end_time": "2024-11-12T05:57:10.161352Z",
     "start_time": "2024-11-12T05:57:10.126253Z"
    }
   },
   "outputs": [
    {
     "name": "stdout",
     "output_type": "stream",
     "text": [
      " D 드라이브의 볼륨에는 이름이 없습니다.\n",
      " 볼륨 일련 번호: 4E56-45BD\n",
      "\n",
      " D:\\myspace\\source\\07_python 디렉터리\n",
      "\n",
      "2024-11-12  오후 02:56    <DIR>          .\n",
      "2024-11-12  오후 02:56    <DIR>          ..\n",
      "2024-11-12  오후 12:44    <DIR>          .ipynb_checkpoints\n",
      "2024-11-08  오후 12:49               121 a.py\n",
      "2024-11-08  오전 09:22             7,162 ch01_파이썬개요 및 환경설정.ipynb\n",
      "2024-11-08  오전 09:22            34,541 ch02_1절변수_2절화면io_3절기본자료형.ipynb\n",
      "2024-11-08  오전 09:22            24,783 ch02_4절포맷팅_5절연산자.ipynb\n",
      "2024-11-08  오전 09:22            29,485 ch02_6절문자열다루기_8절연습문제.ipynb\n",
      "2024-11-08  오전 09:22            93,468 ch03_데이터구조.ipynb\n",
      "2024-11-08  오전 11:12            40,711 ch04_제어문.ipynb\n",
      "2024-11-12  오전 11:18           114,547 ch05_함수.ipynb\n",
      "2024-11-12  오후 02:56            12,645 ch06_모듈과 패키지.ipynb\n",
      "2024-11-08  오전 09:22                29 test.txt\n",
      "2024-11-08  오후 12:52    <DIR>          __pycache__\n",
      "              10개 파일             357,492 바이트\n",
      "               4개 디렉터리  235,603,488,768 바이트 남음\n"
     ]
    }
   ],
   "source": [
    "! dir"
   ]
  },
  {
   "cell_type": "code",
   "execution_count": 15,
   "id": "59d6cfeb",
   "metadata": {
    "ExecuteTime": {
     "end_time": "2024-11-12T05:58:39.899513Z",
     "start_time": "2024-11-12T05:58:39.797542Z"
    }
   },
   "outputs": [
    {
     "name": "stdout",
     "output_type": "stream",
     "text": [
      "1. print test :  0 1 1 2 3 5 8 13 21 34 55 89 144 \n",
      "2. return된 list test : [0, 1, 1, 2, 3, 5, 8, 13, 21, 34, 55, 89, 144]\n"
     ]
    }
   ],
   "source": [
    "! python d:/myspace/source/pylib/fibonacci.py 200"
   ]
  },
  {
   "cell_type": "code",
   "execution_count": 16,
   "id": "220d31dd",
   "metadata": {
    "ExecuteTime": {
     "end_time": "2024-11-12T05:59:52.703994Z",
     "start_time": "2024-11-12T05:59:52.700005Z"
    }
   },
   "outputs": [],
   "source": [
    "del fibonacci"
   ]
  },
  {
   "cell_type": "code",
   "execution_count": 18,
   "id": "3a3c970b",
   "metadata": {
    "ExecuteTime": {
     "end_time": "2024-11-12T06:00:24.378349Z",
     "start_time": "2024-11-12T06:00:24.374356Z"
    }
   },
   "outputs": [
    {
     "name": "stdout",
     "output_type": "stream",
     "text": [
      "0 1 1 2 3 5 8 13 21 34 55 89 \n"
     ]
    }
   ],
   "source": [
    "# 2. from A import B\n",
    "from fibonacci import fibo_print, fibo_return\n",
    "fibo_print(100)"
   ]
  },
  {
   "cell_type": "code",
   "execution_count": 54,
   "id": "3c4df4b3",
   "metadata": {
    "ExecuteTime": {
     "end_time": "2024-11-12T07:08:19.036962Z",
     "start_time": "2024-11-12T07:08:19.032000Z"
    }
   },
   "outputs": [
    {
     "name": "stdout",
     "output_type": "stream",
     "text": [
      "0 1 1 2 3 5 8 13 21 34 55 89 \n"
     ]
    }
   ],
   "source": [
    "# 3. import 모듈명 as 별칭\n",
    "import fibonacci as f\n",
    "f.fibo_print(100)"
   ]
  },
  {
   "cell_type": "code",
   "execution_count": 55,
   "id": "b6a215ce",
   "metadata": {
    "ExecuteTime": {
     "end_time": "2024-11-12T07:08:20.621477Z",
     "start_time": "2024-11-12T07:08:20.615494Z"
    }
   },
   "outputs": [
    {
     "data": {
      "text/plain": [
       "[0, 1, 1, 2, 3, 5, 8, 13, 21, 34, 55, 89]"
      ]
     },
     "execution_count": 55,
     "metadata": {},
     "output_type": "execute_result"
    }
   ],
   "source": [
    "f.fibo_return(100)"
   ]
  },
  {
   "cell_type": "code",
   "execution_count": 50,
   "id": "93b07b29",
   "metadata": {
    "ExecuteTime": {
     "end_time": "2024-11-12T07:07:37.284176Z",
     "start_time": "2024-11-12T07:07:37.280187Z"
    }
   },
   "outputs": [],
   "source": [
    "del f # import된 모듈을 unload"
   ]
  },
  {
   "cell_type": "code",
   "execution_count": 56,
   "id": "f7b66265",
   "metadata": {
    "ExecuteTime": {
     "end_time": "2024-11-12T07:08:37.700433Z",
     "start_time": "2024-11-12T07:08:37.696444Z"
    }
   },
   "outputs": [],
   "source": [
    "# 4. from 모듈명 import 함수명 as 별칭\n",
    "from fibonacci import fibo_print as fibo_p"
   ]
  },
  {
   "cell_type": "code",
   "execution_count": 57,
   "id": "d6b3cce5",
   "metadata": {
    "ExecuteTime": {
     "end_time": "2024-11-12T07:08:51.149022Z",
     "start_time": "2024-11-12T07:08:51.144033Z"
    }
   },
   "outputs": [
    {
     "name": "stdout",
     "output_type": "stream",
     "text": [
      "0 1 1 2 3 5 8 13 21 34 55 89 \n"
     ]
    }
   ],
   "source": [
    "fibo_p(100)"
   ]
  },
  {
   "cell_type": "markdown",
   "id": "adb33ea4",
   "metadata": {},
   "source": [
    "# 3절. 패키지\n",
    "\n",
    "- 모듈들이 들어있는 풀더"
   ]
  },
  {
   "cell_type": "code",
   "execution_count": 1,
   "id": "b7227968",
   "metadata": {
    "ExecuteTime": {
     "end_time": "2024-11-12T07:37:46.450196Z",
     "start_time": "2024-11-12T07:37:46.446206Z"
    }
   },
   "outputs": [],
   "source": [
    "import sys\n",
    "sys.path.append('D:/myspace/source/pylib')"
   ]
  },
  {
   "cell_type": "code",
   "execution_count": 64,
   "id": "a80a9dcd",
   "metadata": {
    "ExecuteTime": {
     "end_time": "2024-11-12T07:19:49.020174Z",
     "start_time": "2024-11-12T07:19:49.015167Z"
    }
   },
   "outputs": [],
   "source": [
    "import sample_pac"
   ]
  },
  {
   "cell_type": "code",
   "execution_count": 65,
   "id": "955dbecf",
   "metadata": {
    "ExecuteTime": {
     "end_time": "2024-11-12T07:19:59.632850Z",
     "start_time": "2024-11-12T07:19:59.624866Z"
    }
   },
   "outputs": [
    {
     "name": "stdout",
     "output_type": "stream",
     "text": [
      "sample_pac 패키지 안의 ab패키지가 로드 되었습니다.\n"
     ]
    }
   ],
   "source": [
    "import sample_pac.ab"
   ]
  },
  {
   "cell_type": "code",
   "execution_count": 66,
   "id": "425d02f6",
   "metadata": {
    "ExecuteTime": {
     "end_time": "2024-11-12T07:20:14.247754Z",
     "start_time": "2024-11-12T07:20:14.239763Z"
    }
   },
   "outputs": [
    {
     "name": "stdout",
     "output_type": "stream",
     "text": [
      "sample_pac 패키지 안의 cd패키지가 로드 되었습니다.\n"
     ]
    }
   ],
   "source": [
    "from sample_pac import cd"
   ]
  },
  {
   "cell_type": "code",
   "execution_count": 2,
   "id": "326fad9f",
   "metadata": {
    "ExecuteTime": {
     "end_time": "2024-11-12T07:37:48.828867Z",
     "start_time": "2024-11-12T07:37:48.814883Z"
    }
   },
   "outputs": [
    {
     "name": "stdout",
     "output_type": "stream",
     "text": [
      "sample_pac 패키지를 로드했는데 확인하는 print 입니다\n",
      "sample_pac 패키지 안의 ab패키지가 로드 되었습니다.\n"
     ]
    }
   ],
   "source": [
    "from sample_pac.ab import *"
   ]
  },
  {
   "cell_type": "code",
   "execution_count": 3,
   "id": "8a48243e",
   "metadata": {
    "ExecuteTime": {
     "end_time": "2024-11-12T07:42:50.125373Z",
     "start_time": "2024-11-12T07:42:49.662584Z"
    }
   },
   "outputs": [
    {
     "ename": "NameError",
     "evalue": "name 'a' is not defined",
     "output_type": "error",
     "traceback": [
      "\u001b[1;31m---------------------------------------------------------------------------\u001b[0m",
      "\u001b[1;31mNameError\u001b[0m                                 Traceback (most recent call last)",
      "Cell \u001b[1;32mIn[3], line 1\u001b[0m\n\u001b[1;32m----> 1\u001b[0m \u001b[43ma\u001b[49m\u001b[38;5;241m.\u001b[39mhello()\n",
      "\u001b[1;31mNameError\u001b[0m: name 'a' is not defined"
     ]
    }
   ],
   "source": [
    "a.hello()"
   ]
  },
  {
   "cell_type": "markdown",
   "id": "8a0ee9dd",
   "metadata": {},
   "source": [
    "# 4절. 패키지 설치 및 삭제\n",
    "- 패키지 설치 : pip install 패키지명[==버전] / conda install 패키지명[==버전]\n",
    "- 패키지 확인 : pip show 패키지명 / conda list 패키지명\n",
    "- 패키지 삭제 : pip uninstall 패키지명 / conda remove 패키지명"
   ]
  },
  {
   "cell_type": "code",
   "execution_count": 4,
   "id": "37c53b0e",
   "metadata": {
    "ExecuteTime": {
     "end_time": "2024-11-12T08:21:57.677943Z",
     "start_time": "2024-11-12T08:21:57.667941Z"
    }
   },
   "outputs": [],
   "source": [
    "import objgraph"
   ]
  },
  {
   "cell_type": "code",
   "execution_count": 6,
   "id": "0fb324c9",
   "metadata": {
    "ExecuteTime": {
     "end_time": "2024-11-12T08:22:25.716267Z",
     "start_time": "2024-11-12T08:22:25.642466Z"
    }
   },
   "outputs": [
    {
     "name": "stdout",
     "output_type": "stream",
     "text": [
      "dict                       20803\n",
      "function                   18943\n",
      "Token                      16784\n",
      "list                       13691\n",
      "tuple                      12554\n",
      "ReferenceType              5495\n",
      "builtin_function_or_method 3274\n",
      "cell                       2575\n",
      "type                       2573\n",
      "Name                       2506\n"
     ]
    }
   ],
   "source": [
    "objgraph.show_most_common_types()"
   ]
  },
  {
   "cell_type": "code",
   "execution_count": 8,
   "id": "3bc01af7",
   "metadata": {
    "ExecuteTime": {
     "end_time": "2024-11-12T08:26:28.780703Z",
     "start_time": "2024-11-12T08:26:28.547166Z"
    }
   },
   "outputs": [],
   "source": [
    "l = [2]\n",
    "for i in range(1000000):\n",
    "    l.append('aaaa')\n",
    "    l.append('bbbb')"
   ]
  },
  {
   "cell_type": "code",
   "execution_count": 9,
   "id": "7e04b828",
   "metadata": {
    "ExecuteTime": {
     "end_time": "2024-11-12T08:26:37.932690Z",
     "start_time": "2024-11-12T08:26:37.859857Z"
    }
   },
   "outputs": [
    {
     "name": "stdout",
     "output_type": "stream",
     "text": [
      "dict                       20844\n",
      "function                   18949\n",
      "Token                      16812\n",
      "list                       13926\n",
      "tuple                      12692\n",
      "ReferenceType              5500\n",
      "builtin_function_or_method 3275\n",
      "cell                       2591\n",
      "type                       2573\n",
      "Name                       2510\n"
     ]
    }
   ],
   "source": [
    "objgraph.show_most_common_types()"
   ]
  },
  {
   "cell_type": "markdown",
   "id": "0e85d83b",
   "metadata": {},
   "source": [
    "### 5절. 연습문제"
   ]
  },
  {
   "cell_type": "code",
   "execution_count": null,
   "id": "ff938ed8",
   "metadata": {},
   "outputs": [],
   "source": [
    "#1. 파이썬의 모듈과 패키지에 대해 잘못 설명된 것은?\n",
    "\n",
    "#정답: ③"
   ]
  },
  {
   "cell_type": "code",
   "execution_count": null,
   "id": "371b0fc6",
   "metadata": {},
   "outputs": [],
   "source": [
    "#2. 다음 중 모듈의 import와 import후 사용 방법이 잘못된 것은?\n",
    "\n",
    "# 정답: ④"
   ]
  },
  {
   "cell_type": "code",
   "execution_count": null,
   "id": "d95ae201",
   "metadata": {},
   "outputs": [],
   "source": [
    "#3. 파이썬이 디렉터리를 패키지에 포함하도록 처리하기 위해 필요한 파일은?\n",
    "\n",
    "#정답: __init__.py"
   ]
  },
  {
   "cell_type": "code",
   "execution_count": null,
   "id": "04b9e942",
   "metadata": {},
   "outputs": [],
   "source": [
    "#4. import *을 이용하면 패키지에 있는 서브 모듈을 찾아서 모두 가져옵니다. 그렇기 때문에 패키지 작성자가 패키지의 명시적 색인을 재공하기 위해 사용하는 속성의 이름은 무엇인가요?\n",
    "\n",
    "# 정답: __all__"
   ]
  },
  {
   "cell_type": "code",
   "execution_count": null,
   "id": "b3325a11",
   "metadata": {},
   "outputs": [],
   "source": [
    "#5. 다음 중 파이썬 패키지를 설치하는 방법이 아닌 것은?\n",
    "\n",
    "# 정답 : ①"
   ]
  },
  {
   "cell_type": "code",
   "execution_count": null,
   "id": "4de8b6f1",
   "metadata": {},
   "outputs": [],
   "source": []
  },
  {
   "cell_type": "code",
   "execution_count": null,
   "id": "117f6a31",
   "metadata": {},
   "outputs": [],
   "source": []
  },
  {
   "cell_type": "code",
   "execution_count": null,
   "id": "5bfa93ec",
   "metadata": {},
   "outputs": [],
   "source": []
  }
 ],
 "metadata": {
  "kernelspec": {
   "display_name": "Python 3 (ipykernel)",
   "language": "python",
   "name": "python3"
  },
  "language_info": {
   "codemirror_mode": {
    "name": "ipython",
    "version": 3
   },
   "file_extension": ".py",
   "mimetype": "text/x-python",
   "name": "python",
   "nbconvert_exporter": "python",
   "pygments_lexer": "ipython3",
   "version": "3.10.9"
  },
  "toc": {
   "base_numbering": 1,
   "nav_menu": {},
   "number_sections": true,
   "sideBar": true,
   "skip_h1_title": false,
   "title_cell": "Table of Contents",
   "title_sidebar": "Contents",
   "toc_cell": false,
   "toc_position": {},
   "toc_section_display": true,
   "toc_window_display": false
  }
 },
 "nbformat": 4,
 "nbformat_minor": 5
}
