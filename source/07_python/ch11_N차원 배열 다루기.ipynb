{
 "cells": [
  {
   "cell_type": "code",
   "execution_count": 1,
   "id": "10e74c1f",
   "metadata": {
    "ExecuteTime": {
     "end_time": "2024-11-21T02:43:12.649383Z",
     "start_time": "2024-11-21T02:43:12.639415Z"
    }
   },
   "outputs": [
    {
     "data": {
      "text/html": [
       "\n",
       "<style>\n",
       "div.container{width:99% !important;}\n",
       "div.cell.code_cell.rendered{width:90%;}\n",
       "div.CodeMirror {font-family:Consolas; font-size:10pt;}\n",
       "div.output {font-size:9pt; font-weight:bold;}\n",
       "div.input {font-family:Consolas; font-size:9pt;}\n",
       "div.prompt {min-width:70px;}\n",
       "div#toc-wrapper{padding-top:120px;}\n",
       "span.toc-item-num{display:none;}\n",
       "div.text_cell_render ul li{font-size:9pt;padding:5px;}\n",
       "div.CodeMirror-lines > div {padding-left:10px;}\n",
       "table.dataframe{font-size:17pt;}\n",
       "</style>\n"
      ],
      "text/plain": [
       "<IPython.core.display.HTML object>"
      ]
     },
     "metadata": {},
     "output_type": "display_data"
    }
   ],
   "source": [
    "from IPython.display import display, HTML\n",
    "display(HTML(\"\"\"\n",
    "<style>\n",
    "div.container{width:99% !important;}\n",
    "div.cell.code_cell.rendered{width:90%;}\n",
    "div.CodeMirror {font-family:Consolas; font-size:10pt;}\n",
    "div.output {font-size:9pt; font-weight:bold;}\n",
    "div.input {font-family:Consolas; font-size:9pt;}\n",
    "div.prompt {min-width:70px;}\n",
    "div#toc-wrapper{padding-top:120px;}\n",
    "span.toc-item-num{display:none;}\n",
    "div.text_cell_render ul li{font-size:9pt;padding:5px;}\n",
    "div.CodeMirror-lines > div {padding-left:10px;}\n",
    "table.dataframe{font-size:17pt;}\n",
    "</style>\n",
    "\"\"\"))"
   ]
  },
  {
   "cell_type": "markdown",
   "id": "01f0653a",
   "metadata": {},
   "source": [
    "<b><font color=\"red\" size=\"6\">ch11. N차원 배열 다루기</font></b>\n",
    "\n",
    "- [numpy](https://numpy.org/)\n",
    "- [numpy docs](https://numpy.org/doc/stable)\n",
    "- N차원 배열 객체\n",
    "- 2차원 배열은 행렬개념으로 이해\n",
    "- numpy패키지 이용(C언어로 구현한 고성능 수칙연산 패키지)"
   ]
  },
  {
   "cell_type": "markdown",
   "id": "f6bac8bd",
   "metadata": {},
   "source": [
    "## 1절. 넘파이 패키지"
   ]
  },
  {
   "cell_type": "code",
   "execution_count": 2,
   "id": "0ac57a28",
   "metadata": {
    "ExecuteTime": {
     "end_time": "2024-11-21T02:53:52.791968Z",
     "start_time": "2024-11-21T02:53:52.658311Z"
    }
   },
   "outputs": [
    {
     "data": {
      "text/plain": [
       "'1.23.5'"
      ]
     },
     "execution_count": 2,
     "metadata": {},
     "output_type": "execute_result"
    }
   ],
   "source": [
    "import numpy as np\n",
    "np.__version__"
   ]
  },
  {
   "cell_type": "code",
   "execution_count": 3,
   "id": "57697630",
   "metadata": {
    "ExecuteTime": {
     "end_time": "2024-11-21T02:56:50.645983Z",
     "start_time": "2024-11-21T02:56:50.637993Z"
    }
   },
   "outputs": [
    {
     "data": {
      "text/plain": [
       "array([ 0,  1,  2,  3,  4,  5,  6,  7,  8,  9, 10, 11, 12, 13, 14])"
      ]
     },
     "execution_count": 3,
     "metadata": {},
     "output_type": "execute_result"
    }
   ],
   "source": [
    "a = np.arange(15)\n",
    "a"
   ]
  },
  {
   "cell_type": "code",
   "execution_count": 8,
   "id": "525f3be9",
   "metadata": {
    "ExecuteTime": {
     "end_time": "2024-11-21T02:59:11.588747Z",
     "start_time": "2024-11-21T02:59:11.582763Z"
    }
   },
   "outputs": [
    {
     "data": {
      "text/plain": [
       "array([[15, 16, 17, 18, 19],\n",
       "       [20, 21, 22, 23, 24],\n",
       "       [25, 26, 27, 28, 29]])"
      ]
     },
     "execution_count": 8,
     "metadata": {},
     "output_type": "execute_result"
    }
   ],
   "source": [
    "from numpy import arange\n",
    "a = arange(15, 30).reshape(3,5)\n",
    "a"
   ]
  },
  {
   "cell_type": "code",
   "execution_count": 10,
   "id": "dc040ca2",
   "metadata": {
    "ExecuteTime": {
     "end_time": "2024-11-21T02:59:19.396007Z",
     "start_time": "2024-11-21T02:59:19.391031Z"
    }
   },
   "outputs": [
    {
     "data": {
      "text/plain": [
       "numpy.ndarray"
      ]
     },
     "execution_count": 10,
     "metadata": {},
     "output_type": "execute_result"
    }
   ],
   "source": [
    "type(a)"
   ]
  },
  {
   "cell_type": "code",
   "execution_count": 11,
   "id": "944bab00",
   "metadata": {
    "ExecuteTime": {
     "end_time": "2024-11-21T03:00:33.547453Z",
     "start_time": "2024-11-21T03:00:33.541468Z"
    }
   },
   "outputs": [
    {
     "data": {
      "text/plain": [
       "dtype('int32')"
      ]
     },
     "execution_count": 11,
     "metadata": {},
     "output_type": "execute_result"
    }
   ],
   "source": [
    "a.dtype"
   ]
  },
  {
   "cell_type": "code",
   "execution_count": 12,
   "id": "dd31405b",
   "metadata": {
    "ExecuteTime": {
     "end_time": "2024-11-21T03:02:47.532330Z",
     "start_time": "2024-11-21T03:02:47.526319Z"
    }
   },
   "outputs": [
    {
     "data": {
      "text/plain": [
       "'int32'"
      ]
     },
     "execution_count": 12,
     "metadata": {},
     "output_type": "execute_result"
    }
   ],
   "source": [
    "a.dtype.name"
   ]
  },
  {
   "cell_type": "code",
   "execution_count": 13,
   "id": "525e52fe",
   "metadata": {
    "ExecuteTime": {
     "end_time": "2024-11-21T03:02:54.596554Z",
     "start_time": "2024-11-21T03:02:54.589560Z"
    }
   },
   "outputs": [
    {
     "data": {
      "text/plain": [
       "4"
      ]
     },
     "execution_count": 13,
     "metadata": {},
     "output_type": "execute_result"
    }
   ],
   "source": [
    "a.itemsize"
   ]
  },
  {
   "cell_type": "code",
   "execution_count": 14,
   "id": "ce89dd7e",
   "metadata": {
    "ExecuteTime": {
     "end_time": "2024-11-21T03:03:00.850024Z",
     "start_time": "2024-11-21T03:03:00.846017Z"
    }
   },
   "outputs": [
    {
     "data": {
      "text/plain": [
       "2"
      ]
     },
     "execution_count": 14,
     "metadata": {},
     "output_type": "execute_result"
    }
   ],
   "source": [
    "a.ndim"
   ]
  },
  {
   "cell_type": "code",
   "execution_count": 15,
   "id": "d15b1261",
   "metadata": {
    "ExecuteTime": {
     "end_time": "2024-11-21T03:03:04.275234Z",
     "start_time": "2024-11-21T03:03:04.269270Z"
    }
   },
   "outputs": [
    {
     "data": {
      "text/plain": [
       "15"
      ]
     },
     "execution_count": 15,
     "metadata": {},
     "output_type": "execute_result"
    }
   ],
   "source": [
    "a.size"
   ]
  },
  {
   "cell_type": "code",
   "execution_count": 16,
   "id": "fb239797",
   "metadata": {
    "ExecuteTime": {
     "end_time": "2024-11-21T03:03:09.330982Z",
     "start_time": "2024-11-21T03:03:09.324978Z"
    }
   },
   "outputs": [
    {
     "data": {
      "text/plain": [
       "(3, 5)"
      ]
     },
     "execution_count": 16,
     "metadata": {},
     "output_type": "execute_result"
    }
   ],
   "source": [
    "a.shape"
   ]
  },
  {
   "cell_type": "code",
   "execution_count": 18,
   "id": "26ff741a",
   "metadata": {
    "ExecuteTime": {
     "end_time": "2024-11-21T03:08:13.116540Z",
     "start_time": "2024-11-21T03:08:13.111563Z"
    }
   },
   "outputs": [
    {
     "name": "stdout",
     "output_type": "stream",
     "text": [
      "shape 조정 전 a:\n",
      " [[15 16 17 18 19]\n",
      " [20 21 22 23 24]\n",
      " [25 26 27 28 29]]\n",
      "shape 수정 후 a:\n",
      " [[15 16 17]\n",
      " [18 19 20]\n",
      " [21 22 23]\n",
      " [24 25 26]\n",
      " [27 28 29]]\n"
     ]
    }
   ],
   "source": [
    "print('shape 조정 전 a:\\n', a)\n",
    "a.shape=(5,3)\n",
    "print('shape 수정 후 a:\\n', a)"
   ]
  },
  {
   "cell_type": "code",
   "execution_count": 20,
   "id": "cc7ccbdd",
   "metadata": {
    "ExecuteTime": {
     "end_time": "2024-11-21T03:09:17.706559Z",
     "start_time": "2024-11-21T03:09:17.700583Z"
    }
   },
   "outputs": [
    {
     "data": {
      "text/plain": [
       "array([[ 0,  1,  2,  3],\n",
       "       [ 4,  5,  6,  7],\n",
       "       [ 8,  9, 10, 11]])"
      ]
     },
     "execution_count": 20,
     "metadata": {},
     "output_type": "execute_result"
    }
   ],
   "source": [
    "# 배열요소에 타입을 수정\n",
    "a = np.arange(12).reshape(3,4)\n",
    "a"
   ]
  },
  {
   "cell_type": "code",
   "execution_count": 21,
   "id": "11390a99",
   "metadata": {
    "ExecuteTime": {
     "end_time": "2024-11-21T03:10:08.507387Z",
     "start_time": "2024-11-21T03:10:08.501418Z"
    }
   },
   "outputs": [
    {
     "data": {
      "text/plain": [
       "12"
      ]
     },
     "execution_count": 21,
     "metadata": {},
     "output_type": "execute_result"
    }
   ],
   "source": [
    "a.size"
   ]
  },
  {
   "cell_type": "code",
   "execution_count": 22,
   "id": "ccba71e8",
   "metadata": {
    "ExecuteTime": {
     "end_time": "2024-11-21T03:10:12.763304Z",
     "start_time": "2024-11-21T03:10:12.758318Z"
    }
   },
   "outputs": [
    {
     "data": {
      "text/plain": [
       "dtype('int32')"
      ]
     },
     "execution_count": 22,
     "metadata": {},
     "output_type": "execute_result"
    }
   ],
   "source": [
    "a.dtype"
   ]
  },
  {
   "cell_type": "code",
   "execution_count": 23,
   "id": "522f4cc9",
   "metadata": {
    "ExecuteTime": {
     "end_time": "2024-11-21T03:10:17.570627Z",
     "start_time": "2024-11-21T03:10:17.565641Z"
    }
   },
   "outputs": [
    {
     "data": {
      "text/plain": [
       "4"
      ]
     },
     "execution_count": 23,
     "metadata": {},
     "output_type": "execute_result"
    }
   ],
   "source": [
    "a.itemsize"
   ]
  },
  {
   "cell_type": "code",
   "execution_count": 24,
   "id": "ebb12ebb",
   "metadata": {
    "ExecuteTime": {
     "end_time": "2024-11-21T03:17:16.635576Z",
     "start_time": "2024-11-21T03:17:16.630588Z"
    }
   },
   "outputs": [
    {
     "data": {
      "text/plain": [
       "dtype('int64')"
      ]
     },
     "execution_count": 24,
     "metadata": {},
     "output_type": "execute_result"
    }
   ],
   "source": [
    "a.dtype = np.int64\n",
    "a.dtype"
   ]
  },
  {
   "cell_type": "code",
   "execution_count": 25,
   "id": "5f3fdfd5",
   "metadata": {
    "ExecuteTime": {
     "end_time": "2024-11-21T03:17:22.811626Z",
     "start_time": "2024-11-21T03:17:22.805655Z"
    }
   },
   "outputs": [
    {
     "data": {
      "text/plain": [
       "8"
      ]
     },
     "execution_count": 25,
     "metadata": {},
     "output_type": "execute_result"
    }
   ],
   "source": [
    "a.itemsize"
   ]
  },
  {
   "cell_type": "code",
   "execution_count": 26,
   "id": "d575cc8e",
   "metadata": {
    "ExecuteTime": {
     "end_time": "2024-11-21T03:17:48.593823Z",
     "start_time": "2024-11-21T03:17:48.588823Z"
    }
   },
   "outputs": [
    {
     "data": {
      "text/plain": [
       "6"
      ]
     },
     "execution_count": 26,
     "metadata": {},
     "output_type": "execute_result"
    }
   ],
   "source": [
    "a.size"
   ]
  },
  {
   "cell_type": "code",
   "execution_count": 27,
   "id": "781a487d",
   "metadata": {
    "ExecuteTime": {
     "end_time": "2024-11-21T03:17:50.484245Z",
     "start_time": "2024-11-21T03:17:50.478232Z"
    }
   },
   "outputs": [
    {
     "data": {
      "text/plain": [
       "array([[ 4294967296, 12884901890],\n",
       "       [21474836484, 30064771078],\n",
       "       [38654705672, 47244640266]], dtype=int64)"
      ]
     },
     "execution_count": 27,
     "metadata": {},
     "output_type": "execute_result"
    }
   ],
   "source": [
    "a"
   ]
  },
  {
   "cell_type": "markdown",
   "id": "0cf573ac",
   "metadata": {},
   "source": [
    "## 2절. 넘파이 배열\n",
    "- array()함수를 이용한 다른 파이썬 구조(list,tuple)\n",
    "- 기타 함수들 : arange, ones, zeros, empty\n",
    "- 랜덤값을 갖는 함수들...\n",
    "- [numpy docs](https://numpy.org/doc/stable)\n",
    "- [넘파이 함수들]"
   ]
  },
  {
   "cell_type": "markdown",
   "id": "2e05d344",
   "metadata": {},
   "source": [
    "### 2.1 array()함수로 넘파이 배열 만들기\n",
    "- array(obj, dtype=np.xx, copy=T/F)"
   ]
  },
  {
   "cell_type": "code",
   "execution_count": 29,
   "id": "32f7d098",
   "metadata": {
    "ExecuteTime": {
     "end_time": "2024-11-21T03:42:09.636358Z",
     "start_time": "2024-11-21T03:42:09.629371Z"
    }
   },
   "outputs": [
    {
     "data": {
      "text/plain": [
       "array([2, 4, 6], dtype=int16)"
      ]
     },
     "execution_count": 29,
     "metadata": {},
     "output_type": "execute_result"
    }
   ],
   "source": [
    "a = np.array([2, 4, 6], dtype=np.int16) #\n",
    "a"
   ]
  },
  {
   "cell_type": "code",
   "execution_count": null,
   "id": "fbe0d825",
   "metadata": {},
   "outputs": [],
   "source": []
  },
  {
   "cell_type": "code",
   "execution_count": null,
   "id": "66a7f35b",
   "metadata": {},
   "outputs": [],
   "source": []
  },
  {
   "cell_type": "code",
   "execution_count": 33,
   "id": "321d7ed1",
   "metadata": {
    "ExecuteTime": {
     "end_time": "2024-11-21T03:47:03.963925Z",
     "start_time": "2024-11-21T03:47:03.957941Z"
    }
   },
   "outputs": [
    {
     "data": {
      "text/plain": [
       "array([[1.5, 2.3],\n",
       "       [4. , 5. ]])"
      ]
     },
     "execution_count": 33,
     "metadata": {},
     "output_type": "execute_result"
    }
   ],
   "source": [
    "b = np.array([[1.5, 2.3],\n",
    "            [4, 5]])\n",
    "b"
   ]
  },
  {
   "cell_type": "code",
   "execution_count": 34,
   "id": "becff92b",
   "metadata": {
    "ExecuteTime": {
     "end_time": "2024-11-21T03:47:09.418179Z",
     "start_time": "2024-11-21T03:47:09.412162Z"
    }
   },
   "outputs": [
    {
     "data": {
      "text/plain": [
       "(1.5, 1.5)"
      ]
     },
     "execution_count": 34,
     "metadata": {},
     "output_type": "execute_result"
    }
   ],
   "source": [
    "b[0][0], b[0,0]"
   ]
  },
  {
   "cell_type": "code",
   "execution_count": null,
   "id": "3155031b",
   "metadata": {},
   "outputs": [],
   "source": [
    "a = np.array([[1.5, 2.3], [4,5]])"
   ]
  },
  {
   "cell_type": "code",
   "execution_count": null,
   "id": "97acdd3d",
   "metadata": {},
   "outputs": [],
   "source": []
  },
  {
   "cell_type": "code",
   "execution_count": 36,
   "id": "3d79b086",
   "metadata": {
    "ExecuteTime": {
     "end_time": "2024-11-21T03:52:48.123505Z",
     "start_time": "2024-11-21T03:52:48.116538Z"
    }
   },
   "outputs": [
    {
     "data": {
      "text/plain": [
       "array([[1.5, 2.3],\n",
       "       [4. , 5. ]], dtype=float32)"
      ]
     },
     "execution_count": 36,
     "metadata": {},
     "output_type": "execute_result"
    }
   ],
   "source": [
    "a = np.array([1.5, 2.3, 4, 5], dtype=np.float32).reshape(2,2)\n",
    "a"
   ]
  },
  {
   "cell_type": "code",
   "execution_count": 37,
   "id": "010e9277",
   "metadata": {
    "ExecuteTime": {
     "end_time": "2024-11-21T03:55:18.274640Z",
     "start_time": "2024-11-21T03:55:18.269650Z"
    }
   },
   "outputs": [
    {
     "data": {
      "text/plain": [
       "4"
      ]
     },
     "execution_count": 37,
     "metadata": {},
     "output_type": "execute_result"
    }
   ],
   "source": [
    "a.itemsize"
   ]
  },
  {
   "cell_type": "code",
   "execution_count": 38,
   "id": "22118ed0",
   "metadata": {
    "ExecuteTime": {
     "end_time": "2024-11-21T03:55:23.186371Z",
     "start_time": "2024-11-21T03:55:23.180387Z"
    }
   },
   "outputs": [
    {
     "data": {
      "text/plain": [
       "dtype('float32')"
      ]
     },
     "execution_count": 38,
     "metadata": {},
     "output_type": "execute_result"
    }
   ],
   "source": [
    "a.dtype"
   ]
  },
  {
   "cell_type": "code",
   "execution_count": 40,
   "id": "d3e157c5",
   "metadata": {
    "ExecuteTime": {
     "end_time": "2024-11-21T03:56:00.484098Z",
     "start_time": "2024-11-21T03:56:00.477118Z"
    }
   },
   "outputs": [
    {
     "data": {
      "text/plain": [
       "array([[1.5       , 2.29999995],\n",
       "       [4.        , 5.        ]])"
      ]
     },
     "execution_count": 40,
     "metadata": {},
     "output_type": "execute_result"
    }
   ],
   "source": [
    "# a.dtype = np.float64 안됨\n",
    "a = a.astype(np.float64) # 배열 요소의 타입을 바꾸는 함수\n",
    "a"
   ]
  },
  {
   "cell_type": "code",
   "execution_count": 41,
   "id": "0a011e58",
   "metadata": {
    "ExecuteTime": {
     "end_time": "2024-11-21T03:58:14.746138Z",
     "start_time": "2024-11-21T03:58:14.741148Z"
    }
   },
   "outputs": [
    {
     "name": "stdout",
     "output_type": "stream",
     "text": [
      "1\t2\t\n",
      "3.4\t4.5\t\n"
     ]
    }
   ],
   "source": [
    "l = [[1,2], [3.4, 4.5]]\n",
    "for row in l:\n",
    "    for data in row:\n",
    "        print(data, end='\\t')\n",
    "    print()"
   ]
  },
  {
   "cell_type": "code",
   "execution_count": 42,
   "id": "c4cce1ab",
   "metadata": {
    "ExecuteTime": {
     "end_time": "2024-11-21T03:59:24.201135Z",
     "start_time": "2024-11-21T03:59:24.196128Z"
    }
   },
   "outputs": [
    {
     "name": "stdout",
     "output_type": "stream",
     "text": [
      "0행 0열 : 1\t0행 1열 : 2\t\n",
      "1행 0열 : 3.4\t1행 1열 : 4.5\t\n"
     ]
    }
   ],
   "source": [
    "for i, row in enumerate(l):\n",
    "    for j, data in enumerate(row):\n",
    "        print(\"{}행 {}열 : {}\".format(i, j, data), end='\\t')\n",
    "    print()"
   ]
  },
  {
   "cell_type": "code",
   "execution_count": 44,
   "id": "6a0df199",
   "metadata": {
    "ExecuteTime": {
     "end_time": "2024-11-21T04:01:02.281592Z",
     "start_time": "2024-11-21T04:01:02.276572Z"
    }
   },
   "outputs": [
    {
     "data": {
      "text/plain": [
       "[1, 2]"
      ]
     },
     "execution_count": 44,
     "metadata": {},
     "output_type": "execute_result"
    }
   ],
   "source": [
    "l[0][0]\n",
    "l[0:2][0]"
   ]
  },
  {
   "cell_type": "code",
   "execution_count": 46,
   "id": "5abe131a",
   "metadata": {
    "ExecuteTime": {
     "end_time": "2024-11-21T04:03:37.644115Z",
     "start_time": "2024-11-21T04:03:37.637126Z"
    }
   },
   "outputs": [
    {
     "data": {
      "text/plain": [
       "array([[ 1,  2,  3,  4,  5],\n",
       "       [ 6,  7,  8,  9, 10]], dtype=int16)"
      ]
     },
     "execution_count": 46,
     "metadata": {},
     "output_type": "execute_result"
    }
   ],
   "source": [
    "# 2차원 배열\n",
    "b = np.array([[1,2,3,4,5],[6,7,8,9,10]], dtype=np.int16)\n",
    "b"
   ]
  },
  {
   "cell_type": "code",
   "execution_count": 47,
   "id": "f302fc4b",
   "metadata": {
    "ExecuteTime": {
     "end_time": "2024-11-21T04:04:54.594336Z",
     "start_time": "2024-11-21T04:04:54.588331Z"
    }
   },
   "outputs": [
    {
     "name": "stdout",
     "output_type": "stream",
     "text": [
      "1\t2\t3\t4\t5\t\n",
      "6\t7\t8\t9\t10\t\n"
     ]
    }
   ],
   "source": [
    "for row in b:\n",
    "    for data in row:\n",
    "        print(data, end='\\t')\n",
    "    print()"
   ]
  },
  {
   "cell_type": "code",
   "execution_count": 48,
   "id": "0e902db3",
   "metadata": {
    "ExecuteTime": {
     "end_time": "2024-11-21T04:06:40.937480Z",
     "start_time": "2024-11-21T04:06:40.932507Z"
    }
   },
   "outputs": [
    {
     "name": "stdout",
     "output_type": "stream",
     "text": [
      "0행0열:1\t0행1열:2\t0행2열:3\t0행3열:4\t0행4열:5\t\n",
      "1행0열:6\t1행1열:7\t1행2열:8\t1행3열:9\t1행4열:10\t\n"
     ]
    }
   ],
   "source": [
    "for i, row in enumerate(b):\n",
    "    for j, data in enumerate(row):\n",
    "        print(\"{}행{}열:{}\".format(i, j, data), end='\\t')\n",
    "    print()"
   ]
  },
  {
   "cell_type": "code",
   "execution_count": 49,
   "id": "c81d8e26",
   "metadata": {
    "ExecuteTime": {
     "end_time": "2024-11-21T04:07:54.763207Z",
     "start_time": "2024-11-21T04:07:54.758220Z"
    }
   },
   "outputs": [
    {
     "name": "stdout",
     "output_type": "stream",
     "text": [
      "1\n",
      "[[2 3]\n",
      " [7 8]]\n"
     ]
    }
   ],
   "source": [
    "print(b[0,0]) #인덱싱\n",
    "print(b[0:2, 1:3]) # 슬라이싱"
   ]
  },
  {
   "cell_type": "code",
   "execution_count": 50,
   "id": "ef7aca2a",
   "metadata": {
    "ExecuteTime": {
     "end_time": "2024-11-21T04:09:08.706074Z",
     "start_time": "2024-11-21T04:09:08.701088Z"
    }
   },
   "outputs": [
    {
     "name": "stdout",
     "output_type": "stream",
     "text": [
      "[2 3]\n"
     ]
    }
   ],
   "source": [
    "print(b[0, 1:3])"
   ]
  },
  {
   "cell_type": "code",
   "execution_count": 53,
   "id": "ac75c339",
   "metadata": {
    "ExecuteTime": {
     "end_time": "2024-11-21T04:10:45.786516Z",
     "start_time": "2024-11-21T04:10:45.781531Z"
    }
   },
   "outputs": [
    {
     "data": {
      "text/plain": [
       "'Hello'"
      ]
     },
     "execution_count": 53,
     "metadata": {},
     "output_type": "execute_result"
    }
   ],
   "source": [
    "s = \"Hello\"\n",
    "s[:]"
   ]
  },
  {
   "cell_type": "code",
   "execution_count": 55,
   "id": "c63326ba",
   "metadata": {
    "ExecuteTime": {
     "end_time": "2024-11-21T04:12:06.001750Z",
     "start_time": "2024-11-21T04:12:05.996771Z"
    }
   },
   "outputs": [
    {
     "name": "stdout",
     "output_type": "stream",
     "text": [
      "[[1 2 3 4]\n",
      " [6 7 8 9]]\n"
     ]
    }
   ],
   "source": [
    "print(b[:,:-1])"
   ]
  },
  {
   "cell_type": "code",
   "execution_count": 56,
   "id": "65be6dc1",
   "metadata": {
    "ExecuteTime": {
     "end_time": "2024-11-21T04:12:22.481190Z",
     "start_time": "2024-11-21T04:12:22.476214Z"
    }
   },
   "outputs": [
    {
     "name": "stdout",
     "output_type": "stream",
     "text": [
      "[[1 2 3]\n",
      " [6 7 8]]\n"
     ]
    }
   ],
   "source": [
    "print(b[:,:-2])"
   ]
  },
  {
   "cell_type": "code",
   "execution_count": 58,
   "id": "ec99fea5",
   "metadata": {
    "ExecuteTime": {
     "end_time": "2024-11-21T05:19:35.353162Z",
     "start_time": "2024-11-21T05:19:35.348163Z"
    }
   },
   "outputs": [
    {
     "name": "stdout",
     "output_type": "stream",
     "text": [
      "a=10, b=10\n",
      "a=10,b=-1\n"
     ]
    }
   ],
   "source": [
    "# 스칼라변수\n",
    "a = 10\n",
    "b = a\n",
    "print('a={}, b={}'.format(a,b))\n",
    "b = -1\n",
    "print('a={},b={}'.format(a,b))"
   ]
  },
  {
   "cell_type": "code",
   "execution_count": 61,
   "id": "bc13c1ef",
   "metadata": {
    "ExecuteTime": {
     "end_time": "2024-11-21T05:25:20.385065Z",
     "start_time": "2024-11-21T05:25:20.378104Z"
    }
   },
   "outputs": [
    {
     "name": "stdout",
     "output_type": "stream",
     "text": [
      "c=\n",
      "[[1 2]\n",
      " [3 4]]\n",
      "d=\n",
      "[[1 2]\n",
      " [3 4]]\n",
      "두 변수의 주소 :  2706219763728 2706219763728\n",
      "c=\n",
      "[[9 2]\n",
      " [3 4]]\n",
      "d=\n",
      "[[9 2]\n",
      " [3 4]]\n",
      "c.dtype= int32 d.dtype= int32\n"
     ]
    }
   ],
   "source": [
    "# numpy배열\n",
    "c = np.array([[1,2], [3,4] ])\n",
    "d = np.array(c, copy=False) # d = c 동일\n",
    "\n",
    "print('c=', c, sep='\\n')\n",
    "print('d=', d, sep='\\n')\n",
    "print('두 변수의 주소 : ', id(c), id(d))\n",
    "d[0,0] = 9\n",
    "print('c=', c, sep='\\n')\n",
    "print('d=', d, sep='\\n')\n",
    "print('c.dtype=', c.dtype, 'd.dtype=', d.dtype)"
   ]
  },
  {
   "cell_type": "code",
   "execution_count": 62,
   "id": "5927e13a",
   "metadata": {
    "ExecuteTime": {
     "end_time": "2024-11-21T05:25:58.778600Z",
     "start_time": "2024-11-21T05:25:58.771619Z"
    }
   },
   "outputs": [
    {
     "name": "stdout",
     "output_type": "stream",
     "text": [
      "c=\n",
      "[[1 2]\n",
      " [3 4]]\n",
      "d=\n",
      "[[1 2]\n",
      " [3 4]]\n",
      "두 변수의 주소 :  2706219763152 2706219764400\n",
      "c=\n",
      "[[1 2]\n",
      " [3 4]]\n",
      "d=\n",
      "[[9 2]\n",
      " [3 4]]\n",
      "c.dtype= int32 d.dtype= int32\n"
     ]
    }
   ],
   "source": [
    "# numpy배열\n",
    "c = np.array([[1,2], [3,4] ])\n",
    "d = np.array(c, copy=True) # d = c 동일 ;깊은 복사\n",
    "\n",
    "print('c=', c, sep='\\n')\n",
    "print('d=', d, sep='\\n')\n",
    "print('두 변수의 주소 : ', id(c), id(d))\n",
    "d[0,0] = 9\n",
    "print('c=', c, sep='\\n')\n",
    "print('d=', d, sep='\\n')\n",
    "print('c.dtype=', c.dtype, 'd.dtype=', d.dtype)"
   ]
  },
  {
   "cell_type": "code",
   "execution_count": 65,
   "id": "59d909ed",
   "metadata": {
    "ExecuteTime": {
     "end_time": "2024-11-21T05:30:39.809813Z",
     "start_time": "2024-11-21T05:30:39.802824Z"
    }
   },
   "outputs": [
    {
     "name": "stdout",
     "output_type": "stream",
     "text": [
      "두 변수의 주소 : 2706219765264 2706219762576\n",
      "두 변수의 dtype :  int32 int16\n",
      "c = \n",
      "[[1 2]\n",
      " [3 4]]\n",
      "d = \n",
      "[[9 2]\n",
      " [3 4]]\n"
     ]
    }
   ],
   "source": [
    "# copy=False 넣었지만 깊은 복사가 되는 경우\n",
    "c = np.array([[1,2], [3,4]], dtype=np.int32) # 기본타입이 int 32\n",
    "d = np.array(c, copy=False, dtype=np.int16) # dtype이 바뀌면 자동 깊은 복사\n",
    "d[0,0] = 9\n",
    "print('두 변수의 주소 :', id(c), id(d))\n",
    "print('두 변수의 dtype : ', c.dtype, d.dtype)\n",
    "print('c = ', c, sep='\\n')\n",
    "print('d = ', d, sep='\\n')"
   ]
  },
  {
   "cell_type": "markdown",
   "id": "201c3ea6",
   "metadata": {},
   "source": [
    "## 2.2 기본값이 있는 배열 만들기\n",
    "- np.zeros(tup) : 요소들이 다 0\n",
    "- np.ones(tup) : 요소들이 다 1\n",
    "- np.full(tup, 기본값) : 요소들이 다 두번째 매개변수인 기본값\n",
    "- np.empty(tup) : 초기 ㅐ뇽은 임의값인 배열(메모리 상태에 따라 달라짐)\n",
    "※ 위 함수를 이용해서 생성된 배열은 기본 dtype이 float64.dtype을 지정할 수 있음\n"
   ]
  },
  {
   "cell_type": "code",
   "execution_count": 66,
   "id": "d788fea8",
   "metadata": {
    "ExecuteTime": {
     "end_time": "2024-11-21T05:35:17.642766Z",
     "start_time": "2024-11-21T05:35:17.635754Z"
    }
   },
   "outputs": [
    {
     "data": {
      "text/plain": [
       "array([[0., 0., 0., 0., 0.],\n",
       "       [0., 0., 0., 0., 0.],\n",
       "       [0., 0., 0., 0., 0.]])"
      ]
     },
     "execution_count": 66,
     "metadata": {},
     "output_type": "execute_result"
    }
   ],
   "source": [
    "np.zeros( (3,5) )"
   ]
  },
  {
   "cell_type": "code",
   "execution_count": 70,
   "id": "58396e2e",
   "metadata": {
    "ExecuteTime": {
     "end_time": "2024-11-21T05:36:36.288402Z",
     "start_time": "2024-11-21T05:36:36.283415Z"
    }
   },
   "outputs": [
    {
     "name": "stdout",
     "output_type": "stream",
     "text": [
      "[[0 0 0 0 0]\n",
      " [0 0 0 0 0]]\n",
      "int16\n",
      "2\n"
     ]
    }
   ],
   "source": [
    "x = np.zeros( (2,5), dtype=np.int16)\n",
    "print(x)\n",
    "print(x.dtype)\n",
    "print(x.itemsize)"
   ]
  },
  {
   "cell_type": "code",
   "execution_count": 71,
   "id": "078b71ce",
   "metadata": {
    "ExecuteTime": {
     "end_time": "2024-11-21T05:37:19.665037Z",
     "start_time": "2024-11-21T05:37:19.659054Z"
    }
   },
   "outputs": [
    {
     "data": {
      "text/plain": [
       "array([[1., 1., 1., 1., 1.],\n",
       "       [1., 1., 1., 1., 1.]])"
      ]
     },
     "execution_count": 71,
     "metadata": {},
     "output_type": "execute_result"
    }
   ],
   "source": [
    "np.ones( (2,5) )"
   ]
  },
  {
   "cell_type": "code",
   "execution_count": 72,
   "id": "b93b459a",
   "metadata": {
    "ExecuteTime": {
     "end_time": "2024-11-21T05:38:15.385598Z",
     "start_time": "2024-11-21T05:38:15.380591Z"
    }
   },
   "outputs": [
    {
     "data": {
      "text/plain": [
       "array([[1.+0.j, 1.+0.j, 1.+0.j, 1.+0.j, 1.+0.j],\n",
       "       [1.+0.j, 1.+0.j, 1.+0.j, 1.+0.j, 1.+0.j]], dtype=complex64)"
      ]
     },
     "execution_count": 72,
     "metadata": {},
     "output_type": "execute_result"
    }
   ],
   "source": [
    "np.ones( (2,5), dtype=np.complex64)"
   ]
  },
  {
   "cell_type": "code",
   "execution_count": 74,
   "id": "1455e748",
   "metadata": {
    "ExecuteTime": {
     "end_time": "2024-11-21T05:40:02.400364Z",
     "start_time": "2024-11-21T05:40:02.394380Z"
    }
   },
   "outputs": [
    {
     "data": {
      "text/plain": [
       "array([[-1.2, -1.2, -1.2, -1.2, -1.2],\n",
       "       [-1.2, -1.2, -1.2, -1.2, -1.2]])"
      ]
     },
     "execution_count": 74,
     "metadata": {},
     "output_type": "execute_result"
    }
   ],
   "source": [
    "np.full( (2,5), -1.2)"
   ]
  },
  {
   "cell_type": "code",
   "execution_count": 76,
   "id": "07726f0a",
   "metadata": {
    "ExecuteTime": {
     "end_time": "2024-11-21T05:40:52.497643Z",
     "start_time": "2024-11-21T05:40:52.490662Z"
    }
   },
   "outputs": [
    {
     "data": {
      "text/plain": [
       "array([[2.12199579e-314, 6.36598737e-314],\n",
       "       [1.06099790e-313, 1.48539705e-313],\n",
       "       [1.90979621e-313, 2.33419537e-313]])"
      ]
     },
     "execution_count": 76,
     "metadata": {},
     "output_type": "execute_result"
    }
   ],
   "source": [
    "np.empty( (3,2) )"
   ]
  },
  {
   "cell_type": "markdown",
   "id": "bb6c546e",
   "metadata": {},
   "source": [
    "## 2.3 랜덤값을 갖는 배열 만들기\n",
    "- np.random.random(tup) : 0 부터 1미만의 균등분포를 갖는 랜덤값\n",
    "- np.random.normal(loc=0.0, scale=1.0, size=tup) : 평균loc과 표준편차 scale을 갖는 정규분포를 갖는 랜덤 값\n",
    "- np.random.uniform(low=0, high=1.0, size=tup) : low부터 high미만까지 균등분포를 갖는 랜덤값\n",
    "\n",
    "- np.random.rand(n) : 균등분포의 1차원 난수 배열발생 (난수 n개)\n",
    "- np.random.randn(n) : 표준정규분포의 1차원 난수 배열 발생 (난수 n개)\n",
    "\n",
    "- np.random.randint(n) : 0부터 n미만의 정수 난수 1개 발생"
   ]
  },
  {
   "cell_type": "code",
   "execution_count": 80,
   "id": "af87ff4d",
   "metadata": {
    "ExecuteTime": {
     "end_time": "2024-11-21T06:20:25.785285Z",
     "start_time": "2024-11-21T06:20:24.881535Z"
    }
   },
   "outputs": [
    {
     "data": {
      "image/png": "[encoded data removed]",
      "text/plain": [
       "<Figure size 500x200 with 1 Axes>"
      ]
     },
     "metadata": {},
     "output_type": "display_data"
    }
   ],
   "source": [
    "# rand()가 균등분포(최소값에서 최대값까지 균일한 확률로 난수 발생)에서 난수 발생 확인\n",
    "import matplotlib.pyplot as plt\n",
    "x = np.random.rand(100000)\n",
    "plt.figure(figsize=(5,2))\n",
    "plt.hist(x)\n",
    "plt.show()"
   ]
  },
  {
   "cell_type": "code",
   "execution_count": 81,
   "id": "d8604a58",
   "metadata": {
    "ExecuteTime": {
     "end_time": "2024-11-21T06:27:27.155044Z",
     "start_time": "2024-11-21T06:27:26.938236Z"
    }
   },
   "outputs": [
    {
     "data": {
      "image/png": "[encoded data removed]",
      "text/plain": [
       "<Figure size 500x200 with 1 Axes>"
      ]
     },
     "metadata": {},
     "output_type": "display_data"
    }
   ],
   "source": [
    "# randn() : 표준정규분포에서 난수 발생\n",
    "x = np.random.randn(100000)\n",
    "plt.figure(figsize=(5,2))\n",
    "plt.hist(x, bins=100)\n",
    "plt.show()"
   ]
  },
  {
   "cell_type": "code",
   "execution_count": 82,
   "id": "91a8b172",
   "metadata": {
    "ExecuteTime": {
     "end_time": "2024-11-21T06:32:43.960086Z",
     "start_time": "2024-11-21T06:32:43.955086Z"
    }
   },
   "outputs": [
    {
     "data": {
      "text/plain": [
       "array([[0.8995382 , 0.61190597, 0.13259408, 0.89412024, 0.07594295],\n",
       "       [0.97774011, 0.42489389, 0.97130257, 0.92067253, 0.93338774]])"
      ]
     },
     "execution_count": 82,
     "metadata": {},
     "output_type": "execute_result"
    }
   ],
   "source": [
    "# 2차원 난수 배열\n",
    "np.random.random( (2,5) ) # 2행 5열짜리 난수 배열"
   ]
  },
  {
   "cell_type": "code",
   "execution_count": 85,
   "id": "5c92f285",
   "metadata": {
    "ExecuteTime": {
     "end_time": "2024-11-21T06:35:54.008500Z",
     "start_time": "2024-11-21T06:35:54.001500Z"
    }
   },
   "outputs": [
    {
     "data": {
      "text/plain": [
       "array([[-0.15004589,  6.88059636,  1.15978018,  4.40487272, -1.82510045],\n",
       "       [ 9.0249641 ,  8.80857825, -1.59894287,  9.48339204, -0.35348814]])"
      ]
     },
     "execution_count": 85,
     "metadata": {},
     "output_type": "execute_result"
    }
   ],
   "source": [
    "np.random.uniform(-2, 10, (2,5))"
   ]
  },
  {
   "cell_type": "code",
   "execution_count": 87,
   "id": "a4697255",
   "metadata": {
    "ExecuteTime": {
     "end_time": "2024-11-21T06:41:49.406817Z",
     "start_time": "2024-11-21T06:41:49.401819Z"
    }
   },
   "outputs": [
    {
     "data": {
      "text/plain": [
       "array([[-1.05402834, -3.36285176, -1.51512101, -5.40147127],\n",
       "       [-0.49371433, -5.06944268, -1.98974584, -2.24045534]])"
      ]
     },
     "execution_count": 87,
     "metadata": {},
     "output_type": "execute_result"
    }
   ],
   "source": [
    "np.random.seed(12)\n",
    "np.random.normal(-2, 2, (2,4))"
   ]
  },
  {
   "cell_type": "code",
   "execution_count": 88,
   "id": "e3563eb4",
   "metadata": {
    "ExecuteTime": {
     "end_time": "2024-11-21T06:43:25.646640Z",
     "start_time": "2024-11-21T06:43:25.641658Z"
    }
   },
   "outputs": [
    {
     "data": {
      "text/plain": [
       "30"
      ]
     },
     "execution_count": 88,
     "metadata": {},
     "output_type": "execute_result"
    }
   ],
   "source": [
    "# 정수 난수 1개 발생\n",
    "np.random.randint(45) # 0~45사이의 정수 난수 1개 발생(균등분포)"
   ]
  },
  {
   "cell_type": "markdown",
   "id": "765d38e1",
   "metadata": {},
   "source": [
    "## 2.4 연속된 값을 갖는 배열 만들기\n",
    "- np.arange(from, to, by, dtype) : from부터 to까지 by씩 건너뛴 값을 1차원 배열로 출력\n",
    "- np.linspace(from, to, num) : from 부터 to까지 num개 숫자들을 1차원 배열로 생성"
   ]
  },
  {
   "cell_type": "code",
   "execution_count": 89,
   "id": "644ed301",
   "metadata": {
    "ExecuteTime": {
     "end_time": "2024-11-21T06:46:50.512347Z",
     "start_time": "2024-11-21T06:46:50.506343Z"
    }
   },
   "outputs": [
    {
     "data": {
      "text/plain": [
       "array([10., 15., 20., 25.])"
      ]
     },
     "execution_count": 89,
     "metadata": {},
     "output_type": "execute_result"
    }
   ],
   "source": [
    "np.arange(10, 30, 5, dtype=np.float64)"
   ]
  },
  {
   "cell_type": "code",
   "execution_count": 91,
   "id": "49ca64d4",
   "metadata": {
    "ExecuteTime": {
     "end_time": "2024-11-21T06:48:59.031738Z",
     "start_time": "2024-11-21T06:48:59.025748Z"
    }
   },
   "outputs": [
    {
     "data": {
      "text/plain": [
       "array([[0. , 0.3],\n",
       "       [0.6, 0.9],\n",
       "       [1.2, 1.5],\n",
       "       [1.8, 2.1]])"
      ]
     },
     "execution_count": 91,
     "metadata": {},
     "output_type": "execute_result"
    }
   ],
   "source": [
    "np.arange(0, 2.1, 0.3).reshape(4,2)"
   ]
  },
  {
   "cell_type": "code",
   "execution_count": 93,
   "id": "369ba579",
   "metadata": {
    "ExecuteTime": {
     "end_time": "2024-11-21T06:51:07.355498Z",
     "start_time": "2024-11-21T06:51:07.337543Z"
    }
   },
   "outputs": [
    {
     "ename": "ValueError",
     "evalue": "cannot reshape array of size 1 into shape (4,5)",
     "output_type": "error",
     "traceback": [
      "\u001b[1;31m---------------------------------------------------------------------------\u001b[0m",
      "\u001b[1;31mValueError\u001b[0m                                Traceback (most recent call last)",
      "Cell \u001b[1;32mIn[93], line 1\u001b[0m\n\u001b[1;32m----> 1\u001b[0m \u001b[43mnp\u001b[49m\u001b[38;5;241;43m.\u001b[39;49m\u001b[43marange\u001b[49m\u001b[43m(\u001b[49m\u001b[38;5;241;43m0\u001b[39;49m\u001b[43m,\u001b[49m\u001b[43m \u001b[49m\u001b[38;5;241;43m2\u001b[39;49m\u001b[43m,\u001b[49m\u001b[43m \u001b[49m\u001b[38;5;241;43m20\u001b[39;49m\u001b[43m)\u001b[49m\u001b[38;5;241;43m.\u001b[39;49m\u001b[43mreshape\u001b[49m\u001b[43m(\u001b[49m\u001b[38;5;241;43m4\u001b[39;49m\u001b[43m,\u001b[49m\u001b[38;5;241;43m5\u001b[39;49m\u001b[43m)\u001b[49m\n",
      "\u001b[1;31mValueError\u001b[0m: cannot reshape array of size 1 into shape (4,5)"
     ]
    }
   ],
   "source": [
    "np.arange(0, 2, 20).reshape(4,5)"
   ]
  },
  {
   "cell_type": "code",
   "execution_count": 96,
   "id": "4006f170",
   "metadata": {
    "ExecuteTime": {
     "end_time": "2024-11-21T06:52:54.124749Z",
     "start_time": "2024-11-21T06:52:54.120779Z"
    }
   },
   "outputs": [],
   "source": [
    "# linspace : 많은 수의 점들을 생성할 때 유용\n",
    "from numpy import linspace, pi\n",
    "x = linspace(0, 2*np.pi,100)\n",
    "f = np.sin(x)"
   ]
  },
  {
   "cell_type": "code",
   "execution_count": 98,
   "id": "2391c6fb",
   "metadata": {
    "ExecuteTime": {
     "end_time": "2024-11-21T06:54:45.872361Z",
     "start_time": "2024-11-21T06:54:45.753669Z"
    }
   },
   "outputs": [
    {
     "data": {
      "image/png": "[encoded data removed]",
      "text/plain": [
       "<Figure size 500x200 with 1 Axes>"
      ]
     },
     "metadata": {},
     "output_type": "display_data"
    }
   ],
   "source": [
    "import matplotlib.pyplot as plt\n",
    "plt.figure(figsize=(5,2))\n",
    "plt.plot(x, f)\n",
    "plt.show()"
   ]
  },
  {
   "cell_type": "markdown",
   "id": "6eac65e4",
   "metadata": {},
   "source": [
    "\n",
    "## 2.5 배열의 차원 변경하기\n",
    "- reshape(행수, 열수) : -1이 올 수 있음\n",
    "- resize((행수,열수)) : -1이 불가\n",
    "- T : 전치행렬로 변환\n",
    "- transpose() : 전치행렬로 변환\n",
    "\n",
    "※ 실행결과가 출력되면 배열이 수정되지 않고, 실행결과가 없으면 배열이 수정됨"
   ]
  },
  {
   "cell_type": "code",
   "execution_count": 99,
   "id": "db88f86f",
   "metadata": {
    "ExecuteTime": {
     "end_time": "2024-11-21T06:57:44.519961Z",
     "start_time": "2024-11-21T06:57:44.513957Z"
    }
   },
   "outputs": [
    {
     "data": {
      "text/plain": [
       "array([[0.90726736, 0.68432507, 0.95772873],\n",
       "       [0.45605092, 0.56314114, 0.80126538]])"
      ]
     },
     "execution_count": 99,
     "metadata": {},
     "output_type": "execute_result"
    }
   ],
   "source": [
    "t = np.random.random( (2,3) )\n",
    "t"
   ]
  },
  {
   "cell_type": "code",
   "execution_count": 103,
   "id": "8fd32f5a",
   "metadata": {
    "ExecuteTime": {
     "end_time": "2024-11-21T06:59:59.606007Z",
     "start_time": "2024-11-21T06:59:59.601038Z"
    }
   },
   "outputs": [
    {
     "data": {
      "text/plain": [
       "array([[9., 6., 9.],\n",
       "       [4., 5., 8.]])"
      ]
     },
     "execution_count": 103,
     "metadata": {},
     "output_type": "execute_result"
    }
   ],
   "source": [
    "a = np.floor(t*10)\n",
    "a"
   ]
  },
  {
   "cell_type": "code",
   "execution_count": 104,
   "id": "78387c03",
   "metadata": {
    "ExecuteTime": {
     "end_time": "2024-11-21T07:00:54.934690Z",
     "start_time": "2024-11-21T07:00:54.928706Z"
    }
   },
   "outputs": [
    {
     "data": {
      "text/plain": [
       "array([[9, 6, 9],\n",
       "       [4, 5, 8]], dtype=int16)"
      ]
     },
     "execution_count": 104,
     "metadata": {},
     "output_type": "execute_result"
    }
   ],
   "source": [
    "a.astype(np.int16)"
   ]
  },
  {
   "cell_type": "code",
   "execution_count": 105,
   "id": "2ed8d0bb",
   "metadata": {
    "ExecuteTime": {
     "end_time": "2024-11-21T07:24:29.749662Z",
     "start_time": "2024-11-21T07:24:29.743699Z"
    }
   },
   "outputs": [
    {
     "data": {
      "text/plain": [
       "array([[9., 6., 9.],\n",
       "       [4., 5., 8.]])"
      ]
     },
     "execution_count": 105,
     "metadata": {},
     "output_type": "execute_result"
    }
   ],
   "source": [
    "a.reshape(-1, 3)"
   ]
  },
  {
   "cell_type": "code",
   "execution_count": 106,
   "id": "15ad7d58",
   "metadata": {
    "ExecuteTime": {
     "end_time": "2024-11-21T07:26:54.350143Z",
     "start_time": "2024-11-21T07:26:54.343163Z"
    }
   },
   "outputs": [
    {
     "data": {
      "text/plain": [
       "array([[9., 6., 9.],\n",
       "       [4., 5., 8.]])"
      ]
     },
     "execution_count": 106,
     "metadata": {},
     "output_type": "execute_result"
    }
   ],
   "source": [
    "a"
   ]
  },
  {
   "cell_type": "code",
   "execution_count": 107,
   "id": "41e02a2e",
   "metadata": {
    "ExecuteTime": {
     "end_time": "2024-11-21T07:26:56.429203Z",
     "start_time": "2024-11-21T07:26:56.423219Z"
    }
   },
   "outputs": [
    {
     "data": {
      "text/plain": [
       "array([[9., 4.],\n",
       "       [6., 5.],\n",
       "       [9., 8.]])"
      ]
     },
     "execution_count": 107,
     "metadata": {},
     "output_type": "execute_result"
    }
   ],
   "source": [
    "a.T"
   ]
  },
  {
   "cell_type": "code",
   "execution_count": 109,
   "id": "2f7d99b4",
   "metadata": {
    "ExecuteTime": {
     "end_time": "2024-11-21T07:47:49.124785Z",
     "start_time": "2024-11-21T07:47:49.118801Z"
    }
   },
   "outputs": [
    {
     "data": {
      "text/plain": [
       "1"
      ]
     },
     "execution_count": 109,
     "metadata": {},
     "output_type": "execute_result"
    }
   ],
   "source": [
    "a * b"
   ]
  },
  {
   "cell_type": "markdown",
   "id": "d71974c7",
   "metadata": {},
   "source": [
    "### 2) 행렬의 곱 (@, dot함수) cf.f"
   ]
  },
  {
   "cell_type": "code",
   "execution_count": null,
   "id": "ec06dc6d",
   "metadata": {},
   "outputs": [],
   "source": []
  },
  {
   "cell_type": "code",
   "execution_count": null,
   "id": "71d9b358",
   "metadata": {},
   "outputs": [],
   "source": []
  },
  {
   "cell_type": "code",
   "execution_count": null,
   "id": "2e0a39da",
   "metadata": {},
   "outputs": [],
   "source": []
  },
  {
   "cell_type": "code",
   "execution_count": null,
   "id": "e2006845",
   "metadata": {},
   "outputs": [],
   "source": []
  },
  {
   "cell_type": "code",
   "execution_count": null,
   "id": "3cee9d71",
   "metadata": {},
   "outputs": [],
   "source": []
  },
  {
   "cell_type": "code",
   "execution_count": null,
   "id": "f625896a",
   "metadata": {},
   "outputs": [],
   "source": []
  },
  {
   "cell_type": "code",
   "execution_count": null,
   "id": "4c41915b",
   "metadata": {},
   "outputs": [],
   "source": []
  },
  {
   "cell_type": "code",
   "execution_count": null,
   "id": "8ee19395",
   "metadata": {},
   "outputs": [],
   "source": []
  }
 ],
 "metadata": {
  "kernelspec": {
   "display_name": "Python 3 (ipykernel)",
   "language": "python",
   "name": "python3"
  },
  "language_info": {
   "codemirror_mode": {
    "name": "ipython",
    "version": 3
   },
   "file_extension": ".py",
   "mimetype": "text/x-python",
   "name": "python",
   "nbconvert_exporter": "python",
   "pygments_lexer": "ipython3",
   "version": "3.10.9"
  },
  "toc": {
   "base_numbering": 1,
   "nav_menu": {},
   "number_sections": true,
   "sideBar": true,
   "skip_h1_title": false,
   "title_cell": "Table of Contents",
   "title_sidebar": "Contents",
   "toc_cell": false,
   "toc_position": {},
   "toc_section_display": true,
   "toc_window_display": false
  }
 },
 "nbformat": 4,
 "nbformat_minor": 5
}
