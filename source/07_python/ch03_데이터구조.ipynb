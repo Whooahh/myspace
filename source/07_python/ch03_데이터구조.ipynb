{
 "cells": [
  {
   "cell_type": "code",
   "execution_count": 38,
   "id": "2f241d57",
   "metadata": {
    "ExecuteTime": {
     "end_time": "2024-11-07T01:53:05.697734Z",
     "start_time": "2024-11-07T01:53:05.691735Z"
    }
   },
   "outputs": [
    {
     "data": {
      "text/html": [
       "\n",
       "<style>\n",
       "div.container{width:99% !important;}\n",
       "div.cell.code_cell.rendered{width:85%;}\n",
       "div.CodeMirror {font-family:Consolas; font-size:10pt;}\n",
       "div.output {font-size:10pt; font-weight:bold;}\n",
       "div.input {font-family:Consolas; font-size:10pt;}\n",
       "div.prompt {min-width:70px;}\n",
       "div#toc-wrapper{padding-top:120px;}\n",
       "span.toc-item-num{display:none;}\n",
       "div.text_cell_render ul li{font-size:10pt;padding:5px;}\n",
       "</style>\n"
      ],
      "text/plain": [
       "<IPython.core.display.HTML object>"
      ]
     },
     "metadata": {},
     "output_type": "display_data"
    }
   ],
   "source": [
    "from IPython.display import display, HTML\n",
    "display(HTML(\"\"\"\n",
    "<style>\n",
    "div.container{width:99% !important;}\n",
    "div.cell.code_cell.rendered{width:85%;}\n",
    "div.CodeMirror {font-family:Consolas; font-size:10pt;}\n",
    "div.output {font-size:10pt; font-weight:bold;}\n",
    "div.input {font-family:Consolas; font-size:10pt;}\n",
    "div.prompt {min-width:70px;}\n",
    "div#toc-wrapper{padding-top:120px;}\n",
    "span.toc-item-num{display:none;}\n",
    "div.text_cell_render ul li{font-size:10pt;padding:5px;}\n",
    "</style>\n",
    "\"\"\"))"
   ]
  },
  {
   "cell_type": "markdown",
   "id": "d642d8a9",
   "metadata": {},
   "source": [
    "<b><font color=\"red\" size=\"6\">ch03. 데이터 구조</font></b>\n",
    "- 리스트[], 튜플(), 딕셔너리(hashMap과 유사), 셋"
   ]
  },
  {
   "cell_type": "markdown",
   "id": "8b00dcc4",
   "metadata": {},
   "source": [
    "#  1절. 리스트"
   ]
  },
  {
   "cell_type": "markdown",
   "id": "8c0ffa1e",
   "metadata": {},
   "source": [
    "## 1.1 리스트 만들기\n",
    "    - []를 이용해서 만들며, 여러개 값을 하나의 변수에 저장/관리할 수 있음\n",
    "    - list()함수 이용도 가능\n",
    "    - 인덱스 : 각 요소의 위치. 인덱스는 0부터 시작. 맨마지막 인덱스는 -1\n",
    "    - 슬라이싱([from:to:by]) : 부분 데이터셋을 추출. \n",
    "    - 인덱스와 슬라이싱을 이용해서 쓰기와 읽기 지원"
   ]
  },
  {
   "cell_type": "code",
   "execution_count": 10,
   "id": "9a728af1",
   "metadata": {},
   "outputs": [
    {
     "data": {
      "text/plain": [
       "list"
      ]
     },
     "execution_count": 10,
     "metadata": {},
     "output_type": "execute_result"
    }
   ],
   "source": [
    "fruits = ['banana', 'apple', 'orange', 'grape']\n",
    "type(fruits)"
   ]
  },
  {
   "cell_type": "code",
   "execution_count": 11,
   "id": "83f52bc2",
   "metadata": {},
   "outputs": [
    {
     "name": "stdout",
     "output_type": "stream",
     "text": [
      "['banana', 'apple', 'orange', 'grape']\n"
     ]
    }
   ],
   "source": [
    "print(fruits)"
   ]
  },
  {
   "cell_type": "code",
   "execution_count": 12,
   "id": "ca08feab",
   "metadata": {},
   "outputs": [
    {
     "name": "stdout",
     "output_type": "stream",
     "text": [
      "banana\n"
     ]
    }
   ],
   "source": [
    "print(fruits[0])"
   ]
  },
  {
   "cell_type": "code",
   "execution_count": 13,
   "id": "bed7cb97",
   "metadata": {},
   "outputs": [
    {
     "name": "stdout",
     "output_type": "stream",
     "text": [
      "['mango', 'apple', 'orange', 'grape']\n"
     ]
    }
   ],
   "source": [
    "fruits[0] = 'mango'\n",
    "print(fruits)"
   ]
  },
  {
   "cell_type": "code",
   "execution_count": 14,
   "id": "1f06043e",
   "metadata": {},
   "outputs": [
    {
     "name": "stdout",
     "output_type": "stream",
     "text": [
      "x = mango\n",
      "y = apple\n",
      "z = orange\n"
     ]
    }
   ],
   "source": [
    "fruits = ['mango', 'apple', 'orange']\n",
    "x, y, z = ['mango', 'apple', 'orange']\n",
    "print(\"x = {}\".format(x))\n",
    "print(\"y = {}\".format(y))\n",
    "print(\"z = {}\".format(z))"
   ]
  },
  {
   "cell_type": "code",
   "execution_count": 15,
   "id": "e5002837",
   "metadata": {},
   "outputs": [
    {
     "data": {
      "text/plain": [
       "range(0, 10)"
      ]
     },
     "execution_count": 15,
     "metadata": {},
     "output_type": "execute_result"
    }
   ],
   "source": [
    "# range(from, to, by) : from부터 to앞까지 by씩 증가하면서 지정된 범위의\n",
    "            # 숫자를 순차적으로 사용할 수 있게 \n",
    "            # from 생략시 0, by 생략시 1\n",
    "range(10)"
   ]
  },
  {
   "cell_type": "code",
   "execution_count": 16,
   "id": "3faefe54",
   "metadata": {},
   "outputs": [
    {
     "data": {
      "text/plain": [
       "[0, 1, 2, 3, 4, 5, 6, 7, 8, 9]"
      ]
     },
     "execution_count": 16,
     "metadata": {},
     "output_type": "execute_result"
    }
   ],
   "source": [
    "list(range(10))"
   ]
  },
  {
   "cell_type": "code",
   "execution_count": 18,
   "id": "1bedaf86",
   "metadata": {},
   "outputs": [
    {
     "data": {
      "text/plain": [
       "[0, 2, 4, 6, 8]"
      ]
     },
     "execution_count": 18,
     "metadata": {},
     "output_type": "execute_result"
    }
   ],
   "source": [
    "list(range(0, 10, 2))"
   ]
  },
  {
   "cell_type": "code",
   "execution_count": 19,
   "id": "6f151f46",
   "metadata": {},
   "outputs": [
    {
     "data": {
      "text/plain": [
       "[10, 8, 6, 4, 2, 0]"
      ]
     },
     "execution_count": 19,
     "metadata": {},
     "output_type": "execute_result"
    }
   ],
   "source": [
    "list(range(10,-1, -2))"
   ]
  },
  {
   "cell_type": "code",
   "execution_count": 20,
   "id": "d2082676",
   "metadata": {},
   "outputs": [
    {
     "name": "stdout",
     "output_type": "stream",
     "text": [
      "0\n",
      "1\n",
      "2\n"
     ]
    }
   ],
   "source": [
    "for i in [0,1,2]:\n",
    "    print(i)"
   ]
  },
  {
   "cell_type": "code",
   "execution_count": 21,
   "id": "fceef6d2",
   "metadata": {},
   "outputs": [
    {
     "name": "stdout",
     "output_type": "stream",
     "text": [
      "0\n",
      "1\n",
      "2\n"
     ]
    }
   ],
   "source": [
    "for i in range(3): # 0~2\n",
    "    print(i)"
   ]
  },
  {
   "cell_type": "code",
   "execution_count": 22,
   "id": "6a83287d",
   "metadata": {},
   "outputs": [
    {
     "name": "stdout",
     "output_type": "stream",
     "text": [
      "mango\n",
      "apple\n",
      "orange\n"
     ]
    }
   ],
   "source": [
    "for fruit in fruits:\n",
    "    print(fruit)"
   ]
  },
  {
   "cell_type": "code",
   "execution_count": 25,
   "id": "5000ae00",
   "metadata": {},
   "outputs": [
    {
     "name": "stdout",
     "output_type": "stream",
     "text": [
      "0번째 과일은 mango\n",
      "1번째 과일은 apple\n",
      "2번째 과일은 orange\n",
      "3번째 과일은 banana\n"
     ]
    }
   ],
   "source": [
    "fruits = ['mango', 'apple', 'orange', 'banana']\n",
    "for idx in range(len(fruits)):\n",
    "    print(\"{}번째 과일은 {}\".format(idx, fruits[idx]))"
   ]
  },
  {
   "cell_type": "code",
   "execution_count": 27,
   "id": "f825813e",
   "metadata": {},
   "outputs": [
    {
     "data": {
      "text/plain": [
       "[(0, 'mango'), (1, 'apple'), (2, 'orange'), (3, 'banana')]"
      ]
     },
     "execution_count": 27,
     "metadata": {},
     "output_type": "execute_result"
    }
   ],
   "source": [
    "list(enumerate(fruits))"
   ]
  },
  {
   "cell_type": "code",
   "execution_count": 29,
   "id": "b1d3778c",
   "metadata": {},
   "outputs": [
    {
     "name": "stdout",
     "output_type": "stream",
     "text": [
      "0번째 과일은 mango\n",
      "1번째 과일은 apple\n",
      "2번째 과일은 orange\n",
      "3번째 과일은 banana\n"
     ]
    }
   ],
   "source": [
    "for idx, value in enumerate(fruits):\n",
    "    print(\"{}번째 과일은 {}\".format(idx, value))"
   ]
  },
  {
   "cell_type": "code",
   "execution_count": 31,
   "id": "e0fe1f4d",
   "metadata": {},
   "outputs": [
    {
     "data": {
      "text/plain": [
       "[1, 2, 3, '4', True, [1, 2, 3]]"
      ]
     },
     "execution_count": 31,
     "metadata": {},
     "output_type": "execute_result"
    }
   ],
   "source": [
    "numbers = [1,2,3,'4', True, [1,2,3]]\n",
    "numbers"
   ]
  },
  {
   "cell_type": "code",
   "execution_count": 33,
   "id": "e213ab4a",
   "metadata": {},
   "outputs": [
    {
     "data": {
      "text/plain": [
       "(3, 5)"
      ]
     },
     "execution_count": 33,
     "metadata": {},
     "output_type": "execute_result"
    }
   ],
   "source": [
    "# 2차원 리스트\n",
    "numbers_2d = [[1,2,3,4,5],\n",
    "              [11,12,13,14,15],\n",
    "              [91,92,93,94,95]]\n",
    "len(numbers_2d), len(numbers_2d[0]) # 리스트 갯수"
   ]
  },
  {
   "cell_type": "code",
   "execution_count": 36,
   "id": "17ea7fae",
   "metadata": {},
   "outputs": [
    {
     "data": {
      "text/plain": [
       "12"
      ]
     },
     "execution_count": 36,
     "metadata": {},
     "output_type": "execute_result"
    }
   ],
   "source": [
    "numbers_2d[1][1]"
   ]
  },
  {
   "cell_type": "code",
   "execution_count": 39,
   "id": "7d611577",
   "metadata": {},
   "outputs": [
    {
     "name": "stdout",
     "output_type": "stream",
     "text": [
      "0행0열 : 1\t0행1열 : 2\t0행2열 : 3\t0행3열 : 4\t0행4열 : 5\t\n",
      "1행0열 : 11\t1행1열 : 12\t1행2열 : 13\t1행3열 : 14\t1행4열 : 15\t\n",
      "2행0열 : 91\t2행1열 : 92\t2행2열 : 93\t2행3열 : 94\t2행4열 : 95\t\n"
     ]
    }
   ],
   "source": [
    "for i in range(len(numbers_2d)):\n",
    "    for j in range(len(numbers_2d[i])):\n",
    "        print(\"{}행{}열 : {}\".format(i, j, numbers_2d[i][j]), end='\\t')\n",
    "    print() # 개행"
   ]
  },
  {
   "cell_type": "markdown",
   "id": "ff3ff3d4",
   "metadata": {},
   "source": [
    "## 1.2 기본 정보 조회"
   ]
  },
  {
   "cell_type": "code",
   "execution_count": 44,
   "id": "1dfa0cb5",
   "metadata": {},
   "outputs": [],
   "source": [
    "numbers = [1,12,3,4,5]\n",
    "numbers_2d = [[100, 0, 1, 2, 3],\n",
    "              [9, 100, 110, 102, 130],\n",
    "              [59, 100, 130]]"
   ]
  },
  {
   "cell_type": "code",
   "execution_count": 42,
   "id": "7b4d8ead",
   "metadata": {},
   "outputs": [
    {
     "name": "stdout",
     "output_type": "stream",
     "text": [
      "5 2\n"
     ]
    }
   ],
   "source": [
    "# 요소의 수\n",
    "print(len(numbers), len(numbers_2d))"
   ]
  },
  {
   "cell_type": "code",
   "execution_count": 43,
   "id": "dad90667",
   "metadata": {},
   "outputs": [
    {
     "data": {
      "text/plain": [
       "(1, 12)"
      ]
     },
     "execution_count": 43,
     "metadata": {},
     "output_type": "execute_result"
    }
   ],
   "source": [
    "#최소값, 최대값\n",
    "min(numbers), max(numbers)"
   ]
  },
  {
   "cell_type": "code",
   "execution_count": 45,
   "id": "cebadc40",
   "metadata": {},
   "outputs": [
    {
     "data": {
      "text/plain": [
       "([9, 100, 110, 102, 130], [100, 0, 1, 2, 3])"
      ]
     },
     "execution_count": 45,
     "metadata": {},
     "output_type": "execute_result"
    }
   ],
   "source": [
    "# 2차원 list의 min() : 부분 리스트 중에서 첫요소가 가장 작은 값\n",
    "#             max() : 부분 리스트 중에서 첫요소가 가장 큰 값\n",
    "min(numbers_2d), max(numbers_2d)"
   ]
  },
  {
   "cell_type": "code",
   "execution_count": 46,
   "id": "4eec21f4",
   "metadata": {},
   "outputs": [
    {
     "data": {
      "text/plain": [
       "('banana', 'orange')"
      ]
     },
     "execution_count": 46,
     "metadata": {},
     "output_type": "execute_result"
    }
   ],
   "source": [
    "# list의 데이터가 문자일 경우 ascii 코드값으로 min(), max() 적용\n",
    "fruits = ['mango', 'banana', 'orange']\n",
    "min(fruits), max(fruits)"
   ]
  },
  {
   "cell_type": "code",
   "execution_count": 51,
   "id": "74aed8c5",
   "metadata": {},
   "outputs": [
    {
     "name": "stdout",
     "output_type": "stream",
     "text": [
      "오름차순정렬 :  [1, 3, 5, 12, 14]\n",
      "내림차순정렬 :  [14, 12, 5, 3, 1]\n",
      "합 :  35\n",
      "sorted 함수 사용시 리스트 내용이 바뀌지 않음 : [1, 12, 3, 14, 5]\n"
     ]
    }
   ],
   "source": [
    "# 정렬하기\n",
    "numbers = [1,12,3,14,5]\n",
    "print('오름차순정렬 : ', sorted(numbers))\n",
    "print('내림차순정렬 : ', sorted(numbers, reverse=True))\n",
    "print('합 : ', sum(numbers))\n",
    "print('sorted 함수 사용시 리스트 내용이 바뀌지 않음 :', numbers)"
   ]
  },
  {
   "cell_type": "markdown",
   "id": "1d6a904f",
   "metadata": {},
   "source": [
    "## 1.3 요소 추가"
   ]
  },
  {
   "cell_type": "code",
   "execution_count": 2,
   "id": "1c9e8103",
   "metadata": {},
   "outputs": [],
   "source": [
    "# + : 두 리스트 연결\n",
    "# * : 리스를 곱한 수만큼 반복\n",
    "# append() : 요소 맨 뒤에 추가\n",
    "# extend() : 리스트를 요소별로 맨 뒤에 추가\n",
    "# insert(idx, 값) : idx번째 인덱스 위치에 값 추가"
   ]
  },
  {
   "cell_type": "code",
   "execution_count": 3,
   "id": "d0d9f28d",
   "metadata": {},
   "outputs": [
    {
     "data": {
      "text/plain": [
       "[1, 2, 3, 1, 2, 3]"
      ]
     },
     "execution_count": 3,
     "metadata": {},
     "output_type": "execute_result"
    }
   ],
   "source": [
    "numbers = [1,2,3]\n",
    "numbers = numbers + numbers # 리스트 연결\n",
    "numbers"
   ]
  },
  {
   "cell_type": "code",
   "execution_count": 4,
   "id": "3000ee68",
   "metadata": {},
   "outputs": [
    {
     "name": "stdout",
     "output_type": "stream",
     "text": [
      "[1, 2, 3, 1, 2, 3, 1, 2, 3]\n",
      "[1, 2, 3, 1, 2, 3, 1, 2, 3]\n"
     ]
    }
   ],
   "source": [
    "numbers = [1,2,3]\n",
    "print(3 * numbers) # 곱한 수 만큼 list 반복\n",
    "print(numbers *3)"
   ]
  },
  {
   "cell_type": "code",
   "execution_count": 5,
   "id": "12b3d336",
   "metadata": {},
   "outputs": [
    {
     "data": {
      "text/plain": [
       "[1, 2, 3, 4]"
      ]
     },
     "execution_count": 5,
     "metadata": {},
     "output_type": "execute_result"
    }
   ],
   "source": [
    "numbers.append(4)\n",
    "numbers"
   ]
  },
  {
   "cell_type": "code",
   "execution_count": 6,
   "id": "ccc851fc",
   "metadata": {},
   "outputs": [
    {
     "data": {
      "text/plain": [
       "[1, 2, 3, 4, [5, 6, 7]]"
      ]
     },
     "execution_count": 6,
     "metadata": {},
     "output_type": "execute_result"
    }
   ],
   "source": [
    "numbers.append([5,6,7]) # 맨 뒤에 요소 추가\n",
    "numbers"
   ]
  },
  {
   "cell_type": "code",
   "execution_count": 8,
   "id": "604b30cc",
   "metadata": {},
   "outputs": [
    {
     "data": {
      "text/plain": [
       "[1, 2, 3, 4, 5, 6]"
      ]
     },
     "execution_count": 8,
     "metadata": {},
     "output_type": "execute_result"
    }
   ],
   "source": [
    "num = [1, 2, 3]\n",
    "num.extend([4,5,6]) # 요소별로 맨뒤에 각기 추가\n",
    "num"
   ]
  },
  {
   "cell_type": "code",
   "execution_count": 9,
   "id": "99cd6eca",
   "metadata": {},
   "outputs": [
    {
     "data": {
      "text/plain": [
       "['a', 'b', 'c', 'd']"
      ]
     },
     "execution_count": 9,
     "metadata": {},
     "output_type": "execute_result"
    }
   ],
   "source": [
    "lst = ['a','b','c']\n",
    "lst.append('d')\n",
    "lst"
   ]
  },
  {
   "cell_type": "code",
   "execution_count": 10,
   "id": "7471db7c",
   "metadata": {},
   "outputs": [
    {
     "data": {
      "text/plain": [
       "['a', 'b', 'c', 'd', 'hello']"
      ]
     },
     "execution_count": 10,
     "metadata": {},
     "output_type": "execute_result"
    }
   ],
   "source": [
    "lst.append('hello')\n",
    "lst"
   ]
  },
  {
   "cell_type": "code",
   "execution_count": 11,
   "id": "fd3b6c02",
   "metadata": {},
   "outputs": [
    {
     "data": {
      "text/plain": [
       "['a', 'b', 'c', 'd', 'hello', 'h', 'e', 'l', 'l', 'o']"
      ]
     },
     "execution_count": 11,
     "metadata": {},
     "output_type": "execute_result"
    }
   ],
   "source": [
    "lst.extend('hello')\n",
    "lst"
   ]
  },
  {
   "cell_type": "code",
   "execution_count": 12,
   "id": "fd94dffb",
   "metadata": {},
   "outputs": [
    {
     "data": {
      "text/plain": [
       "[1, 'xx', 2, 3, 4, 5]"
      ]
     },
     "execution_count": 12,
     "metadata": {},
     "output_type": "execute_result"
    }
   ],
   "source": [
    "numbers = [1,2,3,4,5]\n",
    "numbers.insert(1, 'xx')\n",
    "numbers"
   ]
  },
  {
   "cell_type": "markdown",
   "id": "c01446f6",
   "metadata": {},
   "source": [
    "## 1.4 인덱싱과 요소 갯수\n",
    "- 변수[index] : 인덱스를 이용한 접근\n",
    "- index(찾을데이터) : 해당 찾을 데이터가 있는 요소의 index를 반환\n",
    "- count(찾을데이터) : 리스트에서 데이터의 갯수 반환"
   ]
  },
  {
   "cell_type": "code",
   "execution_count": 13,
   "id": "f705c459",
   "metadata": {},
   "outputs": [],
   "source": [
    "numbers = [1, 2, 3, [1, 2, 3], 1, 2, 3]"
   ]
  },
  {
   "cell_type": "code",
   "execution_count": 14,
   "id": "9e509766",
   "metadata": {},
   "outputs": [
    {
     "data": {
      "text/plain": [
       "2"
      ]
     },
     "execution_count": 14,
     "metadata": {},
     "output_type": "execute_result"
    }
   ],
   "source": [
    "numbers.count(2)"
   ]
  },
  {
   "cell_type": "code",
   "execution_count": 15,
   "id": "d4b54f91",
   "metadata": {},
   "outputs": [
    {
     "data": {
      "text/plain": [
       "0"
      ]
     },
     "execution_count": 15,
     "metadata": {},
     "output_type": "execute_result"
    }
   ],
   "source": [
    "numbers.count(9)"
   ]
  },
  {
   "cell_type": "code",
   "execution_count": 16,
   "id": "6761ea3c",
   "metadata": {},
   "outputs": [
    {
     "data": {
      "text/plain": [
       "False"
      ]
     },
     "execution_count": 16,
     "metadata": {},
     "output_type": "execute_result"
    }
   ],
   "source": [
    "9 in numbers # 9가 numbers의 요소인지 여부"
   ]
  },
  {
   "cell_type": "code",
   "execution_count": 17,
   "id": "39dd0d69",
   "metadata": {},
   "outputs": [
    {
     "data": {
      "text/plain": [
       "1"
      ]
     },
     "execution_count": 17,
     "metadata": {},
     "output_type": "execute_result"
    }
   ],
   "source": [
    "numbers = [1, 2, 3, [1, 2, 3], 1, 2, 3]\n",
    "numbers.index(2) # 처음(0인덱스)부터 2가 나오는 위치"
   ]
  },
  {
   "cell_type": "code",
   "execution_count": 18,
   "id": "305cbee0",
   "metadata": {},
   "outputs": [
    {
     "data": {
      "text/plain": [
       "5"
      ]
     },
     "execution_count": 18,
     "metadata": {},
     "output_type": "execute_result"
    }
   ],
   "source": [
    "numbers.index(2, 2) # 2번째부터 2가 처음 나오는 위치"
   ]
  },
  {
   "cell_type": "code",
   "execution_count": 19,
   "id": "2a3ecc5f",
   "metadata": {},
   "outputs": [
    {
     "name": "stdout",
     "output_type": "stream",
     "text": [
      "0\n",
      "False\n"
     ]
    }
   ],
   "source": [
    "# 9가 numbers 리스트의 요소에 있는지 여부를 검사\n",
    "print(numbers.count(9))\n",
    "print(9 in numbers)"
   ]
  },
  {
   "cell_type": "code",
   "execution_count": 20,
   "id": "a26989f1",
   "metadata": {},
   "outputs": [
    {
     "ename": "ValueError",
     "evalue": "9 is not in list",
     "output_type": "error",
     "traceback": [
      "\u001b[1;31m------------------------------------------------\u001b[0m",
      "\u001b[1;31mValueError\u001b[0m     Traceback (most recent call last)",
      "Cell \u001b[1;32mIn[20], line 1\u001b[0m\n\u001b[1;32m----> 1\u001b[0m \u001b[43mnumbers\u001b[49m\u001b[38;5;241;43m.\u001b[39;49m\u001b[43mindex\u001b[49m\u001b[43m(\u001b[49m\u001b[38;5;241;43m9\u001b[39;49m\u001b[43m)\u001b[49m\n",
      "\u001b[1;31mValueError\u001b[0m: 9 is not in list"
     ]
    }
   ],
   "source": [
    "numbers.index(9)"
   ]
  },
  {
   "cell_type": "code",
   "execution_count": 21,
   "id": "14ae6c3e",
   "metadata": {},
   "outputs": [
    {
     "name": "stdout",
     "output_type": "stream",
     "text": [
      "9가 요소에 표함되지 않습니다\n"
     ]
    }
   ],
   "source": [
    "if 9 in numbers:\n",
    "    print(numbers.index(9))\n",
    "else:\n",
    "    print('9가 요소에 표함되지 않습니다')"
   ]
  },
  {
   "cell_type": "code",
   "execution_count": 22,
   "id": "a7e073bd",
   "metadata": {},
   "outputs": [],
   "source": [
    "def safe_index(lst, item):\n",
    "    if item in lst:\n",
    "        return lst.index(item)\n",
    "    else:\n",
    "        return -1"
   ]
  },
  {
   "cell_type": "code",
   "execution_count": 24,
   "id": "46e08a78",
   "metadata": {},
   "outputs": [],
   "source": [
    "def safe_index(lst, item):\n",
    "    return lst.index(item) if item in lst else -1"
   ]
  },
  {
   "cell_type": "code",
   "execution_count": 27,
   "id": "7d9171ca",
   "metadata": {},
   "outputs": [
    {
     "data": {
      "text/plain": [
       "-1"
      ]
     },
     "execution_count": 27,
     "metadata": {},
     "output_type": "execute_result"
    }
   ],
   "source": [
    "safe_index(numbers, 9)"
   ]
  },
  {
   "cell_type": "code",
   "execution_count": 28,
   "id": "9cee9366",
   "metadata": {},
   "outputs": [
    {
     "ename": "IndexError",
     "evalue": "list index out of range",
     "output_type": "error",
     "traceback": [
      "\u001b[1;31m------------------------------------------------\u001b[0m",
      "\u001b[1;31mIndexError\u001b[0m     Traceback (most recent call last)",
      "Cell \u001b[1;32mIn[28], line 1\u001b[0m\n\u001b[1;32m----> 1\u001b[0m \u001b[43mnumbers\u001b[49m\u001b[43m[\u001b[49m\u001b[38;5;241;43m20\u001b[39;49m\u001b[43m]\u001b[49m\n",
      "\u001b[1;31mIndexError\u001b[0m: list index out of range"
     ]
    }
   ],
   "source": [
    "numbers[20] # 벗어난 인덱싱시 에러"
   ]
  },
  {
   "cell_type": "markdown",
   "id": "37571365",
   "metadata": {},
   "source": [
    "## 1.5 원하는 요소 추출\n",
    "1. 리스트 슬라이싱 : list에서 원하는 index의 데이터를 추출\n",
    "\n",
    "- 인덱스의 범위를 벗어난 값도 에러나지 않음\n",
    "- [from:stop:step] from부터 stop앞까지 step씩 증가하는 index값 추출\n",
    "        from 생략시 처음, stop 생략시 끝, step생략시 1. 모두 생략 가능\n",
    "- 인덱스는 음수 가능 <br><br>\n",
    "\n",
    "2. <font color=\"red\">리스트 컴프리헨션</font> : list에서 원하는 데이터 추출"
   ]
  },
  {
   "cell_type": "code",
   "execution_count": 32,
   "id": "df9cd8ed",
   "metadata": {},
   "outputs": [
    {
     "name": "stdout",
     "output_type": "stream",
     "text": [
      "[20, 19, 18, 13, 12, 10, 9, 5, 3, 1]\n",
      "[1, 5, 10, 13, 19]\n",
      "[1, 3, 5, 9, 10, 12, 13, 18, 19, 20]\n"
     ]
    }
   ],
   "source": [
    "numbers = [1,3,5,9,10,12,13,18,19,20]\n",
    "# 거꾸로 출력\n",
    "print(numbers[::-1])\n",
    "print(numbers[0:10:2])\n",
    "print(numbers[0:100])"
   ]
  },
  {
   "cell_type": "code",
   "execution_count": 36,
   "id": "8f3ac731",
   "metadata": {},
   "outputs": [
    {
     "data": {
      "text/plain": [
       "[1, 3, 5, 9, 10, 12, 13, 18, 19, 20]"
      ]
     },
     "execution_count": 36,
     "metadata": {},
     "output_type": "execute_result"
    }
   ],
   "source": [
    "# 리스트 컴프리헨션을 이용해서 list의 원하는 데이터 액세스\n",
    "numbers = [1,3,5,9,10,12,13,18,19,20]\n",
    "# 모든 데이터 추출\n",
    "# for data in numbers:\n",
    "#     print(data, end='\\t')\n",
    "[data for data in numbers]"
   ]
  },
  {
   "cell_type": "code",
   "execution_count": 37,
   "id": "e1a40594",
   "metadata": {},
   "outputs": [
    {
     "data": {
      "text/plain": [
       "[10, 12, 18, 20]"
      ]
     },
     "execution_count": 37,
     "metadata": {},
     "output_type": "execute_result"
    }
   ],
   "source": [
    "# 짝수 데이터 추출\n",
    "# for data in numbers:\n",
    "#     if data%2==0:\n",
    "#         print(data, end='\\t')\n",
    "[data for data in numbers if data%2==0]"
   ]
  },
  {
   "cell_type": "code",
   "execution_count": 38,
   "id": "3ccbf566",
   "metadata": {},
   "outputs": [
    {
     "data": {
      "text/plain": [
       "[10, 12, 13, 18, 19, 20]"
      ]
     },
     "execution_count": 38,
     "metadata": {},
     "output_type": "execute_result"
    }
   ],
   "source": [
    "# ex1. numbers에서 10이상 요소만 추출\n",
    "[i for i in numbers if i>=10]"
   ]
  },
  {
   "cell_type": "code",
   "execution_count": 39,
   "id": "e1786971",
   "metadata": {},
   "outputs": [
    {
     "data": {
      "text/plain": [
       "['orange', 'apple', 'mango']"
      ]
     },
     "execution_count": 39,
     "metadata": {},
     "output_type": "execute_result"
    }
   ],
   "source": [
    "# ex2. fruits에서 과일의 글자가 5글자 이상인 과일만 추출\n",
    "fruits = ['orange', 'apple', 'mango', 'kiwi']\n",
    "[fruit for fruit in fruits if len(fruit)>=5]"
   ]
  },
  {
   "cell_type": "code",
   "execution_count": 40,
   "id": "e96102a7",
   "metadata": {},
   "outputs": [
    {
     "data": {
      "text/plain": [
       "[6, 5, 5, 4]"
      ]
     },
     "execution_count": 40,
     "metadata": {},
     "output_type": "execute_result"
    }
   ],
   "source": [
    "# ex2-1. fruits 리스트의 과일 글자수\n",
    "[len(fruit) for fruit in fruits]"
   ]
  },
  {
   "cell_type": "code",
   "execution_count": 42,
   "id": "5fb832f0",
   "metadata": {},
   "outputs": [
    {
     "data": {
      "text/plain": [
       "[9, 16, 25]"
      ]
     },
     "execution_count": 42,
     "metadata": {},
     "output_type": "execute_result"
    }
   ],
   "source": [
    "# ex3. 3이상의 요소들의 제곱을 추출\n",
    "L = [1,2,3,4,5]\n",
    "[l**2 for l in L if l>=3]"
   ]
  },
  {
   "cell_type": "code",
   "execution_count": 43,
   "id": "57045752",
   "metadata": {},
   "outputs": [
    {
     "data": {
      "text/plain": [
       "[2, 4, 6, 8, 10]"
      ]
     },
     "execution_count": 43,
     "metadata": {},
     "output_type": "execute_result"
    }
   ],
   "source": [
    "# ex4. 리스트의 값의 두배로 추출\n",
    "L = [1,2,3,4,5]\n",
    "[l*2 for l in L]"
   ]
  },
  {
   "cell_type": "markdown",
   "id": "cad8d5d1",
   "metadata": {},
   "source": [
    "## 1.6 요소 수정하기"
   ]
  },
  {
   "cell_type": "code",
   "execution_count": 44,
   "id": "8899062a",
   "metadata": {},
   "outputs": [
    {
     "data": {
      "text/plain": [
       "[0, 1, 222, 3, 4, 5, 6, 7, 8, 9]"
      ]
     },
     "execution_count": 44,
     "metadata": {},
     "output_type": "execute_result"
    }
   ],
   "source": [
    "numbers = [0,1,2,3,4,5,6,7,8,9]\n",
    "numbers[2] = 222\n",
    "numbers"
   ]
  },
  {
   "cell_type": "code",
   "execution_count": 45,
   "id": "2887d7eb",
   "metadata": {},
   "outputs": [
    {
     "data": {
      "text/plain": [
       "['xx', 'xx', 'xx', 'xx', 'xx', 'xx', 'xx', 'xx', 222, 3, 4, 5, 6, 7, 8, 9]"
      ]
     },
     "execution_count": 45,
     "metadata": {},
     "output_type": "execute_result"
    }
   ],
   "source": [
    "# 슬라이싱(step부분 미포함)을 이용하여 부분리스트를 통째로 수정\n",
    "numbers[0:2] = ['xx','xx','xx','xx','xx','xx','xx','xx']\n",
    "numbers"
   ]
  },
  {
   "cell_type": "code",
   "execution_count": 48,
   "id": "0376ef59",
   "metadata": {},
   "outputs": [
    {
     "name": "stdout",
     "output_type": "stream",
     "text": [
      "수정전 : [0, 0, 0, 0, 0, 0, 0, 0, 0, 0]\n",
      "수정후 : [9, 0, 9, 0, 9, 0, 9, 0, 9, 0]\n"
     ]
    }
   ],
   "source": [
    "# 슬라이싱(step부분 포함)을 이용하여 부분 수정시 요소 갯수 맞아야 함\n",
    "numbers = [0]*10\n",
    "print('수정전 :', numbers)\n",
    "numbers[::2] = [9,9,9,9,9]\n",
    "print('수정후 :', numbers)"
   ]
  },
  {
   "cell_type": "code",
   "execution_count": 50,
   "id": "d3e0ce65",
   "metadata": {},
   "outputs": [
    {
     "ename": "ValueError",
     "evalue": "attempt to assign sequence of size 7 to extended slice of size 5",
     "output_type": "error",
     "traceback": [
      "\u001b[1;31m------------------------------------------------\u001b[0m",
      "\u001b[1;31mValueError\u001b[0m     Traceback (most recent call last)",
      "Cell \u001b[1;32mIn[50], line 1\u001b[0m\n\u001b[1;32m----> 1\u001b[0m numbers[::\u001b[38;5;241m2\u001b[39m] \u001b[38;5;241m=\u001b[39m [\u001b[38;5;241m1\u001b[39m, \u001b[38;5;241m2\u001b[39m, \u001b[38;5;241m3\u001b[39m, \u001b[38;5;241m3\u001b[39m, \u001b[38;5;241m3\u001b[39m, \u001b[38;5;241m3\u001b[39m, \u001b[38;5;241m3\u001b[39m]\n",
      "\u001b[1;31mValueError\u001b[0m: attempt to assign sequence of size 7 to extended slice of size 5"
     ]
    }
   ],
   "source": [
    "# 수정하려는 요소의 갯수가 맞지 않으면 에러\n",
    "numbers[::2] = [1, 2, 3, 3, 3, 3, 3]"
   ]
  },
  {
   "cell_type": "markdown",
   "id": "60363a04",
   "metadata": {},
   "source": [
    "## 1.7 요소 삭제\n",
    "- pop() : 가장 마지막 인덱스의 요소가 반환되고 삭제\n",
    "- pop(idx) : idx번째 요소가 반환되고 삭제\n",
    "- remove(data) : list안의 data가 삭제\n",
    "- del 리스트변수[idx] : idx번째 요소가 삭제"
   ]
  },
  {
   "cell_type": "code",
   "execution_count": 54,
   "id": "49b3c79a",
   "metadata": {},
   "outputs": [
    {
     "name": "stdout",
     "output_type": "stream",
     "text": [
      "삭제한 데이터 : 5\n",
      "삭제한 후 numbers : [1, 2, 3, 4]\n",
      "삭제한 데이터 : 4\n",
      "삭제한 후 numbers : [1, 2, 3]\n",
      "삭제한 데이터 : 1\n",
      "삭제한 후 numbers : [2, 3]\n"
     ]
    }
   ],
   "source": [
    "numbers = [1,2,3,4,5]\n",
    "print('삭제한 데이터 :', numbers.pop())\n",
    "print('삭제한 후 numbers :', numbers)\n",
    "print('삭제한 데이터 :', numbers.pop())\n",
    "print('삭제한 후 numbers :', numbers)\n",
    "print('삭제한 데이터 :', numbers.pop(0))\n",
    "print('삭제한 후 numbers :', numbers)"
   ]
  },
  {
   "cell_type": "code",
   "execution_count": 58,
   "id": "768f8a6a",
   "metadata": {},
   "outputs": [
    {
     "name": "stdout",
     "output_type": "stream",
     "text": [
      "None\n",
      "[0, 1, 2, 4, 5]\n"
     ]
    }
   ],
   "source": [
    "numbers = [0,1,2,3,4,5]\n",
    "print(numbers.remove(3)) # remove()는 반환값이 없고, 해당 데이터 삭제만\n",
    "print(numbers)"
   ]
  },
  {
   "cell_type": "code",
   "execution_count": 59,
   "id": "1fb8fb80",
   "metadata": {},
   "outputs": [
    {
     "ename": "ValueError",
     "evalue": "list.remove(x): x not in list",
     "output_type": "error",
     "traceback": [
      "\u001b[1;31m------------------------------------------------\u001b[0m",
      "\u001b[1;31mValueError\u001b[0m     Traceback (most recent call last)",
      "Cell \u001b[1;32mIn[59], line 1\u001b[0m\n\u001b[1;32m----> 1\u001b[0m \u001b[43mnumbers\u001b[49m\u001b[38;5;241;43m.\u001b[39;49m\u001b[43mremove\u001b[49m\u001b[43m(\u001b[49m\u001b[38;5;241;43m9\u001b[39;49m\u001b[43m)\u001b[49m\n",
      "\u001b[1;31mValueError\u001b[0m: list.remove(x): x not in list"
     ]
    }
   ],
   "source": [
    "numbers.remove(9)"
   ]
  },
  {
   "cell_type": "code",
   "execution_count": 60,
   "id": "5e8d4a0f",
   "metadata": {},
   "outputs": [
    {
     "name": "stdout",
     "output_type": "stream",
     "text": [
      "해당 데이터는 없는 데이터입니다\n"
     ]
    }
   ],
   "source": [
    "if 9 in numbers:\n",
    "    numbers.remove(9)\n",
    "else:\n",
    "    print('해당 데이터는 없는 데이터입니다')"
   ]
  },
  {
   "cell_type": "code",
   "execution_count": 61,
   "id": "5d851bf5",
   "metadata": {},
   "outputs": [],
   "source": [
    "def safe_remove(lst, remove_item):\n",
    "    if remove_item in lst:\n",
    "        lst.remove(remove_item)\n",
    "    else:\n",
    "        print('해당 데이터는 없는 아이템입니다')"
   ]
  },
  {
   "cell_type": "code",
   "execution_count": 62,
   "id": "19e7dc89",
   "metadata": {},
   "outputs": [
    {
     "name": "stdout",
     "output_type": "stream",
     "text": [
      "해당 데이터는 없는 아이템입니다\n"
     ]
    }
   ],
   "source": [
    "safe_remove(numbers, 9)"
   ]
  },
  {
   "cell_type": "code",
   "execution_count": 64,
   "id": "3ab065c8",
   "metadata": {},
   "outputs": [
    {
     "name": "stdout",
     "output_type": "stream",
     "text": [
      "삭제 후: [0, 1, 3, 4, 5]\n"
     ]
    }
   ],
   "source": [
    "numbers = [0,1,2,3,4,5]\n",
    "del numbers[2] # 2번째 index 요소 삭제\n",
    "print('삭제 후:', numbers)"
   ]
  },
  {
   "cell_type": "code",
   "execution_count": 65,
   "id": "65e8ce48",
   "metadata": {},
   "outputs": [],
   "source": [
    "del numbers # 변수 삭제"
   ]
  },
  {
   "cell_type": "code",
   "execution_count": 66,
   "id": "c5724bb5",
   "metadata": {},
   "outputs": [
    {
     "ename": "NameError",
     "evalue": "name 'numbers' is not defined",
     "output_type": "error",
     "traceback": [
      "\u001b[1;31m------------------------------------------------\u001b[0m",
      "\u001b[1;31mNameError\u001b[0m      Traceback (most recent call last)",
      "Cell \u001b[1;32mIn[66], line 1\u001b[0m\n\u001b[1;32m----> 1\u001b[0m \u001b[43mnumbers\u001b[49m\n",
      "\u001b[1;31mNameError\u001b[0m: name 'numbers' is not defined"
     ]
    }
   ],
   "source": [
    "numbers"
   ]
  },
  {
   "cell_type": "markdown",
   "id": "7805d4e2",
   "metadata": {},
   "source": [
    "## 1.8 정렬하기"
   ]
  },
  {
   "cell_type": "code",
   "execution_count": 78,
   "id": "61bbed4e",
   "metadata": {},
   "outputs": [
    {
     "data": {
      "text/plain": [
       "[9, 8, 6, 5, 0]"
      ]
     },
     "execution_count": 78,
     "metadata": {},
     "output_type": "execute_result"
    }
   ],
   "source": [
    "numbers = [9, 5, 0, 8, 6]\n",
    "numbers.sort() # numbers 자체가 정렬한 결과로 바뀜(기본정렬은 오름차순)\n",
    "numbers"
   ]
  },
  {
   "cell_type": "code",
   "execution_count": 76,
   "id": "103207c6",
   "metadata": {},
   "outputs": [
    {
     "data": {
      "text/plain": [
       "[9, 8, 6, 5, 0]"
      ]
     },
     "execution_count": 76,
     "metadata": {},
     "output_type": "execute_result"
    }
   ],
   "source": [
    "numbers = numbers[::-1] # 오름차순 결과를 내림차순으로\n",
    "numbers"
   ]
  },
  {
   "cell_type": "code",
   "execution_count": 79,
   "id": "7efabc80",
   "metadata": {},
   "outputs": [
    {
     "data": {
      "text/plain": [
       "[6, 8, 0, 5, 9]"
      ]
     },
     "execution_count": 79,
     "metadata": {},
     "output_type": "execute_result"
    }
   ],
   "source": [
    "numbers = [9, 5, 0, 8, 6]\n",
    "numbers.reverse() # 리스트를 역순으로 변경\n",
    "numbers"
   ]
  },
  {
   "cell_type": "code",
   "execution_count": 80,
   "id": "96e3c4cd",
   "metadata": {},
   "outputs": [
    {
     "data": {
      "text/plain": [
       "[9, 8, 6, 5, 0]"
      ]
     },
     "execution_count": 80,
     "metadata": {},
     "output_type": "execute_result"
    }
   ],
   "source": [
    "numbers.sort(reverse=True) # 내림차순 정렬\n",
    "numbers"
   ]
  },
  {
   "cell_type": "markdown",
   "id": "4a371c74",
   "metadata": {},
   "source": [
    "## 1.9 리스트 복제"
   ]
  },
  {
   "cell_type": "code",
   "execution_count": 82,
   "id": "57176444",
   "metadata": {},
   "outputs": [
    {
     "name": "stdout",
     "output_type": "stream",
     "text": [
      "원본 : [1, 5, 6, 9]\n",
      "정렬본 : [1, 5, 6, 9]\n",
      "원본 주소 : 1828163904640\n",
      "정렬본 주소 : 1828163904640\n"
     ]
    }
   ],
   "source": [
    "# 얕은 복사\n",
    "numbers = [5, 6, 1, 9]\n",
    "new_numbers = numbers # 얕은 복사\n",
    "new_numbers.sort()\n",
    "print('원본 :', numbers)\n",
    "print('정렬본 :', new_numbers)\n",
    "print('원본 주소 :', id(numbers))\n",
    "print('정렬본 주소 :', id(new_numbers))"
   ]
  },
  {
   "cell_type": "code",
   "execution_count": 83,
   "id": "862682f9",
   "metadata": {},
   "outputs": [
    {
     "name": "stdout",
     "output_type": "stream",
     "text": [
      "numbers : [5, 6, 1, 9]\n",
      "new_numbers : [9, 6, 5, 1]\n",
      "numbers 주소 : 1828163224832\n",
      "new_numbers 주소 : 1828146948352\n"
     ]
    }
   ],
   "source": [
    "# 깊은 복사(복제)\n",
    "numbers = [5, 6, 1, 9]\n",
    "new_numbers = numbers.copy() # numbers를 복제(깊은 복사)\n",
    "new_numbers.sort(reverse=True) # 내림차순 정렬\n",
    "print('numbers :', numbers)\n",
    "print('new_numbers :', new_numbers)\n",
    "print('numbers 주소 :', id(numbers))\n",
    "print('new_numbers 주소 :', id(new_numbers))"
   ]
  },
  {
   "cell_type": "code",
   "execution_count": 86,
   "id": "7ed653ab",
   "metadata": {},
   "outputs": [
    {
     "name": "stdout",
     "output_type": "stream",
     "text": [
      "정렬전 : 서울 부산 대전 대구 인천 광주 제주\n",
      "정렬후 : 광주, 대구, 대전, 부산, 서울, 인천, 제주\n"
     ]
    }
   ],
   "source": [
    "city = ['서울', '부산', '대전', '대구', '인천', '광주', '제주']\n",
    "temp = city.copy()\n",
    "temp.sort()\n",
    "print('정렬전 :', ' '.join(city))\n",
    "print('정렬후 :', ', '.join(temp))"
   ]
  },
  {
   "cell_type": "markdown",
   "id": "01d2a436",
   "metadata": {},
   "source": [
    "# 2절. 튜플\n",
    "- 리스트([])와 유사하지만 읽기전용. 수정이 필요없는 데이터에서 사용\n",
    "- 수정이 불가하므로 튜플에 데이터 수정, 추가, 삭제 불가\n",
    "- 제공되는 함수도 많지 않음\n",
    "- () 이용해서 생성"
   ]
  },
  {
   "cell_type": "code",
   "execution_count": 94,
   "id": "52908a73",
   "metadata": {},
   "outputs": [
    {
     "name": "stdout",
     "output_type": "stream",
     "text": [
      "<class 'tuple'>\n",
      "('서울', '부산', '인천', '목포')\n"
     ]
    }
   ],
   "source": [
    "city = ('서울', '부산', '인천', '목포')\n",
    "print(type(city))\n",
    "print(city)"
   ]
  },
  {
   "cell_type": "code",
   "execution_count": 88,
   "id": "e1bbcf1b",
   "metadata": {},
   "outputs": [
    {
     "data": {
      "text/plain": [
       "'서울, 부산, 인천, 목포'"
      ]
     },
     "execution_count": 88,
     "metadata": {},
     "output_type": "execute_result"
    }
   ],
   "source": [
    "', '.join(city)"
   ]
  },
  {
   "cell_type": "code",
   "execution_count": 91,
   "id": "f7646578",
   "metadata": {},
   "outputs": [
    {
     "name": "stdout",
     "output_type": "stream",
     "text": [
      "<class 'list'>\n",
      "['서울']\n",
      "1\n"
     ]
    }
   ],
   "source": [
    "l = ['서울'] # 요소가 하나 있는 리슽\n",
    "print(type(l))\n",
    "print(l)\n",
    "print(len(l))"
   ]
  },
  {
   "cell_type": "code",
   "execution_count": 95,
   "id": "fa838acf",
   "metadata": {},
   "outputs": [
    {
     "name": "stdout",
     "output_type": "stream",
     "text": [
      "<class 'str'>\n",
      "서울\n",
      "2\n"
     ]
    }
   ],
   "source": [
    "city = ('서울')# 요소가 하나 있는 튜플(X)\n",
    "print(type(city))\n",
    "print(city)\n",
    "print(len(city))"
   ]
  },
  {
   "cell_type": "code",
   "execution_count": 96,
   "id": "6745a406",
   "metadata": {},
   "outputs": [
    {
     "name": "stdout",
     "output_type": "stream",
     "text": [
      "<class 'tuple'>\n",
      "('서울',)\n",
      "1\n"
     ]
    }
   ],
   "source": [
    "city = ('서울', ) # 요소가 하나 있는 튜플(o)\n",
    "print(type(city))\n",
    "print(city)\n",
    "print(len(city))"
   ]
  },
  {
   "cell_type": "code",
   "execution_count": null,
   "id": "6a06d901",
   "metadata": {},
   "outputs": [],
   "source": [
    "a, b = 10, 20\n",
    "# (a, b) = (10, 20)"
   ]
  },
  {
   "cell_type": "code",
   "execution_count": 97,
   "id": "c37ae4b9",
   "metadata": {},
   "outputs": [
    {
     "name": "stdout",
     "output_type": "stream",
     "text": [
      "<class 'tuple'>\n",
      "(1, 2, 3)\n"
     ]
    }
   ],
   "source": [
    "numbers = 1,2,3 # numbers = (1, 2, 3)\n",
    "print(type(numbers))\n",
    "print(numbers)"
   ]
  },
  {
   "cell_type": "code",
   "execution_count": 99,
   "id": "1a4b4e6b",
   "metadata": {},
   "outputs": [],
   "source": [
    "# numbers.remove(3) 수정하기 위한 함수는 제공되지 않음"
   ]
  },
  {
   "cell_type": "code",
   "execution_count": 102,
   "id": "6a8f5d4c",
   "metadata": {},
   "outputs": [
    {
     "data": {
      "text/plain": [
       "(1, 3, 3)"
      ]
     },
     "execution_count": 102,
     "metadata": {},
     "output_type": "execute_result"
    }
   ],
   "source": [
    "min(numbers), max(numbers), len(numbers)"
   ]
  },
  {
   "cell_type": "code",
   "execution_count": 103,
   "id": "63c4b66d",
   "metadata": {},
   "outputs": [
    {
     "data": {
      "text/plain": [
       "2"
      ]
     },
     "execution_count": 103,
     "metadata": {},
     "output_type": "execute_result"
    }
   ],
   "source": [
    "numbers = (0, 1, 2, (1, 2), 0, 1, 2)\n",
    "numbers.count(2)"
   ]
  },
  {
   "cell_type": "code",
   "execution_count": 104,
   "id": "3fbe1ca6",
   "metadata": {},
   "outputs": [
    {
     "data": {
      "text/plain": [
       "(0, 1, 2)"
      ]
     },
     "execution_count": 104,
     "metadata": {},
     "output_type": "execute_result"
    }
   ],
   "source": [
    "numbers[0:3]"
   ]
  },
  {
   "cell_type": "code",
   "execution_count": 105,
   "id": "aed2a8eb",
   "metadata": {},
   "outputs": [
    {
     "data": {
      "text/plain": [
       "2"
      ]
     },
     "execution_count": 105,
     "metadata": {},
     "output_type": "execute_result"
    }
   ],
   "source": [
    "numbers.index(2) # 처음부터 2가 처음 나오는 곳의 index"
   ]
  },
  {
   "cell_type": "code",
   "execution_count": 106,
   "id": "7fe2b067",
   "metadata": {},
   "outputs": [
    {
     "data": {
      "text/plain": [
       "6"
      ]
     },
     "execution_count": 106,
     "metadata": {},
     "output_type": "execute_result"
    }
   ],
   "source": [
    "numbers.index(2, 3) # 3번째 부터 2가 나오는 index"
   ]
  },
  {
   "cell_type": "code",
   "execution_count": 107,
   "id": "af6cba6a",
   "metadata": {},
   "outputs": [
    {
     "ename": "ValueError",
     "evalue": "tuple.index(x): x not in tuple",
     "output_type": "error",
     "traceback": [
      "\u001b[1;31m------------------------------------------------\u001b[0m",
      "\u001b[1;31mValueError\u001b[0m     Traceback (most recent call last)",
      "Cell \u001b[1;32mIn[107], line 1\u001b[0m\n\u001b[1;32m----> 1\u001b[0m \u001b[43mnumbers\u001b[49m\u001b[38;5;241;43m.\u001b[39;49m\u001b[43mindex\u001b[49m\u001b[43m(\u001b[49m\u001b[38;5;241;43m9\u001b[39;49m\u001b[43m)\u001b[49m\n",
      "\u001b[1;31mValueError\u001b[0m: tuple.index(x): x not in tuple"
     ]
    }
   ],
   "source": [
    "numbers.index(9)"
   ]
  },
  {
   "cell_type": "code",
   "execution_count": 108,
   "id": "b3631c7e",
   "metadata": {},
   "outputs": [
    {
     "name": "stdout",
     "output_type": "stream",
     "text": [
      "0\n",
      "False\n"
     ]
    }
   ],
   "source": [
    "# numbers안에 9 요소가 있는 여부 \n",
    "print(numbers.count(9))\n",
    "print(9 in numbers)"
   ]
  },
  {
   "cell_type": "code",
   "execution_count": 109,
   "id": "8d93c3c4",
   "metadata": {},
   "outputs": [],
   "source": [
    "def safe_index(lst, item):\n",
    "    if item in lst:\n",
    "        return lst.index(item)\n",
    "    else:\n",
    "        return -1\n",
    "def safe_index(lst, item):\n",
    "    return lst.index(item) if item in lst else -1"
   ]
  },
  {
   "cell_type": "code",
   "execution_count": 110,
   "id": "ff6a887d",
   "metadata": {},
   "outputs": [
    {
     "data": {
      "text/plain": [
       "-1"
      ]
     },
     "execution_count": 110,
     "metadata": {},
     "output_type": "execute_result"
    }
   ],
   "source": [
    "safe_index(numbers, 9)"
   ]
  },
  {
   "cell_type": "code",
   "execution_count": 112,
   "id": "adb26afd",
   "metadata": {},
   "outputs": [
    {
     "data": {
      "text/plain": [
       "(1, 2, 3, 1, 2, 3)"
      ]
     },
     "execution_count": 112,
     "metadata": {},
     "output_type": "execute_result"
    }
   ],
   "source": [
    "numbers = (1,2,3)\n",
    "numbers + numbers # 연결"
   ]
  },
  {
   "cell_type": "code",
   "execution_count": 113,
   "id": "fa3298c0",
   "metadata": {},
   "outputs": [
    {
     "data": {
      "text/plain": [
       "(1, 2, 3, 1, 2, 3, 1, 2, 3)"
      ]
     },
     "execution_count": 113,
     "metadata": {},
     "output_type": "execute_result"
    }
   ],
   "source": [
    "numbers * 3 # 반복"
   ]
  },
  {
   "cell_type": "code",
   "execution_count": 114,
   "id": "dcd56eb8",
   "metadata": {},
   "outputs": [
    {
     "data": {
      "text/plain": [
       "[4, 16, 36]"
      ]
     },
     "execution_count": 114,
     "metadata": {},
     "output_type": "execute_result"
    }
   ],
   "source": [
    "# ex. 짝수 요소들을 추출하여 제곱한 리스트를 출력하시오\n",
    "numbers = (1, 2, 3, 4, 5, 6)\n",
    "[x**2 for x in numbers if x%2==0]"
   ]
  },
  {
   "cell_type": "markdown",
   "id": "b5c228a6",
   "metadata": {},
   "source": [
    "# 3절. 딕셔너리\n",
    "cf. 자바에서의 hashMap\n",
    "- 중괄호({})를 이용해서 딕셔너리 생성. 키(key)-값(value)쌍으로 구성된 자료구조\n",
    "- 키는 유일한 값(중복허용안함). 키에 list는 사용불가. 키에 tuple은 사용 가능\n",
    "- 값은 중복 가능. 모든 데이터 타입이 가능\n",
    "- 없는 키의 값을 참조하면 에러 발생\n",
    "- 인덱스를 이용한 참조는 지원 안 함"
   ]
  },
  {
   "cell_type": "code",
   "execution_count": 117,
   "id": "a3802d6b",
   "metadata": {},
   "outputs": [
    {
     "name": "stdout",
     "output_type": "stream",
     "text": [
      "<class 'dict'>\n",
      "{'name': '홍길동', 1: 22, (1, 2): [1, 2]}\n"
     ]
    }
   ],
   "source": [
    "dic = {'name':'홍길동', 1:22, (1,2):[1,2]}\n",
    "print(type(dic))\n",
    "print(dic)"
   ]
  },
  {
   "cell_type": "code",
   "execution_count": 119,
   "id": "dbcda05e",
   "metadata": {},
   "outputs": [
    {
     "data": {
      "text/plain": [
       "3"
      ]
     },
     "execution_count": 119,
     "metadata": {},
     "output_type": "execute_result"
    }
   ],
   "source": [
    "len(dic) # 데이터 요소의 갯수"
   ]
  },
  {
   "cell_type": "code",
   "execution_count": 120,
   "id": "18bfee69",
   "metadata": {},
   "outputs": [
    {
     "data": {
      "text/plain": [
       "{'fruit': 'apple', 'number': 12, 'sport': 'golf'}"
      ]
     },
     "execution_count": 120,
     "metadata": {},
     "output_type": "execute_result"
    }
   ],
   "source": [
    "my_favorite = {'fruit':'apple', 'number':12, 'sport':'golf'}\n",
    "my_favorite"
   ]
  },
  {
   "cell_type": "code",
   "execution_count": 121,
   "id": "deb39abf",
   "metadata": {},
   "outputs": [
    {
     "data": {
      "text/plain": [
       "'apple'"
      ]
     },
     "execution_count": 121,
     "metadata": {},
     "output_type": "execute_result"
    }
   ],
   "source": [
    "my_favorite['fruit']"
   ]
  },
  {
   "cell_type": "code",
   "execution_count": 122,
   "id": "eca6ddeb",
   "metadata": {},
   "outputs": [
    {
     "data": {
      "text/plain": [
       "'apple'"
      ]
     },
     "execution_count": 122,
     "metadata": {},
     "output_type": "execute_result"
    }
   ],
   "source": [
    "my_favorite.get('fruit')"
   ]
  },
  {
   "cell_type": "code",
   "execution_count": 124,
   "id": "a70ad912",
   "metadata": {},
   "outputs": [
    {
     "name": "stdout",
     "output_type": "stream",
     "text": [
      "None\n"
     ]
    }
   ],
   "source": [
    "# print(my_favorite['people']) # 키목록에 없는 데이터를 인덱스로 참조시 에러\n",
    "print(my_favorite.get('people')) #없는 키를 get함수로 참조시 None"
   ]
  },
  {
   "cell_type": "code",
   "execution_count": 132,
   "id": "0eb26a21",
   "metadata": {},
   "outputs": [
    {
     "name": "stdout",
     "output_type": "stream",
     "text": [
      "fruit 수정 후 : {'fruit': 'mango', 'number': 12, 'sport': 'golf'}\n",
      "people 키 추가 후 : {'fruit': 'mango', 'number': 12, 'sport': 'golf', 'people': '홍길동'}\n",
      "데이터 갯수 :  4\n",
      "sport 제거 후 : {'fruit': 'mango', 'number': 12, 'people': '홍길동'}\n"
     ]
    }
   ],
   "source": [
    "# 딕셔너리 수정\n",
    "my_favorite = {'fruit':'apple', 'number':12, 'sport':'golf'}\n",
    "my_favorite['fruit'] = 'mango'\n",
    "print('fruit 수정 후 :', my_favorite)\n",
    "my_favorite['people'] = '홍길동'\n",
    "print('people 키 추가 후 :', my_favorite)\n",
    "print('데이터 갯수 : ', len(my_favorite))\n",
    "# del my_favorite['sport'] # 'sport':'golf' 제거\n",
    "# del(my_favorite['sport'])\n",
    "my_favorite.pop('sport')\n",
    "print('sport 제거 후 :', my_favorite)"
   ]
  },
  {
   "cell_type": "code",
   "execution_count": 133,
   "id": "8424f616",
   "metadata": {},
   "outputs": [],
   "source": [
    "# for문을 이용한 튜플 출력\n",
    "my_tuple = ('홍길동', 30, '010-9999-9999')"
   ]
  },
  {
   "cell_type": "code",
   "execution_count": 136,
   "id": "1a25b62c",
   "metadata": {},
   "outputs": [
    {
     "name": "stdout",
     "output_type": "stream",
     "text": [
      "홍길동\t30\t010-9999-9999\t\n",
      "0번째 : 홍길동\t1번째 : 30\t2번째 : 010-9999-9999\t\n",
      "0번째 : 홍길동\t1번째 : 30\t2번째 : 010-9999-9999\t"
     ]
    }
   ],
   "source": [
    "for data in my_tuple:\n",
    "    print(data, end='\\t')\n",
    "print()\n",
    "for idx in range(len(my_tuple)):\n",
    "    print(\"{}번째 : {}\\t\".format(idx, my_tuple[idx]), end=\"\")\n",
    "print()\n",
    "for idx, value in enumerate(my_tuple):\n",
    "    print('{}번째 : {}'.format(idx, value), end='\\t')"
   ]
  },
  {
   "cell_type": "code",
   "execution_count": 137,
   "id": "e43ac53a",
   "metadata": {},
   "outputs": [],
   "source": [
    "# for문을 이용한 딕셔너리 출력\n",
    "my_dic = {'name':'홍길동', 'age':30, 'tel':'010-9999-9999'}"
   ]
  },
  {
   "cell_type": "code",
   "execution_count": 142,
   "id": "503eae00",
   "metadata": {},
   "outputs": [
    {
     "name": "stdout",
     "output_type": "stream",
     "text": [
      "name:홍길동\tage:30\ttel:010-9999-9999\t"
     ]
    }
   ],
   "source": [
    "# 비추\n",
    "for key in my_dic:\n",
    "    print(\"{}:{}\".format(key, my_dic[key]), end='\\t')"
   ]
  },
  {
   "cell_type": "code",
   "execution_count": 143,
   "id": "d89ced5b",
   "metadata": {},
   "outputs": [
    {
     "name": "stdout",
     "output_type": "stream",
     "text": [
      "0 : name\n",
      "1 : age\n",
      "2 : tel\n"
     ]
    }
   ],
   "source": [
    "# 딕셔너리에서는 enumerate 사용에 의미가 없음\n",
    "for idx, value in enumerate(my_dic):\n",
    "    print('{} : {}'.format(idx, value))"
   ]
  },
  {
   "cell_type": "code",
   "execution_count": 144,
   "id": "80e803e1",
   "metadata": {},
   "outputs": [
    {
     "data": {
      "text/plain": [
       "dict_keys(['name', 'age', 'tel'])"
      ]
     },
     "execution_count": 144,
     "metadata": {},
     "output_type": "execute_result"
    }
   ],
   "source": [
    "my_dic.keys() # 키 목록"
   ]
  },
  {
   "cell_type": "code",
   "execution_count": 145,
   "id": "c747f98c",
   "metadata": {},
   "outputs": [
    {
     "data": {
      "text/plain": [
       "dict_values(['홍길동', 30, '010-9999-9999'])"
      ]
     },
     "execution_count": 145,
     "metadata": {},
     "output_type": "execute_result"
    }
   ],
   "source": [
    "my_dic.values() # 값들 목록"
   ]
  },
  {
   "cell_type": "code",
   "execution_count": 146,
   "id": "91dbbf5f",
   "metadata": {},
   "outputs": [
    {
     "data": {
      "text/plain": [
       "dict_items([('name', '홍길동'), ('age', 30), ('tel', '010-9999-9999')])"
      ]
     },
     "execution_count": 146,
     "metadata": {},
     "output_type": "execute_result"
    }
   ],
   "source": [
    "my_dic.items() # 키-값의 목록"
   ]
  },
  {
   "cell_type": "code",
   "execution_count": 147,
   "id": "44d355d5",
   "metadata": {},
   "outputs": [
    {
     "name": "stdout",
     "output_type": "stream",
     "text": [
      "홍길동\t30\t010-9999-9999\t"
     ]
    }
   ],
   "source": [
    "for value in my_dic.values():\n",
    "    print(value, end='\\t')"
   ]
  },
  {
   "cell_type": "code",
   "execution_count": 148,
   "id": "95761646",
   "metadata": {},
   "outputs": [
    {
     "name": "stdout",
     "output_type": "stream",
     "text": [
      "name : 홍길동\tage : 30\ttel : 010-9999-9999\t"
     ]
    }
   ],
   "source": [
    "for key, value in my_dic.items():\n",
    "    print(\"{} : {}\\t\".format(key, value), end='')"
   ]
  },
  {
   "cell_type": "code",
   "execution_count": 149,
   "id": "69ab2d92",
   "metadata": {},
   "outputs": [
    {
     "data": {
      "text/plain": [
       "True"
      ]
     },
     "execution_count": 149,
     "metadata": {},
     "output_type": "execute_result"
    }
   ],
   "source": [
    "# in 연산자\n",
    "t = (10, 20, 30)\n",
    "30 in t\n",
    "# list, tuple, set에서의 in연산자는 요소가 있는 여부 반환"
   ]
  },
  {
   "cell_type": "code",
   "execution_count": 150,
   "id": "395368a0",
   "metadata": {},
   "outputs": [
    {
     "data": {
      "text/plain": [
       "True"
      ]
     },
     "execution_count": 150,
     "metadata": {},
     "output_type": "execute_result"
    }
   ],
   "source": [
    "my_dic = {'name':'홍길동', 'age':30, 'tel':'010-9999-9999'}\n",
    "'name' in my_dic\n",
    "# 딕셔너리에서의 in연산자는 키가 있는 여부 반환"
   ]
  },
  {
   "cell_type": "code",
   "execution_count": 151,
   "id": "b419741e",
   "metadata": {},
   "outputs": [
    {
     "data": {
      "text/plain": [
       "False"
      ]
     },
     "execution_count": 151,
     "metadata": {},
     "output_type": "execute_result"
    }
   ],
   "source": [
    "'홍길동' in my_dic"
   ]
  },
  {
   "cell_type": "code",
   "execution_count": 155,
   "id": "73e6eddf",
   "metadata": {},
   "outputs": [
    {
     "name": "stdout",
     "output_type": "stream",
     "text": [
      "my_favorite의 주소 : 1828164867264\n",
      "new_favorite의 주소 : 1828164867264\n"
     ]
    }
   ],
   "source": [
    "# 얕은 복사\n",
    "my_favorite = {'fruit':'apple', 'number':12}\n",
    "new_favorite = my_favorite # 얕은 복사(할당)\n",
    "print('my_favorite의 주소 :', id(my_favorite))\n",
    "print('new_favorite의 주소 :', id(new_favorite))"
   ]
  },
  {
   "cell_type": "code",
   "execution_count": 153,
   "id": "61b1e2ab",
   "metadata": {},
   "outputs": [
    {
     "name": "stdout",
     "output_type": "stream",
     "text": [
      "원본 : {'fruit': '과일은 다 좋아. 하나를 어찌 선택해', 'number': 12, 'people': '홍길동'}\n",
      "수정본 : {'fruit': '과일은 다 좋아. 하나를 어찌 선택해', 'number': 12, 'people': '홍길동'}\n"
     ]
    }
   ],
   "source": [
    "new_favorite['fruit'] = '과일은 다 좋아. 하나를 어찌 선택해'\n",
    "new_favorite['people'] = '홍길동'\n",
    "print('원본 :', my_favorite)\n",
    "print('수정본 :', new_favorite)"
   ]
  },
  {
   "cell_type": "code",
   "execution_count": 157,
   "id": "17c8ac37",
   "metadata": {},
   "outputs": [
    {
     "name": "stdout",
     "output_type": "stream",
     "text": [
      "my_favorite의 주소 : 1828165076992\n",
      "new_favorite의 주소 : 1828165089728\n",
      "원본 : {'fruit': 'apple', 'number': 12}\n",
      "수정본 : {'fruit': '과일은 다 좋아. 하나를 어찌 선택해', 'number': 12, 'people': '홍길동'}\n"
     ]
    }
   ],
   "source": [
    "# 깊은 복사\n",
    "my_favorite = {'fruit':'apple', 'number':12}\n",
    "new_favorite = my_favorite.copy() # 깊은 복사(복제)\n",
    "print('my_favorite의 주소 :', id(my_favorite))\n",
    "print('new_favorite의 주소 :', id(new_favorite))\n",
    "new_favorite['fruit'] = '과일은 다 좋아. 하나를 어찌 선택해'\n",
    "new_favorite['people'] = '홍길동'\n",
    "print('원본 :', my_favorite)\n",
    "print('수정본 :', new_favorite)"
   ]
  },
  {
   "cell_type": "markdown",
   "id": "d2fce986",
   "metadata": {},
   "source": [
    "# 4절. 셋\n",
    "- 중복을 허용하지 않는 집합(순서x)\n",
    "- 중괄호({key' : 'value'})나 set()함수를 이용해서 셋 생성 : set([1,2]), set(('name' : '홍'))\n",
    "- 추가 : add(), update()\n",
    "- 집합연산자 : &-교집합, |합집합, -차집합\n",
    "- 삭제 : remove()"
   ]
  },
  {
   "cell_type": "code",
   "execution_count": 4,
   "id": "27b2188a",
   "metadata": {
    "ExecuteTime": {
     "end_time": "2024-11-07T01:05:51.661007Z",
     "start_time": "2024-11-07T01:05:51.656008Z"
    }
   },
   "outputs": [
    {
     "data": {
      "text/plain": [
       "{'apple', 'banana', 'orange'}"
      ]
     },
     "execution_count": 4,
     "metadata": {},
     "output_type": "execute_result"
    }
   ],
   "source": [
    "fruits = {'banana', 'orange', 'apple', 'apple'}\n",
    "fruits"
   ]
  },
  {
   "cell_type": "code",
   "execution_count": 5,
   "id": "dd7a4a27",
   "metadata": {
    "ExecuteTime": {
     "end_time": "2024-11-07T01:07:16.664894Z",
     "start_time": "2024-11-07T01:07:16.657897Z"
    }
   },
   "outputs": [
    {
     "data": {
      "text/plain": [
       "{1, 2, 3}"
      ]
     },
     "execution_count": 5,
     "metadata": {},
     "output_type": "execute_result"
    }
   ],
   "source": [
    "s1 = set([1, 2, 3, 1, 1, 1, 1, 1, 1])\n",
    "s1"
   ]
  },
  {
   "cell_type": "code",
   "execution_count": 10,
   "id": "872c7acd",
   "metadata": {
    "ExecuteTime": {
     "end_time": "2024-11-07T01:07:50.542801Z",
     "start_time": "2024-11-07T01:07:50.535803Z"
    }
   },
   "outputs": [
    {
     "data": {
      "text/plain": [
       "{1, 2, 3}"
      ]
     },
     "execution_count": 10,
     "metadata": {},
     "output_type": "execute_result"
    }
   ],
   "source": [
    "s2 = set((1, 2,  3, 1))\n",
    "s2"
   ]
  },
  {
   "cell_type": "code",
   "execution_count": 12,
   "id": "2864e2b2",
   "metadata": {
    "ExecuteTime": {
     "end_time": "2024-11-07T01:08:57.591843Z",
     "start_time": "2024-11-07T01:08:57.584846Z"
    }
   },
   "outputs": [
    {
     "data": {
      "text/plain": [
       "{'add', 'age', 'name'}"
      ]
     },
     "execution_count": 12,
     "metadata": {},
     "output_type": "execute_result"
    }
   ],
   "source": [
    "# set 함수를 이용해서 딕셔너리를 셋으로 전환할 때는 key만 적용\n",
    "s3 = set({'name' : '홍', 'age' : 33, 'add' : '서울' })\n",
    "s3"
   ]
  },
  {
   "cell_type": "markdown",
   "id": "cadd2fb5",
   "metadata": {},
   "source": [
    "## 추가하기\n",
    "- add() : 기본자료형, 튜플 데이터 하나 추가, list, dic, set 유형은 add()함수 사용 불가\n",
    "- update() : 리스트, 튜플, 딕셔너리, 셋 요소를 하나씩 따로 추가. dic 사용시 key만 적용\n",
    "        \n",
    "        cf. list의 extend()"
   ]
  },
  {
   "cell_type": "code",
   "execution_count": 13,
   "id": "d4d4766d",
   "metadata": {
    "ExecuteTime": {
     "end_time": "2024-11-07T01:14:17.132718Z",
     "start_time": "2024-11-07T01:14:17.124718Z"
    }
   },
   "outputs": [
    {
     "data": {
      "text/plain": [
       "{(6, 7, 8), 1, 2, 3, 4, 5}"
      ]
     },
     "execution_count": 13,
     "metadata": {},
     "output_type": "execute_result"
    }
   ],
   "source": [
    "s2.add(4)\n",
    "s2.add(5)\n",
    "s2.add((6,7,8))\n",
    "s2"
   ]
  },
  {
   "cell_type": "code",
   "execution_count": 14,
   "id": "044dd698",
   "metadata": {
    "ExecuteTime": {
     "end_time": "2024-11-07T01:15:07.124354Z",
     "start_time": "2024-11-07T01:15:07.117348Z"
    }
   },
   "outputs": [
    {
     "data": {
      "text/plain": [
       "{(6, 7, 8), 0, 1, 2, 3, 4, 5}"
      ]
     },
     "execution_count": 14,
     "metadata": {},
     "output_type": "execute_result"
    }
   ],
   "source": [
    "s2.add(0)\n",
    "s2"
   ]
  },
  {
   "cell_type": "code",
   "execution_count": 15,
   "id": "2587cbca",
   "metadata": {
    "ExecuteTime": {
     "end_time": "2024-11-07T01:16:40.297835Z",
     "start_time": "2024-11-07T01:16:40.290839Z"
    }
   },
   "outputs": [
    {
     "data": {
      "text/plain": [
       "{False, 1, 2, 3}"
      ]
     },
     "execution_count": 15,
     "metadata": {},
     "output_type": "execute_result"
    }
   ],
   "source": [
    "s2 = {1,2,3}\n",
    "s2.add(False)\n",
    "s2"
   ]
  },
  {
   "cell_type": "code",
   "execution_count": 16,
   "id": "91b0a2be",
   "metadata": {
    "ExecuteTime": {
     "end_time": "2024-11-07T01:19:01.569573Z",
     "start_time": "2024-11-07T01:19:01.562573Z"
    }
   },
   "outputs": [
    {
     "data": {
      "text/plain": [
       "{False, 1, 2, 3, 4, 5, 6}"
      ]
     },
     "execution_count": 16,
     "metadata": {},
     "output_type": "execute_result"
    }
   ],
   "source": [
    "s2.update((4,5,6))\n",
    "s2"
   ]
  },
  {
   "cell_type": "code",
   "execution_count": 18,
   "id": "f85ac0cf",
   "metadata": {
    "ExecuteTime": {
     "end_time": "2024-11-07T01:19:29.913293Z",
     "start_time": "2024-11-07T01:19:29.906295Z"
    }
   },
   "outputs": [
    {
     "data": {
      "text/plain": [
       "{1, 2, 3, 4, 5, 6, False, 'name'}"
      ]
     },
     "execution_count": 18,
     "metadata": {},
     "output_type": "execute_result"
    }
   ],
   "source": [
    "s2.update({'name' : '홍'})\n",
    "s2"
   ]
  },
  {
   "cell_type": "code",
   "execution_count": 19,
   "id": "70ebf3d5",
   "metadata": {
    "ExecuteTime": {
     "end_time": "2024-11-07T01:35:20.628511Z",
     "start_time": "2024-11-07T01:35:20.620515Z"
    }
   },
   "outputs": [
    {
     "data": {
      "text/plain": [
       "{1, 2, 3, 4}"
      ]
     },
     "execution_count": 19,
     "metadata": {},
     "output_type": "execute_result"
    }
   ],
   "source": [
    "# 삭제 : remove\n",
    "s1 = {1, 2, 3, 4, 1, 1}\n",
    "s1"
   ]
  },
  {
   "cell_type": "code",
   "execution_count": 20,
   "id": "545bf116",
   "metadata": {
    "ExecuteTime": {
     "end_time": "2024-11-07T01:35:28.128057Z",
     "start_time": "2024-11-07T01:35:28.122059Z"
    }
   },
   "outputs": [
    {
     "data": {
      "text/plain": [
       "{1, 3, 4}"
      ]
     },
     "execution_count": 20,
     "metadata": {},
     "output_type": "execute_result"
    }
   ],
   "source": [
    "s1.remove(2)\n",
    "s1"
   ]
  },
  {
   "cell_type": "code",
   "execution_count": 21,
   "id": "c13e4971",
   "metadata": {
    "ExecuteTime": {
     "end_time": "2024-11-07T01:35:39.457347Z",
     "start_time": "2024-11-07T01:35:39.434354Z"
    }
   },
   "outputs": [
    {
     "ename": "KeyError",
     "evalue": "9",
     "output_type": "error",
     "traceback": [
      "\u001b[1;31m---------------------------------------------------------------------------\u001b[0m",
      "\u001b[1;31mKeyError\u001b[0m                                  Traceback (most recent call last)",
      "Cell \u001b[1;32mIn[21], line 1\u001b[0m\n\u001b[1;32m----> 1\u001b[0m \u001b[43ms1\u001b[49m\u001b[38;5;241;43m.\u001b[39;49m\u001b[43mremove\u001b[49m\u001b[43m(\u001b[49m\u001b[38;5;241;43m9\u001b[39;49m\u001b[43m)\u001b[49m\n\u001b[0;32m      2\u001b[0m s1\n",
      "\u001b[1;31mKeyError\u001b[0m: 9"
     ]
    }
   ],
   "source": [
    "s1.remove(9)\n",
    "s1"
   ]
  },
  {
   "cell_type": "code",
   "execution_count": 23,
   "id": "adadfa09",
   "metadata": {
    "ExecuteTime": {
     "end_time": "2024-11-07T01:36:58.253542Z",
     "start_time": "2024-11-07T01:36:58.244548Z"
    }
   },
   "outputs": [
    {
     "name": "stdout",
     "output_type": "stream",
     "text": [
      "없다고\n"
     ]
    }
   ],
   "source": [
    "if 9 in s1:\n",
    "    s1.remove(9)\n",
    "else:\n",
    "    print('없다고')"
   ]
  },
  {
   "cell_type": "code",
   "execution_count": 24,
   "id": "a17b3687",
   "metadata": {
    "ExecuteTime": {
     "end_time": "2024-11-07T01:39:07.439238Z",
     "start_time": "2024-11-07T01:39:07.433240Z"
    }
   },
   "outputs": [],
   "source": [
    "def safe_remove(data, remove_item):\n",
    "    if remove_item in data:\n",
    "        data.remove(remove_item)\n",
    "    else:\n",
    "        print('해당 데이터는 없는 아이템입니다')"
   ]
  },
  {
   "cell_type": "code",
   "execution_count": 25,
   "id": "45b2e993",
   "metadata": {
    "ExecuteTime": {
     "end_time": "2024-11-07T01:39:19.421329Z",
     "start_time": "2024-11-07T01:39:19.417316Z"
    }
   },
   "outputs": [
    {
     "name": "stdout",
     "output_type": "stream",
     "text": [
      "해당 데이터는 없는 아이템입니다\n"
     ]
    }
   ],
   "source": [
    "safe_remove(s1, 9)"
   ]
  },
  {
   "cell_type": "code",
   "execution_count": 26,
   "id": "697242c0",
   "metadata": {
    "ExecuteTime": {
     "end_time": "2024-11-07T01:40:30.878915Z",
     "start_time": "2024-11-07T01:40:30.872917Z"
    }
   },
   "outputs": [
    {
     "data": {
      "text/plain": [
       "{1, 3, 4}"
      ]
     },
     "execution_count": 26,
     "metadata": {},
     "output_type": "execute_result"
    }
   ],
   "source": [
    "s1"
   ]
  },
  {
   "cell_type": "code",
   "execution_count": 27,
   "id": "3969ff3d",
   "metadata": {
    "ExecuteTime": {
     "end_time": "2024-11-07T01:41:25.207123Z",
     "start_time": "2024-11-07T01:41:25.200127Z"
    }
   },
   "outputs": [
    {
     "data": {
      "text/plain": [
       "{3, 4}"
      ]
     },
     "execution_count": 27,
     "metadata": {},
     "output_type": "execute_result"
    }
   ],
   "source": [
    "# 논리값 False는 0으로 삭제할 수 있으며, True는 1로 삭제할 수 있음\n",
    "# 논리값 0은 False로 삭제할 수 있으며, 1dms True로 삭제할 수 있음\n",
    "s1.remove(True)\n",
    "s1"
   ]
  },
  {
   "cell_type": "markdown",
   "id": "04e1b1a4",
   "metadata": {},
   "source": [
    "## 합집합(|), 교집합(&), 차집합(-)"
   ]
  },
  {
   "cell_type": "code",
   "execution_count": 31,
   "id": "4a586b1e",
   "metadata": {
    "ExecuteTime": {
     "end_time": "2024-11-07T01:44:42.622477Z",
     "start_time": "2024-11-07T01:44:42.615480Z"
    }
   },
   "outputs": [
    {
     "name": "stdout",
     "output_type": "stream",
     "text": [
      "s1 = {1, 2, 3, 4, 5}\n",
      "s2 = {3, 4, 5, 6, 7}\n",
      "s1|s2 = {1, 2, 3, 4, 5, 6, 7}\n",
      "s1&s2 = {3, 4, 5}\n",
      "s1-s2 = {1, 2}\n"
     ]
    }
   ],
   "source": [
    "s1 = {1, 2, 3, 4, 5}\n",
    "s2 = {3, 4, 5, 6, 7}\n",
    "print('s1 =', s1)\n",
    "print('s2 =', s2)\n",
    "print('s1|s2 =', s1|s2 )\n",
    "print('s1&s2 =', s1&s2 )\n",
    "print('s1-s2 =', s1-s2 )"
   ]
  },
  {
   "cell_type": "code",
   "execution_count": 33,
   "id": "554f3772",
   "metadata": {
    "ExecuteTime": {
     "end_time": "2024-11-07T01:45:36.507831Z",
     "start_time": "2024-11-07T01:45:36.502832Z"
    }
   },
   "outputs": [
    {
     "name": "stdout",
     "output_type": "stream",
     "text": [
      "{'길자', '길동', '순자'}\n"
     ]
    }
   ],
   "source": [
    "names = {'길자', '순자', '길동'}\n",
    "print(names)"
   ]
  },
  {
   "cell_type": "markdown",
   "id": "6b2f6017",
   "metadata": {},
   "source": [
    "# 5절. enumerate\n",
    "- 반복자 또는 순서 객체로 반복문을 처리할 때 사용하는 함수\n",
    "- 리스트, 튜플, 셋을 for문에 사용시"
   ]
  },
  {
   "cell_type": "code",
   "execution_count": 34,
   "id": "dd4575c1",
   "metadata": {
    "ExecuteTime": {
     "end_time": "2024-11-07T01:51:43.082789Z",
     "start_time": "2024-11-07T01:51:43.075791Z"
    }
   },
   "outputs": [
    {
     "data": {
      "text/plain": [
       "[(0, '길자'), (1, '길동'), (2, '순자')]"
      ]
     },
     "execution_count": 34,
     "metadata": {},
     "output_type": "execute_result"
    }
   ],
   "source": [
    "list(enumerate(names))"
   ]
  },
  {
   "cell_type": "code",
   "execution_count": 35,
   "id": "ba784a19",
   "metadata": {
    "ExecuteTime": {
     "end_time": "2024-11-07T01:52:31.601899Z",
     "start_time": "2024-11-07T01:52:31.595901Z"
    }
   },
   "outputs": [
    {
     "name": "stdout",
     "output_type": "stream",
     "text": [
      "0.길자\t1.길동\t2.순자\t"
     ]
    }
   ],
   "source": [
    "for no, name in enumerate(names):\n",
    "    print(\"{}.{}\".format(no,name), end='\\t')"
   ]
  },
  {
   "cell_type": "code",
   "execution_count": 40,
   "id": "4b7d9e58",
   "metadata": {
    "ExecuteTime": {
     "end_time": "2024-11-07T01:56:42.616728Z",
     "start_time": "2024-11-07T01:56:42.610705Z"
    }
   },
   "outputs": [
    {
     "name": "stdout",
     "output_type": "stream",
     "text": [
      "1. 순자\n",
      "2. 길동\n",
      "3. 길자\n"
     ]
    }
   ],
   "source": [
    "names = ['순자', '길동', '길자']\n",
    "\n",
    "for idx, name in enumerate(names):\n",
    "    print(\"{}. {}\".format(idx+1, name))\n",
    "    "
   ]
  },
  {
   "cell_type": "code",
   "execution_count": 48,
   "id": "ff459d69",
   "metadata": {
    "ExecuteTime": {
     "end_time": "2024-11-07T02:04:35.885138Z",
     "start_time": "2024-11-07T02:04:35.878144Z"
    }
   },
   "outputs": [
    {
     "name": "stdout",
     "output_type": "stream",
     "text": [
      "1.순자의 연락처는 010-9999-9999이고 서울에 살아요\n",
      "2.길동의 연락처는 010-8888-8888이고 인천에 살아요\n",
      "3.길자의 연락처는 010-7777-7777이고 판교에 살아요\n"
     ]
    }
   ],
   "source": [
    "names = ['순자', '길동', '길자']\n",
    "tels = ['010-9999-9999', '010-8888-8888', '010-7777-7777']\n",
    "adds = ['서울', '인천', '판교']\n",
    "for idx in range(len(names)):\n",
    "   print(\"{}.{}의 연락처는 {}이고 {}에 살아요\".format(idx+1, names[idx], \\\n",
    "                                           tels[idx], adds[idx])) "
   ]
  },
  {
   "cell_type": "code",
   "execution_count": 124,
   "id": "9c79f03d",
   "metadata": {
    "ExecuteTime": {
     "end_time": "2024-11-07T08:55:11.271658Z",
     "start_time": "2024-11-07T08:55:11.266658Z"
    }
   },
   "outputs": [
    {
     "name": "stdout",
     "output_type": "stream",
     "text": [
      "홍\n",
      "33\n",
      "신림\n",
      "name:홍\n",
      "age:33\n",
      "add:신림\n"
     ]
    }
   ],
   "source": [
    "my_dic = {'name' : '홍', 'age' : 33, 'add' : '신림'}\n",
    "for data in my_dic.values():\n",
    "    print(data)\n",
    "for key, value in my_dic.items():\n",
    "    print(\"{}:{}\".format(key,value))"
   ]
  },
  {
   "cell_type": "code",
   "execution_count": 52,
   "id": "78a611cc",
   "metadata": {
    "ExecuteTime": {
     "end_time": "2024-11-07T02:11:52.763199Z",
     "start_time": "2024-11-07T02:11:52.755202Z"
    }
   },
   "outputs": [
    {
     "data": {
      "text/plain": [
       "[(0, ('name', '홍')), (1, ('age', 33)), (2, ('add', '신림'))]"
      ]
     },
     "execution_count": 52,
     "metadata": {},
     "output_type": "execute_result"
    }
   ],
   "source": [
    "list(enumerate(my_dic.items()))"
   ]
  },
  {
   "cell_type": "code",
   "execution_count": 127,
   "id": "ae73480d",
   "metadata": {
    "ExecuteTime": {
     "end_time": "2024-11-07T08:55:35.290792Z",
     "start_time": "2024-11-07T08:55:35.284797Z"
    }
   },
   "outputs": [
    {
     "name": "stdout",
     "output_type": "stream",
     "text": [
      "1. name : 홍\n",
      "2. age : 33\n",
      "3. add : 신림\n"
     ]
    }
   ],
   "source": [
    "for idx, (key, value) in enumerate(my_dic.items()):\n",
    "    print(\"{}. {} : {}\".format(idx+1, key, value))"
   ]
  },
  {
   "cell_type": "code",
   "execution_count": 128,
   "id": "6a88dd46",
   "metadata": {
    "ExecuteTime": {
     "end_time": "2024-11-07T08:55:58.726117Z",
     "start_time": "2024-11-07T08:55:58.721119Z"
    }
   },
   "outputs": [
    {
     "name": "stdout",
     "output_type": "stream",
     "text": [
      "1: 홍\n",
      "2: 33\n",
      "3: 신림\n"
     ]
    }
   ],
   "source": [
    "for idx, value in enumerate(my_dic.values()):\n",
    "    print(\"{}: {}\".format(idx+1, value))"
   ]
  },
  {
   "cell_type": "markdown",
   "id": "3a28fc2b",
   "metadata": {},
   "source": [
    "# 연습문제"
   ]
  },
  {
   "cell_type": "code",
   "execution_count": 110,
   "id": "848e8f00",
   "metadata": {
    "ExecuteTime": {
     "end_time": "2024-11-07T03:02:11.410705Z",
     "start_time": "2024-11-07T03:02:11.406707Z"
    },
    "code_folding": [
     0
    ]
   },
   "outputs": [],
   "source": [
    "# 다음리스트가 주어졌을 경우 요구사항대로 코드를 작성하시오\n",
    "numbers=[1,2,3,4,5,6,7,8,9,10]"
   ]
  },
  {
   "cell_type": "code",
   "execution_count": 66,
   "id": "491fe6d4",
   "metadata": {
    "ExecuteTime": {
     "end_time": "2024-11-07T02:24:12.021450Z",
     "start_time": "2024-11-07T02:24:12.014453Z"
    }
   },
   "outputs": [
    {
     "data": {
      "text/plain": [
       "[1, 2, 3, 4, 5, 6, 7, 8, 9, 10, 100]"
      ]
     },
     "execution_count": 66,
     "metadata": {},
     "output_type": "execute_result"
    }
   ],
   "source": [
    "# 1. 숫자 100을 맨 뒤에 추가하시오\n",
    "numbers.append(100)\n",
    "numbers"
   ]
  },
  {
   "cell_type": "code",
   "execution_count": 64,
   "id": "9d6f57b5",
   "metadata": {
    "ExecuteTime": {
     "end_time": "2024-11-07T02:21:30.469354Z",
     "start_time": "2024-11-07T02:21:30.462357Z"
    }
   },
   "outputs": [
    {
     "data": {
      "text/plain": [
       "[1, 2, 3, 4, 5, 6, 7, 8, 9, 10, 200, 300, 400, 500]"
      ]
     },
     "execution_count": 64,
     "metadata": {},
     "output_type": "execute_result"
    }
   ],
   "source": [
    "# 2.다음 리스트를 numbers리스트 맨 뒤에 추가하세요\n",
    "numbers=[1,2,3,4,5,6,7,8,9,10]\n",
    "data = [200,300,400,500]\n",
    "numbers.extend(data)\n",
    "\n",
    "numbers"
   ]
  },
  {
   "cell_type": "code",
   "execution_count": 72,
   "id": "7dc18499",
   "metadata": {
    "ExecuteTime": {
     "end_time": "2024-11-07T02:27:27.770350Z",
     "start_time": "2024-11-07T02:27:27.765350Z"
    }
   },
   "outputs": [
    {
     "name": "stdout",
     "output_type": "stream",
     "text": [
      "[1, 2, 3, 4, 5]\n"
     ]
    }
   ],
   "source": [
    "# 3. 처음 다섯 개 숫자만 출력하세요\n",
    "numbers=[1,2,3,4,5,6,7,8,9,10,100,200,300,400,500]\n",
    "print(numbers[:5])"
   ]
  },
  {
   "cell_type": "code",
   "execution_count": 73,
   "id": "de7614b6",
   "metadata": {
    "ExecuteTime": {
     "end_time": "2024-11-07T02:29:08.690304Z",
     "start_time": "2024-11-07T02:29:08.684306Z"
    }
   },
   "outputs": [
    {
     "data": {
      "text/plain": [
       "[2, 4, 6, 8, 10, 100, 200, 300, 400, 500]"
      ]
     },
     "execution_count": 73,
     "metadata": {},
     "output_type": "execute_result"
    }
   ],
   "source": [
    "# 4. 리스트에서 짝수 번째 데이터만 출력하세요\n",
    "[data for data in numbers if data%2==0]"
   ]
  },
  {
   "cell_type": "code",
   "execution_count": 83,
   "id": "fb2ec254",
   "metadata": {
    "ExecuteTime": {
     "end_time": "2024-11-07T02:33:16.648101Z",
     "start_time": "2024-11-07T02:33:16.642104Z"
    }
   },
   "outputs": [
    {
     "name": "stdout",
     "output_type": "stream",
     "text": [
      "[0, 2, 0, 4, 0, 6, 0, 8, 0, 10, 0, 200, 0, 400, 0]\n"
     ]
    }
   ],
   "source": [
    "# 5.짝수번째 데이터를 모두 0으로 바꾸세요\n",
    "numbers=[1,2,3,4,5,6,7,8,9,10,100,200,300,400,500]\n",
    "for i in range(0, len(numbers), 2):\n",
    "    numbers[i] = 0\n",
    "print(numbers)"
   ]
  },
  {
   "cell_type": "code",
   "execution_count": 89,
   "id": "08ae1542",
   "metadata": {
    "ExecuteTime": {
     "end_time": "2024-11-07T02:37:01.023626Z",
     "start_time": "2024-11-07T02:37:01.016628Z"
    }
   },
   "outputs": [
    {
     "data": {
      "text/plain": [
       "[0, 400, 0, 200, 0, 10, 0, 8, 0, 6, 0, 4, 0, 2, 0]"
      ]
     },
     "execution_count": 89,
     "metadata": {},
     "output_type": "execute_result"
    }
   ],
   "source": [
    "# 6. 데이터를 역순으로 나열하세요(내림차순 정렬이 아닙니다)\n",
    "numbers.reverse()\n",
    "numbers"
   ]
  },
  {
   "cell_type": "code",
   "execution_count": 88,
   "id": "f398bac3",
   "metadata": {
    "ExecuteTime": {
     "end_time": "2024-11-07T02:35:14.158623Z",
     "start_time": "2024-11-07T02:35:14.153623Z"
    }
   },
   "outputs": [],
   "source": [
    "# 다음 딕셔너리 데이터가 주어졌을 경우 요구사항대로 코드를 작성하세요.\n",
    "member_info = {\"name\":\"홍길동\", \"age\":20, \"address\":\"서울시 마포구\", \"score\":90}"
   ]
  },
  {
   "cell_type": "code",
   "execution_count": 92,
   "id": "e296b714",
   "metadata": {
    "ExecuteTime": {
     "end_time": "2024-11-07T02:38:50.684717Z",
     "start_time": "2024-11-07T02:38:50.679717Z"
    }
   },
   "outputs": [
    {
     "name": "stdout",
     "output_type": "stream",
     "text": [
      "서울시 마포구\n"
     ]
    }
   ],
   "source": [
    "# 7. address값을 출력하세요\n",
    "print(member_info['address'])"
   ]
  },
  {
   "cell_type": "code",
   "execution_count": 96,
   "id": "33c2a320",
   "metadata": {
    "ExecuteTime": {
     "end_time": "2024-11-07T02:40:44.789350Z",
     "start_time": "2024-11-07T02:40:44.782352Z"
    }
   },
   "outputs": [
    {
     "name": "stdout",
     "output_type": "stream",
     "text": [
      "90\n"
     ]
    },
    {
     "data": {
      "text/plain": [
       "{'name': '홍길동', 'age': 20, 'address': '서울시 마포구'}"
      ]
     },
     "execution_count": 96,
     "metadata": {},
     "output_type": "execute_result"
    }
   ],
   "source": [
    "# 8. score 를 출력하고 member_info 딕셔너리에서 삭제하세요.\n",
    "print(member_info['score'])\n",
    "del member_info['score']\n",
    "member_info"
   ]
  },
  {
   "cell_type": "code",
   "execution_count": 99,
   "id": "ace97ead",
   "metadata": {
    "ExecuteTime": {
     "end_time": "2024-11-07T02:43:06.132065Z",
     "start_time": "2024-11-07T02:43:06.126067Z"
    }
   },
   "outputs": [
    {
     "data": {
      "text/plain": [
       "{'name': '홍길동', 'age': 20, 'address': '서울시 서대문구'}"
      ]
     },
     "execution_count": 99,
     "metadata": {},
     "output_type": "execute_result"
    }
   ],
   "source": [
    "# 9. Address를 “서울시 서대문구”로 변경하세요.\n",
    "member_info['address'] = '서울시 서대문구'\n",
    "member_info"
   ]
  },
  {
   "cell_type": "code",
   "execution_count": 102,
   "id": "284b569e",
   "metadata": {
    "ExecuteTime": {
     "end_time": "2024-11-07T02:46:04.520647Z",
     "start_time": "2024-11-07T02:46:04.516648Z"
    }
   },
   "outputs": [
    {
     "name": "stdout",
     "output_type": "stream",
     "text": [
      "[('name', '홍길동'), ('age', 20), ('address', '서울시 서대문구')]\n"
     ]
    }
   ],
   "source": [
    "# 10. member_info 딕셔너리 데이터의 값을 리스트로 출력하세요\n",
    "member_info_list = list(member_info.items())\n",
    "print(member_info_list)"
   ]
  },
  {
   "cell_type": "code",
   "execution_count": 106,
   "id": "bcc57741",
   "metadata": {
    "ExecuteTime": {
     "end_time": "2024-11-07T02:58:05.302299Z",
     "start_time": "2024-11-07T02:58:05.296301Z"
    }
   },
   "outputs": [
    {
     "name": "stdout",
     "output_type": "stream",
     "text": [
      "['orange', 'banana']\n"
     ]
    }
   ],
   "source": [
    "# 1.다음 코드를 실행했을 때 출력되는 것은?\n",
    "L1 = (\"orange\",\"apple\",\"banana\",\"kiwi\")\n",
    "new_list = [i for i in L1 if len(i)>5]\n",
    "print(new_list)"
   ]
  },
  {
   "cell_type": "code",
   "execution_count": null,
   "id": "65d16451",
   "metadata": {},
   "outputs": [],
   "source": [
    "# 2. 다음 코드와 실행결과가 잘못 짝지어진 것은?\n",
    "# ①   print(list(range(10)))           - [0,1,2,3,4,5,6,7,8,9]\n",
    "# ②   print(list(range(5,10)))        - [5,6,7,8,9]\n",
    "# ③   print(list(range(10,0,-1)))  - [9,8,7,6,5,4,3,2,1,0]\n",
    "# ④   print(list(range(10,20,2))) – [10,12,14,16,18]\n",
    "\n",
    "# 정답: 3"
   ]
  },
  {
   "cell_type": "code",
   "execution_count": 107,
   "id": "acf7f7f5",
   "metadata": {
    "ExecuteTime": {
     "end_time": "2024-11-07T03:00:19.429376Z",
     "start_time": "2024-11-07T03:00:19.422379Z"
    }
   },
   "outputs": [
    {
     "name": "stdout",
     "output_type": "stream",
     "text": [
      "[0, 1, 2, 3, 4, 5, 6, 7, 8, 9]\n",
      "[5, 6, 7, 8, 9]\n",
      "[10, 9, 8, 7, 6, 5, 4, 3, 2, 1]\n",
      "[10, 12, 14, 16, 18]\n"
     ]
    }
   ],
   "source": [
    "# 2번 해석\n",
    "print(list(range(10)))\n",
    "print(list(range(5,10)))\n",
    "print(list(range(10,0,-1)))\n",
    "print(list(range(10,20,2)))"
   ]
  },
  {
   "cell_type": "code",
   "execution_count": 108,
   "id": "0c7e16d3",
   "metadata": {
    "ExecuteTime": {
     "end_time": "2024-11-07T03:01:33.743040Z",
     "start_time": "2024-11-07T03:01:33.735043Z"
    }
   },
   "outputs": [
    {
     "data": {
      "text/plain": [
       "1"
      ]
     },
     "execution_count": 108,
     "metadata": {},
     "output_type": "execute_result"
    }
   ],
   "source": [
    "# 3. 다음 구문에 의해 출력되는 것은?\n",
    "numbers_2d = [ [1,2,3,4,5], [10,20,30,40],[1,3,5],[2,] ]\n",
    "len(numbers_2d[3])\n",
    "\n",
    "# 출력값 : 1"
   ]
  },
  {
   "cell_type": "code",
   "execution_count": 114,
   "id": "0eaf2834",
   "metadata": {
    "ExecuteTime": {
     "end_time": "2024-11-07T03:03:49.157696Z",
     "start_time": "2024-11-07T03:03:49.149700Z"
    }
   },
   "outputs": [
    {
     "data": {
      "text/plain": [
       "[1, 2, 3, 4, 5, 10, 20, 30, 40, 50]"
      ]
     },
     "execution_count": 114,
     "metadata": {},
     "output_type": "execute_result"
    }
   ],
   "source": [
    "# 4.다음 코드의 실행결과가 나올 수 있는 빈칸에 들어갈 함수 이름은?\n",
    "numbers = [1,2,3,4,5]\n",
    "numbers.extend([10,20,30,40,50])\n",
    "numbers"
   ]
  },
  {
   "cell_type": "code",
   "execution_count": 115,
   "id": "69cd162a",
   "metadata": {
    "ExecuteTime": {
     "end_time": "2024-11-07T03:05:06.671314Z",
     "start_time": "2024-11-07T03:05:06.666315Z"
    }
   },
   "outputs": [
    {
     "name": "stdout",
     "output_type": "stream",
     "text": [
      "[0, 1, 0, 3, 0, 5, 0, 7, 0, 9]\n"
     ]
    }
   ],
   "source": [
    "# 5.다음 구문을 실행할 때 결과는 ?\n",
    "numbers = list(range(10))\n",
    "numbers[ : : 2]= [0] * len(numbers[ : : 2])\n",
    "print(numbers)"
   ]
  },
  {
   "cell_type": "code",
   "execution_count": 116,
   "id": "669f1701",
   "metadata": {
    "ExecuteTime": {
     "end_time": "2024-11-07T03:05:26.849706Z",
     "start_time": "2024-11-07T03:05:26.843707Z"
    }
   },
   "outputs": [
    {
     "name": "stdout",
     "output_type": "stream",
     "text": [
      "[5, 1, 6, 3, 7, 5, 8, 7, 9, 9]\n"
     ]
    }
   ],
   "source": [
    "# 6.다음 구문을 실행할 때 결과는 ?\n",
    "numbers = [0,1,2,3,4,5,6,7,8,9]\n",
    "numbers[ : : 2]= numbers[5:]\n",
    "print(numbers)\n",
    "\n",
    "#실행 값:[5, 1, 6, 3, 7, 5, 8, 7, 9, 9]"
   ]
  },
  {
   "cell_type": "code",
   "execution_count": 117,
   "id": "92829711",
   "metadata": {
    "ExecuteTime": {
     "end_time": "2024-11-07T03:05:46.618232Z",
     "start_time": "2024-11-07T03:05:46.612234Z"
    },
    "scrolled": true
   },
   "outputs": [
    {
     "name": "stdout",
     "output_type": "stream",
     "text": [
      "[0, 1, 1, 3, 2, 5, 3, 7, 4, 9]\n"
     ]
    }
   ],
   "source": [
    "# 7.다음 구문을 실행할 때 결과는 ?\n",
    "numbers = [0, 1, 2, 3, 4, 5, 6, 7, 8, 9]\n",
    "numbers[ : : 2]= numbers[:5]\n",
    "print(numbers)\n",
    "\n",
    "# 실행 값:[0, 1, 1, 3, 2, 5, 3, 7, 4, 9]"
   ]
  },
  {
   "cell_type": "code",
   "execution_count": null,
   "id": "7a314941",
   "metadata": {},
   "outputs": [],
   "source": [
    "# 8.다음 데이터에서 10을 출력할 수 없는 구문은?\n",
    "# my_dic = {“a”:10, “b”:20, “c”:30}\n",
    "# ① my_dic[0]\n",
    "# ② my_dic[‘a’]\n",
    "# ③ list(my_dic.items())[0][1]\n",
    "# ④ list(my_dic.values())[0] \n",
    "# ⑤ my_dic.get(‘a’)\n",
    "\n",
    "# 정답 : 1"
   ]
  },
  {
   "cell_type": "code",
   "execution_count": 120,
   "id": "289ccb6a",
   "metadata": {
    "ExecuteTime": {
     "end_time": "2024-11-07T03:08:58.000560Z",
     "start_time": "2024-11-07T03:08:57.994563Z"
    }
   },
   "outputs": [
    {
     "name": "stdout",
     "output_type": "stream",
     "text": [
      "apple\n",
      "banana\n",
      "orange\n"
     ]
    }
   ],
   "source": [
    "# 9.다음 프로그램의 결과를 출력하시오\n",
    "fruits = ['apple', 'banana', 'orange']\n",
    "x, y, z = fruits\n",
    "print(x)\n",
    "print(y)\n",
    "print(z)\n",
    "\n",
    "# 출력값 : apple banana orange"
   ]
  },
  {
   "cell_type": "code",
   "execution_count": 122,
   "id": "25ce2a60",
   "metadata": {
    "ExecuteTime": {
     "end_time": "2024-11-07T03:09:49.135814Z",
     "start_time": "2024-11-07T03:09:49.129816Z"
    }
   },
   "outputs": [
    {
     "name": "stdout",
     "output_type": "stream",
     "text": [
      "3\n"
     ]
    }
   ],
   "source": [
    "# 10.다음 프로그램의 결과를 출력하시오\n",
    "fruits = ['apple', 'banana', 'orange']\n",
    "print(len(fruits))\n",
    "\n",
    "# 출력값 : 3"
   ]
  },
  {
   "cell_type": "code",
   "execution_count": null,
   "id": "8369d892",
   "metadata": {},
   "outputs": [],
   "source": [
    "# 11.파이썬에서 함수를 만들기 위해 선언하는 단어는?\n",
    "\n",
    "# 정답 : def"
   ]
  },
  {
   "cell_type": "code",
   "execution_count": null,
   "id": "a303311a",
   "metadata": {},
   "outputs": [],
   "source": []
  }
 ],
 "metadata": {
  "kernelspec": {
   "display_name": "Python 3 (ipykernel)",
   "language": "python",
   "name": "python3"
  },
  "language_info": {
   "codemirror_mode": {
    "name": "ipython",
    "version": 3
   },
   "file_extension": ".py",
   "mimetype": "text/x-python",
   "name": "python",
   "nbconvert_exporter": "python",
   "pygments_lexer": "ipython3",
   "version": "3.10.9"
  },
  "toc": {
   "base_numbering": 1,
   "nav_menu": {},
   "number_sections": false,
   "sideBar": true,
   "skip_h1_title": false,
   "title_cell": "Table of Contents",
   "title_sidebar": "Contents",
   "toc_cell": false,
   "toc_position": {
    "height": "calc(100% - 180px)",
    "left": "10px",
    "top": "150px",
    "width": "165px"
   },
   "toc_section_display": true,
   "toc_window_display": true
  }
 },
 "nbformat": 4,
 "nbformat_minor": 5
}
