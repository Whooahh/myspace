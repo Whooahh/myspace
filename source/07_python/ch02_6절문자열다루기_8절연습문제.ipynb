{
 "cells": [
  {
   "cell_type": "code",
   "execution_count": 2,
   "id": "d24ee236",
   "metadata": {},
   "outputs": [
    {
     "data": {
      "text/html": [
       "\n",
       "<style>\n",
       "div.container{width:99% !important;}\n",
       "div.cell.code_cell.rendered{width:85%;}\n",
       "div.CodeMirror {font-family:Consolas; font-size:20pt;}\n",
       "div.output {font-size:20pt; font-weight:bold;}\n",
       "div.input {font-family:Consolas; font-size:20pt;}\n",
       "div.prompt {min-width:70px;}\n",
       "div#toc-wrapper{padding-top:120px;}\n",
       "span.toc-item-num{display:none;}\n",
       "div.text_cell_render ul li{font-size:16pt;padding:5px;}\n",
       "</style>\n"
      ],
      "text/plain": [
       "<IPython.core.display.HTML object>"
      ]
     },
     "metadata": {},
     "output_type": "display_data"
    }
   ],
   "source": [
    "from IPython.display import display, HTML\n",
    "display(HTML(\"\"\"\n",
    "<style>\n",
    "div.container{width:99% !important;}\n",
    "div.cell.code_cell.rendered{width:85%;}\n",
    "div.CodeMirror {font-family:Consolas; font-size:20pt;}\n",
    "div.output {font-size:20pt; font-weight:bold;}\n",
    "div.input {font-family:Consolas; font-size:20pt;}\n",
    "div.prompt {min-width:70px;}\n",
    "div#toc-wrapper{padding-top:120px;}\n",
    "span.toc-item-num{display:none;}\n",
    "div.text_cell_render ul li{font-size:16pt;padding:5px;}\n",
    "</style>\n",
    "\"\"\"))"
   ]
  },
  {
   "cell_type": "markdown",
   "id": "f4c1b3d0",
   "metadata": {},
   "source": [
    "<b><font size=\"6\" color=\"red\">ch02. 자료형과 연산자</font></b>"
   ]
  },
  {
   "cell_type": "markdown",
   "id": "faf2b4f2",
   "metadata": {},
   "source": [
    "# 6절. 문자열 다루기\n",
    "- 문자열슬라이싱변수[from:to:by]\n",
    "- len(문자열변수)\n",
    "- upper() : 대문자로\n",
    "- lower() : 소문자로\n",
    "- title() : 각 어절의 앞글자만 대문자로\n",
    "- capitalize() : 첫문자만 대문자로\n",
    "- count('찾을문자열') : '찾을문자열'이 몇개 들어있는지 갯수 반환\n",
    "- find('찾을문자열') : '찾을문자열'이 왼쪽부터 시작하여 몇번째에 있는지 index를 반환\n",
    "- rfind('찾을문자열') : '찾을문자열'이 오른쪽부터 시작하여 몇번째에 있는지 index를 반환\n",
    "            (찾을문자열이 없으면 -1을 반환)\n",
    "    cf. index('찾을문자열') : '찾을문자열'이 왼쪽부터 시작하여 몇번째 있는지 index를 반환\n",
    "            (찾을 문자열이 없으면 오류)\n",
    "- startswith('특정문자열') : '특정문자열'로 시작하는지 여부 반환\n",
    "- endswith('특정문자열') : '특정문자열'로 끝나는지 여부 반환\n",
    "- strip() : 좌우공백제거(trim)\n",
    "- rstrip() : 오른쪽 공백제거\n",
    "- lstrip() : 왼쪽 공백제거\n",
    "- split() : 문자열을 공백이나 다른 문자 기준으로 나누어 리스트로 반환\n",
    "- isdigit() : 문자열이 숫자 문자열인지 여부 반환\n",
    "- islower() : 문자열이 소문자인지 여부 반환\n",
    "- isupper() : 문자열이 대문자인지 여부 반환\n",
    "- replace(oldStr, newStr) : oldStr을 newStr을 변경"
   ]
  },
  {
   "cell_type": "code",
   "execution_count": 3,
   "id": "84fe026f",
   "metadata": {},
   "outputs": [
    {
     "data": {
      "text/plain": [
       "('python is easy. python is smart. python', 39)"
      ]
     },
     "execution_count": 3,
     "metadata": {},
     "output_type": "execute_result"
    }
   ],
   "source": [
    "temp = \"python is easy. python is smart. python\"\n",
    "temp, len(temp)"
   ]
  },
  {
   "cell_type": "code",
   "execution_count": 4,
   "id": "5ca1e65c",
   "metadata": {},
   "outputs": [
    {
     "name": "stdout",
     "output_type": "stream",
     "text": [
      "첫번째 글자는 p이고, 마지막 글자는 n입니다\n"
     ]
    }
   ],
   "source": [
    "print('첫번째 글자는 {}이고, 마지막 글자는 {}입니다'.format(temp[0], temp[-1]))"
   ]
  },
  {
   "cell_type": "code",
   "execution_count": 5,
   "id": "5ce3b589",
   "metadata": {},
   "outputs": [
    {
     "name": "stdout",
     "output_type": "stream",
     "text": [
      "전화번호 끝자리 : 2132\n"
     ]
    }
   ],
   "source": [
    "tel = \"010-7894-2132\"\n",
    "print('전화번호 끝자리 :', tel[-4:])"
   ]
  },
  {
   "cell_type": "code",
   "execution_count": 29,
   "id": "845fb672",
   "metadata": {},
   "outputs": [
    {
     "name": "stdout",
     "output_type": "stream",
     "text": [
      "대문자로 : PYTHON IS EASY. PYTHON IS SMART. PYTHON\n",
      "소문자로 : python is easy. python is smart. python\n",
      "title() : Python Is Easy. Python Is Smart. Python\n",
      "capitalize(): Python is easy. python is smart. python\n",
      "python이 몇번 나오는지 : 2\n",
      "대소문자 구분없이 python이 몇번 나오는지 : 3\n",
      "대소문자 구분없이 python이 몇번 나오는지 : 3\n",
      "대소문자 구분없이 python이 몇번 나오는지 : 3\n",
      "python이 나오는 첫index 위치 : 0\n",
      "python이 나오는 마지막index 위치 : 33\n",
      "Java가 나오는 첫 index 위치 : -1\n",
      "python이 나오는 첫index 위치 : 0\n",
      "python으로 시작하는 문자열인지 : False\n",
      "python으로 끝나는 문자열인지 : True\n",
      "python대신 R로 변경 : R is easy. R is SMART. R\n"
     ]
    }
   ],
   "source": [
    "temp = \"python is easy. pyTHon is SMART. python\"\n",
    "#       012345678901234567890123456789012345678\n",
    "print('대문자로 :', temp.upper())\n",
    "print('소문자로 :', temp.lower())\n",
    "print('title() :', temp.title())\n",
    "print('capitalize():', temp.capitalize())\n",
    "print('python이 몇번 나오는지 :', temp.count('python'))\n",
    "print('대소문자 구분없이 python이 몇번 나오는지 :', temp.upper().count('PYTHON'))\n",
    "print('대소문자 구분없이 python이 몇번 나오는지 :', temp.lower().count('python'))\n",
    "print('대소문자 구분없이 python이 몇번 나오는지 :', temp.title().count('Python'))\n",
    "print('python이 나오는 첫index 위치 :', temp.find('python'))\n",
    "print('python이 나오는 마지막index 위치 :', temp.rfind('python'))\n",
    "print('Java가 나오는 첫 index 위치 :', temp.find('Java'))\n",
    "print('python이 나오는 첫index 위치 :', temp.index('python'))\n",
    "# print('Java가 나오는 첫 index 위치 :', temp.index('Java'))\n",
    "print('python으로 시작하는 문자열인지 :', temp.startswith('Python'))\n",
    "print('python으로 끝나는 문자열인지 :', temp.endswith('python'))\n",
    "print('python대신 R로 변경 :', temp.replace('python','R').replace('pyTHon', 'R'))"
   ]
  },
  {
   "cell_type": "code",
   "execution_count": 44,
   "id": "e7d52c7b",
   "metadata": {},
   "outputs": [
    {
     "name": "stdout",
     "output_type": "stream",
     "text": [
      "strip() : [python is easy]\n",
      "lstrip() : [python is easy    ]\n",
      "rstrip() : [   python is easy]\n",
      "isdigit() : True\n",
      "대문자인지 : False\n",
      "소문자인지 : True\n"
     ]
    }
   ],
   "source": [
    "temp = '   python is easy    '\n",
    "notdisit = '1,234'\n",
    "print('strip() : [{}]'.format(temp.strip()))\n",
    "print('lstrip() : [{}]'.format(temp.lstrip()))\n",
    "print('rstrip() : [{}]'.format(temp.rstrip()))\n",
    "print('isdigit() : {}'.format(notdisit.replace(',','').isdigit()))\n",
    "print('대문자인지 : {}'.format(temp.isupper()))\n",
    "print('소문자인지 : {}'.format(temp.islower()))"
   ]
  },
  {
   "cell_type": "code",
   "execution_count": 45,
   "id": "7c2f3c8f",
   "metadata": {},
   "outputs": [
    {
     "name": "stdout",
     "output_type": "stream",
     "text": [
      "space 단위로 temp를 분리(list로 반환) : ['홍길동', '김길동', '신길똥', '유길뚱']\n"
     ]
    }
   ],
   "source": [
    "temp = '   홍길동    김길동 신길똥 유길뚱'\n",
    "print('space 단위로 temp를 분리(list로 반환) :', temp.split())"
   ]
  },
  {
   "cell_type": "code",
   "execution_count": 47,
   "id": "a2bb23fa",
   "metadata": {},
   "outputs": [
    {
     "name": "stdout",
     "output_type": "stream",
     "text": [
      "- 단위로 date를 분리(list로 반환)합니다\n",
      "년 : 2024\n",
      "월 : 11\n",
      "일 : 05\n"
     ]
    }
   ],
   "source": [
    "date = '2024-11-05'\n",
    "print('- 단위로 date를 분리(list로 반환)합니다')\n",
    "date_list = date.split('-')\n",
    "date_list\n",
    "print('년 :', date_list[0])\n",
    "print('월 :', date_list[1])\n",
    "print('일 :', date_list[2])"
   ]
  },
  {
   "cell_type": "code",
   "execution_count": 54,
   "id": "d2cf848e",
   "metadata": {},
   "outputs": [
    {
     "name": "stdout",
     "output_type": "stream",
     "text": [
      "원 temp : Java - Oracle - 웹표준 - JSP - PYTHON\n",
      "분리된 temp : ['Java', 'Oracle', '웹표준', 'JSP', 'PYTHON']\n",
      "joined_temp : Java/Oracle/웹표준/JSP/PYTHON\n"
     ]
    }
   ],
   "source": [
    "# ' - '을 '/'로 바꾸기\n",
    "temp = 'Java - Oracle - 웹표준 - JSP - PYTHON'\n",
    "print('원 temp :', temp)\n",
    "splited_temp = temp.split(' - ')\n",
    "print('분리된 temp :', splited_temp)\n",
    "joined_temp = '/'.join(splited_temp)\n",
    "print('joined_temp :', joined_temp)"
   ]
  },
  {
   "cell_type": "code",
   "execution_count": 55,
   "id": "f76940fc",
   "metadata": {},
   "outputs": [
    {
     "name": "stdout",
     "output_type": "stream",
     "text": [
      "A\n",
      "B\n",
      "C\n"
     ]
    }
   ],
   "source": [
    "str_ = 'ABC' # ['A','B', 'C']\n",
    "for s in str_:\n",
    "    print(s)"
   ]
  },
  {
   "cell_type": "code",
   "execution_count": 56,
   "id": "d337c2e7",
   "metadata": {},
   "outputs": [
    {
     "name": "stdout",
     "output_type": "stream",
     "text": [
      "A\n",
      "B\n",
      "C\n"
     ]
    }
   ],
   "source": [
    "str_list = ['A','B','C']\n",
    "for s in str_list:\n",
    "    print(s)"
   ]
  },
  {
   "cell_type": "code",
   "execution_count": 57,
   "id": "ed15de8b",
   "metadata": {},
   "outputs": [
    {
     "data": {
      "text/plain": [
       "['__add__',\n",
       " '__class__',\n",
       " '__contains__',\n",
       " '__delattr__',\n",
       " '__dir__',\n",
       " '__doc__',\n",
       " '__eq__',\n",
       " '__format__',\n",
       " '__ge__',\n",
       " '__getattribute__',\n",
       " '__getitem__',\n",
       " '__getnewargs__',\n",
       " '__gt__',\n",
       " '__hash__',\n",
       " '__init__',\n",
       " '__init_subclass__',\n",
       " '__iter__',\n",
       " '__le__',\n",
       " '__len__',\n",
       " '__lt__',\n",
       " '__mod__',\n",
       " '__mul__',\n",
       " '__ne__',\n",
       " '__new__',\n",
       " '__reduce__',\n",
       " '__reduce_ex__',\n",
       " '__repr__',\n",
       " '__rmod__',\n",
       " '__rmul__',\n",
       " '__setattr__',\n",
       " '__sizeof__',\n",
       " '__str__',\n",
       " '__subclasshook__',\n",
       " 'capitalize',\n",
       " 'casefold',\n",
       " 'center',\n",
       " 'count',\n",
       " 'encode',\n",
       " 'endswith',\n",
       " 'expandtabs',\n",
       " 'find',\n",
       " 'format',\n",
       " 'format_map',\n",
       " 'index',\n",
       " 'isalnum',\n",
       " 'isalpha',\n",
       " 'isascii',\n",
       " 'isdecimal',\n",
       " 'isdigit',\n",
       " 'isidentifier',\n",
       " 'islower',\n",
       " 'isnumeric',\n",
       " 'isprintable',\n",
       " 'isspace',\n",
       " 'istitle',\n",
       " 'isupper',\n",
       " 'join',\n",
       " 'ljust',\n",
       " 'lower',\n",
       " 'lstrip',\n",
       " 'maketrans',\n",
       " 'partition',\n",
       " 'removeprefix',\n",
       " 'removesuffix',\n",
       " 'replace',\n",
       " 'rfind',\n",
       " 'rindex',\n",
       " 'rjust',\n",
       " 'rpartition',\n",
       " 'rsplit',\n",
       " 'rstrip',\n",
       " 'split',\n",
       " 'splitlines',\n",
       " 'startswith',\n",
       " 'strip',\n",
       " 'swapcase',\n",
       " 'title',\n",
       " 'translate',\n",
       " 'upper',\n",
       " 'zfill']"
      ]
     },
     "execution_count": 57,
     "metadata": {},
     "output_type": "execute_result"
    }
   ],
   "source": [
    "# 문자열을 다룰 수 있는 함수들 목록\n",
    "dir(str)"
   ]
  },
  {
   "cell_type": "markdown",
   "id": "706f0dd1",
   "metadata": {},
   "source": [
    "## 7절. 시간 날짜 다루기"
   ]
  },
  {
   "cell_type": "code",
   "execution_count": 6,
   "id": "2b6aa4bf",
   "metadata": {
    "ExecuteTime": {
     "end_time": "2024-11-06T00:57:33.764691Z",
     "start_time": "2024-11-06T00:57:33.758692Z"
    }
   },
   "outputs": [],
   "source": [
    "# datetime모듈(~.py)안의 datetime, date, time을 import\n",
    "from datetime import datetime, date, time"
   ]
  },
  {
   "cell_type": "markdown",
   "id": "8dbca3dc",
   "metadata": {},
   "source": [
    "### 7.1 시간과 날짜"
   ]
  },
  {
   "cell_type": "code",
   "execution_count": 7,
   "id": "487952a3",
   "metadata": {
    "ExecuteTime": {
     "end_time": "2024-11-06T00:58:17.338421Z",
     "start_time": "2024-11-06T00:58:17.326425Z"
    }
   },
   "outputs": [
    {
     "data": {
      "text/plain": [
       "datetime.datetime(2025, 3, 7, 18, 0)"
      ]
     },
     "execution_count": 7,
     "metadata": {},
     "output_type": "execute_result"
    }
   ],
   "source": [
    "# 특정 시점을 갖는 datetime 객체 생성\n",
    "thatday = datetime(2025, 3, 7, 18, 0)\n",
    "thatday"
   ]
  },
  {
   "cell_type": "code",
   "execution_count": 8,
   "id": "3e80c418",
   "metadata": {
    "ExecuteTime": {
     "end_time": "2024-11-06T00:58:26.032576Z",
     "start_time": "2024-11-06T00:58:26.021580Z"
    }
   },
   "outputs": [
    {
     "name": "stdout",
     "output_type": "stream",
     "text": [
      "Wed Nov  6 09:58:26 2024\n",
      "2024-11-06 09:58:26.024576\n",
      "2024년 11월 06일 AM 09시 58분\n",
      "24년11월06일 09시58분26초\n"
     ]
    }
   ],
   "source": [
    "# 지금을 지정하는 datetime 객체생성\n",
    "# 지금을 저장하는 datetime 객체 생성\n",
    "now = datetime.now()\n",
    "print(now.ctime()) # 사람이 읽기 쉬는 형태로 \n",
    "print(now)\n",
    "print(now.strftime(\"%Y년 %m월 %d일 %p %I시 %M분\"))\n",
    "print(\"{:%y년%m월%d일 %H시%M분%S초}\".format(now))"
   ]
  },
  {
   "cell_type": "markdown",
   "id": "404d203b",
   "metadata": {},
   "source": [
    "### 7.2 날짜"
   ]
  },
  {
   "cell_type": "code",
   "execution_count": 9,
   "id": "394e2e70",
   "metadata": {
    "ExecuteTime": {
     "end_time": "2024-11-06T00:58:52.365950Z",
     "start_time": "2024-11-06T00:58:52.357952Z"
    }
   },
   "outputs": [
    {
     "data": {
      "text/plain": [
       "datetime.date(2025, 3, 7)"
      ]
     },
     "execution_count": 9,
     "metadata": {},
     "output_type": "execute_result"
    }
   ],
   "source": [
    "# 특정한 날짜를 갖는 date 객체 생성\n",
    "someday = date(2025, 3, 7)\n",
    "someday"
   ]
  },
  {
   "cell_type": "code",
   "execution_count": 14,
   "id": "a13fc07c",
   "metadata": {
    "ExecuteTime": {
     "end_time": "2024-11-06T01:00:50.858150Z",
     "start_time": "2024-11-06T01:00:50.852161Z"
    }
   },
   "outputs": [
    {
     "name": "stdout",
     "output_type": "stream",
     "text": [
      "2025-03-07\n",
      "2025년03월07일\n",
      "2025년03월07일 00시00분\n"
     ]
    }
   ],
   "source": [
    "print(someday)\n",
    "print(someday.strftime(\"%Y년%m월%d일\"))\n",
    "print(\"{:%Y년%m월%d일 %H시%M분}\".format(someday))"
   ]
  },
  {
   "cell_type": "code",
   "execution_count": 15,
   "id": "8190481f",
   "metadata": {
    "ExecuteTime": {
     "end_time": "2024-11-06T01:03:56.907223Z",
     "start_time": "2024-11-06T01:03:56.901224Z"
    }
   },
   "outputs": [
    {
     "data": {
      "text/plain": [
       "datetime.date(2024, 11, 6)"
      ]
     },
     "execution_count": 15,
     "metadata": {},
     "output_type": "execute_result"
    }
   ],
   "source": [
    "# 오늘을 갖는 date 객체 생성\n",
    "today = date.today()\n",
    "today"
   ]
  },
  {
   "cell_type": "code",
   "execution_count": 16,
   "id": "1f4968b4",
   "metadata": {
    "ExecuteTime": {
     "end_time": "2024-11-06T01:04:03.234151Z",
     "start_time": "2024-11-06T01:04:03.228151Z"
    }
   },
   "outputs": [
    {
     "name": "stdout",
     "output_type": "stream",
     "text": [
      "2024-11-06\n",
      "2024년11월06일 00시00분\n",
      "2024년11월06일 00시00분\n"
     ]
    }
   ],
   "source": [
    "print(today)\n",
    "print(today.strftime(\"%Y년%m월%d일 %H시%M분\"))\n",
    "print(\"{:%Y년%m월%d일 %H시%M분}\".format(today))"
   ]
  },
  {
   "cell_type": "markdown",
   "id": "9dde94e3",
   "metadata": {},
   "source": [
    "### 7.3 시간"
   ]
  },
  {
   "cell_type": "code",
   "execution_count": 18,
   "id": "adf6ccd8",
   "metadata": {
    "ExecuteTime": {
     "end_time": "2024-11-06T01:04:30.833125Z",
     "start_time": "2024-11-06T01:04:30.826114Z"
    }
   },
   "outputs": [
    {
     "data": {
      "text/plain": [
       "datetime.time(13, 12)"
      ]
     },
     "execution_count": 18,
     "metadata": {},
     "output_type": "execute_result"
    }
   ],
   "source": [
    "# 특정한 시간을 저장하는 time 객체 생성\n",
    "t = time(13, 12)\n",
    "t"
   ]
  },
  {
   "cell_type": "code",
   "execution_count": 21,
   "id": "76c11e5b",
   "metadata": {
    "ExecuteTime": {
     "end_time": "2024-11-06T01:08:05.342867Z",
     "start_time": "2024-11-06T01:08:05.337872Z"
    }
   },
   "outputs": [
    {
     "name": "stdout",
     "output_type": "stream",
     "text": [
      "13:12:00\n",
      "1900년01월01일 PM 01시12분00초\n",
      "00년01월01일 13시12분00초\n"
     ]
    }
   ],
   "source": [
    "print(t)\n",
    "print(t.strftime(\"%Y년%m월%d일 %p %I시%M분%S초\"))\n",
    "print(t.strftime(\"{:%y년%m월%d일 %H시%M분%S초}\".format(t)))"
   ]
  },
  {
   "cell_type": "code",
   "execution_count": 197,
   "id": "4879a3a6",
   "metadata": {
    "ExecuteTime": {
     "end_time": "2024-11-06T01:09:53.428471Z",
     "start_time": "2024-11-06T01:09:53.420475Z"
    }
   },
   "outputs": [
    {
     "data": {
      "text/plain": [
       "(2024, 11, 6, 9, 53, 423474)"
      ]
     },
     "execution_count": 197,
     "metadata": {},
     "output_type": "execute_result"
    }
   ],
   "source": [
    "# 현재 시간을 저장하는 time 객체 생성\n",
    "now = datetime.now() # 현재 날짜와 현재 시간\n",
    "now.year, now.month, now.day, now.minute, now.second, now.microsecond"
   ]
  },
  {
   "cell_type": "code",
   "execution_count": 408,
   "id": "006125b5",
   "metadata": {
    "ExecuteTime": {
     "end_time": "2024-11-06T01:11:40.796313Z",
     "start_time": "2024-11-06T01:11:40.789315Z"
    }
   },
   "outputs": [
    {
     "name": "stdout",
     "output_type": "stream",
     "text": [
      "10:11:40.792314\n",
      "1900년01월01일 AM 10시11분40초\n",
      "00년01월01일 10시11분40초\n"
     ]
    }
   ],
   "source": [
    "now = datetime.now()\n",
    "now_time = time(now.hour, now.minute, now.second, now.microsecond)\n",
    "print(now_time)\n",
    "print(now_time.strftime(\"%Y년%m월%d일 %p %I시%M분%S초\"))\n",
    "print(now_time.strftime(\"{:%y년%m월%d일 %H시%M분%S초}\".format(now_time)))"
   ]
  },
  {
   "cell_type": "markdown",
   "id": "3cffd0a4",
   "metadata": {},
   "source": [
    "# 8절. 연습문제"
   ]
  },
  {
   "cell_type": "code",
   "execution_count": 410,
   "id": "a2d475f5",
   "metadata": {
    "ExecuteTime": {
     "end_time": "2024-11-06T01:14:33.459771Z",
     "start_time": "2024-11-06T01:14:33.454772Z"
    }
   },
   "outputs": [
    {
     "name": "stdout",
     "output_type": "stream",
     "text": [
      "홍길동 님의 나이는 23 살 입니다\n"
     ]
    }
   ],
   "source": [
    "# 1. 이름과 나이 변수를 다음 형식으로 출력하도록 format() 함수를 이용해 형식화하세요\n",
    "# [출력형식 : 홍길동님의 나이는 23살입니다]\n",
    "name = \"홍길동\"\n",
    "age = 23\n",
    "print(name, \"님의 나이는\", age, \"살 입니다\")"
   ]
  },
  {
   "cell_type": "code",
   "execution_count": 416,
   "id": "585c544a",
   "metadata": {
    "ExecuteTime": {
     "end_time": "2024-11-06T01:22:11.500777Z",
     "start_time": "2024-11-06T01:22:09.915295Z"
    }
   },
   "outputs": [
    {
     "name": "stdout",
     "output_type": "stream",
     "text": [
      "첫 번째 정수를 입력하세요: 2\n",
      "두 번째 정수를 입력하세요: 2\n",
      "덧셈: 4\n",
      "뺄셈: 0\n",
      "곱셈: 4\n",
      "나누기: 1.0\n",
      "몫: 1\n",
      "나머지: 0\n"
     ]
    }
   ],
   "source": [
    "# 2. 두 정수를 입력받아 두 수의 덧셈, 뺄셈, 곱셈, 나눗셈, 몫, 나머지를 출력하세요\n",
    "a = int(input(\"첫 번째 정수를 입력하세요: \"))\n",
    "b = int(input(\"두 번째 정수를 입력하세요: \"))\n",
    "\n",
    "덧셈 = a+b\n",
    "뺄셈 = a-b\n",
    "곱셈 = a*b\n",
    "나누기 = a/b\n",
    "몫 = a//b\n",
    "나머지 = a%b\n",
    "\n",
    "print(f\"덧셈: {덧셈}\")\n",
    "print(f\"뺄셈: {뺄셈}\")\n",
    "print(f\"곱셈: {곱셈}\")\n",
    "print(f\"나누기: {나누기}\")\n",
    "print(f\"몫: {몫}\")\n",
    "print(f\"나머지: {나머지}\")"
   ]
  },
  {
   "cell_type": "code",
   "execution_count": 422,
   "id": "15f09601",
   "metadata": {
    "ExecuteTime": {
     "end_time": "2024-11-06T01:23:54.313108Z",
     "start_time": "2024-11-06T01:23:54.306113Z"
    }
   },
   "outputs": [
    {
     "name": "stdout",
     "output_type": "stream",
     "text": [
      "World Hello\n"
     ]
    }
   ],
   "source": [
    "# 3. 문자열의 분리하기와 합치기 기능을 이용하여 ‘Hello World’가 할당된 변수를 이용하여 ‘World Hello’로 출력하세요\n",
    "text = 'Hello World'\n",
    "words = text.split()\n",
    "reversed_text = ' '.join(reversed(words))\n",
    "print(reversed_text)"
   ]
  },
  {
   "cell_type": "code",
   "execution_count": 425,
   "id": "01d94ff0",
   "metadata": {
    "ExecuteTime": {
     "end_time": "2024-11-06T01:24:55.001235Z",
     "start_time": "2024-11-06T01:24:54.995237Z"
    }
   },
   "outputs": [
    {
     "name": "stdout",
     "output_type": "stream",
     "text": [
      "bcdefa\n"
     ]
    }
   ],
   "source": [
    "# 4. x = 'abcdef＇를 이용하여 ‘bcdefa’로 출력하세요(문자 슬라이싱이용).\n",
    "x = 'abcdef'\n",
    "result = x[1:] + x[0]\n",
    "print(result)"
   ]
  },
  {
   "cell_type": "code",
   "execution_count": 427,
   "id": "774071e9",
   "metadata": {
    "ExecuteTime": {
     "end_time": "2024-11-06T01:25:45.167806Z",
     "start_time": "2024-11-06T01:25:45.161809Z"
    }
   },
   "outputs": [
    {
     "name": "stdout",
     "output_type": "stream",
     "text": [
      "fedcba\n"
     ]
    }
   ],
   "source": [
    "# 5. x = ‘abcdef’를 이용하여 ‘fedcba’로 출력하세요\n",
    "x = 'abcdef'\n",
    "result = x[::-1]\n",
    "print(result)"
   ]
  },
  {
   "cell_type": "code",
   "execution_count": 428,
   "id": "c10c6c15",
   "metadata": {
    "ExecuteTime": {
     "end_time": "2024-11-06T01:33:07.423981Z",
     "start_time": "2024-11-06T01:33:04.623897Z"
    }
   },
   "outputs": [
    {
     "name": "stdout",
     "output_type": "stream",
     "text": [
      "현재온도를 입력하세요: 7\n",
      "44.60\n"
     ]
    }
   ],
   "source": [
    "# 6.오늘의 온도를 섭씨온도로 입력받아 화씨 온도로 변환하는 프로그램을 작성하세요.\n",
    "# 화씨 온도는 소수점이 있을 경우만 두번째 자리까지 출력되고, 소수점이하 값이 없는 경 우 소수점을 출력하지 않도록 합니다.(다음은 섭씨와 화씨의 변환 공식입니다. C는 섭씨, F는 화씨)\n",
    "celsius = float(input(\"현재온도를 입력하세요: \"))\n",
    "fahrenheit = (9/5) * celsius + 32\n",
    "\n",
    "if fahrenheit.is_integer():\n",
    "    print(int(fahrenheit))\n",
    "    \n",
    "else:\n",
    "    print(f\"{fahrenheit:.2f}\")"
   ]
  },
  {
   "cell_type": "code",
   "execution_count": null,
   "id": "39457be0",
   "metadata": {},
   "outputs": [],
   "source": [
    "# 7.다음 중 변수 선언으로 잘못된 것을 모두 고르시오?  ① for  ②  10th ③  Student.name ④  _1234\n",
    "# 정답: ①, ②, ③"
   ]
  },
  {
   "cell_type": "code",
   "execution_count": 430,
   "id": "6d0c5792",
   "metadata": {
    "ExecuteTime": {
     "end_time": "2024-11-06T01:36:53.146065Z",
     "start_time": "2024-11-06T01:36:53.141066Z"
    }
   },
   "outputs": [
    {
     "name": "stdout",
     "output_type": "stream",
     "text": [
      "SeounSeoul\n",
      "Seou n Seoul\n"
     ]
    }
   ],
   "source": [
    "# 8.다음 코드의 실행결과는?\n",
    "text = \"Seoul A001 - Programming with Python\"\n",
    "print(text[:4]+text[-1]+text.split()[0])\n",
    "print(text[:4], text[-1], text.split()[0])\n",
    "\n",
    "\n",
    "# 코드의 실행결과 : SeounSeoul Seou n Seoul"
   ]
  },
  {
   "cell_type": "code",
   "execution_count": null,
   "id": "d8207a3e",
   "metadata": {},
   "outputs": [],
   "source": [
    "# 9.  다음 중 파이썬 3.x 버전에서 연산식과 그 결과의 출력이 잘못된 것은? ①  수식 8//2 결과 4 ②  수식 8/2  결과 4 ③ 수식 8 **2 결과 64\n",
    "\n",
    "# 정답 ②"
   ]
  },
  {
   "cell_type": "code",
   "execution_count": 439,
   "id": "5bf78100",
   "metadata": {
    "ExecuteTime": {
     "end_time": "2024-11-06T01:41:46.055146Z",
     "start_time": "2024-11-06T01:41:46.051146Z"
    }
   },
   "outputs": [
    {
     "name": "stdout",
     "output_type": "stream",
     "text": [
      "5John\n"
     ]
    }
   ],
   "source": [
    "# 10. 아래 프로그램의 실행결과는?\n",
    "\n",
    "x = 5\n",
    "y = \"John\"\n",
    "print(str(x) + y)\n",
    "\n",
    "# 정답 : 최초 문장 실행시 에러 John에 Str입력후 실행 시 \"5John\"정상실행"
   ]
  },
  {
   "cell_type": "code",
   "execution_count": 442,
   "id": "f054e217",
   "metadata": {
    "ExecuteTime": {
     "end_time": "2024-11-06T01:44:54.489439Z",
     "start_time": "2024-11-06T01:44:54.483440Z"
    }
   },
   "outputs": [
    {
     "name": "stdout",
     "output_type": "stream",
     "text": [
      "나라\n"
     ]
    }
   ],
   "source": [
    "# 11. ssplit()함수를 이용하여 str_의 값 중 \"나라\" 를 출력하는 프로그램을 완성하시요\n",
    "str_ = \"우리 나라 대한민국\"\n",
    "words = str_.split()\n",
    "\n",
    "if \"나라\" in words:\n",
    "    print(\"나라\")"
   ]
  }
 ],
 "metadata": {
  "kernelspec": {
   "display_name": "Python 3 (ipykernel)",
   "language": "python",
   "name": "python3"
  },
  "language_info": {
   "codemirror_mode": {
    "name": "ipython",
    "version": 3
   },
   "file_extension": ".py",
   "mimetype": "text/x-python",
   "name": "python",
   "nbconvert_exporter": "python",
   "pygments_lexer": "ipython3",
   "version": "3.10.9"
  },
  "toc": {
   "base_numbering": 1,
   "nav_menu": {},
   "number_sections": true,
   "sideBar": true,
   "skip_h1_title": false,
   "title_cell": "Table of Contents",
   "title_sidebar": "Contents",
   "toc_cell": false,
   "toc_position": {
    "height": "calc(100% - 180px)",
    "left": "10px",
    "top": "150px",
    "width": "165px"
   },
   "toc_section_display": true,
   "toc_window_display": true
  }
 },
 "nbformat": 4,
 "nbformat_minor": 5
}
