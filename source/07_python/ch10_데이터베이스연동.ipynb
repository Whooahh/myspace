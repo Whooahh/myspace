{
 "cells": [
  {
   "cell_type": "code",
   "execution_count": 28,
   "id": "54af2f73",
   "metadata": {
    "ExecuteTime": {
     "end_time": "2024-11-20T05:29:05.141186Z",
     "start_time": "2024-11-20T05:29:05.136197Z"
    }
   },
   "outputs": [
    {
     "data": {
      "text/html": [
       "\n",
       "<style>\n",
       "div.container{width:99% !important;}\n",
       "div.cell.code_cell.rendered{width:90%;}\n",
       "div.CodeMirror {font-family:Consolas; font-size:9pt;}\n",
       "div.output {font-size:9pt; font-weight:bold;}\n",
       "div.input {font-family:Consolas; font-size:9pt;}\n",
       "div.prompt {min-width:70px;}\n",
       "div#toc-wrapper{padding-top:120px;}\n",
       "span.toc-item-num{display:none;}\n",
       "div.text_cell_render ul li{font-size:9pt;padding:5px;}\n",
       "div.CodeMirror-lines > div {padding-left:10px;}\n",
       "</style>\n"
      ],
      "text/plain": [
       "<IPython.core.display.HTML object>"
      ]
     },
     "metadata": {},
     "output_type": "display_data"
    }
   ],
   "source": [
    "from IPython.display import display, HTML\n",
    "display(HTML(\"\"\"\n",
    "<style>\n",
    "div.container{width:99% !important;}\n",
    "div.cell.code_cell.rendered{width:90%;}\n",
    "div.CodeMirror {font-family:Consolas; font-size:9pt;}\n",
    "div.output {font-size:9pt; font-weight:bold;}\n",
    "div.input {font-family:Consolas; font-size:9pt;}\n",
    "div.prompt {min-width:70px;}\n",
    "div#toc-wrapper{padding-top:120px;}\n",
    "span.toc-item-num{display:none;}\n",
    "div.text_cell_render ul li{font-size:9pt;padding:5px;}\n",
    "div.CodeMirror-lines > div {padding-left:10px;}\n",
    "</style>\n",
    "\"\"\"))"
   ]
  },
  {
   "cell_type": "markdown",
   "id": "91fdb3ef",
   "metadata": {},
   "source": [
    "<font color=\"red\" size=\"6\"><b>ch10. 데이터베이스 연동</b></font>"
   ]
  },
  {
   "cell_type": "markdown",
   "id": "56210b26",
   "metadata": {},
   "source": [
    "# 1절. SQLite 데이터 베이스 연결\n",
    "- SQLite 데이터 베이스는 별도의 DBMS가 필요가 없이 SQL을 이용햐여 DB엑세스를 할 수 있도록 만든 간단한 디스크 기반의 DB를 제공\n",
    "- C 라이브러리\n",
    "- SQLite는 프로토타입을 만들 때 사용\n",
    "- 프로젝트 단계 : 분석 > 설계 > 구현 > 테스트 > 고객에게 배포 > 유지보수\n",
    "                 프로토타입       시제품            완제품(Oracle, MySQL, Maria, ...)\n",
    "  [DB browser for SQLite](https://sqlitebrowser.org/dl/)"
   ]
  },
  {
   "cell_type": "markdown",
   "id": "32b503a5",
   "metadata": {},
   "source": [
    "### 1.1 SQLite Browser 설치 및 sqlite3 패키지 load"
   ]
  },
  {
   "cell_type": "code",
   "execution_count": 4,
   "id": "f5edef60",
   "metadata": {
    "ExecuteTime": {
     "end_time": "2024-11-20T05:14:40.281065Z",
     "start_time": "2024-11-20T05:14:40.273086Z"
    }
   },
   "outputs": [
    {
     "data": {
      "text/plain": [
       "'3.40.1'"
      ]
     },
     "execution_count": 4,
     "metadata": {},
     "output_type": "execute_result"
    }
   ],
   "source": [
    "import sqlite3\n",
    "sqlite3.sqlite_version"
   ]
  },
  {
   "cell_type": "code",
   "execution_count": 5,
   "id": "cc27f9cb",
   "metadata": {
    "ExecuteTime": {
     "end_time": "2024-11-20T05:14:41.576958Z",
     "start_time": "2024-11-20T05:14:41.080260Z"
    }
   },
   "outputs": [
    {
     "data": {
      "text/plain": [
       "'1.5.3'"
      ]
     },
     "execution_count": 5,
     "metadata": {},
     "output_type": "execute_result"
    }
   ],
   "source": [
    "import pandas as pd\n",
    "pd.__version__"
   ]
  },
  {
   "cell_type": "code",
   "execution_count": 6,
   "id": "998347bc",
   "metadata": {
    "ExecuteTime": {
     "end_time": "2024-11-20T05:14:41.644730Z",
     "start_time": "2024-11-20T05:14:41.640738Z"
    }
   },
   "outputs": [
    {
     "data": {
      "text/plain": [
       "'1.23.5'"
      ]
     },
     "execution_count": 6,
     "metadata": {},
     "output_type": "execute_result"
    }
   ],
   "source": [
    "import numpy as np\n",
    "np.__version__"
   ]
  },
  {
   "cell_type": "markdown",
   "id": "d2778619",
   "metadata": {},
   "source": [
    "### 1.2 데이터베이스 연결\n",
    "- SQLite로 DB연결시, DB파일이 있으면 연결, 없으면 빈 DB파일로 생성"
   ]
  },
  {
   "cell_type": "code",
   "execution_count": 7,
   "id": "5e57924c",
   "metadata": {
    "ExecuteTime": {
     "end_time": "2024-11-20T05:14:43.429576Z",
     "start_time": "2024-11-20T05:14:43.424577Z"
    }
   },
   "outputs": [
    {
     "data": {
      "text/plain": [
       "<sqlite3.Connection at 0x2e8163cd140>"
      ]
     },
     "execution_count": 7,
     "metadata": {},
     "output_type": "execute_result"
    }
   ],
   "source": [
    "# DB연결\n",
    "conn = sqlite3.connect('data/ch10_example.db')\n",
    "conn"
   ]
  },
  {
   "cell_type": "code",
   "execution_count": 8,
   "id": "39546a4e",
   "metadata": {
    "ExecuteTime": {
     "end_time": "2024-11-20T05:14:44.278594Z",
     "start_time": "2024-11-20T05:14:44.272610Z"
    }
   },
   "outputs": [
    {
     "data": {
      "text/plain": [
       "<sqlite3.Cursor at 0x2e8164405c0>"
      ]
     },
     "execution_count": 8,
     "metadata": {},
     "output_type": "execute_result"
    }
   ],
   "source": [
    "# 커서 객체 생성, 커서는 SQL문 실행시키고, 결과데이터를 조회 (select, 그외)하는데 사용하는 객체\n",
    "cursor = conn.cursor()\n",
    "cursor"
   ]
  },
  {
   "cell_type": "code",
   "execution_count": 10,
   "id": "27c90b6b",
   "metadata": {
    "ExecuteTime": {
     "end_time": "2024-11-20T05:14:54.099746Z",
     "start_time": "2024-11-20T05:14:54.081801Z"
    }
   },
   "outputs": [
    {
     "ename": "OperationalError",
     "evalue": "table MEMBER already exists",
     "output_type": "error",
     "traceback": [
      "\u001b[1;31m---------------------------------------------------------------------------\u001b[0m",
      "\u001b[1;31mOperationalError\u001b[0m                          Traceback (most recent call last)",
      "Cell \u001b[1;32mIn[10], line 1\u001b[0m\n\u001b[1;32m----> 1\u001b[0m \u001b[43mcursor\u001b[49m\u001b[38;5;241;43m.\u001b[39;49m\u001b[43mexecute\u001b[49m\u001b[43m(\u001b[49m\u001b[38;5;124;43m'''\u001b[39;49m\n\u001b[0;32m      2\u001b[0m \u001b[38;5;124;43m    CREATE TABLE MEMBER (\u001b[39;49m\n\u001b[0;32m      3\u001b[0m \u001b[38;5;124;43m            NAME TEXT,\u001b[39;49m\n\u001b[0;32m      4\u001b[0m \u001b[38;5;124;43m            AGE INT,\u001b[39;49m\n\u001b[0;32m      5\u001b[0m \u001b[38;5;124;43m            EMAIL TEXT\u001b[39;49m\n\u001b[0;32m      6\u001b[0m \u001b[38;5;124;43m    )\u001b[39;49m\n\u001b[0;32m      7\u001b[0m \u001b[38;5;124;43m'''\u001b[39;49m\u001b[43m)\u001b[49m\n",
      "\u001b[1;31mOperationalError\u001b[0m: table MEMBER already exists"
     ]
    }
   ],
   "source": [
    "cursor.execute('''\n",
    "    CREATE TABLE MEMBER (\n",
    "            NAME TEXT,\n",
    "            AGE INT,\n",
    "            EMAIL TEXT\n",
    "    )\n",
    "''')"
   ]
  },
  {
   "cell_type": "code",
   "execution_count": 11,
   "id": "aa9d43f6",
   "metadata": {
    "ExecuteTime": {
     "end_time": "2024-11-20T05:14:56.070988Z",
     "start_time": "2024-11-20T05:14:56.008841Z"
    }
   },
   "outputs": [
    {
     "data": {
      "text/plain": [
       "<sqlite3.Cursor at 0x2e8164405c0>"
      ]
     },
     "execution_count": 11,
     "metadata": {},
     "output_type": "execute_result"
    }
   ],
   "source": [
    "cursor.execute('DROP TABLE MEMBER')"
   ]
  },
  {
   "cell_type": "code",
   "execution_count": 12,
   "id": "d61d3493",
   "metadata": {
    "ExecuteTime": {
     "end_time": "2024-11-20T05:14:58.938657Z",
     "start_time": "2024-11-20T05:14:58.880796Z"
    }
   },
   "outputs": [
    {
     "data": {
      "text/plain": [
       "<sqlite3.Cursor at 0x2e8164405c0>"
      ]
     },
     "execution_count": 12,
     "metadata": {},
     "output_type": "execute_result"
    }
   ],
   "source": [
    "cursor.execute('''\n",
    "    CREATE TABLE MEMBER (\n",
    "            NAME TEXT,\n",
    "            AGE INT,\n",
    "            EMAIL TEXT\n",
    "    )\n",
    "''')"
   ]
  },
  {
   "cell_type": "code",
   "execution_count": 13,
   "id": "eeba4fff",
   "metadata": {
    "ExecuteTime": {
     "end_time": "2024-11-20T05:15:00.009030Z",
     "start_time": "2024-11-20T05:15:00.001052Z"
    }
   },
   "outputs": [
    {
     "name": "stdout",
     "output_type": "stream",
     "text": [
      "수행 결과 행수 :  1\n",
      "수행 결과 행수 :  1\n",
      "수행 결과 행수 :  1\n"
     ]
    }
   ],
   "source": [
    "cursor.execute('INSERT INTO MEMBER VALUES(\\'홍길동\\', 20, \\'h@h.com\\')')\n",
    "print('수행 결과 행수 : ', cursor.rowcount)\n",
    "sql = \"INSERT INTO MEMBER VALUES('신길동', 25, 's@s.com')\"\n",
    "cursor.execute(sql)\n",
    "print('수행 결과 행수 : ', cursor.rowcount)\n",
    "cursor.execute('INSERT INTO MEMBER VALUES(\\'신림동\\', 30, \\'l@h.com\\')')\n",
    "print('수행 결과 행수 : ', cursor.rowcount)"
   ]
  },
  {
   "cell_type": "code",
   "execution_count": 14,
   "id": "de08b426",
   "metadata": {
    "ExecuteTime": {
     "end_time": "2024-11-20T05:15:01.775008Z",
     "start_time": "2024-11-20T05:15:01.720802Z"
    }
   },
   "outputs": [],
   "source": [
    "conn.commit()"
   ]
  },
  {
   "cell_type": "code",
   "execution_count": 15,
   "id": "91910eeb",
   "metadata": {
    "ExecuteTime": {
     "end_time": "2024-11-20T05:15:02.245460Z",
     "start_time": "2024-11-20T05:15:02.240473Z"
    }
   },
   "outputs": [
    {
     "data": {
      "text/plain": [
       "<sqlite3.Cursor at 0x2e8164405c0>"
      ]
     },
     "execution_count": 15,
     "metadata": {},
     "output_type": "execute_result"
    }
   ],
   "source": [
    "# SQL전송결과는 cursor가 가림\n",
    "cursor.execute(\"SELECT * FROM MEMBER ORDER BY NAME\")"
   ]
  },
  {
   "cell_type": "code",
   "execution_count": 16,
   "id": "400d6835",
   "metadata": {
    "ExecuteTime": {
     "end_time": "2024-11-20T05:15:03.788823Z",
     "start_time": "2024-11-20T05:15:03.784834Z"
    }
   },
   "outputs": [
    {
     "name": "stdout",
     "output_type": "stream",
     "text": [
      "[('신길동', 25, 's@s.com'), ('신림동', 30, 'l@h.com'), ('홍길동', 20, 'h@h.com')]\n"
     ]
    }
   ],
   "source": [
    "#insert, update, delete문 실행결과 : cursor.rowcount\n",
    "#select문 실행결과를 받는 함수들\n",
    "    ## fetchone(): 결과를 한행씩 받을 때 (튜플)\n",
    "    ## fetchall(): 결과를 모두 받을 때 (튜플 list)\n",
    "    ## fetchmany(n): 결과를 n행 받을 때 (튜플 list)\n",
    "print(cursor.fetchall())"
   ]
  },
  {
   "cell_type": "code",
   "execution_count": 17,
   "id": "8b41716c",
   "metadata": {
    "ExecuteTime": {
     "end_time": "2024-11-20T05:15:13.067779Z",
     "start_time": "2024-11-20T05:15:13.064776Z"
    },
    "scrolled": true
   },
   "outputs": [
    {
     "name": "stdout",
     "output_type": "stream",
     "text": [
      "[]\n"
     ]
    }
   ],
   "source": [
    "print(cursor.fetchall())"
   ]
  },
  {
   "cell_type": "code",
   "execution_count": 18,
   "id": "8005ae98",
   "metadata": {
    "ExecuteTime": {
     "end_time": "2024-11-20T05:15:13.520169Z",
     "start_time": "2024-11-20T05:15:13.514187Z"
    }
   },
   "outputs": [
    {
     "data": {
      "text/plain": [
       "[('홍길동', 20, 'h@h.com'), ('신길동', 25, 's@s.com'), ('신림동', 30, 'l@h.com')]"
      ]
     },
     "execution_count": 18,
     "metadata": {},
     "output_type": "execute_result"
    }
   ],
   "source": [
    "cursor.execute(\"SELECT NAME, AGE, EMAIL FROM MEMBER ORDER BY AGE\")\n",
    "members = cursor.fetchall()\n",
    "members"
   ]
  },
  {
   "cell_type": "code",
   "execution_count": 19,
   "id": "a50148a3",
   "metadata": {
    "ExecuteTime": {
     "end_time": "2024-11-20T05:15:13.972895Z",
     "start_time": "2024-11-20T05:15:13.968881Z"
    }
   },
   "outputs": [
    {
     "name": "stdout",
     "output_type": "stream",
     "text": [
      "('홍길동', 20, 'h@h.com')\n",
      "('신길동', 25, 's@s.com')\n",
      "('신림동', 30, 'l@h.com')\n"
     ]
    }
   ],
   "source": [
    "for member in members:\n",
    "    print(member)"
   ]
  },
  {
   "cell_type": "code",
   "execution_count": 20,
   "id": "205c0403",
   "metadata": {
    "ExecuteTime": {
     "end_time": "2024-11-20T05:15:14.414798Z",
     "start_time": "2024-11-20T05:15:14.408785Z"
    }
   },
   "outputs": [],
   "source": [
    "# 한줄씩 읽기\n",
    "cursor.execute(\"SELECT NAME, AGE, EMAIL FROM MEMBER ORDER BY AGE\")\n",
    "member_list = []\n",
    "while True:\n",
    "    member = cursor.fetchone() # SQL문 수행 결과 한 줄 가져오기\n",
    "    if member is None:\n",
    "        break\n",
    "    #print(member)\n",
    "    member_list.append({'name':member[0], 'age':member[1], 'email':member[2]})"
   ]
  },
  {
   "cell_type": "code",
   "execution_count": 21,
   "id": "069c67f1",
   "metadata": {
    "ExecuteTime": {
     "end_time": "2024-11-20T05:15:15.247052Z",
     "start_time": "2024-11-20T05:15:15.241068Z"
    }
   },
   "outputs": [
    {
     "data": {
      "text/plain": [
       "[{'name': '홍길동', 'age': 20, 'email': 'h@h.com'},\n",
       " {'name': '신길동', 'age': 25, 'email': 's@s.com'},\n",
       " {'name': '신림동', 'age': 30, 'email': 'l@h.com'}]"
      ]
     },
     "execution_count": 21,
     "metadata": {},
     "output_type": "execute_result"
    }
   ],
   "source": [
    "member_list"
   ]
  },
  {
   "cell_type": "code",
   "execution_count": 22,
   "id": "ade3917c",
   "metadata": {
    "ExecuteTime": {
     "end_time": "2024-11-20T05:15:16.773749Z",
     "start_time": "2024-11-20T05:15:16.768763Z"
    }
   },
   "outputs": [
    {
     "name": "stdout",
     "output_type": "stream",
     "text": [
      "('홍길동', 20, 'h@h.com')\n",
      "('신길동', 25, 's@s.com')\n",
      "('신림동', 30, 'l@h.com')\n"
     ]
    }
   ],
   "source": [
    "# 최상위 n행 가져오기\n",
    "cursor.execute(\"SELECT NAME, AGE, EMAIL FROM MEMBER ORDER BY AGE\")\n",
    "for member in cursor.fetchmany(10):\n",
    "    print(member)"
   ]
  },
  {
   "cell_type": "code",
   "execution_count": 33,
   "id": "4472ff27",
   "metadata": {
    "ExecuteTime": {
     "end_time": "2024-11-20T05:35:35.045978Z",
     "start_time": "2024-11-20T05:35:35.038997Z"
    }
   },
   "outputs": [],
   "source": [
    "class Member:\n",
    "    'Member 테이블의 내용을 받을 객체 타입'\n",
    "    def __init__(self, name, age, email):\n",
    "        self.name = name\n",
    "        self.age = age\n",
    "        self.email = email\n",
    "    def as_dic(self):\n",
    "        return {'name':self.name,\n",
    "               'age':self.age,\n",
    "               'email':self.email}\n",
    "    def __str__(self):\n",
    "        return \"{}\\t{}\\t{}\".format(self.name, self.age, self.email)\n",
    "def to_member(*row): #튜플 데이터를 매개변수로 받아 Member형 객체로 Return\n",
    "    return Member(row[0], row[1], row[2])"
   ]
  },
  {
   "cell_type": "code",
   "execution_count": 28,
   "id": "f282b1cd",
   "metadata": {
    "ExecuteTime": {
     "end_time": "2024-11-20T04:06:20.154368Z",
     "start_time": "2024-11-20T04:06:20.149382Z"
    }
   },
   "outputs": [
    {
     "name": "stdout",
     "output_type": "stream",
     "text": [
      "홍길동\t20\th@h.com\n",
      "{'name': '홍길동', 'age': 20, 'email': 'h@h.com'}\n"
     ]
    }
   ],
   "source": [
    "dbreadmember = ('홍길동', 20, 'h@h.com')\n",
    "m = to_member(*dbreadmember) # 튜플 언패킹\n",
    "print(m)\n",
    "print(m.as_dic())"
   ]
  },
  {
   "cell_type": "code",
   "execution_count": 29,
   "id": "1c2b5b53",
   "metadata": {
    "ExecuteTime": {
     "end_time": "2024-11-20T04:06:20.922323Z",
     "start_time": "2024-11-20T04:06:20.916343Z"
    }
   },
   "outputs": [],
   "source": [
    "# DB검색결과를 객체 list로\n",
    "cursor.execute('SELECT NAME, AGE, EMAIL FROM MEMBER')\n",
    "member_list = []\n",
    "members = cursor.fetchall()\n",
    "#print(members)\n",
    "for member in members:\n",
    "    member_list.append(to_member(*member))"
   ]
  },
  {
   "cell_type": "code",
   "execution_count": 23,
   "id": "e669bb28",
   "metadata": {
    "ExecuteTime": {
     "end_time": "2024-11-20T05:15:19.726400Z",
     "start_time": "2024-11-20T05:15:19.720415Z"
    }
   },
   "outputs": [
    {
     "data": {
      "text/plain": [
       "(tuple, dict)"
      ]
     },
     "execution_count": 23,
     "metadata": {},
     "output_type": "execute_result"
    }
   ],
   "source": [
    "type(members[0]), type(member_list[0])"
   ]
  },
  {
   "cell_type": "code",
   "execution_count": 31,
   "id": "91a4b36a",
   "metadata": {
    "ExecuteTime": {
     "end_time": "2024-11-20T04:06:23.713323Z",
     "start_time": "2024-11-20T04:06:23.708337Z"
    }
   },
   "outputs": [
    {
     "name": "stdout",
     "output_type": "stream",
     "text": [
      "홍길동\t20\th@h.com\n",
      "신길동\t25\ts@s.com\n",
      "신림동\t30\tl@h.com\n"
     ]
    }
   ],
   "source": [
    "for member in member_list:\n",
    "    print(member)"
   ]
  },
  {
   "cell_type": "code",
   "execution_count": 38,
   "id": "d3512847",
   "metadata": {
    "ExecuteTime": {
     "end_time": "2024-11-20T04:11:37.752788Z",
     "start_time": "2024-11-20T04:11:37.748799Z"
    }
   },
   "outputs": [],
   "source": [
    "cursor.close()\n",
    "conn.close()"
   ]
  },
  {
   "cell_type": "markdown",
   "id": "df77b0d6",
   "metadata": {},
   "source": [
    "### 1.3 SQL구문에 따라 파라미터 사용하기\n",
    "- qmark(DB에 따라 불가한 경우가 있음)\n",
    "- named(*추천)"
   ]
  },
  {
   "cell_type": "code",
   "execution_count": 33,
   "id": "73dbaf8b",
   "metadata": {
    "ExecuteTime": {
     "end_time": "2024-11-20T04:06:27.284038Z",
     "start_time": "2024-11-20T04:06:27.278054Z"
    }
   },
   "outputs": [
    {
     "data": {
      "text/plain": [
       "[('홍길동', 20, 'h@h.com'), ('신길동', 25, 's@s.com')]"
      ]
     },
     "execution_count": 33,
     "metadata": {},
     "output_type": "execute_result"
    }
   ],
   "source": [
    "conn = sqlite3.connect('data/ch10_example.db')\n",
    "cursor = conn.cursor()\n",
    "cursor.execute(\"SELECT * FROM MEMBER WHERE NAME IN('홍길동', '신길동')\")\n",
    "cursor.fetchall()"
   ]
  },
  {
   "cell_type": "code",
   "execution_count": 34,
   "id": "5c508c86",
   "metadata": {
    "ExecuteTime": {
     "end_time": "2024-11-20T04:06:35.321370Z",
     "start_time": "2024-11-20T04:06:29.470117Z"
    }
   },
   "outputs": [
    {
     "name": "stdout",
     "output_type": "stream",
     "text": [
      "검색할 이름 1 : 홍길동\n",
      "검색할 이름 2 : 신림동\n"
     ]
    },
    {
     "data": {
      "text/plain": [
       "[('홍길동', 20, 'h@h.com'), ('신림동', 30, 'l@h.com')]"
      ]
     },
     "execution_count": 34,
     "metadata": {},
     "output_type": "execute_result"
    }
   ],
   "source": [
    "# 파라미터 사용하기 : qmark 방법 이용\n",
    "name1 = input('검색할 이름 1 : ')\n",
    "name2 = input('검색할 이름 2 : ')\n",
    "names = (name1, name2)\n",
    "cursor.execute(\"SELECT * FROM MEMBER WHERE NAME IN (?,?)\", (name1, name2))\n",
    "cursor.fetchall()"
   ]
  },
  {
   "cell_type": "code",
   "execution_count": 35,
   "id": "7f3237ea",
   "metadata": {
    "ExecuteTime": {
     "end_time": "2024-11-20T04:06:39.416360Z",
     "start_time": "2024-11-20T04:06:36.901169Z"
    }
   },
   "outputs": [
    {
     "name": "stdout",
     "output_type": "stream",
     "text": [
      "검색할 이름은 > 신길동\n",
      "[('신길동', 25, 's@s.com')]\n"
     ]
    }
   ],
   "source": [
    "# 파라미터 이용하기 : named활용\n",
    "name = input('검색할 이름은 > ')\n",
    "cursor.execute(\"SELECT * FROM MEMBER WHERE NAME=:name\", {'name':name})\n",
    "members = cursor.fetchall()\n",
    "if len(members):\n",
    "    print(members)\n",
    "else:\n",
    "    print('해당 이름의 데이터가 없습니다')"
   ]
  },
  {
   "cell_type": "code",
   "execution_count": 36,
   "id": "9896fb3c",
   "metadata": {
    "ExecuteTime": {
     "end_time": "2024-11-20T04:06:47.105407Z",
     "start_time": "2024-11-20T04:06:41.814140Z"
    }
   },
   "outputs": [
    {
     "name": "stdout",
     "output_type": "stream",
     "text": [
      "검색할 이름 1 : 신길동\n",
      "검색할 이름 2 : 신림동\n"
     ]
    },
    {
     "data": {
      "text/plain": [
       "[('신길동', 25, 's@s.com'), ('신림동', 30, 'l@h.com')]"
      ]
     },
     "execution_count": 36,
     "metadata": {},
     "output_type": "execute_result"
    }
   ],
   "source": [
    "# 파라미터 사용하기 : named방법 이용\n",
    "name1 = input('검색할 이름 1 : ')\n",
    "name2 = input('검색할 이름 2 : ')\n",
    "names = {'name1':name1, 'name2':name2}\n",
    "# cursor.execute(\"SELECT * FROM MEMBER WHERE NAME IN (:name1,:name2)\", {'name1':name1, 'name2':name2})\n",
    "cursor.execute(\"SELECT * FROM MEMBER WHERE NAME IN (:name1,:name2)\", names)\n",
    "cursor.fetchall()"
   ]
  },
  {
   "cell_type": "code",
   "execution_count": 30,
   "id": "3c086dba",
   "metadata": {
    "ExecuteTime": {
     "end_time": "2024-11-20T05:32:12.117073Z",
     "start_time": "2024-11-20T05:32:03.911549Z"
    }
   },
   "outputs": [
    {
     "name": "stdout",
     "output_type": "stream",
     "text": [
      "입력할 이름은 : 김기동\n",
      "입력할 나이는 : 34\n",
      "입력할 메일은 : d@d.com\n",
      "저장완료\n"
     ]
    }
   ],
   "source": [
    "# MEMBER 테이블에 입력(사용자로부터 이름, 나이, 메일을 입력받아 insert)\n",
    "try:\n",
    "    name = input('입력할 이름은 : ')\n",
    "    age = int(input('입력할 나이는 : '))\n",
    "except ValueError:\n",
    "    print('유효하지 않은 나이를 입력하신 경우 18세로 초기화')\n",
    "    age = 18\n",
    "finally:\n",
    "    email = input('입력할 메일은 : ')\n",
    "inputdata = {'name':name, 'age':age, 'email':email} # named방식 추천\n",
    "inputdata2 = (name,age,email) #qmark방식\n",
    "# cursor.execute('INSERT INTO MEMBER VALUES (?, ?, ?)', inputdata2)\n",
    "cursor.execute('INSERT INTO MEMBER VALUES(:name, :age, :email)', inputdata)\n",
    "conn.commit()\n",
    "if cursor.rowcount == 1:\n",
    "    print('저장완료')"
   ]
  },
  {
   "cell_type": "code",
   "execution_count": 31,
   "id": "08401443",
   "metadata": {
    "ExecuteTime": {
     "end_time": "2024-11-20T05:32:16.686234Z",
     "start_time": "2024-11-20T05:32:16.679273Z"
    }
   },
   "outputs": [
    {
     "data": {
      "text/plain": [
       "[('홍길동', 20, 'h@h.com'),\n",
       " ('신길동', 25, 's@s.com'),\n",
       " ('신림동', 30, 'l@h.com'),\n",
       " ('김길동', 18, 'l@l.com'),\n",
       " ('김기동', 34, 'd@d.com')]"
      ]
     },
     "execution_count": 31,
     "metadata": {},
     "output_type": "execute_result"
    }
   ],
   "source": [
    "cursor.execute('SELECT * FROM MEMBER')\n",
    "cursor.fetchall()"
   ]
  },
  {
   "cell_type": "code",
   "execution_count": 34,
   "id": "4a068451",
   "metadata": {
    "ExecuteTime": {
     "end_time": "2024-11-20T05:36:04.978739Z",
     "start_time": "2024-11-20T05:35:53.001001Z"
    }
   },
   "outputs": [
    {
     "name": "stdout",
     "output_type": "stream",
     "text": [
      "입력할 이름은 : 김\n",
      "입력할 나이는 : 356\n",
      "입력할 메일은 : l@l.com\n",
      "입력성공\n"
     ]
    }
   ],
   "source": [
    "try:\n",
    "    name = input('입력할 이름은 : ')\n",
    "    age = int(input('입력할 나이는 : '))\n",
    "except ValueError:\n",
    "    print('유효하지 않은 나이를 입력하신 경우 18세로 초기화')\n",
    "    age = 18\n",
    "finally:\n",
    "    email = input('입력할 메일은 : ')\n",
    "\n",
    "newMember = Member(name, age, email)\n",
    "cursor.execute('INSERT INTO MEMBER VALUES (:name, :age, :email)',newMember.as_dic())\n",
    "conn.commit()\n",
    "if cursor.rowcount == 1:\n",
    "    print('입력성공')"
   ]
  },
  {
   "cell_type": "code",
   "execution_count": 56,
   "id": "107af794",
   "metadata": {
    "ExecuteTime": {
     "end_time": "2024-11-20T06:07:37.134506Z",
     "start_time": "2024-11-20T06:07:24.629249Z"
    }
   },
   "outputs": [
    {
     "name": "stdout",
     "output_type": "stream",
     "text": [
      "이름을 입력하세요 (종료를 원하면 0을 입력) : 가가가\n",
      "나이를 입력하세요 : 34\n",
      "입력할 메일은 : g@g.com\n",
      "이름을 입력하세요 (종료를 원하면 0을 입력) : 0\n",
      "입력할 데이터는 1명입니다\n",
      "가가가\t34\tg@g.com\n"
     ]
    }
   ],
   "source": [
    "# member 테이블에 데이터를 n번 입력하고\n",
    "# 이름에 0을 입력할 때까지 이름, 나이, 메일을 받아 insert\n",
    "# 이름에 0을 입력하면 이때까지 입력한 데이터들을 출력하고 몇명을 입력했는지 출력\n",
    "\n",
    "member_list = [] # 입력한 member들이 저장될 list 변수\n",
    "\n",
    "while True:\n",
    "    try:\n",
    "        name = input(\"이름을 입력하세요 (종료를 원하면 0을 입력) : \")\n",
    "        if name == \"0\":\n",
    "            break\n",
    "        age = int(input(\"나이를 입력하세요 : \"))\n",
    "        email = input('입력할 메일은 : ')\n",
    "    except ValueError:\n",
    "            print('유효하지 않은 나이를 입력한 경우 18세로 초기화')\n",
    "            age=18\n",
    "            email = input('입력할 메일은 : ')\n",
    "    newMember = {'name':name, 'age':age, 'email':email}\n",
    "    member_list.append(newMember)\n",
    "    cursor.execute('INSERT INTO MEMBER VALUES (:name, :age, :email)', newMember)\n",
    "conn.commit()\n",
    "print('입력할 데이터는 ', len(member_list), '명입니다', sep='')\n",
    "for member in member_list:\n",
    "    print(\"{}\\t{}\\t{}\".format(member['name'], member['age'], member['email']))\n"
   ]
  },
  {
   "cell_type": "code",
   "execution_count": 59,
   "id": "1f713c87",
   "metadata": {
    "ExecuteTime": {
     "end_time": "2024-11-20T06:22:01.798669Z",
     "start_time": "2024-11-20T06:21:51.108973Z"
    }
   },
   "outputs": [
    {
     "name": "stdout",
     "output_type": "stream",
     "text": [
      "이름을 입력하세요 (종료를 원하면 0을 입력) : 이상혁\n",
      "나이를 입력하세요 : 30\n",
      "입력할 메일은 : faker@faker.com\n",
      "이름을 입력하세요 (종료를 원하면 0을 입력) : 0\n",
      "입력한 자료는 다음과 같이 1명입니다\n",
      "이름\t나이\t메일\n",
      "{'name': '이상혁', 'age': 30, 'email': 'faker@faker.com'}\n"
     ]
    }
   ],
   "source": [
    "member_list = [] # 입력한 member들이 저장될 list 변수\n",
    "\n",
    "while True:\n",
    "    try:\n",
    "        name = input(\"이름을 입력하세요 (종료를 원하면 0을 입력) : \")\n",
    "        if name == \"0\":\n",
    "            break\n",
    "        age = int(input(\"나이를 입력하세요 : \"))\n",
    "        email = input('입력할 메일은 : ')\n",
    "    except ValueError:\n",
    "            print('유효하지 않은 나이를 입력한 경우 18세로 초기화')\n",
    "            age=18\n",
    "            email = input('입력할 메일은 : ')\n",
    "    newMember = {'name':name, 'age':age, 'email':email}\n",
    "    member_list.append(newMember)\n",
    "    cursor.execute('INSERT INTO MEMBER VALUES (:name, :age, :email)', newMember)\n",
    "conn.commit()\n",
    "print('입력한 자료는 다음과 같이 {}명입니다'.format(len(member_list)))\n",
    "print('이름\\t나이\\t메일')\n",
    "for member in member_list:\n",
    "    print(member)"
   ]
  },
  {
   "cell_type": "code",
   "execution_count": 61,
   "id": "493bd1e0",
   "metadata": {
    "ExecuteTime": {
     "end_time": "2024-11-20T06:24:46.817572Z",
     "start_time": "2024-11-20T06:24:46.811580Z"
    }
   },
   "outputs": [
    {
     "data": {
      "text/plain": [
       "[('홍길동', 20, 'h@h.com'),\n",
       " ('신길동', 25, 's@s.com'),\n",
       " ('신림동', 30, 'l@h.com'),\n",
       " ('김길동', 18, 'l@l.com'),\n",
       " ('김기동', 34, 'd@d.com'),\n",
       " ('김', 356, 'l@l.com'),\n",
       " ('가가가', 34, 'g@g.com'),\n",
       " ('이상혁', 30, 'faker@faker.com')]"
      ]
     },
     "execution_count": 61,
     "metadata": {},
     "output_type": "execute_result"
    }
   ],
   "source": [
    "cursor.execute('SELECT * FROM MEMBER')\n",
    "cursor.fetchall()"
   ]
  },
  {
   "cell_type": "code",
   "execution_count": 62,
   "id": "d319cb43",
   "metadata": {
    "ExecuteTime": {
     "end_time": "2024-11-20T06:25:32.240674Z",
     "start_time": "2024-11-20T06:25:32.235660Z"
    }
   },
   "outputs": [],
   "source": [
    "cursor.close()\n",
    "conn.close()"
   ]
  },
  {
   "cell_type": "markdown",
   "id": "d25b6cae",
   "metadata": {},
   "source": [
    "### 2절. 오라클 데이터베이스 연결\n",
    "[cx_oracle] (https://cx-oracle.readthedocs.io/en/latest/index.html)"
   ]
  },
  {
   "cell_type": "code",
   "execution_count": 66,
   "id": "af7f68e6",
   "metadata": {
    "ExecuteTime": {
     "end_time": "2024-11-20T08:30:06.511722Z",
     "start_time": "2024-11-20T08:30:06.506735Z"
    }
   },
   "outputs": [],
   "source": [
    "import cx_Oracle"
   ]
  },
  {
   "cell_type": "code",
   "execution_count": 67,
   "id": "3b2937c9",
   "metadata": {
    "ExecuteTime": {
     "end_time": "2024-11-20T08:30:37.614667Z",
     "start_time": "2024-11-20T08:30:37.592739Z"
    }
   },
   "outputs": [
    {
     "name": "stdout",
     "output_type": "stream",
     "text": [
      "(DESCRIPTION=(ADDRESS=(PROTOCOL=TCP)(HOST=localhost)(PORT=1521))(CONNECT_DATA=(SID=xe)))\n"
     ]
    },
    {
     "ename": "DatabaseError",
     "evalue": "DPI-1047: Cannot locate a 64-bit Oracle Client library: \"The specified module could not be found\". See https://cx-oracle.readthedocs.io/en/latest/user_guide/installation.html for help",
     "output_type": "error",
     "traceback": [
      "\u001b[1;31m---------------------------------------------------------------------------\u001b[0m",
      "\u001b[1;31mDatabaseError\u001b[0m                             Traceback (most recent call last)",
      "Cell \u001b[1;32mIn[67], line 4\u001b[0m\n\u001b[0;32m      2\u001b[0m oracle_dsn \u001b[38;5;241m=\u001b[39m cx_Oracle\u001b[38;5;241m.\u001b[39mmakedsn(host\u001b[38;5;241m=\u001b[39m\u001b[38;5;124m\"\u001b[39m\u001b[38;5;124mlocalhost\u001b[39m\u001b[38;5;124m\"\u001b[39m, port\u001b[38;5;241m=\u001b[39m\u001b[38;5;241m1521\u001b[39m, sid\u001b[38;5;241m=\u001b[39m\u001b[38;5;124m'\u001b[39m\u001b[38;5;124mxe\u001b[39m\u001b[38;5;124m'\u001b[39m)\n\u001b[0;32m      3\u001b[0m \u001b[38;5;28mprint\u001b[39m(oracle_dsn)\n\u001b[1;32m----> 4\u001b[0m conn \u001b[38;5;241m=\u001b[39m \u001b[43mcx_Oracle\u001b[49m\u001b[38;5;241;43m.\u001b[39;49m\u001b[43mconnect\u001b[49m\u001b[43m(\u001b[49m\u001b[38;5;124;43m\"\u001b[39;49m\u001b[38;5;124;43mscott\u001b[39;49m\u001b[38;5;124;43m\"\u001b[39;49m\u001b[43m,\u001b[49m\u001b[43m \u001b[49m\u001b[38;5;124;43m\"\u001b[39;49m\u001b[38;5;124;43mtiger\u001b[39;49m\u001b[38;5;124;43m\"\u001b[39;49m\u001b[43m,\u001b[49m\u001b[43m \u001b[49m\u001b[43mdsn\u001b[49m\u001b[38;5;241;43m=\u001b[39;49m\u001b[43moracle_dsn\u001b[49m\u001b[43m)\u001b[49m\n\u001b[0;32m      5\u001b[0m conn\n",
      "\u001b[1;31mDatabaseError\u001b[0m: DPI-1047: Cannot locate a 64-bit Oracle Client library: \"The specified module could not be found\". See https://cx-oracle.readthedocs.io/en/latest/user_guide/installation.html for help"
     ]
    }
   ],
   "source": [
    "# conn 얻어오는 방법 1\n",
    "oracle_dsn = cx_Oracle.makedsn(host=\"localhost\", port=1521, sid='xe')\n",
    "print(oracle_dsn)\n",
    "conn = cx_Oracle.connect(\"scott\", \"tiger\", dsn=oracle_dsn)\n",
    "conn"
   ]
  },
  {
   "cell_type": "code",
   "execution_count": null,
   "id": "4994d552",
   "metadata": {},
   "outputs": [],
   "source": []
  },
  {
   "cell_type": "code",
   "execution_count": 70,
   "id": "a0f5b5a3",
   "metadata": {
    "ExecuteTime": {
     "end_time": "2024-11-20T08:39:19.125733Z",
     "start_time": "2024-11-20T08:39:19.120751Z"
    }
   },
   "outputs": [],
   "source": [
    "class Member:\n",
    "    'Member 테이블의 내용을 받을 객체 타입'\n",
    "    def __init__(self, name, age, email,grade,etc):\n",
    "        self.name = name\n",
    "        self.age = age\n",
    "        self.email = email\n",
    "        self.grade = grade\n",
    "        self.etc = etc\n",
    "    def as_dic(self):\n",
    "        return {'name':self.name,\n",
    "               'age':self.age,\n",
    "               'email':self.email,\n",
    "               'grade':self.grade,\n",
    "               'etc':self.etc}\n",
    "    def __str__(self):\n",
    "        return \"{}\\t{}\\t{}\".format(self.name, self.age, self.email, self.grade, self.etc)\n",
    "def to_member(*row): #튜플 데이터를 매개변수로 받아 Member형 객체로 Return\n",
    "    return Member(row[0], row[1], row[2], row[3], row[4])"
   ]
  },
  {
   "cell_type": "code",
   "execution_count": null,
   "id": "e5bc4428",
   "metadata": {},
   "outputs": [],
   "source": []
  },
  {
   "cell_type": "code",
   "execution_count": null,
   "id": "e9fa9c24",
   "metadata": {},
   "outputs": [],
   "source": []
  },
  {
   "cell_type": "code",
   "execution_count": null,
   "id": "8418df36",
   "metadata": {},
   "outputs": [],
   "source": []
  },
  {
   "cell_type": "code",
   "execution_count": null,
   "id": "55cf86d6",
   "metadata": {},
   "outputs": [],
   "source": []
  },
  {
   "cell_type": "code",
   "execution_count": null,
   "id": "e3232fbd",
   "metadata": {},
   "outputs": [],
   "source": []
  },
  {
   "cell_type": "code",
   "execution_count": null,
   "id": "24ed0dc2",
   "metadata": {},
   "outputs": [],
   "source": []
  },
  {
   "cell_type": "code",
   "execution_count": null,
   "id": "275704ab",
   "metadata": {},
   "outputs": [],
   "source": []
  },
  {
   "cell_type": "code",
   "execution_count": null,
   "id": "78d8047b",
   "metadata": {},
   "outputs": [],
   "source": []
  },
  {
   "cell_type": "code",
   "execution_count": null,
   "id": "2c41564b",
   "metadata": {},
   "outputs": [],
   "source": []
  }
 ],
 "metadata": {
  "kernelspec": {
   "display_name": "Python 3 (ipykernel)",
   "language": "python",
   "name": "python3"
  },
  "language_info": {
   "codemirror_mode": {
    "name": "ipython",
    "version": 3
   },
   "file_extension": ".py",
   "mimetype": "text/x-python",
   "name": "python",
   "nbconvert_exporter": "python",
   "pygments_lexer": "ipython3",
   "version": "3.10.9"
  },
  "toc": {
   "base_numbering": 1,
   "nav_menu": {},
   "number_sections": true,
   "sideBar": true,
   "skip_h1_title": false,
   "title_cell": "Table of Contents",
   "title_sidebar": "Contents",
   "toc_cell": false,
   "toc_position": {},
   "toc_section_display": true,
   "toc_window_display": false
  }
 },
 "nbformat": 4,
 "nbformat_minor": 5
}
