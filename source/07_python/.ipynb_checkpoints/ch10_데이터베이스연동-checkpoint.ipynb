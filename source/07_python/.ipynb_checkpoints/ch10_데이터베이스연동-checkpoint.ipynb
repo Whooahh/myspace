{
 "cells": [
  {
   "cell_type": "code",
   "execution_count": 54,
   "id": "3f6e0b58",
   "metadata": {
    "ExecuteTime": {
     "end_time": "2024-11-21T01:48:07.637953Z",
     "start_time": "2024-11-21T01:48:07.631988Z"
    }
   },
   "outputs": [
    {
     "data": {
      "text/html": [
       "\n",
       "<style>\n",
       "div.container{width:99% !important;}\n",
       "div.cell.code_cell.rendered{width:90%;}\n",
       "div.CodeMirror {font-family:Consolas; font-size:10pt;}\n",
       "div.output {font-size:9pt; font-weight:bold;}\n",
       "div.input {font-family:Consolas; font-size:9pt;}\n",
       "div.prompt {min-width:70px;}\n",
       "div#toc-wrapper{padding-top:120px;}\n",
       "span.toc-item-num{display:none;}\n",
       "div.text_cell_render ul li{font-size:9pt;padding:5px;}\n",
       "div.CodeMirror-lines > div {padding-left:10px;}\n",
       "table.dataframe{font-size:17pt;}\n",
       "</style>\n"
      ],
      "text/plain": [
       "<IPython.core.display.HTML object>"
      ]
     },
     "metadata": {},
     "output_type": "display_data"
    }
   ],
   "source": [
    "from IPython.display import display, HTML\n",
    "display(HTML(\"\"\"\n",
    "<style>\n",
    "div.container{width:99% !important;}\n",
    "div.cell.code_cell.rendered{width:90%;}\n",
    "div.CodeMirror {font-family:Consolas; font-size:10pt;}\n",
    "div.output {font-size:9pt; font-weight:bold;}\n",
    "div.input {font-family:Consolas; font-size:9pt;}\n",
    "div.prompt {min-width:70px;}\n",
    "div#toc-wrapper{padding-top:120px;}\n",
    "span.toc-item-num{display:none;}\n",
    "div.text_cell_render ul li{font-size:9pt;padding:5px;}\n",
    "div.CodeMirror-lines > div {padding-left:10px;}\n",
    "table.dataframe{font-size:17pt;}\n",
    "</style>\n",
    "\"\"\"))"
   ]
  },
  {
   "cell_type": "markdown",
   "id": "00504424",
   "metadata": {},
   "source": [
    "<b><font color=\"red\" size=\"6\">ch10. 데이터 베이스 연동</font></b>"
   ]
  },
  {
   "cell_type": "markdown",
   "id": "a0a1fbb7",
   "metadata": {},
   "source": [
    "# 1절. SQLite 데이터 베이스 연결\n",
    "- SQLite 데이터 베이스는 별도의 DBMS없이 SQL을 이용하여 DB 엑세스 할 수 있도록 만든 간단한 디스크 기반의 DB 제공\n",
    "- C 라이브러리\n",
    "- SQLite는 프로토타입을 만들 때 사용\n",
    "- 프로젝트 단계 : 분석 → 설계 → 구현 → 테스트 → 고객에게 배포 → 유지보수\n",
    "-               프로토타입(SQLite)  시제품     완제품(Oracle, MySql, Maria, ...)\n",
    "-\n",
    "- [DB browser for SQLite](https://sqlitebrowser.org/dl/)\n",
    "## 1.1 SQLite broswer 설치 및 sqlite3 패키지 load"
   ]
  },
  {
   "cell_type": "code",
   "execution_count": 5,
   "id": "60589124",
   "metadata": {},
   "outputs": [
    {
     "data": {
      "text/plain": [
       "'3.40.1'"
      ]
     },
     "execution_count": 5,
     "metadata": {},
     "output_type": "execute_result"
    }
   ],
   "source": [
    "import sqlite3\n",
    "sqlite3.sqlite_version # sqlite3 패키지의 버전"
   ]
  },
  {
   "cell_type": "code",
   "execution_count": 6,
   "id": "1a467e2b",
   "metadata": {},
   "outputs": [
    {
     "data": {
      "text/plain": [
       "'1.5.3'"
      ]
     },
     "execution_count": 6,
     "metadata": {},
     "output_type": "execute_result"
    }
   ],
   "source": [
    "import pandas as pd\n",
    "pd.__version__"
   ]
  },
  {
   "cell_type": "code",
   "execution_count": 7,
   "id": "4d74f22b",
   "metadata": {},
   "outputs": [
    {
     "data": {
      "text/plain": [
       "'1.23.5'"
      ]
     },
     "execution_count": 7,
     "metadata": {},
     "output_type": "execute_result"
    }
   ],
   "source": [
    "import numpy as np\n",
    "np.__version__"
   ]
  },
  {
   "cell_type": "markdown",
   "id": "3b09133a",
   "metadata": {},
   "source": [
    "## 1.2 데이터베이스 연결\n",
    "- SQLite로 DB 연결시, DB파일이 있으면 연결, DB파일이 없으면 빈 DB 파일 생성"
   ]
  },
  {
   "cell_type": "code",
   "execution_count": 13,
   "id": "3e0e4fd0",
   "metadata": {
    "ExecuteTime": {
     "end_time": "2024-11-21T01:36:03.957718Z",
     "start_time": "2024-11-21T01:36:03.952727Z"
    }
   },
   "outputs": [
    {
     "data": {
      "text/plain": [
       "<sqlite3.Connection at 0x1740bed7e40>"
      ]
     },
     "execution_count": 13,
     "metadata": {},
     "output_type": "execute_result"
    }
   ],
   "source": [
    "# DB 연결\n",
    "conn = sqlite3.connect('data/ch10_example.db')\n",
    "conn"
   ]
  },
  {
   "cell_type": "code",
   "execution_count": 14,
   "id": "7865e54d",
   "metadata": {
    "ExecuteTime": {
     "end_time": "2024-11-21T01:36:04.461947Z",
     "start_time": "2024-11-21T01:36:04.456960Z"
    }
   },
   "outputs": [
    {
     "data": {
      "text/plain": [
       "<sqlite3.Cursor at 0x1740ddfcfc0>"
      ]
     },
     "execution_count": 14,
     "metadata": {},
     "output_type": "execute_result"
    }
   ],
   "source": [
    "# 커서 객체 생성. 커서는 SQL문 실행시키고, 결과데이터를 조회(select, 그외)하는데 사용하는 객체\n",
    "cursor = conn.cursor()\n",
    "cursor"
   ]
  },
  {
   "cell_type": "code",
   "execution_count": 20,
   "id": "54f0c759",
   "metadata": {
    "ExecuteTime": {
     "end_time": "2024-11-21T01:32:27.995594Z",
     "start_time": "2024-11-21T01:32:27.944646Z"
    }
   },
   "outputs": [
    {
     "data": {
      "text/plain": [
       "<sqlite3.Cursor at 0x1827c2016c0>"
      ]
     },
     "execution_count": 20,
     "metadata": {},
     "output_type": "execute_result"
    }
   ],
   "source": [
    "cursor.execute('''\n",
    "    CREATE TABLE \"MEMBER\" (\n",
    "    \"NAME\" TEXT,\n",
    "    \"PHONE\" TEXT,\n",
    "    \"EMAIL\" TEXT,\n",
    "    \"AGE\" INTEGER,\n",
    "    \"GRADE\" INTEGER,\n",
    "    \"ETC\" TEXT\n",
    "    )\n",
    "''')"
   ]
  },
  {
   "cell_type": "code",
   "execution_count": 16,
   "id": "4af04753",
   "metadata": {
    "ExecuteTime": {
     "end_time": "2024-11-21T01:36:08.813326Z",
     "start_time": "2024-11-21T01:36:08.759474Z"
    }
   },
   "outputs": [
    {
     "data": {
      "text/plain": [
       "<sqlite3.Cursor at 0x1740ddfcfc0>"
      ]
     },
     "execution_count": 16,
     "metadata": {},
     "output_type": "execute_result"
    }
   ],
   "source": [
    "cursor.execute('DROP TABLE MEMBER')"
   ]
  },
  {
   "cell_type": "code",
   "execution_count": 17,
   "id": "25c2430a",
   "metadata": {
    "ExecuteTime": {
     "end_time": "2024-11-21T01:36:09.985951Z",
     "start_time": "2024-11-21T01:36:09.935714Z"
    }
   },
   "outputs": [
    {
     "data": {
      "text/plain": [
       "<sqlite3.Cursor at 0x1740ddfcfc0>"
      ]
     },
     "execution_count": 17,
     "metadata": {},
     "output_type": "execute_result"
    }
   ],
   "source": [
    "cursor.execute('''\n",
    "    CREATE TABLE MEMBER (\n",
    "        NAME TEXT,\n",
    "        AGE  INT,\n",
    "        EMAIL TEXT\n",
    "    )\n",
    "''')"
   ]
  },
  {
   "cell_type": "code",
   "execution_count": 13,
   "id": "f3862de0",
   "metadata": {},
   "outputs": [
    {
     "name": "stdout",
     "output_type": "stream",
     "text": [
      "수행 결과 행수 : 1\n",
      "수행 결과 행수 : 1\n",
      "수행 결과 행수 : 1\n"
     ]
    }
   ],
   "source": [
    "cursor.execute('INSERT INTO MEMBER VALUES (\\'홍길동\\', 20, \\'h@h.com\\')')\n",
    "print('수행 결과 행수 :', cursor.rowcount)\n",
    "sql = \"INSERT INTO MEMBER VALUES ('신길동', 25, 'S@S.COM')\"\n",
    "cursor.execute(sql)\n",
    "print('수행 결과 행수 :', cursor.rowcount)\n",
    "cursor.execute('INSERT INTO MEMBER VALUES (\\'신림동\\', 30, \\'l@h.com\\')')\n",
    "print('수행 결과 행수 :', cursor.rowcount)"
   ]
  },
  {
   "cell_type": "code",
   "execution_count": 14,
   "id": "5c783f96",
   "metadata": {},
   "outputs": [],
   "source": [
    "conn.commit() # 反. conn.rollback() DML문에서만 commit"
   ]
  },
  {
   "cell_type": "code",
   "execution_count": 15,
   "id": "1da03a78",
   "metadata": {},
   "outputs": [
    {
     "data": {
      "text/plain": [
       "<sqlite3.Cursor at 0x1d1fb01dec0>"
      ]
     },
     "execution_count": 15,
     "metadata": {},
     "output_type": "execute_result"
    }
   ],
   "source": [
    "# SQL전송 결과는 cursor가 가리킴\n",
    "cursor.execute(\"SELECT * FROM MEMBER ORDER BY NAME\")"
   ]
  },
  {
   "cell_type": "code",
   "execution_count": 16,
   "id": "8a81b7df",
   "metadata": {},
   "outputs": [
    {
     "name": "stdout",
     "output_type": "stream",
     "text": [
      "[('신길동', 25, 'S@S.COM'), ('신림동', 30, 'l@h.com'), ('홍길동', 20, 'h@h.com')]\n"
     ]
    }
   ],
   "source": [
    "# insert, update, delete 문 실행결과 : cursor.rowcount\n",
    "# select문 실행 결과를 받는 함수들\n",
    "    ## fetchone() : 결과를 한행씩 받을 때 (튜플)\n",
    "    ## fetchall() : 결과를 모두 받을 때 (튜플 list)\n",
    "    ## fetchmany(n) : 결과를 n행 받을 때 (튜플 list)\n",
    "print(cursor.fetchall())"
   ]
  },
  {
   "cell_type": "code",
   "execution_count": 17,
   "id": "e3fc0177",
   "metadata": {},
   "outputs": [
    {
     "name": "stdout",
     "output_type": "stream",
     "text": [
      "[]\n"
     ]
    }
   ],
   "source": [
    "print(cursor.fetchall()) # 한번 소요된 cursor 객체는 다시 fetch할 수 없음"
   ]
  },
  {
   "cell_type": "code",
   "execution_count": 18,
   "id": "03c37abf",
   "metadata": {},
   "outputs": [
    {
     "data": {
      "text/plain": [
       "[('홍길동', 20, 'h@h.com'), ('신길동', 25, 'S@S.COM'), ('신림동', 30, 'l@h.com')]"
      ]
     },
     "execution_count": 18,
     "metadata": {},
     "output_type": "execute_result"
    }
   ],
   "source": [
    "cursor.execute(\"SELECT NAME, AGE, EMAIL FROM MEMBER ORDER BY AGE\")\n",
    "members = cursor.fetchall()\n",
    "members # 튜플 리스트"
   ]
  },
  {
   "cell_type": "code",
   "execution_count": 20,
   "id": "a2d7b84a",
   "metadata": {},
   "outputs": [
    {
     "name": "stdout",
     "output_type": "stream",
     "text": [
      "('홍길동', 20, 'h@h.com')\n",
      "('신길동', 25, 'S@S.COM')\n",
      "('신림동', 30, 'l@h.com')\n"
     ]
    }
   ],
   "source": [
    "for member in members:\n",
    "    print(member)"
   ]
  },
  {
   "cell_type": "code",
   "execution_count": 22,
   "id": "f5ca1b87",
   "metadata": {},
   "outputs": [],
   "source": [
    "# 한줄씩 읽기\n",
    "cursor.execute(\"SELECT NAME, AGE, EMAIL FROM MEMBER ORDER BY AGE\")\n",
    "member_list = []\n",
    "while True:\n",
    "    member = cursor.fetchone() # SQL문 수행 결과 한줄 가져오기\n",
    "    if member is None:\n",
    "        break\n",
    "    #print(member)\n",
    "    member_list.append({'name':member[0], 'age': member[1], 'email': member[2]})"
   ]
  },
  {
   "cell_type": "code",
   "execution_count": 23,
   "id": "2e51ff9a",
   "metadata": {},
   "outputs": [
    {
     "data": {
      "text/plain": [
       "[{'name': '홍길동', 'age': 20, 'email': 'h@h.com'},\n",
       " {'name': '신길동', 'age': 25, 'email': 'S@S.COM'},\n",
       " {'name': '신림동', 'age': 30, 'email': 'l@h.com'}]"
      ]
     },
     "execution_count": 23,
     "metadata": {},
     "output_type": "execute_result"
    }
   ],
   "source": [
    "member_list"
   ]
  },
  {
   "cell_type": "code",
   "execution_count": 25,
   "id": "1d795d2c",
   "metadata": {},
   "outputs": [
    {
     "name": "stdout",
     "output_type": "stream",
     "text": [
      "('홍길동', 20, 'h@h.com')\n",
      "('신길동', 25, 'S@S.COM')\n",
      "('신림동', 30, 'l@h.com')\n"
     ]
    }
   ],
   "source": [
    "# 최상위 n행 읽기\n",
    "cursor.execute(\"SELECT NAME, AGE, EMAIL FROM MEMBER ORDER BY AGE\")\n",
    "for member in cursor.fetchmany(10):\n",
    "    print(member)"
   ]
  },
  {
   "cell_type": "code",
   "execution_count": 26,
   "id": "247b85f8",
   "metadata": {},
   "outputs": [],
   "source": [
    "class Member:\n",
    "    'Member 테이블의 내용을 받을 객체 타입'\n",
    "    def __init__(self, name, age, email):\n",
    "        self.name = name\n",
    "        self.age  = age\n",
    "        self.email= email\n",
    "    def as_dic(self): # insert문 전송시 필요\n",
    "        return {'name':self.name,\n",
    "                'age':self.age,\n",
    "                'email':self.email}\n",
    "    def __str__(self):\n",
    "        return \"{}\\t{}\\t{}\".format(self.name, self.age, self.email)\n",
    "def to_member(*row): # 튜플 데이터를 매개변수로 받아 Member형 객체로 return\n",
    "    return Member(row[0], row[1], row[2])"
   ]
  },
  {
   "cell_type": "code",
   "execution_count": 27,
   "id": "b43d6f6b",
   "metadata": {},
   "outputs": [
    {
     "name": "stdout",
     "output_type": "stream",
     "text": [
      "홍길동\t20\th@h.com\n",
      "{'name': '홍길동', 'age': 20, 'email': 'h@h.com'}\n"
     ]
    }
   ],
   "source": [
    "dbreadmember = ('홍길동', 20, 'h@h.com')\n",
    "m = to_member(*dbreadmember) # 튜플 언패킹\n",
    "print(m)\n",
    "print(m.as_dic())"
   ]
  },
  {
   "cell_type": "code",
   "execution_count": 29,
   "id": "2d41be54",
   "metadata": {},
   "outputs": [],
   "source": [
    "# DB 검색 결과를 객체 list로 \n",
    "cursor.execute('SELECT NAME, AGE, EMAIL FROM MEMBER')\n",
    "member_list = [] # sql문 수행 결과를 담을 객체 list\n",
    "members = cursor.fetchall() # 튜플 list\n",
    "#print(members)\n",
    "for member in members:\n",
    "    member_list.append(to_member(*member))"
   ]
  },
  {
   "cell_type": "code",
   "execution_count": 30,
   "id": "e960bfef",
   "metadata": {},
   "outputs": [
    {
     "data": {
      "text/plain": [
       "(tuple, __main__.Member)"
      ]
     },
     "execution_count": 30,
     "metadata": {},
     "output_type": "execute_result"
    }
   ],
   "source": [
    "type(members[0]), type(member_list[0])"
   ]
  },
  {
   "cell_type": "code",
   "execution_count": 31,
   "id": "265304ce",
   "metadata": {},
   "outputs": [
    {
     "name": "stdout",
     "output_type": "stream",
     "text": [
      "홍길동\t20\th@h.com\n",
      "신길동\t25\tS@S.COM\n",
      "신림동\t30\tl@h.com\n"
     ]
    }
   ],
   "source": [
    "for member in member_list:\n",
    "    print(member)"
   ]
  },
  {
   "cell_type": "code",
   "execution_count": 32,
   "id": "3927c971",
   "metadata": {},
   "outputs": [],
   "source": [
    "cursor.close() # cursor.close()는 생략 가능\n",
    "conn.close()"
   ]
  },
  {
   "cell_type": "markdown",
   "id": "67ff457e",
   "metadata": {},
   "source": [
    "## 1.3 SQL구문에 파라미터 사용하기\n",
    "- qmark(DB에 따라 불가한 경우가 있음)\n",
    "- named(추천)"
   ]
  },
  {
   "cell_type": "code",
   "execution_count": 21,
   "id": "21423d98",
   "metadata": {
    "ExecuteTime": {
     "end_time": "2024-11-21T01:32:42.325559Z",
     "start_time": "2024-11-21T01:32:42.319554Z"
    }
   },
   "outputs": [
    {
     "data": {
      "text/plain": [
       "[]"
      ]
     },
     "execution_count": 21,
     "metadata": {},
     "output_type": "execute_result"
    }
   ],
   "source": [
    "conn = sqlite3.connect('data/ch10_example.db')\n",
    "cursor = conn.cursor()\n",
    "cursor.execute(\"SELECT * FROM MEMBER WHERE NAME IN ('홍길동', '신길동')\")\n",
    "cursor.fetchall()"
   ]
  },
  {
   "cell_type": "code",
   "execution_count": 22,
   "id": "e6a5b827",
   "metadata": {
    "ExecuteTime": {
     "end_time": "2024-11-21T01:32:48.612191Z",
     "start_time": "2024-11-21T01:32:43.432661Z"
    }
   },
   "outputs": [
    {
     "name": "stdout",
     "output_type": "stream",
     "text": [
      "검색할 이름1 :신길동\n",
      "검색할 이름2 :신림동\n"
     ]
    },
    {
     "data": {
      "text/plain": [
       "[]"
      ]
     },
     "execution_count": 22,
     "metadata": {},
     "output_type": "execute_result"
    }
   ],
   "source": [
    "# 파라미터 사용하기 : qmark 방법 이용\n",
    "name1 = input('검색할 이름1 :')\n",
    "name2 = input('검색할 이름2 :')\n",
    "cursor.execute(\"SELECT * FROM MEMBER WHERE NAME IN (?,?)\", (name1, name2))\n",
    "cursor.fetchall()"
   ]
  },
  {
   "cell_type": "code",
   "execution_count": 23,
   "id": "d8f312b3",
   "metadata": {
    "ExecuteTime": {
     "end_time": "2024-11-21T01:32:54.444427Z",
     "start_time": "2024-11-21T01:32:50.824797Z"
    }
   },
   "outputs": [
    {
     "name": "stdout",
     "output_type": "stream",
     "text": [
      "검색할 이름1 :신길동\n",
      "검색할 이름2 :신림동\n"
     ]
    },
    {
     "data": {
      "text/plain": [
       "[]"
      ]
     },
     "execution_count": 23,
     "metadata": {},
     "output_type": "execute_result"
    }
   ],
   "source": [
    "# 파라미터 사용하기 : qmark 방법 이용\n",
    "name1 = input('검색할 이름1 :')\n",
    "name2 = input('검색할 이름2 :')\n",
    "names = (name1, name2)\n",
    "cursor.execute(\"SELECT * FROM MEMBER WHERE NAME IN (?,?)\", names)\n",
    "cursor.fetchall()"
   ]
  },
  {
   "cell_type": "code",
   "execution_count": 24,
   "id": "aacf0c0e",
   "metadata": {
    "ExecuteTime": {
     "end_time": "2024-11-21T01:32:58.706037Z",
     "start_time": "2024-11-21T01:32:56.305513Z"
    }
   },
   "outputs": [
    {
     "name": "stdout",
     "output_type": "stream",
     "text": [
      "검색할 이름은 > 신길동\n",
      "해당 이름의 데이터가 없습니다 []\n"
     ]
    }
   ],
   "source": [
    "# 파라미터 사용하기 : named 방법 이용\n",
    "name = input('검색할 이름은 > ')\n",
    "cursor.execute(\"SELECT * FROM MEMBER WHERE NAME=:name\", {'name':name})\n",
    "members = cursor.fetchall()\n",
    "if len(members):\n",
    "    print(members)\n",
    "else : \n",
    "    print('해당 이름의 데이터가 없습니다', members)"
   ]
  },
  {
   "cell_type": "code",
   "execution_count": 25,
   "id": "9b2f3845",
   "metadata": {
    "ExecuteTime": {
     "end_time": "2024-11-21T01:33:05.971818Z",
     "start_time": "2024-11-21T01:33:00.744816Z"
    }
   },
   "outputs": [
    {
     "name": "stdout",
     "output_type": "stream",
     "text": [
      "검색할 이름1 :신길동\n",
      "검색할 이름2 :홍길동\n"
     ]
    },
    {
     "data": {
      "text/plain": [
       "[]"
      ]
     },
     "execution_count": 25,
     "metadata": {},
     "output_type": "execute_result"
    }
   ],
   "source": [
    "# 파라미터 사용하기 :  named 방법 이용\n",
    "name1 = input('검색할 이름1 :')\n",
    "name2 = input('검색할 이름2 :')\n",
    "names = {'name1':name, 'name2':name2}\n",
    "# cursor.execute(\"SELECT * FROM MEMBER WHERE NAME IN (:name1, :name2)\", {'name1':name1,\n",
    "#                                                                        'name2':name2})\n",
    "cursor.execute(\"SELECT * FROM MEMBER WHERE NAME IN (:name1, :name2)\", names)\n",
    "cursor.fetchall()"
   ]
  },
  {
   "cell_type": "code",
   "execution_count": 26,
   "id": "11477a6c",
   "metadata": {
    "ExecuteTime": {
     "end_time": "2024-11-21T01:33:07.044598Z",
     "start_time": "2024-11-21T01:33:07.040603Z"
    }
   },
   "outputs": [],
   "source": [
    "import sqlite3\n",
    "conn = sqlite3.connect('data/ch10_example.db')\n",
    "cursor = conn.cursor()"
   ]
  },
  {
   "cell_type": "code",
   "execution_count": 18,
   "id": "6772dca2",
   "metadata": {
    "ExecuteTime": {
     "end_time": "2024-11-21T01:36:24.743811Z",
     "start_time": "2024-11-21T01:36:24.736830Z"
    }
   },
   "outputs": [],
   "source": [
    "class Member:\n",
    "    'Member 테이블의 내용을 받을 객체 타입'\n",
    "    def __init__(self, name, age, email):\n",
    "        self.name = name\n",
    "        self.age  = age\n",
    "        self.email= email\n",
    "    def as_dic(self): # insert문 전송시 필요\n",
    "        return {'name':self.name,\n",
    "                'age':self.age,\n",
    "                'email':self.email}\n",
    "    def __str__(self):\n",
    "        return \"{}\\t{}\\t{}\".format(self.name, self.age, self.email)\n",
    "def to_member(*row): # 튜플 데이터를 매개변수로 받아 Member형 객체로 return\n",
    "    return Member(row[0], row[1], row[2])"
   ]
  },
  {
   "cell_type": "code",
   "execution_count": 19,
   "id": "7adb99f4",
   "metadata": {
    "ExecuteTime": {
     "end_time": "2024-11-21T01:36:32.817762Z",
     "start_time": "2024-11-21T01:36:27.249371Z"
    }
   },
   "outputs": [
    {
     "name": "stdout",
     "output_type": "stream",
     "text": [
      "입력할 이름은 : 김길동\n",
      "입력할 나이는 : 23\n",
      "입력할 메일은 :k@k.com\n",
      "저장완료\n"
     ]
    }
   ],
   "source": [
    "# MEMBER 테이블에 입력(사용자로부터 이름, 나이, 메일을 입력받아 insert)\n",
    "try:\n",
    "    name = input('입력할 이름은 : ')\n",
    "    age = int(input('입력할 나이는 : '))\n",
    "except ValueError:\n",
    "    print('유효하지 않은 나이를 입력하신 경우 18세로 초기화')\n",
    "    age = 18\n",
    "finally:\n",
    "    email = input('입력할 메일은 :')\n",
    "inputdata = {'name':name, 'age':age, 'email':email} # named 방식\n",
    "inputdata2 = (name, age, email) # qmark 방식\n",
    "# cursor.execute('INSERT INTO MEMBER VALUES (?, ?, ?)', inputdata2)\n",
    "cursor.execute('INSERT INTO MEMBER VALUES (:name, :age, :email)', inputdata)\n",
    "conn.commit()\n",
    "if cursor.rowcount == 1:\n",
    "    print('저장완료')"
   ]
  },
  {
   "cell_type": "code",
   "execution_count": 20,
   "id": "92069071",
   "metadata": {
    "ExecuteTime": {
     "end_time": "2024-11-21T01:36:47.189041Z",
     "start_time": "2024-11-21T01:36:35.512784Z"
    }
   },
   "outputs": [
    {
     "name": "stdout",
     "output_type": "stream",
     "text": [
      "입력할 이름은 : 기길동\n",
      "입력할 나이는 : 24\n",
      "입력할 메일은 :g@g.com\n",
      "입력 성공\n"
     ]
    }
   ],
   "source": [
    "# MEMBER 테이블에 입력(사용자로부터 이름, 나이, 메일을 입력받아 insert)\n",
    "try:\n",
    "    name = input('입력할 이름은 : ')\n",
    "    age = int(input('입력할 나이는 : '))\n",
    "except ValueError:\n",
    "    print('유효하지 않은 나이를 입력하신 경우 18세로 초기화')\n",
    "    age = 18\n",
    "finally:\n",
    "    email = input('입력할 메일은 :')\n",
    "\n",
    "newMember = Member(name, age, email)\n",
    "# print(newMember.as_dic())\n",
    "cursor.execute('INSERT INTO MEMBER VALUES (:name, :age, :email)', newMember.as_dic())\n",
    "conn.commit()\n",
    "if cursor.rowcount==1:\n",
    "    print('입력 성공')"
   ]
  },
  {
   "cell_type": "code",
   "execution_count": 21,
   "id": "15e7d7f1",
   "metadata": {
    "ExecuteTime": {
     "end_time": "2024-11-21T01:37:15.433194Z",
     "start_time": "2024-11-21T01:36:50.126083Z"
    }
   },
   "outputs": [
    {
     "name": "stdout",
     "output_type": "stream",
     "text": [
      "입력할 이름은(종료는 0) : 기길동\n",
      "입력할 나이는 : 24\n",
      "입력할 메일은 : g@g.com\n",
      "입력할 이름은(종료는 0) : 김길동\n",
      "입력할 나이는 : 23\n",
      "입력할 메일은 : k@k.com\n",
      "입력할 이름은(종료는 0) : 9\n",
      "입력할 나이는 : 0\n",
      "입력할 메일은 : \n",
      "입력할 이름은(종료는 0) : -\n",
      "입력할 나이는 : -\n",
      "유효하지 않은 나이를 입력할 경우 18세로 초기화\n",
      "입력할 메일은 : -\n",
      "입력할 이름은(종료는 0) : 0\n",
      "입력된 데이터는 4명입니다\n",
      "기길동\t24\tg@g.com\n",
      "김길동\t23\tk@k.com\n",
      "9\t0\t\n",
      "-\t18\t-\n"
     ]
    }
   ],
   "source": [
    "# member 테이블에 데이터를 n번 입력하고 \n",
    "# 이름에 0을 입력할 때까지 이름, 나이, 메일을 받아 insert\n",
    "# 이름에 0을 입력하면 이때까지 입력한 데이터들을 출력하고 몇명을 입력했는지도 출력\n",
    "\n",
    "member_list = [] # 입력한 member들이 저장될 list변수(딕셔너리 리스트)\n",
    "while True:\n",
    "    try:\n",
    "        name = input('입력할 이름은(종료는 0) : ')\n",
    "        if name=='0':\n",
    "            break\n",
    "        age = int(input('입력할 나이는 : '))\n",
    "        email = input('입력할 메일은 : ')\n",
    "    except ValueError:\n",
    "        print('유효하지 않은 나이를 입력할 경우 18세로 초기화')\n",
    "        age = 18\n",
    "        email = input('입력할 메일은 : ')\n",
    "    newMember = {'name':name, 'age':age, 'email':email}\n",
    "    member_list.append(newMember)\n",
    "    cursor.execute('INSERT INTO MEMBER VALUES (:name, :age, :email)', newMember)\n",
    "    \n",
    "conn.commit()\n",
    "print('입력된 데이터는 ', len(member_list), '명입니다', sep='')\n",
    "for member in member_list:\n",
    "    print(\"{}\\t{}\\t{}\".format(member['name'], member['age'], member['email']))"
   ]
  },
  {
   "cell_type": "code",
   "execution_count": 22,
   "id": "8a59b4b0",
   "metadata": {
    "ExecuteTime": {
     "end_time": "2024-11-21T01:37:30.588378Z",
     "start_time": "2024-11-21T01:37:19.616242Z"
    }
   },
   "outputs": [
    {
     "name": "stdout",
     "output_type": "stream",
     "text": [
      "입력할 이름은(종료는 0) : 기길동\n",
      "입력할 나이는 : 24\n",
      "입력할 메일은 : g@g.com\n",
      "입력할 이름은(종료는 0) : 0\n",
      "입력한 자료는 다음과 같이 1명입니다\n",
      "이름\t나이\t메일\n",
      "기길동\t24\tg@g.com\n"
     ]
    }
   ],
   "source": [
    "member_list = [] # 입력한 member들이 저장될 list변수(객체 리스트)\n",
    "while True:\n",
    "    try:\n",
    "        name = input('입력할 이름은(종료는 0) : ')\n",
    "        if name=='0':\n",
    "            break\n",
    "        age = int(input('입력할 나이는 : '))\n",
    "        email = input('입력할 메일은 : ')\n",
    "    except ValueError:\n",
    "        print('유효하지 않은 나이를 입력할 경우 18세로 초기화')\n",
    "        age = 18\n",
    "        email = input('입력할 메일은 : ')\n",
    "    newMember = Member(name, age, email)\n",
    "    member_list.append(newMember)\n",
    "    cursor.execute('INSERT INTO MEMBER VALUES (:name, :age, :email)', newMember.as_dic())\n",
    "    \n",
    "conn.commit()\n",
    "print('입력한 자료는 다음과 같이 {}명입니다'.format(len(member_list)))\n",
    "print('이름\\t나이\\t메일')\n",
    "for member in member_list:\n",
    "    print(member)"
   ]
  },
  {
   "cell_type": "code",
   "execution_count": 23,
   "id": "e3ffcd9e",
   "metadata": {
    "ExecuteTime": {
     "end_time": "2024-11-21T01:37:32.118856Z",
     "start_time": "2024-11-21T01:37:32.111867Z"
    }
   },
   "outputs": [
    {
     "data": {
      "text/plain": [
       "[('김길동', 23, 'k@k.com'),\n",
       " ('기길동', 24, 'g@g.com'),\n",
       " ('기길동', 24, 'g@g.com'),\n",
       " ('김길동', 23, 'k@k.com'),\n",
       " ('9', 0, ''),\n",
       " ('-', 18, '-'),\n",
       " ('기길동', 24, 'g@g.com')]"
      ]
     },
     "execution_count": 23,
     "metadata": {},
     "output_type": "execute_result"
    }
   ],
   "source": [
    "# 입력확인은 DB browser 나 python으로\n",
    "cursor.execute('SELECT * FROM MEMBER')\n",
    "cursor.fetchall()"
   ]
  },
  {
   "cell_type": "code",
   "execution_count": 18,
   "id": "eb92ef1c",
   "metadata": {},
   "outputs": [],
   "source": [
    "cursor.close()\n",
    "conn.close()"
   ]
  },
  {
   "cell_type": "markdown",
   "id": "ac346398",
   "metadata": {},
   "source": [
    "# 2절. 오라클 데이터 베이스 연결\n",
    "- [cx_Oracle](https://cx-oracle.readthedocs.io/en/latest/) 사용"
   ]
  },
  {
   "cell_type": "code",
   "execution_count": 24,
   "id": "b116454f",
   "metadata": {
    "ExecuteTime": {
     "end_time": "2024-11-21T01:37:37.125892Z",
     "start_time": "2024-11-21T01:37:37.119920Z"
    }
   },
   "outputs": [],
   "source": [
    "import cx_Oracle"
   ]
  },
  {
   "cell_type": "code",
   "execution_count": 25,
   "id": "536c77ce",
   "metadata": {
    "ExecuteTime": {
     "end_time": "2024-11-21T01:37:37.979950Z",
     "start_time": "2024-11-21T01:37:37.960003Z"
    }
   },
   "outputs": [
    {
     "name": "stdout",
     "output_type": "stream",
     "text": [
      "(DESCRIPTION=(ADDRESS=(PROTOCOL=TCP)(HOST=localhost)(PORT=1521))(CONNECT_DATA=(SID=xe)))\n"
     ]
    },
    {
     "ename": "DatabaseError",
     "evalue": "DPI-1047: Cannot locate a 64-bit Oracle Client library: \"The specified module could not be found\". See https://cx-oracle.readthedocs.io/en/latest/user_guide/installation.html for help",
     "output_type": "error",
     "traceback": [
      "\u001b[1;31m---------------------------------------------------------------------------\u001b[0m",
      "\u001b[1;31mDatabaseError\u001b[0m                             Traceback (most recent call last)",
      "Cell \u001b[1;32mIn[25], line 4\u001b[0m\n\u001b[0;32m      2\u001b[0m oracle_dsn \u001b[38;5;241m=\u001b[39m cx_Oracle\u001b[38;5;241m.\u001b[39mmakedsn(host\u001b[38;5;241m=\u001b[39m\u001b[38;5;124m\"\u001b[39m\u001b[38;5;124mlocalhost\u001b[39m\u001b[38;5;124m\"\u001b[39m, port\u001b[38;5;241m=\u001b[39m\u001b[38;5;241m1521\u001b[39m, sid\u001b[38;5;241m=\u001b[39m\u001b[38;5;124m'\u001b[39m\u001b[38;5;124mxe\u001b[39m\u001b[38;5;124m'\u001b[39m)\n\u001b[0;32m      3\u001b[0m \u001b[38;5;28mprint\u001b[39m(oracle_dsn)\n\u001b[1;32m----> 4\u001b[0m conn \u001b[38;5;241m=\u001b[39m \u001b[43mcx_Oracle\u001b[49m\u001b[38;5;241;43m.\u001b[39;49m\u001b[43mconnect\u001b[49m\u001b[43m(\u001b[49m\u001b[38;5;124;43m\"\u001b[39;49m\u001b[38;5;124;43mscott\u001b[39;49m\u001b[38;5;124;43m\"\u001b[39;49m\u001b[43m,\u001b[49m\u001b[43m \u001b[49m\u001b[38;5;124;43m\"\u001b[39;49m\u001b[38;5;124;43mtiger\u001b[39;49m\u001b[38;5;124;43m\"\u001b[39;49m\u001b[43m,\u001b[49m\u001b[43m \u001b[49m\u001b[43mdsn\u001b[49m\u001b[38;5;241;43m=\u001b[39;49m\u001b[43moracle_dsn\u001b[49m\u001b[43m)\u001b[49m\n\u001b[0;32m      5\u001b[0m conn\n",
      "\u001b[1;31mDatabaseError\u001b[0m: DPI-1047: Cannot locate a 64-bit Oracle Client library: \"The specified module could not be found\". See https://cx-oracle.readthedocs.io/en/latest/user_guide/installation.html for help"
     ]
    }
   ],
   "source": [
    "# conn 얻어오는 방법1\n",
    "oracle_dsn = cx_Oracle.makedsn(host=\"localhost\", port=1521, sid='xe')\n",
    "print(oracle_dsn)\n",
    "conn = cx_Oracle.connect(\"scott\", \"tiger\", dsn=oracle_dsn)\n",
    "conn\n",
    "# 여기서 예외가 날 경우 VC_redist.x64.exe 인스톨"
   ]
  },
  {
   "cell_type": "code",
   "execution_count": 23,
   "id": "ee44e401",
   "metadata": {},
   "outputs": [],
   "source": [
    "conn.close()"
   ]
  },
  {
   "cell_type": "code",
   "execution_count": 26,
   "id": "72b9496f",
   "metadata": {
    "ExecuteTime": {
     "end_time": "2024-11-21T01:37:41.578829Z",
     "start_time": "2024-11-21T01:37:41.560877Z"
    }
   },
   "outputs": [
    {
     "ename": "DatabaseError",
     "evalue": "DPI-1047: Cannot locate a 64-bit Oracle Client library: \"The specified module could not be found\". See https://cx-oracle.readthedocs.io/en/latest/user_guide/installation.html for help",
     "output_type": "error",
     "traceback": [
      "\u001b[1;31m---------------------------------------------------------------------------\u001b[0m",
      "\u001b[1;31mDatabaseError\u001b[0m                             Traceback (most recent call last)",
      "Cell \u001b[1;32mIn[26], line 2\u001b[0m\n\u001b[0;32m      1\u001b[0m \u001b[38;5;66;03m# conn 얻어오는 방법2\u001b[39;00m\n\u001b[1;32m----> 2\u001b[0m conn \u001b[38;5;241m=\u001b[39m \u001b[43mcx_Oracle\u001b[49m\u001b[38;5;241;43m.\u001b[39;49m\u001b[43mconnect\u001b[49m\u001b[43m(\u001b[49m\u001b[38;5;124;43m\"\u001b[39;49m\u001b[38;5;124;43mscott\u001b[39;49m\u001b[38;5;124;43m\"\u001b[39;49m\u001b[43m,\u001b[49m\u001b[43m \u001b[49m\u001b[38;5;124;43m\"\u001b[39;49m\u001b[38;5;124;43mtiger\u001b[39;49m\u001b[38;5;124;43m\"\u001b[39;49m\u001b[43m,\u001b[49m\u001b[43m \u001b[49m\u001b[38;5;124;43m\"\u001b[39;49m\u001b[38;5;124;43mlocalhost:1521/xe\u001b[39;49m\u001b[38;5;124;43m\"\u001b[39;49m\u001b[43m)\u001b[49m\n\u001b[0;32m      3\u001b[0m conn\n",
      "\u001b[1;31mDatabaseError\u001b[0m: DPI-1047: Cannot locate a 64-bit Oracle Client library: \"The specified module could not be found\". See https://cx-oracle.readthedocs.io/en/latest/user_guide/installation.html for help"
     ]
    }
   ],
   "source": [
    "# conn 얻어오는 방법2\n",
    "conn = cx_Oracle.connect(\"scott\", \"tiger\", \"localhost:1521/xe\")\n",
    "conn"
   ]
  },
  {
   "cell_type": "code",
   "execution_count": 27,
   "id": "afc1e9e5",
   "metadata": {
    "ExecuteTime": {
     "end_time": "2024-11-21T01:37:46.290495Z",
     "start_time": "2024-11-21T01:37:46.272531Z"
    }
   },
   "outputs": [
    {
     "ename": "OperationalError",
     "evalue": "no such table: EMP",
     "output_type": "error",
     "traceback": [
      "\u001b[1;31m---------------------------------------------------------------------------\u001b[0m",
      "\u001b[1;31mOperationalError\u001b[0m                          Traceback (most recent call last)",
      "Cell \u001b[1;32mIn[27], line 4\u001b[0m\n\u001b[0;32m      2\u001b[0m cursor \u001b[38;5;241m=\u001b[39m conn\u001b[38;5;241m.\u001b[39mcursor()\n\u001b[0;32m      3\u001b[0m sql \u001b[38;5;241m=\u001b[39m \u001b[38;5;124m\"\u001b[39m\u001b[38;5;124mSELECT * FROM EMP\u001b[39m\u001b[38;5;124m\"\u001b[39m\n\u001b[1;32m----> 4\u001b[0m \u001b[43mcursor\u001b[49m\u001b[38;5;241;43m.\u001b[39;49m\u001b[43mexecute\u001b[49m\u001b[43m(\u001b[49m\u001b[43msql\u001b[49m\u001b[43m)\u001b[49m\n\u001b[0;32m      5\u001b[0m emp \u001b[38;5;241m=\u001b[39m cursor\u001b[38;5;241m.\u001b[39mfetchall()\n",
      "\u001b[1;31mOperationalError\u001b[0m: no such table: EMP"
     ]
    }
   ],
   "source": [
    "# cursor 객체 생성\n",
    "cursor = conn.cursor()\n",
    "sql = \"SELECT * FROM EMP\"\n",
    "cursor.execute(sql)\n",
    "emp = cursor.fetchall()"
   ]
  },
  {
   "cell_type": "code",
   "execution_count": 28,
   "id": "44c35e95",
   "metadata": {
    "ExecuteTime": {
     "end_time": "2024-11-21T01:37:47.802648Z",
     "start_time": "2024-11-21T01:37:47.784701Z"
    }
   },
   "outputs": [
    {
     "ename": "NameError",
     "evalue": "name 'emp' is not defined",
     "output_type": "error",
     "traceback": [
      "\u001b[1;31m---------------------------------------------------------------------------\u001b[0m",
      "\u001b[1;31mNameError\u001b[0m                                 Traceback (most recent call last)",
      "Cell \u001b[1;32mIn[28], line 1\u001b[0m\n\u001b[1;32m----> 1\u001b[0m \u001b[38;5;28;01mfor\u001b[39;00m e \u001b[38;5;129;01min\u001b[39;00m \u001b[43memp\u001b[49m: \u001b[38;5;66;03m# 튜플 리스트라 field가 많은 경우 가독성 다소 떨어짐\u001b[39;00m\n\u001b[0;32m      2\u001b[0m     \u001b[38;5;28mprint\u001b[39m(e)\n",
      "\u001b[1;31mNameError\u001b[0m: name 'emp' is not defined"
     ]
    }
   ],
   "source": [
    "for e in emp: # 튜플 리스트라 field가 많은 경우 가독성 다소 떨어짐\n",
    "    print(e)"
   ]
  },
  {
   "cell_type": "code",
   "execution_count": 29,
   "id": "09e1cdbd",
   "metadata": {
    "ExecuteTime": {
     "end_time": "2024-11-21T01:37:49.488165Z",
     "start_time": "2024-11-21T01:37:49.017424Z"
    }
   },
   "outputs": [
    {
     "ename": "NameError",
     "evalue": "name 'emp' is not defined",
     "output_type": "error",
     "traceback": [
      "\u001b[1;31m---------------------------------------------------------------------------\u001b[0m",
      "\u001b[1;31mNameError\u001b[0m                                 Traceback (most recent call last)",
      "Cell \u001b[1;32mIn[29], line 2\u001b[0m\n\u001b[0;32m      1\u001b[0m \u001b[38;5;28;01mimport\u001b[39;00m \u001b[38;5;21;01mpandas\u001b[39;00m \u001b[38;5;28;01mas\u001b[39;00m \u001b[38;5;21;01mpd\u001b[39;00m\n\u001b[1;32m----> 2\u001b[0m emp_df \u001b[38;5;241m=\u001b[39m pd\u001b[38;5;241m.\u001b[39mDataFrame(\u001b[43memp\u001b[49m)\n\u001b[0;32m      3\u001b[0m emp_df\u001b[38;5;241m.\u001b[39mhead()\n",
      "\u001b[1;31mNameError\u001b[0m: name 'emp' is not defined"
     ]
    }
   ],
   "source": [
    "import pandas as pd\n",
    "emp_df = pd.DataFrame(emp)\n",
    "emp_df.head()"
   ]
  },
  {
   "cell_type": "code",
   "execution_count": 34,
   "id": "0cbc9747",
   "metadata": {},
   "outputs": [
    {
     "data": {
      "text/plain": [
       "[('EMPNO', <cx_Oracle.DbType DB_TYPE_NUMBER>, 5, None, 4, 0, 0),\n",
       " ('ENAME', <cx_Oracle.DbType DB_TYPE_VARCHAR>, 10, 10, None, None, 1),\n",
       " ('JOB', <cx_Oracle.DbType DB_TYPE_VARCHAR>, 9, 9, None, None, 1),\n",
       " ('MGR', <cx_Oracle.DbType DB_TYPE_NUMBER>, 5, None, 4, 0, 1),\n",
       " ('HIREDATE', <cx_Oracle.DbType DB_TYPE_DATE>, 23, None, None, None, 1),\n",
       " ('SAL', <cx_Oracle.DbType DB_TYPE_NUMBER>, 11, None, 7, 2, 1),\n",
       " ('COMM', <cx_Oracle.DbType DB_TYPE_NUMBER>, 11, None, 7, 2, 1),\n",
       " ('DEPTNO', <cx_Oracle.DbType DB_TYPE_NUMBER>, 3, None, 2, 0, 1)]"
      ]
     },
     "execution_count": 34,
     "metadata": {},
     "output_type": "execute_result"
    }
   ],
   "source": [
    "# select문 수행한 필드 정보\n",
    "cursor.description"
   ]
  },
  {
   "cell_type": "code",
   "execution_count": 36,
   "id": "6b475f81",
   "metadata": {},
   "outputs": [
    {
     "data": {
      "text/plain": [
       "['empno', 'ename', 'job', 'mgr', 'hiredate', 'sal', 'comm', 'deptno']"
      ]
     },
     "execution_count": 36,
     "metadata": {},
     "output_type": "execute_result"
    }
   ],
   "source": [
    "result = []\n",
    "for description in cursor.description:\n",
    "    result.append(description[0])\n",
    "result"
   ]
  },
  {
   "cell_type": "code",
   "execution_count": 37,
   "id": "3747ab34",
   "metadata": {},
   "outputs": [
    {
     "data": {
      "text/plain": [
       "['EMPNO', 'ENAME', 'JOB', 'MGR', 'HIREDATE', 'SAL', 'COMM', 'DEPTNO']"
      ]
     },
     "execution_count": 37,
     "metadata": {},
     "output_type": "execute_result"
    }
   ],
   "source": [
    "[row[0] for row in cursor.description]"
   ]
  },
  {
   "cell_type": "code",
   "execution_count": 39,
   "id": "3401ca44",
   "metadata": {},
   "outputs": [
    {
     "data": {
      "text/plain": [
       "RangeIndex(start=0, stop=8, step=1)"
      ]
     },
     "execution_count": 39,
     "metadata": {},
     "output_type": "execute_result"
    }
   ],
   "source": [
    "emp_df.columns"
   ]
  },
  {
   "cell_type": "code",
   "execution_count": 42,
   "id": "079d276a",
   "metadata": {},
   "outputs": [
    {
     "data": {
      "text/html": [
       "<div>\n",
       "<style scoped>\n",
       "    .dataframe tbody tr th:only-of-type {\n",
       "        vertical-align: middle;\n",
       "    }\n",
       "\n",
       "    .dataframe tbody tr th {\n",
       "        vertical-align: top;\n",
       "    }\n",
       "\n",
       "    .dataframe thead th {\n",
       "        text-align: right;\n",
       "    }\n",
       "</style>\n",
       "<table border=\"1\" class=\"dataframe\">\n",
       "  <thead>\n",
       "    <tr style=\"text-align: right;\">\n",
       "      <th></th>\n",
       "      <th>EMPNO</th>\n",
       "      <th>ENAME</th>\n",
       "      <th>JOB</th>\n",
       "      <th>MGR</th>\n",
       "      <th>HIREDATE</th>\n",
       "      <th>SAL</th>\n",
       "      <th>COMM</th>\n",
       "      <th>DEPTNO</th>\n",
       "    </tr>\n",
       "  </thead>\n",
       "  <tbody>\n",
       "    <tr>\n",
       "      <th>12</th>\n",
       "      <td>7902</td>\n",
       "      <td>FORD</td>\n",
       "      <td>ANALYST</td>\n",
       "      <td>7566.0</td>\n",
       "      <td>1981-12-03</td>\n",
       "      <td>3000.0</td>\n",
       "      <td>NaN</td>\n",
       "      <td>20</td>\n",
       "    </tr>\n",
       "  </tbody>\n",
       "</table>\n",
       "</div>"
      ],
      "text/plain": [
       "    EMPNO ENAME      JOB     MGR   HIREDATE     SAL  COMM  DEPTNO\n",
       "12   7902  FORD  ANALYST  7566.0 1981-12-03  3000.0   NaN      20"
      ]
     },
     "execution_count": 42,
     "metadata": {},
     "output_type": "execute_result"
    }
   ],
   "source": [
    "emp_df.columns = [row[0] for row in cursor.description]\n",
    "emp_df.sample() # 임의의 한줄 출력"
   ]
  },
  {
   "cell_type": "code",
   "execution_count": 31,
   "id": "d1c6b0ed",
   "metadata": {
    "ExecuteTime": {
     "end_time": "2024-11-21T01:37:59.240162Z",
     "start_time": "2024-11-21T01:37:55.240118Z"
    }
   },
   "outputs": [
    {
     "name": "stdout",
     "output_type": "stream",
     "text": [
      "검색할 이름은 : ㅇ\n"
     ]
    },
    {
     "ename": "OperationalError",
     "evalue": "no such table: EMP",
     "output_type": "error",
     "traceback": [
      "\u001b[1;31m---------------------------------------------------------------------------\u001b[0m",
      "\u001b[1;31mOperationalError\u001b[0m                          Traceback (most recent call last)",
      "Cell \u001b[1;32mIn[31], line 4\u001b[0m\n\u001b[0;32m      2\u001b[0m ename \u001b[38;5;241m=\u001b[39m \u001b[38;5;28minput\u001b[39m(\u001b[38;5;124m'\u001b[39m\u001b[38;5;124m검색할 이름은 : \u001b[39m\u001b[38;5;124m'\u001b[39m)\n\u001b[0;32m      3\u001b[0m sql \u001b[38;5;241m=\u001b[39m \u001b[38;5;124m\"\u001b[39m\u001b[38;5;124mSELECT * FROM EMP WHERE ENAME=UPPER(:name)\u001b[39m\u001b[38;5;124m\"\u001b[39m\n\u001b[1;32m----> 4\u001b[0m \u001b[43mcursor\u001b[49m\u001b[38;5;241;43m.\u001b[39;49m\u001b[43mexecute\u001b[49m\u001b[43m(\u001b[49m\u001b[43msql\u001b[49m\u001b[43m,\u001b[49m\u001b[43m \u001b[49m\u001b[43m{\u001b[49m\u001b[38;5;124;43m'\u001b[39;49m\u001b[38;5;124;43mname\u001b[39;49m\u001b[38;5;124;43m'\u001b[39;49m\u001b[43m:\u001b[49m\u001b[43mename\u001b[49m\u001b[43m}\u001b[49m\u001b[43m)\u001b[49m\n\u001b[0;32m      5\u001b[0m emp \u001b[38;5;241m=\u001b[39m cursor\u001b[38;5;241m.\u001b[39mfetchall()\n\u001b[0;32m      6\u001b[0m \u001b[38;5;28;01mif\u001b[39;00m \u001b[38;5;28mlen\u001b[39m(emp):\n",
      "\u001b[1;31mOperationalError\u001b[0m: no such table: EMP"
     ]
    }
   ],
   "source": [
    "# 검색할 이름을 사용자에게 받아 해당 내용을 출력\n",
    "ename = input('검색할 이름은 : ')\n",
    "sql = \"SELECT * FROM EMP WHERE ENAME=UPPER(:name)\"\n",
    "cursor.execute(sql, {'name':ename})\n",
    "emp = cursor.fetchall()\n",
    "if len(emp):\n",
    "    for e in emp:\n",
    "        print(e)\n",
    "else:\n",
    "    print('입력하신 이름의 데이터는 없습니다')"
   ]
  },
  {
   "cell_type": "code",
   "execution_count": 30,
   "id": "896e8a32",
   "metadata": {
    "ExecuteTime": {
     "end_time": "2024-11-21T01:37:54.258280Z",
     "start_time": "2024-11-21T01:37:54.240322Z"
    }
   },
   "outputs": [
    {
     "ename": "TypeError",
     "evalue": "'NoneType' object is not iterable",
     "output_type": "error",
     "traceback": [
      "\u001b[1;31m---------------------------------------------------------------------------\u001b[0m",
      "\u001b[1;31mTypeError\u001b[0m                                 Traceback (most recent call last)",
      "Cell \u001b[1;32mIn[30], line 1\u001b[0m\n\u001b[1;32m----> 1\u001b[0m fieldnames \u001b[38;5;241m=\u001b[39m [description[\u001b[38;5;241m0\u001b[39m] \u001b[38;5;28;01mfor\u001b[39;00m description \u001b[38;5;129;01min\u001b[39;00m cursor\u001b[38;5;241m.\u001b[39mdescription]\n\u001b[0;32m      2\u001b[0m \u001b[38;5;28mprint\u001b[39m(fieldnames)\n\u001b[0;32m      3\u001b[0m \u001b[38;5;28mprint\u001b[39m(e)\n",
      "\u001b[1;31mTypeError\u001b[0m: 'NoneType' object is not iterable"
     ]
    }
   ],
   "source": [
    "fieldnames = [description[0] for description in cursor.description]\n",
    "print(fieldnames)\n",
    "print(e)"
   ]
  },
  {
   "cell_type": "code",
   "execution_count": 51,
   "id": "1e248973",
   "metadata": {},
   "outputs": [
    {
     "name": "stdout",
     "output_type": "stream",
     "text": [
      "EMPNO:7788\n",
      "ENAME:SCOTT\n",
      "JOB:ANALYST\n",
      "MGR:7566\n",
      "HIREDATE:1982-12-09 00:00:00\n",
      "SAL:3000.0\n",
      "COMM:\n",
      "DEPTNO:20\n"
     ]
    }
   ],
   "source": [
    "for idx in range(len(e)):\n",
    "    print(\"{}:{}\".format(fieldnames[idx], e[idx] if e[idx] is not None else ''))"
   ]
  },
  {
   "cell_type": "code",
   "execution_count": 52,
   "id": "1c6a8f5b",
   "metadata": {},
   "outputs": [
    {
     "data": {
      "text/plain": [
       "[('EMPNO', 7788),\n",
       " ('ENAME', 'SCOTT'),\n",
       " ('JOB', 'ANALYST'),\n",
       " ('MGR', 7566),\n",
       " ('HIREDATE', datetime.datetime(1982, 12, 9, 0, 0)),\n",
       " ('SAL', 3000.0),\n",
       " ('COMM', None),\n",
       " ('DEPTNO', 20)]"
      ]
     },
     "execution_count": 52,
     "metadata": {},
     "output_type": "execute_result"
    }
   ],
   "source": [
    "list(zip(fieldnames, e))"
   ]
  },
  {
   "cell_type": "code",
   "execution_count": 54,
   "id": "311ce4a7",
   "metadata": {},
   "outputs": [
    {
     "name": "stdout",
     "output_type": "stream",
     "text": [
      "EMPNO:7788\n",
      "ENAME:SCOTT\n",
      "JOB:ANALYST\n",
      "MGR:7566\n",
      "HIREDATE:1982-12-09 00:00:00\n",
      "SAL:3000.0\n",
      "COMM:-\n",
      "DEPTNO:20\n"
     ]
    }
   ],
   "source": [
    "for fieldname, data in zip(fieldnames, e):\n",
    "    print(\"{}:{}\".format(fieldname, data if data is not None else '-'))"
   ]
  },
  {
   "cell_type": "code",
   "execution_count": 55,
   "id": "9691e2f0",
   "metadata": {},
   "outputs": [],
   "source": [
    "cursor.close()\n",
    "conn.close()"
   ]
  },
  {
   "cell_type": "markdown",
   "id": "88be87c9",
   "metadata": {},
   "source": [
    "# 3절. 연습문제"
   ]
  },
  {
   "cell_type": "code",
   "execution_count": 32,
   "id": "caaebe1e",
   "metadata": {
    "ExecuteTime": {
     "end_time": "2024-11-21T01:38:04.117817Z",
     "start_time": "2024-11-21T01:38:04.111845Z"
    }
   },
   "outputs": [
    {
     "data": {
      "text/html": [
       "<style>\n",
       "span.toc-item-num{display:none;}\n",
       "</style>"
      ],
      "text/plain": [
       "<IPython.core.display.HTML object>"
      ]
     },
     "metadata": {},
     "output_type": "display_data"
    }
   ],
   "source": [
    "from IPython.display import display, HTML\n",
    "display(HTML(\"\"\"<style>\n",
    "span.toc-item-num{display:none;}\n",
    "</style>\"\"\"))"
   ]
  },
  {
   "cell_type": "markdown",
   "id": "fa0091b5",
   "metadata": {},
   "source": [
    "## 클래스 생성"
   ]
  },
  {
   "cell_type": "code",
   "execution_count": 75,
   "id": "9e2943cf",
   "metadata": {
    "ExecuteTime": {
     "end_time": "2024-11-21T01:57:22.702999Z",
     "start_time": "2024-11-21T01:57:22.695997Z"
    }
   },
   "outputs": [],
   "source": [
    "class Member:\n",
    "    def __init__(self,name,phone,email,age,grade,etc):\n",
    "        self.name = name\n",
    "        self.phone = phone\n",
    "        self.email = email\n",
    "        self.age = age\n",
    "        self.grade = grade\n",
    "        self.etc = etc\n",
    "        \n",
    "    def __str__(self):\n",
    "        return \"{:>5}\\t{:3}\\t{:15}\\t{:15}\\t{:3}\\t{}\".format('*'*self.grade, self.name, self.phone, self.email, self.age, self.etc)\n",
    "    def as_dict(self):\n",
    "        return{\"name\":self.name,\n",
    "              \"phone\":self.phone,\n",
    "              \"email\":self.email,\n",
    "              \"age\":self.age,\n",
    "              \"grade\":self.grade,\n",
    "              \"etc\":self.etc}\n",
    "def to_member(*row):\n",
    "    return Member(row[0], row[1], row[2], row[3], row[4], row[5])"
   ]
  },
  {
   "cell_type": "markdown",
   "id": "59f5cf2f",
   "metadata": {},
   "source": [
    "## 1번 기능. 입력"
   ]
  },
  {
   "cell_type": "code",
   "execution_count": 44,
   "id": "0f70c4ba",
   "metadata": {
    "ExecuteTime": {
     "end_time": "2024-11-21T01:39:43.541121Z",
     "start_time": "2024-11-21T01:39:43.472361Z"
    }
   },
   "outputs": [
    {
     "data": {
      "text/plain": [
       "<sqlite3.Cursor at 0x1740de36ec0>"
      ]
     },
     "execution_count": 44,
     "metadata": {},
     "output_type": "execute_result"
    }
   ],
   "source": [
    "cursor.execute('''\n",
    "    CREATE TABLE \"MEMBER\" (\n",
    "    \"name\" TEXT,\n",
    "    \"phone\" TEXT,\n",
    "    \"email\" TEXT,\n",
    "    \"age\" INTEGER,\n",
    "    \"grade\" INTEGER,\n",
    "    \"etc\" TEXT\n",
    "    )\n",
    "''')"
   ]
  },
  {
   "cell_type": "code",
   "execution_count": 43,
   "id": "46a8ba0a",
   "metadata": {
    "ExecuteTime": {
     "end_time": "2024-11-21T01:39:41.072184Z",
     "start_time": "2024-11-21T01:39:41.016537Z"
    }
   },
   "outputs": [
    {
     "data": {
      "text/plain": [
       "<sqlite3.Cursor at 0x1740de36ec0>"
      ]
     },
     "execution_count": 43,
     "metadata": {},
     "output_type": "execute_result"
    }
   ],
   "source": [
    "cursor.execute('DROP TABLE MEMBER')"
   ]
  },
  {
   "cell_type": "code",
   "execution_count": 74,
   "id": "e26df575",
   "metadata": {
    "ExecuteTime": {
     "end_time": "2024-11-21T01:57:20.119538Z",
     "start_time": "2024-11-21T01:57:20.112578Z"
    },
    "code_folding": []
   },
   "outputs": [],
   "source": [
    "def insert_member():\n",
    "    cursor = conn.cursor()\n",
    "    name = input('이름 : ')\n",
    "    phone = input(\"전화번호 : \")\n",
    "    email = input(\"이메일 : \")\n",
    "    try:\n",
    "        age = int(input(\"나이 : \"))\n",
    "        if age<0:\n",
    "            age = 0\n",
    "    except ValueError as e:\n",
    "        pirnt('유효하지 않은 나이 입력시 0')\n",
    "        age = 0\n",
    "    try:\n",
    "        grade = int(input(\"등급 : \"))\n",
    "        if grade < 1:\n",
    "            grade = 1\n",
    "        if grade > 5:\n",
    "            grade = 5\n",
    "    except ValueError as e:\n",
    "        print('유효하지 않은 등급 입력시 1')\n",
    "        grade = 1\n",
    "    etc = input('기타정보 : ')\n",
    "    member = Member(name, phone, email, age, grade, etc)\n",
    "    cursor.execute('''\n",
    "        INSERT INTO MEMBER VALUES (:name, :phone, :email, :age, :grade, :etc)\n",
    "    ''', member.as_dict())\n",
    "    conn.commit()\n",
    "    print(member, \"님 데이터 저장완료\")\n",
    "    cursor.close()"
   ]
  },
  {
   "cell_type": "code",
   "execution_count": 71,
   "id": "feb3fe6f",
   "metadata": {
    "ExecuteTime": {
     "end_time": "2024-11-21T01:57:03.506646Z",
     "start_time": "2024-11-21T01:56:46.872505Z"
    },
    "scrolled": true
   },
   "outputs": [
    {
     "name": "stdout",
     "output_type": "stream",
     "text": [
      "이름 : 홍길동\n",
      "전화번호 : 010-2345-6789\n",
      "이메일 : h@hong.com\n",
      "나이 : 25\n",
      "등급 : 1\n",
      "기타정보 : 주\n",
      "    *\t홍길동\t010-2345-6789  \th@hong.com     \t 25\t주 님 데이터 저장완료\n"
     ]
    }
   ],
   "source": [
    "# 입력 test\n",
    "import sqlite3\n",
    "conn = sqlite3.connect('data/ch10_data.db')\n",
    "insert_member()"
   ]
  },
  {
   "cell_type": "markdown",
   "id": "3d91deda",
   "metadata": {},
   "source": [
    "## 2번 기능. 전체조회"
   ]
  },
  {
   "cell_type": "code",
   "execution_count": 72,
   "id": "c0fa38bf",
   "metadata": {
    "ExecuteTime": {
     "end_time": "2024-11-21T01:57:06.534465Z",
     "start_time": "2024-11-21T01:57:06.528500Z"
    }
   },
   "outputs": [],
   "source": [
    "# 2. 전체조회 함수\n",
    "def select_all():\n",
    "    cursor = conn.cursor()\n",
    "    cursor.execute(\"SELECT * FROM MEMBER\")\n",
    "    members = cursor.fetchall()\n",
    "    print('='*70)\n",
    "    print(\"{:^70}\".format(\"고객정보\"))\n",
    "    print('~'*70)\n",
    "    print(\"{:5}\\t{:^3}\\t{:^10}{:^15}\\t{:^3}\\t{}\".format(\"GRADE\", \"이름\", \"전화\", \"이메일\", \"나이\", \"기타\"))\n",
    "    print('='*70)\n",
    "    for member in members:\n",
    "        print(to_member(*member))\n",
    "    if len(members) == 0:\n",
    "        print('저장된 회원이 없습니다')\n",
    "    print('='*70)\n",
    "    cursor.close()"
   ]
  },
  {
   "cell_type": "code",
   "execution_count": 80,
   "id": "674f74c7",
   "metadata": {
    "ExecuteTime": {
     "end_time": "2024-11-21T01:59:14.364981Z",
     "start_time": "2024-11-21T01:59:14.360992Z"
    }
   },
   "outputs": [
    {
     "name": "stdout",
     "output_type": "stream",
     "text": [
      "======================================================================\n",
      "                                 고객정보                                 \n",
      "~~~~~~~~~~~~~~~~~~~~~~~~~~~~~~~~~~~~~~~~~~~~~~~~~~~~~~~~~~~~~~~~~~~~~~\n",
      "GRADE\t이름 \t    전화          이메일      \t나이 \t기타\n",
      "======================================================================\n",
      "    *\t김길동\t010-9876-5432  \tk@kim.com      \t 30\t부\n",
      "    *\t스코트\t010-2323-2323  \tscott@oracle.com\t 50\tScott\n",
      "    *\t홍길동\t010-2345-6789  \th@hong.com     \t 25\t주\n",
      "======================================================================\n"
     ]
    }
   ],
   "source": [
    "# 위 test\n",
    "select_all()"
   ]
  },
  {
   "cell_type": "markdown",
   "id": "3b220306",
   "metadata": {},
   "source": [
    "## 3번 기능. 이름찾기"
   ]
  },
  {
   "cell_type": "code",
   "execution_count": 81,
   "id": "9d444efe",
   "metadata": {
    "ExecuteTime": {
     "end_time": "2024-11-21T02:02:27.134745Z",
     "start_time": "2024-11-21T02:02:27.128794Z"
    }
   },
   "outputs": [],
   "source": [
    "# 3. 이름찾기 함수        \n",
    "def select_name():\n",
    "    cursor = conn.cursor()\n",
    "    name = input('검색할 이름을 입력하세요 : ')\n",
    "    cursor.execute(\"SELECT * FROM MEMBER WHERE NAME=?\",(name,))\n",
    "    members = cursor.fetchall()\n",
    "    for member in members:\n",
    "        print(to_member(*member))\n",
    "    if len(members):\n",
    "        print(\"이상 {}명 조회 됨\".format(len(members)))\n",
    "    else:\n",
    "        print(\"해당 이름의 회원이 조회되지 않습니다\")\n",
    "    cursor.close()"
   ]
  },
  {
   "cell_type": "code",
   "execution_count": 83,
   "id": "c401b9d7",
   "metadata": {
    "ExecuteTime": {
     "end_time": "2024-11-21T02:02:33.722078Z",
     "start_time": "2024-11-21T02:02:31.864208Z"
    }
   },
   "outputs": [
    {
     "name": "stdout",
     "output_type": "stream",
     "text": [
      "검색할 이름을 입력하세요 : 김길동\n",
      "    *\t김길동\t010-9876-5432  \tk@kim.com      \t 30\t부\n",
      "이상 1명 조회 됨\n"
     ]
    }
   ],
   "source": [
    "# 위 함수 test\n",
    "select_name()"
   ]
  },
  {
   "cell_type": "markdown",
   "id": "d4cdb494",
   "metadata": {},
   "source": [
    "## 4번 기능. 메일로 삭제"
   ]
  },
  {
   "cell_type": "code",
   "execution_count": 85,
   "id": "4ec22bd6",
   "metadata": {
    "ExecuteTime": {
     "end_time": "2024-11-21T02:02:56.197772Z",
     "start_time": "2024-11-21T02:02:56.191761Z"
    }
   },
   "outputs": [],
   "source": [
    "# 4. 메일로 삭제 함수\n",
    "def delete_email():\n",
    "    cursor = conn.cursor()\n",
    "    email = input('삭제할 회원의 이메일을 입력하세요 ')\n",
    "    cursor.execute('DELETE FROM MEMBER WHERE EMAIL=:email',{'email':email})\n",
    "    conn.commit()\n",
    "    if cursor.rowcount != 0:\n",
    "        print('요청하신 메일 {}행을 삭제하였습니다'.format(cursor.rowcount))\n",
    "    else:\n",
    "        print('요청하신 메일이 데이터에 존재하지 않습니다')\n",
    "    cursor.close()"
   ]
  },
  {
   "cell_type": "code",
   "execution_count": 86,
   "id": "a762d21a",
   "metadata": {
    "ExecuteTime": {
     "end_time": "2024-11-21T02:03:01.328620Z",
     "start_time": "2024-11-21T02:02:57.103668Z"
    }
   },
   "outputs": [
    {
     "name": "stdout",
     "output_type": "stream",
     "text": [
      "삭제할 회원의 이메일을 입력하세요 l@l.com\n",
      "요청하신 메일이 데이터에 존재하지 않습니다\n"
     ]
    }
   ],
   "source": [
    "# 위 함수 test\n",
    "delete_email()"
   ]
  },
  {
   "cell_type": "markdown",
   "id": "587273d4",
   "metadata": {},
   "source": [
    "## 5번 기능. 데이터베이스에서 조회한 정보를 CSV 파일로 내보내기"
   ]
  },
  {
   "cell_type": "code",
   "execution_count": 87,
   "id": "e79cc7b6",
   "metadata": {
    "ExecuteTime": {
     "end_time": "2024-11-21T02:03:06.118532Z",
     "start_time": "2024-11-21T02:03:06.112522Z"
    }
   },
   "outputs": [],
   "source": [
    "# 5. 데이터베이스에서 조회한 정보를 CSV 파일로 저장하는 함수\n",
    "def save_csv():\n",
    "    'sql 실행 결과를 튜플 리스트로 받아와서 db결과 title(description)과 튜플을 csv에 출력'\n",
    "    import csv\n",
    "    cursor = conn.cursor()\n",
    "    cursor.execute('SELECT * FROM MEMBER')\n",
    "    members = cursor.fetchall()\n",
    "    fieldnames = [description[0] for description in cursor.description ]\n",
    "#     fieldnames = [description[0].lower() for description in cursor.description ]\n",
    "    cursor.close()\n",
    "    \n",
    "    file_name = input('파일명을 입력하세요(csv 확장자 포함)')\n",
    "    with open('data/'+file_name, 'w', newline='', encoding='utf-8') as file:\n",
    "        writer = csv.writer(file)\n",
    "        writer.writerow(fieldnames)\n",
    "        writer.writerows(members)"
   ]
  },
  {
   "cell_type": "code",
   "execution_count": 88,
   "id": "92937394",
   "metadata": {
    "ExecuteTime": {
     "end_time": "2024-11-21T02:03:09.913290Z",
     "start_time": "2024-11-21T02:03:06.847534Z"
    }
   },
   "outputs": [
    {
     "name": "stdout",
     "output_type": "stream",
     "text": [
      "파일명을 입력하세요(csv 확장자 포함)aaa.csv\n"
     ]
    }
   ],
   "source": [
    "save_csv()"
   ]
  },
  {
   "cell_type": "code",
   "execution_count": 89,
   "id": "34750190",
   "metadata": {
    "ExecuteTime": {
     "end_time": "2024-11-21T02:03:13.310289Z",
     "start_time": "2024-11-21T02:03:13.304277Z"
    }
   },
   "outputs": [],
   "source": [
    "# 5. 데이터베이스에서 조회한 정보를 CSV 파일로 저장하는 함수\n",
    "def save_csv():\n",
    "    'sql 실행 결과를 딕셔너리 리스트로 받아와 csv에 출력'\n",
    "    import csv\n",
    "    member_dict_list = []\n",
    "    cursor = conn.cursor()\n",
    "    cursor.execute('SELECT * FROM MEMBER')\n",
    "    members = cursor.fetchall()\n",
    "    for member in members:\n",
    "        member_dict_list.append(to_member(*member).as_dict())\n",
    "    cursor.close()\n",
    "    \n",
    "    fieldnames = [description[0] for description in cursor.description ]\n",
    "    #print(fieldnames)\n",
    "    filename = input('파일명을 입력하세요(csv 확장자 포함)')\n",
    "    try :\n",
    "        with open('data/'+filename, 'w', newline='', encoding='UTF-8') as f:\n",
    "            dict_writer = csv.DictWriter(f, fieldnames=fieldnames)\n",
    "            dict_writer.writeheader()\n",
    "            dict_writer.writerows(member_dict_list)\n",
    "    except Exception as e:\n",
    "        print('데이터 내보내기 예외 :', e)"
   ]
  },
  {
   "cell_type": "code",
   "execution_count": 92,
   "id": "e355f655",
   "metadata": {
    "ExecuteTime": {
     "end_time": "2024-11-21T02:03:34.314033Z",
     "start_time": "2024-11-21T02:03:29.440642Z"
    }
   },
   "outputs": [
    {
     "name": "stdout",
     "output_type": "stream",
     "text": [
      "파일명을 입력하세요(csv 확장자 포함)asw.csv\n",
      "데이터 내보내기 예외 : dict contains fields not in fieldnames: 'etc', 'phone', 'grade', 'age', 'name', 'email'\n"
     ]
    }
   ],
   "source": [
    "save_csv()"
   ]
  },
  {
   "cell_type": "markdown",
   "id": "95db0620",
   "metadata": {},
   "source": [
    "## 0번 기능. 종료"
   ]
  },
  {
   "cell_type": "code",
   "execution_count": 93,
   "id": "f5e352c6",
   "metadata": {
    "ExecuteTime": {
     "end_time": "2024-11-21T02:03:36.475329Z",
     "start_time": "2024-11-21T02:03:36.471340Z"
    }
   },
   "outputs": [],
   "source": [
    "# 0. 종료\n",
    "def close_sql():\n",
    "    global conn\n",
    "    conn.close()\n",
    "    print(\"종료합니다\")"
   ]
  },
  {
   "cell_type": "markdown",
   "id": "1347def1",
   "metadata": {},
   "source": [
    "## main"
   ]
  },
  {
   "cell_type": "code",
   "execution_count": 94,
   "id": "0deb153f",
   "metadata": {
    "ExecuteTime": {
     "end_time": "2024-11-21T02:04:05.433067Z",
     "start_time": "2024-11-21T02:03:38.678992Z"
    }
   },
   "outputs": [
    {
     "name": "stdout",
     "output_type": "stream",
     "text": [
      "1.입력 | 2.전체 조회 | 3.이름 찾기 | 4.메일 삭제 | 5.CSV 내보내기 | 0.종료\n",
      "메뉴 선택: 1\n",
      "이름 : 박혁거세\n",
      "전화번호 : 010-999-9999\n",
      "이메일 : p@park.com\n",
      "나이 : 100\n",
      "등급 : 2\n",
      "기타정보 : e\n",
      "   **\t박혁거세\t010-999-9999   \tp@park.com     \t100\te 님 데이터 저장완료\n",
      "1.입력 | 2.전체 조회 | 3.이름 찾기 | 4.메일 삭제 | 5.CSV 내보내기 | 0.종료\n",
      "메뉴 선택: 2\n",
      "======================================================================\n",
      "                                 고객정보                                 \n",
      "~~~~~~~~~~~~~~~~~~~~~~~~~~~~~~~~~~~~~~~~~~~~~~~~~~~~~~~~~~~~~~~~~~~~~~\n",
      "GRADE\t이름 \t    전화          이메일      \t나이 \t기타\n",
      "======================================================================\n",
      "    *\t김길동\t010-9876-5432  \tk@kim.com      \t 30\t부\n",
      "    *\t스코트\t010-2323-2323  \tscott@oracle.com\t 50\tScott\n",
      "    *\t홍길동\t010-2345-6789  \th@hong.com     \t 25\t주\n",
      "   **\t박혁거세\t010-999-9999   \tp@park.com     \t100\te\n",
      "======================================================================\n",
      "1.입력 | 2.전체 조회 | 3.이름 찾기 | 4.메일 삭제 | 5.CSV 내보내기 | 0.종료\n",
      "메뉴 선택: 0\n",
      "종료합니다\n"
     ]
    }
   ],
   "source": [
    "def main():\n",
    "    while True:\n",
    "        print(\"1.입력\", \"2.전체 조회\", \"3.이름 찾기\", \"4.메일 삭제\", \"5.CSV 내보내기\", \"0.종료\",\n",
    "             sep=\" | \")\n",
    "        try:\n",
    "            menu = int(input(\"메뉴 선택: \"))\n",
    "        except:\n",
    "            print(\"유효하지 않은 값을 입력하였습니다. 다시 선택해주세요.\")\n",
    "        if menu==1:\n",
    "            insert_member()\n",
    "        elif menu==2:\n",
    "            select_all()\n",
    "        elif menu==3:\n",
    "            select_name()\n",
    "        elif menu==4:\n",
    "            delete_email()\n",
    "        elif menu==5:\n",
    "            save_csv()\n",
    "        elif menu==0:\n",
    "            close_sql()\n",
    "            break\n",
    "\n",
    "if __name__=='__main__':\n",
    "    import sqlite3\n",
    "    global conn\n",
    "    conn = sqlite3.connect('data/ch10_data.db')\n",
    "    main()            "
   ]
  },
  {
   "cell_type": "markdown",
   "id": "ce326db7",
   "metadata": {},
   "source": [
    "## 연습문제 SQLite 버전"
   ]
  },
  {
   "cell_type": "code",
   "execution_count": 101,
   "id": "73a3a6de",
   "metadata": {
    "ExecuteTime": {
     "end_time": "2024-11-21T02:27:36.566747Z",
     "start_time": "2024-11-21T02:27:36.553770Z"
    }
   },
   "outputs": [],
   "source": [
    "class Member:\n",
    "    def __init__(self, name, phone, email, age, grade, etc):\n",
    "        self.name = name\n",
    "        self.phone = phone\n",
    "        self.email = email\n",
    "        self.age = age\n",
    "        self.grade = grade\n",
    "        self.etc = etc\n",
    "    def __str__(self):\n",
    "        return \"{:>5}\\t{:3}\\t{:15}\\t{:15}\\t{:3}\\5{}\".format('*'*self.grade, self.name, self.phone, self.email, self.age, self.etc)\n",
    "    def as_dict(self):\n",
    "        return {\"name\":self.name, \"phone\":self.phone, \"email\":self.email, \"age\":self.age, \"grade\":self.grade, \"etc\":self.etc}\n",
    "    def to_member(*row):\n",
    "        return Member(row[0], row[1], row[2], row[3], row[4], row[5])\n",
    "#입력\n",
    "\n",
    "def insert_member():\n",
    "        cursor = conn.cursor()\n",
    "        name = input('이름 : ')\n",
    "        phone = input(\"전화번호 : \")\n",
    "        email = input(\"이메일 : \")\n",
    "        try:\n",
    "            age = int(input(\"나이: \"))\n",
    "            if age<0:\n",
    "                age = 0\n",
    "        except ValueError as e:\n",
    "            print('유효하지 않은 나이 입력시 0')\n",
    "            age=0\n",
    "        try:\n",
    "            grade = int(input(\"고객등급: \"))\n",
    "            if grade<1:\n",
    "                grade=1\n",
    "            if grade>5:\n",
    "                grade=5\n",
    "        except ValueError as e:\n",
    "            print('유효하지 않은 등급 입력시 1')\n",
    "            grade=1\n",
    "        etc = input('기타정보: ')\n",
    "        member = Member(name, phone, email, age, grade, etc)\n",
    "        cursor.execute('''\n",
    "            INSERT INTO MEMBER VALUES(:name, :phone, :email, :age, :grade, :etc)\n",
    "        ''', member.as_dict())\n",
    "        conn.commit()\n",
    "        print(member, \"님 저장완료\")\n",
    "        cursor.close()\n",
    "        \n",
    "# 전체조회\n",
    "\n",
    "def select_all():\n",
    "    cursor = conn.cursor()\n",
    "    cursor.execute(\"SELECT * FROM MEMBER\")\n",
    "    members = cursor.fetchall()\n",
    "    print('='*70)\n",
    "    print(\"{:^70}\".format(\"고객정보\"))\n",
    "    print('-'*70)\n",
    "    print(\"{:^5}\\t{:^3}\\t{:^10}{:^15}\\t{:^3}\\t{}\".format(\"GRADE\", \"이름\", \"전화\", \"이메일\", \"나이\", \"기타\"))\n",
    "    print('='*70)\n",
    "    for member in members:\n",
    "        print(to_member(*member))\n",
    "    if len(members)==0:\n",
    "        print(\"저장된 회원이 없습니다\")\n",
    "    print('='*70)\n",
    "    cursor.close()\n",
    "    \n",
    "# 이름 찾기\n",
    "\n",
    "def select_name():\n",
    "    cursor = conn.cursor()\n",
    "    name= input('검색할 이름을 입력하세요: ')\n",
    "    cursor.execute(\"SELECT * FROM MEMBER WHERE NAME=?\", (name,))\n",
    "    members = cursor.fetchall()\n",
    "    for member in members:\n",
    "        print(to_member(*member))\n",
    "    if len(members):\n",
    "        print(\"이상 {}명 조회됨\".format(len(members)))\n",
    "    else:\n",
    "        print(\"해당 이름은 존재하지 않는 회원입니다.\")\n",
    "    cursor.close()\n",
    "    \n",
    "# 메일로 삭제\n",
    "\n",
    "def delete_email():\n",
    "    cursor = conn.cursor()\n",
    "    email = input(\"삭제할 회원의 이메일을 입력하세요 : \")\n",
    "    cursor.execute('DELETE FROM MEMBER WHERE EMAIL=:email',{'email':email})\n",
    "    conn.commit()\n",
    "    if cursor.rowcount:\n",
    "        print('요청하신 메일 {}행을 삭제하였습니다'.format(cursor.rowcount))\n",
    "    else:\n",
    "        print('요청하신 메일이 데이터에 존재하지 않습니다')\n",
    "    cursor.close()\n",
    "    \n",
    "# csv 저장\n",
    "\n",
    "def save_csv():\n",
    "    import csv\n",
    "    cursor = conn.cursor()\n",
    "    cursor.execute('SELECT * FROM MEMBER')\n",
    "    members = cursor.fetchall()\n",
    "    fieldnames = [description[0] for description in cursor.description]\n",
    "    cursor.close()\n",
    "            "
   ]
  },
  {
   "cell_type": "code",
   "execution_count": null,
   "id": "731760f7",
   "metadata": {},
   "outputs": [],
   "source": []
  },
  {
   "cell_type": "code",
   "execution_count": null,
   "id": "f8cd7d03",
   "metadata": {},
   "outputs": [],
   "source": []
  },
  {
   "cell_type": "code",
   "execution_count": null,
   "id": "d5940175",
   "metadata": {},
   "outputs": [],
   "source": []
  },
  {
   "cell_type": "code",
   "execution_count": null,
   "id": "60aadbc3",
   "metadata": {},
   "outputs": [],
   "source": []
  },
  {
   "cell_type": "code",
   "execution_count": null,
   "id": "84947034",
   "metadata": {},
   "outputs": [],
   "source": []
  },
  {
   "cell_type": "code",
   "execution_count": null,
   "id": "8f622c17",
   "metadata": {},
   "outputs": [],
   "source": []
  },
  {
   "cell_type": "code",
   "execution_count": null,
   "id": "288ed9b1",
   "metadata": {},
   "outputs": [],
   "source": []
  },
  {
   "cell_type": "code",
   "execution_count": null,
   "id": "8cd4a3eb",
   "metadata": {},
   "outputs": [],
   "source": []
  },
  {
   "cell_type": "code",
   "execution_count": null,
   "id": "eea9d12d",
   "metadata": {},
   "outputs": [],
   "source": []
  },
  {
   "cell_type": "code",
   "execution_count": null,
   "id": "bb9acf9e",
   "metadata": {},
   "outputs": [],
   "source": []
  },
  {
   "cell_type": "code",
   "execution_count": null,
   "id": "2528824f",
   "metadata": {},
   "outputs": [],
   "source": []
  },
  {
   "cell_type": "code",
   "execution_count": null,
   "id": "7a6b9def",
   "metadata": {},
   "outputs": [],
   "source": []
  },
  {
   "cell_type": "code",
   "execution_count": null,
   "id": "babf0aa0",
   "metadata": {},
   "outputs": [],
   "source": []
  },
  {
   "cell_type": "code",
   "execution_count": null,
   "id": "a00b4f3d",
   "metadata": {},
   "outputs": [],
   "source": []
  },
  {
   "cell_type": "code",
   "execution_count": null,
   "id": "bd1baa99",
   "metadata": {},
   "outputs": [],
   "source": []
  },
  {
   "cell_type": "code",
   "execution_count": null,
   "id": "ba4c25e9",
   "metadata": {},
   "outputs": [],
   "source": []
  },
  {
   "cell_type": "code",
   "execution_count": null,
   "id": "ae6d5f24",
   "metadata": {},
   "outputs": [],
   "source": []
  },
  {
   "cell_type": "code",
   "execution_count": null,
   "id": "1b3bd97d",
   "metadata": {},
   "outputs": [],
   "source": []
  },
  {
   "cell_type": "code",
   "execution_count": null,
   "id": "aa7e5898",
   "metadata": {},
   "outputs": [],
   "source": []
  },
  {
   "cell_type": "code",
   "execution_count": null,
   "id": "f7284a3d",
   "metadata": {},
   "outputs": [],
   "source": []
  },
  {
   "cell_type": "code",
   "execution_count": null,
   "id": "b8219954",
   "metadata": {},
   "outputs": [],
   "source": []
  },
  {
   "cell_type": "code",
   "execution_count": null,
   "id": "9e8499a6",
   "metadata": {},
   "outputs": [],
   "source": []
  }
 ],
 "metadata": {
  "kernelspec": {
   "display_name": "Python 3 (ipykernel)",
   "language": "python",
   "name": "python3"
  },
  "language_info": {
   "codemirror_mode": {
    "name": "ipython",
    "version": 3
   },
   "file_extension": ".py",
   "mimetype": "text/x-python",
   "name": "python",
   "nbconvert_exporter": "python",
   "pygments_lexer": "ipython3",
   "version": "3.10.9"
  },
  "toc": {
   "base_numbering": 1,
   "nav_menu": {},
   "number_sections": true,
   "sideBar": true,
   "skip_h1_title": false,
   "title_cell": "Table of Contents",
   "title_sidebar": "Contents",
   "toc_cell": false,
   "toc_position": {
    "height": "calc(100% - 180px)",
    "left": "10px",
    "top": "150px",
    "width": "165px"
   },
   "toc_section_display": true,
   "toc_window_display": true
  }
 },
 "nbformat": 4,
 "nbformat_minor": 5
}
