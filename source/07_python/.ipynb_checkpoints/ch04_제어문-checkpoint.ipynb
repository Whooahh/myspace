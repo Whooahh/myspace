{
 "cells": [
  {
   "cell_type": "code",
   "execution_count": 12,
   "id": "61b3a1dd",
   "metadata": {
    "ExecuteTime": {
     "end_time": "2024-11-08T01:58:12.870642Z",
     "start_time": "2024-11-08T01:58:12.864637Z"
    }
   },
   "outputs": [
    {
     "data": {
      "text/html": [
       "\n",
       "<style>\n",
       "div.container{width:99% !important;}\n",
       "div.cell.code_cell.rendered{width:85%;}\n",
       "div.CodeMirror {font-family:Consolas; font-size:10pt;}\n",
       "div.output {font-size:10pt; font-weight:bold;}\n",
       "div.input {font-family:Consolas; font-size:10pt;}\n",
       "div.prompt {min-width:50px;}\n",
       "div#toc-wrapper{padding-top:100px;}\n",
       "span.toc-item-num{display:none;}\n",
       "div.text_cell_render ul li{font-size:10pt;padding:5px;}\n",
       "</style>\n"
      ],
      "text/plain": [
       "<IPython.core.display.HTML object>"
      ]
     },
     "metadata": {},
     "output_type": "display_data"
    }
   ],
   "source": [
    "from IPython.display import display, HTML\n",
    "\n",
    "display(\n",
    "    HTML(\"\"\"\n",
    "<style>\n",
    "div.container{width:99% !important;}\n",
    "div.cell.code_cell.rendered{width:85%;}\n",
    "div.CodeMirror {font-family:Consolas; font-size:10pt;}\n",
    "div.output {font-size:10pt; font-weight:bold;}\n",
    "div.input {font-family:Consolas; font-size:10pt;}\n",
    "div.prompt {min-width:50px;}\n",
    "div#toc-wrapper{padding-top:100px;}\n",
    "span.toc-item-num{display:none;}\n",
    "div.text_cell_render ul li{font-size:10pt;padding:5px;}\n",
    "</style>\n",
    "\"\"\"))"
   ]
  },
  {
   "cell_type": "markdown",
   "id": "4ef9e15d",
   "metadata": {},
   "source": [
    "<b><font color=\"red\" size=\"6\">ch04. 제어문</font></b>\n",
    "- if문, for-in문, while문, 중첩가능, 중첩루프탈출"
   ]
  },
  {
   "cell_type": "markdown",
   "id": "2214b5cd",
   "metadata": {},
   "source": [
    "### 1절. 조건문(if)"
   ]
  },
  {
   "cell_type": "code",
   "execution_count": 10,
   "id": "d8b84af8",
   "metadata": {
    "ExecuteTime": {
     "end_time": "2024-11-08T01:58:08.181340Z",
     "start_time": "2024-11-08T01:58:06.887283Z"
    }
   },
   "outputs": [
    {
     "name": "stdout",
     "output_type": "stream",
     "text": [
      "Enter Your Score > 22\n",
      "재시험 응시 해라\n"
     ]
    }
   ],
   "source": [
    "score = int(input('Enter Your Score > '))\n",
    "if score>=90 :\n",
    "    print('참 잘했다잉')\n",
    "    print('좀 노력해라')\n",
    "elif score>=70 :\n",
    "    print('분발할거지?')\n",
    "    print('고생했다')\n",
    "else:\n",
    "    print('재시험 응시 해라')"
   ]
  },
  {
   "cell_type": "code",
   "execution_count": 11,
   "id": "7fd70328",
   "metadata": {
    "ExecuteTime": {
     "end_time": "2024-11-08T01:58:10.758048Z",
     "start_time": "2024-11-08T01:58:09.707869Z"
    }
   },
   "outputs": [
    {
     "name": "stdout",
     "output_type": "stream",
     "text": [
      "Enter Your Scorea\n"
     ]
    },
    {
     "ename": "ValueError",
     "evalue": "invalid literal for int() with base 10: 'a'",
     "output_type": "error",
     "traceback": [
      "\u001b[1;31m---------------------------------------------------------------------------\u001b[0m",
      "\u001b[1;31mValueError\u001b[0m                                Traceback (most recent call last)",
      "Cell \u001b[1;32mIn[11], line 2\u001b[0m\n\u001b[0;32m      1\u001b[0m \u001b[38;5;66;03m# 점수를 입력받아 학점출력(A, B, C, D, F, 유효하지 않은 점수)\u001b[39;00m\n\u001b[1;32m----> 2\u001b[0m score \u001b[38;5;241m=\u001b[39m \u001b[38;5;28;43mint\u001b[39;49m\u001b[43m(\u001b[49m\u001b[38;5;28;43minput\u001b[39;49m\u001b[43m(\u001b[49m\u001b[38;5;124;43m'\u001b[39;49m\u001b[38;5;124;43mEnter Your Score\u001b[39;49m\u001b[38;5;124;43m'\u001b[39;49m\u001b[43m)\u001b[49m\u001b[43m)\u001b[49m\n\u001b[0;32m      3\u001b[0m \u001b[38;5;28;01mif\u001b[39;00m \u001b[38;5;241m90\u001b[39m\u001b[38;5;241m<\u001b[39m\u001b[38;5;241m=\u001b[39mscore\u001b[38;5;241m<\u001b[39m\u001b[38;5;241m=\u001b[39m\u001b[38;5;241m100\u001b[39m:\n\u001b[0;32m      4\u001b[0m     grade \u001b[38;5;241m=\u001b[39m \u001b[38;5;124m'\u001b[39m\u001b[38;5;124mA\u001b[39m\u001b[38;5;124m'\u001b[39m\n",
      "\u001b[1;31mValueError\u001b[0m: invalid literal for int() with base 10: 'a'"
     ]
    }
   ],
   "source": [
    "# 점수를 입력받아 학점출력(A, B, C, D, F, 유효하지 않은 점수)\n",
    "score = int(input('Enter Your Score'))\n",
    "if 90<=score<=100:\n",
    "    grade = 'A'\n",
    "elif 80<=score<=90:\n",
    "    grade = 'B'\n",
    "elif 70<=score<=80:\n",
    "    grade = 'C'\n",
    "elif 60<=score<=70:\n",
    "    grade = 'D'\n",
    "elif 0<=score<=60:\n",
    "    grade = 'F'\n",
    "else:\n",
    "    grade = '유효하지 않은 점수'\n",
    "print(\"입력하신 점수는 {}점이고, {}등급입니다\".format(score,grade))"
   ]
  },
  {
   "cell_type": "markdown",
   "id": "3c2880bd",
   "metadata": {},
   "source": [
    "# 2절. 반복문\n",
    "### 2.1 for-in문\n",
    "\n",
    "```\n",
    "for 임시변수 in 나열 가능 한 자료:\n",
    "    반복할문장1\n",
    "    반복할문장2\n",
    "else:\n",
    "    나열가능한 자료를 다 소요하여 for 블록을 다 수행한 후, 최종 한번만 실행할 문장(else 선택사항)\n",
    "    for문안에 break가 있을 경우, else블럭은 수행되지 않음\n",
    "```\n"
   ]
  },
  {
   "cell_type": "code",
   "execution_count": 9,
   "id": "39b3fb1d",
   "metadata": {
    "ExecuteTime": {
     "end_time": "2024-11-08T01:58:04.993746Z",
     "start_time": "2024-11-08T01:58:04.988760Z"
    }
   },
   "outputs": [
    {
     "name": "stdout",
     "output_type": "stream",
     "text": [
      "1\t3\t5\t7\t9\t\n",
      "DONE\n",
      "END\n"
     ]
    }
   ],
   "source": [
    "for i in range(1, 10, 2):\n",
    "    print(i, end='\\t')\n",
    "else:\n",
    "    print('\\nDONE')\n",
    "print(\"END\")"
   ]
  },
  {
   "cell_type": "code",
   "execution_count": 12,
   "id": "24712bbb",
   "metadata": {
    "ExecuteTime": {
     "end_time": "2024-11-07T04:12:17.603623Z",
     "start_time": "2024-11-07T04:12:17.597625Z"
    }
   },
   "outputs": [
    {
     "name": "stdout",
     "output_type": "stream",
     "text": [
      "1\t3\tEND\n"
     ]
    }
   ],
   "source": [
    "for i in range(1, 10, 2):\n",
    "    if i==5:\n",
    "        break;\n",
    "    print(i, end='\\t')\n",
    "else:\n",
    "    print('\\nDONE')\n",
    "print(\"END\")"
   ]
  },
  {
   "cell_type": "code",
   "execution_count": 8,
   "id": "2ea971a0",
   "metadata": {
    "ExecuteTime": {
     "end_time": "2024-11-08T01:58:02.937933Z",
     "start_time": "2024-11-08T01:58:02.932958Z"
    }
   },
   "outputs": [
    {
     "name": "stdout",
     "output_type": "stream",
     "text": [
      "1~100까지 짝수의 합은 2550\n"
     ]
    }
   ],
   "source": [
    "# 1 ~ 100까지 짝수의 합을 계산하고 출력하시오(for문)\n",
    "sum = 0\n",
    "for i in range(0, 101):\n",
    "    if i%2==0:\n",
    "        sum += i\n",
    "else:\n",
    "   pass\n",
    "print('1~100까지 짝수의 합은',sum)"
   ]
  },
  {
   "cell_type": "markdown",
   "id": "43d80712",
   "metadata": {},
   "source": [
    "### 2.2 while문\n",
    "```\n",
    "while 조건 :\n",
    "    조건이 True일 경우 반복할 문장1\n",
    "    조건이 True일 경우 반복할 문장2...\n",
    "else:\n",
    "    조건이 False일 경우 한번 실행할 문장(else구문 선택사항)\n",
    "\n",
    "```"
   ]
  },
  {
   "cell_type": "code",
   "execution_count": 7,
   "id": "bfcb2077",
   "metadata": {
    "ExecuteTime": {
     "end_time": "2024-11-08T01:58:01.057872Z",
     "start_time": "2024-11-08T01:58:01.051888Z"
    }
   },
   "outputs": [
    {
     "name": "stdout",
     "output_type": "stream",
     "text": [
      "1~100까지 짝수 누적의 합은 >  2550\n"
     ]
    }
   ],
   "source": [
    "# 1~100까지 짝수의 합을 계산하고 출력하시오(while문)\n",
    "i = 1\n",
    "sum = 0 # 누적변수\n",
    "while i <= 100:\n",
    "    if i%2==0:\n",
    "        sum += i\n",
    "    i += 1 # ++, --증감연산자 파이썬에선 없음\n",
    "else:\n",
    "    pass\n",
    "print(\"1~100까지 짝수 누적의 합은 > \",sum)"
   ]
  },
  {
   "cell_type": "code",
   "execution_count": 6,
   "id": "40189d4e",
   "metadata": {
    "ExecuteTime": {
     "end_time": "2024-11-08T01:57:58.158288Z",
     "start_time": "2024-11-08T01:57:54.396453Z"
    }
   },
   "outputs": [
    {
     "name": "stdout",
     "output_type": "stream",
     "text": [
      "첫번째 정수는 >2\n",
      "두번째 정수는 >67\n",
      "2~67까지 홀수들의 합은 33입니다\n"
     ]
    }
   ],
   "source": [
    "# 사용자에게 두 정수를 입력받아, 작은 수 부터 큰 수까지의 홀수 누적의 합 출력\n",
    "first = int(input(\"첫번째 정수는 >\"))\n",
    "second = int(input(\"두번째 정수는 >\"))\n",
    "if first >= second:\n",
    "    max = first\n",
    "    min = second\n",
    "else:\n",
    "    max = second\n",
    "    min = first\n",
    "    \n",
    "sum = 0 # 누적변수\n",
    "# for i in range(min, max+1):\n",
    "#     if (i%2==1) | (i%2==-1):\n",
    "#         sum += i\n",
    "i = min\n",
    "while i <= max:\n",
    "    if i%2!=0:\n",
    "        sum += 1\n",
    "    i += 1\n",
    "print(\"{}~{}까지 홀수들의 합은 {}입니다\".format(min,max,sum))\n",
    "    "
   ]
  },
  {
   "cell_type": "code",
   "execution_count": 5,
   "id": "93d86b96",
   "metadata": {
    "ExecuteTime": {
     "end_time": "2024-11-08T01:57:51.796120Z",
     "start_time": "2024-11-08T01:57:51.789139Z"
    }
   },
   "outputs": [
    {
     "name": "stdout",
     "output_type": "stream",
     "text": [
      "6개 로또번호는 6번 추출함\n",
      "정렬 전 : [17, 9, 19, 25, 43, 14]\n",
      "0번째까지 : [9]\n",
      "1번째까지 : [9, 14]\n",
      "2번째까지 : [9, 14, 17]\n",
      "3번째까지 : [9, 14, 17, 19]\n",
      "4번째까지 : [9, 14, 17, 19, 25]\n",
      "정렬후 : [9, 14, 17, 19, 25, 43]\n"
     ]
    }
   ],
   "source": [
    "# ex2. 로또 번호 6개를 추출후, 정렬하여 출력하시오\n",
    "import random\n",
    "# random.seed(7) # seed값이 같으면 랜덤수가 같아짐\n",
    "lotto_lst = []\n",
    "cnt = 0   # 로또 번호 추출 횟수\n",
    "while len(lotto_lst)<6:\n",
    "    temp = random.randint(1, 45) # 임의의 수를 temp변수 \n",
    "    cnt += 1\n",
    "    if temp in lotto_lst:\n",
    "        pass\n",
    "    else:\n",
    "        lotto_lst.append(temp)\n",
    "print(\"6개 로또번호는 {}번 추출함\".format(cnt))\n",
    "print(\"정렬 전 :\", lotto_lst)\n",
    "# 정렬 알고리즘\n",
    "for i in range(len(lotto_lst) - 1):\n",
    "    for j in range(i+1, len(lotto_lst)):\n",
    "        if lotto_lst[i] > lotto_lst[j]:\n",
    "            lotto_lst[i], lotto_lst[j] = lotto_lst[j], lotto_lst[i]\n",
    "    print(\"{}번째까지 : {}\".format(i, lotto_lst[:i+1]))\n",
    "print(\"정렬후 :\", lotto_lst)"
   ]
  },
  {
   "cell_type": "code",
   "execution_count": 27,
   "id": "07f0f676",
   "metadata": {
    "ExecuteTime": {
     "end_time": "2024-11-07T06:34:19.428283Z",
     "start_time": "2024-11-07T06:34:19.421287Z"
    }
   },
   "outputs": [
    {
     "name": "stdout",
     "output_type": "stream",
     "text": [
      "6개 로또번호는 6번 추출함\n",
      "정렬 전 : {5, 20, 21, 25, 27, 30}\n",
      "정렬후 : [5, 20, 21, 25, 27, 30]\n"
     ]
    }
   ],
   "source": [
    "# ex2. 로또 번호 6개를 추출후, 정렬하여 출력하시오\n",
    "import random\n",
    "# random.seed(7) # seed값이 같으면 랜덤수가 같아짐\n",
    "lotto_set = set()\n",
    "cnt = 0   # 로또 번호 추출 횟수\n",
    "while len(lotto_set)<6:\n",
    "    lotto_set.add(random.randint(1, 45))\n",
    "    cnt += 1\n",
    "print(\"6개 로또번호는 {}번 추출함\".format(cnt))\n",
    "print(\"정렬 전 :\", lotto_set)\n",
    "print(\"정렬후 :\", sorted(list(lotto_set)))"
   ]
  },
  {
   "cell_type": "code",
   "execution_count": 29,
   "id": "40a45bd8",
   "metadata": {
    "ExecuteTime": {
     "end_time": "2024-11-07T06:36:54.779409Z",
     "start_time": "2024-11-07T06:36:54.772412Z"
    }
   },
   "outputs": [
    {
     "data": {
      "text/plain": [
       "[6, 14, 18, 37, 41, 44]"
      ]
     },
     "execution_count": 29,
     "metadata": {},
     "output_type": "execute_result"
    }
   ],
   "source": [
    "# ex2. 1~45중에 6개 뽑기\n",
    "sorted(random.sample(range(1, 46),6))"
   ]
  },
  {
   "cell_type": "markdown",
   "id": "79d61d09",
   "metadata": {},
   "source": [
    "#### 2.3 break, continue"
   ]
  },
  {
   "cell_type": "code",
   "execution_count": 31,
   "id": "03f26fec",
   "metadata": {
    "ExecuteTime": {
     "end_time": "2024-11-07T06:43:43.895919Z",
     "start_time": "2024-11-07T06:43:43.888919Z"
    }
   },
   "outputs": [
    {
     "name": "stdout",
     "output_type": "stream",
     "text": [
      "1234678910DONE\n"
     ]
    }
   ],
   "source": [
    "num = 0\n",
    "while num < 10:\n",
    "    num += 1\n",
    "    if num == 5:\n",
    "        # break\n",
    "        continue\n",
    "    print(num, end = '')\n",
    "print('DONE')\n",
    "    "
   ]
  },
  {
   "cell_type": "code",
   "execution_count": 4,
   "id": "ee536caa",
   "metadata": {
    "ExecuteTime": {
     "end_time": "2024-11-08T01:57:39.565268Z",
     "start_time": "2024-11-08T01:57:39.542336Z"
    }
   },
   "outputs": [
    {
     "ename": "NameError",
     "evalue": "name 'random' is not defined",
     "output_type": "error",
     "traceback": [
      "\u001b[1;31m---------------------------------------------------------------------------\u001b[0m",
      "\u001b[1;31mNameError\u001b[0m                                 Traceback (most recent call last)",
      "Cell \u001b[1;32mIn[4], line 11\u001b[0m\n\u001b[0;32m      1\u001b[0m \u001b[38;5;66;03m# 숫자 찾기 게임\u001b[39;00m\n\u001b[0;32m      2\u001b[0m \u001b[38;5;124;03m'''\u001b[39;00m\n\u001b[0;32m      3\u001b[0m \u001b[38;5;124;03m1~100 사이의 정수를 맞추기 프로그램\u001b[39;00m\n\u001b[0;32m      4\u001b[0m \u001b[38;5;124;03m(프로그램 안에서 random수가 만들어지고 그 random수 맞추기)\u001b[39;00m\n\u001b[1;32m   (...)\u001b[0m\n\u001b[0;32m      8\u001b[0m \u001b[38;5;124;03m(2단계와 3단계 연습문제)\u001b[39;00m\n\u001b[0;32m      9\u001b[0m \u001b[38;5;124;03m'''\u001b[39;00m\n\u001b[1;32m---> 11\u001b[0m randomNum \u001b[38;5;241m=\u001b[39m \u001b[43mrandom\u001b[49m\u001b[38;5;241m.\u001b[39mrandint(\u001b[38;5;241m1\u001b[39m, \u001b[38;5;241m100\u001b[39m)\n\u001b[0;32m     12\u001b[0m \u001b[38;5;28mprint\u001b[39m(\u001b[38;5;124m\"\u001b[39m\u001b[38;5;124m컴퓨터가 발생한 임의의 수 :\u001b[39m\u001b[38;5;124m\"\u001b[39m, randomNum)\n\u001b[0;32m     13\u001b[0m inputNum \u001b[38;5;241m=\u001b[39m \u001b[38;5;241m0\u001b[39m \u001b[38;5;66;03m# 사용자가 맞출 수가 저장될 변수\u001b[39;00m\n",
      "\u001b[1;31mNameError\u001b[0m: name 'random' is not defined"
     ]
    }
   ],
   "source": [
    "# 숫자 찾기 게임\n",
    "'''\n",
    "1~100 사이의 정수를 맞추기 프로그램\n",
    "(프로그램 안에서 random수가 만들어지고 그 random수 맞추기)\n",
    "1단계 : 숫자를 못 맞추면 UP/DOWN을 출력하고, 맞추면 축하메세지 뿌리고 끝남\n",
    "2단계 : 숫자를 못 맞추면 min~max를 조정, 맞추면 축하메세지 뿌리고 끝남\n",
    "3단계 : 2단계의 기회를 5회 제한. 5회의 기회가 지나면 실패 메세지 뿌리고 끝남\n",
    "(2단계와 3단계 연습문제)\n",
    "'''\n",
    "\n",
    "randomNum = random.randint(1, 100)\n",
    "print(\"컴퓨터가 발생한 임의의 수 :\", randomNum)\n",
    "inputNum = 0 # 사용자가 맞출 수가 저장될 변수\n",
    "while True:\n",
    "    inputNum = int(input('1~100 사이의 수를 맞춰 보세요 : '))\n",
    "    if (inputNum<1) | (inputNum>100) :\n",
    "        print('수의 범위를 벗어났습니다')\n",
    "    elif randomNum < inputNum:\n",
    "        print('DOWN ↓')\n",
    "    elif randomNum > inputNum:\n",
    "        print('UP ↑')\n",
    "    else:\n",
    "        print('축하 축하 맞추셨습니다.')\n",
    "        break\n",
    "print('DONE')\n",
    "# while randomNum!=inputNum:\n",
    "#     inputNum = int(input('1~100 사이의 수를 맞춰 보세요 : '))\n",
    "#     if (inputNum<1) | (inputNum>100) :\n",
    "#         print('수의 범위를 벗어났습니다')\n",
    "#     elif randomNum < inputNum:\n",
    "#         print('DOWN ↓')\n",
    "#     elif randomNum > inputNum:\n",
    "#         print('UP ↑')\n",
    "#     else:\n",
    "#         print('축하 축하 맞추셨습니다.')\n",
    "# print('DONE')"
   ]
  },
  {
   "cell_type": "code",
   "execution_count": 3,
   "id": "71661124",
   "metadata": {
    "ExecuteTime": {
     "end_time": "2024-11-08T01:57:24.972134Z",
     "start_time": "2024-11-08T01:57:24.948198Z"
    }
   },
   "outputs": [
    {
     "ename": "NameError",
     "evalue": "name 'random' is not defined",
     "output_type": "error",
     "traceback": [
      "\u001b[1;31m---------------------------------------------------------------------------\u001b[0m",
      "\u001b[1;31mNameError\u001b[0m                                 Traceback (most recent call last)",
      "Cell \u001b[1;32mIn[3], line 4\u001b[0m\n\u001b[0;32m      1\u001b[0m \u001b[38;5;66;03m# 연습문제 2단계. 1~100사이의 정수를 맞추는 프로그램을 구현하시오\u001b[39;00m\n\u001b[0;32m      2\u001b[0m \u001b[38;5;66;03m#(프로그램안에 임의의 숫자가 만들어지고 그 숫자를 맞추도록 합니다)\u001b[39;00m\n\u001b[0;32m      3\u001b[0m \u001b[38;5;66;03m#2단계.입력된 숫자가 틀리면 min~max 사이의 수라고 알려주고 숫자를 맞추면 축 하 메시지와 함께 종료합니다.(맞출 때까지 반복)\u001b[39;00m\n\u001b[1;32m----> 4\u001b[0m randomNum \u001b[38;5;241m=\u001b[39m \u001b[43mrandom\u001b[49m\u001b[38;5;241m.\u001b[39mrandint(\u001b[38;5;241m1\u001b[39m, \u001b[38;5;241m100\u001b[39m)\n\u001b[0;32m      5\u001b[0m \u001b[38;5;28mprint\u001b[39m(\u001b[38;5;124m\"\u001b[39m\u001b[38;5;124m컴퓨터가 발생한 임의의 수 :\u001b[39m\u001b[38;5;124m\"\u001b[39m, randomNum)\n\u001b[0;32m      6\u001b[0m inputNum \u001b[38;5;241m=\u001b[39m \u001b[38;5;241m0\u001b[39m \u001b[38;5;66;03m# 사용자가 맞출 수가 저장될 변수\u001b[39;00m\n",
      "\u001b[1;31mNameError\u001b[0m: name 'random' is not defined"
     ]
    }
   ],
   "source": [
    "# 연습문제 2단계. 1~100사이의 정수를 맞추는 프로그램을 구현하시오\n",
    "#(프로그램안에 임의의 숫자가 만들어지고 그 숫자를 맞추도록 합니다)\n",
    "#2단계.입력된 숫자가 틀리면 min~max 사이의 수라고 알려주고 숫자를 맞추면 축 하 메시지와 함께 종료합니다.(맞출 때까지 반복)\n",
    "randomNum = random.randint(1, 100)\n",
    "print(\"컴퓨터가 발생한 임의의 수 :\", randomNum)\n",
    "inputNum = 0 # 사용자가 맞출 수가 저장될 변수\n",
    "while True:\n",
    "    inputNum = int(input('1~100 사이의 수를 맞춰 보세요 : '))\n",
    "    if (inputNum<1) | (inputNum>100) :\n",
    "        print('수의 범위를 벗어났습니다')\n",
    "    elif randomNum < inputNum:\n",
    "        print('DOWN ↓')\n",
    "    elif randomNum > inputNum:\n",
    "        print('UP ↑')\n",
    "    else:\n",
    "        print('축하 축하 맞추셨습니다.')\n",
    "        break\n"
   ]
  },
  {
   "cell_type": "code",
   "execution_count": null,
   "id": "a5f26800",
   "metadata": {},
   "outputs": [],
   "source": []
  },
  {
   "cell_type": "code",
   "execution_count": null,
   "id": "fabdd91b",
   "metadata": {},
   "outputs": [],
   "source": []
  },
  {
   "cell_type": "markdown",
   "id": "3337041d",
   "metadata": {},
   "source": [
    "### 3절. 중첩루프\n",
    "(반복문 안 반복문)"
   ]
  },
  {
   "cell_type": "code",
   "execution_count": 34,
   "id": "774153f6",
   "metadata": {
    "ExecuteTime": {
     "end_time": "2024-11-07T07:20:45.223645Z",
     "start_time": "2024-11-07T07:20:45.217646Z"
    }
   },
   "outputs": [
    {
     "name": "stdout",
     "output_type": "stream",
     "text": [
      "  2단  \t  3단  \t  4단  \t  5단  \t  6단  \t  7단  \t  8단  \t  9단  \t\n",
      "2x1=2\t3x1=3\t4x1=4\t5x1=5\t6x1=6\t7x1=7\t8x1=8\t9x1=9\t\n",
      "2x2=4\t3x2=6\t4x2=8\t5x2=10\t6x2=12\t7x2=14\t8x2=16\t9x2=18\t\n",
      "2x3=6\t3x3=9\t4x3=12\t5x3=15\t6x3=18\t7x3=21\t8x3=24\t9x3=27\t\n",
      "2x4=8\t3x4=12\t4x4=16\t5x4=20\t6x4=24\t7x4=28\t8x4=32\t9x4=36\t\n",
      "2x5=10\t3x5=15\t4x5=20\t5x5=25\t6x5=30\t7x5=35\t8x5=40\t9x5=45\t\n",
      "2x6=12\t3x6=18\t4x6=24\t5x6=30\t6x6=36\t7x6=42\t8x6=48\t9x6=54\t\n",
      "2x7=14\t3x7=21\t4x7=28\t5x7=35\t6x7=42\t7x7=49\t8x7=56\t9x7=63\t\n",
      "2x8=16\t3x8=24\t4x8=32\t5x8=40\t6x8=48\t7x8=56\t8x8=64\t9x8=72\t\n",
      "2x9=18\t3x9=27\t4x9=36\t5x9=45\t6x9=54\t7x9=63\t8x9=72\t9x9=81\t\n"
     ]
    }
   ],
   "source": [
    "# 2~9단 구구단 출력\n",
    "for i in range(2, 10):\n",
    "    print(\"{:^6}\".format(str(i)+\"단\"), end ='\\t')\n",
    "print()\n",
    "for i in range(1,10):\n",
    "    for j in range(2,10):\n",
    "        print(\"{}x{}={}\".format(j, i, i*j), end='\\t')\n",
    "    print()"
   ]
  },
  {
   "cell_type": "code",
   "execution_count": 44,
   "id": "bd380e4a",
   "metadata": {
    "ExecuteTime": {
     "end_time": "2024-11-07T07:50:03.308927Z",
     "start_time": "2024-11-07T07:50:03.299930Z"
    }
   },
   "outputs": [
    {
     "name": "stdout",
     "output_type": "stream",
     "text": [
      "0행0열:1\t0행1열:2\t0행2열:3\t0행3열:4\t\n",
      "1행0열:5\t1행1열:6\t1행2열:7\t1행3열:8\t\n",
      "2행0열:1\t2행1열:2\t2행2열:3\t2행3열:4\t\n",
      "데이터만 출력\n",
      "1\t2\t3\t4\t\n",
      "5\t6\t7\t8\t\n",
      "1\t2\t3\t4\t\n"
     ]
    }
   ],
   "source": [
    "lst_2d = [[1,2,3,4], \n",
    "          [5,6,7,8],\n",
    "          [1,2,3,4],] # 논리적으로 3행 4열\n",
    "for i in range(len(lst_2d)):\n",
    "    for j in range(len(lst_2d[i])):\n",
    "        print(\"{}행{}열:{}\".format(i, j, lst_2d[i][j]), end='\\t')\n",
    "    print() # 개행\n",
    "print('데이터만 출력')\n",
    "for row in lst_2d:\n",
    "    for data in row:\n",
    "        print(data, end='\\t')\n",
    "    print()#개행"
   ]
  },
  {
   "cell_type": "code",
   "execution_count": 48,
   "id": "ecccf71b",
   "metadata": {
    "ExecuteTime": {
     "end_time": "2024-11-07T07:50:31.578669Z",
     "start_time": "2024-11-07T07:50:31.571671Z"
    }
   },
   "outputs": [
    {
     "name": "stdout",
     "output_type": "stream",
     "text": [
      "0면 0행 0열:1\t0면 0행 1열:2\t0면 0행 2열:3\t0면 0행 3열:4.0\t\n",
      "0면 1행 0열:5\t0면 1행 1열:6\t0면 1행 2열:7\t0면 1행 3열:8\t\n",
      "0면 2행 0열:1\t0면 2행 1열:2\t0면 2행 2열:3\t0면 2행 3열:4\t\n",
      "-----------------------\n",
      "1면 0행 0열:1\t1면 0행 1열:2\t1면 0행 2열:3\t1면 0행 3열:4\t\n",
      "1면 1행 0열:5\t1면 1행 1열:6\t1면 1행 2열:7\t1면 1행 3열:8\t\n",
      "1면 2행 0열:1\t1면 2행 1열:2\t1면 2행 2열:3\t1면 2행 3열:4\t\n",
      "-----------------------\n"
     ]
    }
   ],
   "source": [
    "lst_3d = [\n",
    "   [[1,2,3,4.0], \n",
    "    [5,6,7,8],\n",
    "    [1,2,3,4],],\n",
    "   [[1,2,3,4], \n",
    "    [5,6,7,8],\n",
    "    [1,2,3,4],] # 논리적으로 2면3행4열\n",
    "]\n",
    "for i in range(len(lst_3d)):\n",
    "    for j in range(len(lst_3d[i])):\n",
    "        for k in range(len(lst_3d[i][j])):\n",
    "            print(\"{}면 {}행 {}열:{}\".format(i, j, k, lst_3d[i][j][k]), end = '\\t')\n",
    "        print()\n",
    "    print('-----------------------')"
   ]
  },
  {
   "cell_type": "code",
   "execution_count": 49,
   "id": "be62cf86",
   "metadata": {
    "ExecuteTime": {
     "end_time": "2024-11-07T07:53:35.576415Z",
     "start_time": "2024-11-07T07:53:35.571419Z"
    }
   },
   "outputs": [
    {
     "name": "stdout",
     "output_type": "stream",
     "text": [
      "데이터만\n",
      "[1, 2, 3, 4.0]\n",
      "[5, 6, 7, 8]\n",
      "[1, 2, 3, 4]\n",
      "-----------------------\n",
      "[1, 2, 3, 4]\n",
      "[5, 6, 7, 8]\n",
      "[1, 2, 3, 4]\n",
      "-----------------------\n"
     ]
    }
   ],
   "source": [
    "print('데이터만')\n",
    "for face in lst_3d:\n",
    "    for row in face:\n",
    "        print(row)\n",
    "    print('-----------------------')"
   ]
  },
  {
   "cell_type": "markdown",
   "id": "04020a73",
   "metadata": {},
   "source": [
    "## 4절. 중첩루프 탈출"
   ]
  },
  {
   "cell_type": "code",
   "execution_count": 50,
   "id": "d719d5a1",
   "metadata": {
    "ExecuteTime": {
     "end_time": "2024-11-07T08:00:54.117812Z",
     "start_time": "2024-11-07T08:00:54.111813Z"
    }
   },
   "outputs": [
    {
     "name": "stdout",
     "output_type": "stream",
     "text": [
      "0 1\n",
      "0 2\n",
      "2 1\n",
      "DONE\n"
     ]
    }
   ],
   "source": [
    "for a in range(0,3): # a<=0, 1, 2\n",
    "    for b in range(1, 3): #b<=1,2\n",
    "        if a==b:\n",
    "            break\n",
    "        print(a,b)\n",
    "print('DONE')"
   ]
  },
  {
   "cell_type": "code",
   "execution_count": 51,
   "id": "768d6107",
   "metadata": {
    "ExecuteTime": {
     "end_time": "2024-11-07T08:16:11.167609Z",
     "start_time": "2024-11-07T08:16:11.160612Z"
    }
   },
   "outputs": [
    {
     "name": "stdout",
     "output_type": "stream",
     "text": [
      "0 1\n",
      "0 2\n",
      "DONE\n"
     ]
    }
   ],
   "source": [
    "# 중첩 루프 탈출 : 방법1. 플래그 변수 이용\n",
    "flag = False # break를 만나면 True\n",
    "for a in range(0,3):      # a<=0, 1, 2\n",
    "    for b in range(1, 3): # b<=1, 2\n",
    "        if a==b:\n",
    "            flag = True\n",
    "            break # break를 만나면 안쪽 반복문 탈출\n",
    "        print(a, b)\n",
    "    if flag:\n",
    "        break\n",
    "print('DONE')"
   ]
  },
  {
   "cell_type": "code",
   "execution_count": null,
   "id": "16504e90",
   "metadata": {},
   "outputs": [],
   "source": [
    "# 중첩루프 탈출 : 방법 2 exception 사용"
   ]
  },
  {
   "cell_type": "code",
   "execution_count": 57,
   "id": "abaecb4b",
   "metadata": {
    "ExecuteTime": {
     "end_time": "2024-11-07T08:25:31.393154Z",
     "start_time": "2024-11-07T08:25:31.388154Z"
    }
   },
   "outputs": [],
   "source": [
    "# Exception을 상속받은 BreakOutLoopException 클래스 생성\n",
    "class BreakOutLoopException(Exception):\n",
    "    pass"
   ]
  },
  {
   "cell_type": "code",
   "execution_count": 59,
   "id": "f47cc325",
   "metadata": {
    "ExecuteTime": {
     "end_time": "2024-11-07T08:26:33.075075Z",
     "start_time": "2024-11-07T08:26:33.068077Z"
    }
   },
   "outputs": [
    {
     "name": "stdout",
     "output_type": "stream",
     "text": [
      "0 1\n",
      "0 2\n",
      "DONE\n"
     ]
    }
   ],
   "source": [
    "try:\n",
    "    for a in range(0,3):      # a<=0, 1, 2\n",
    "        for b in range(1, 3): # b<=1, 2\n",
    "            if a==b:\n",
    "                raise BreakOutLoopException # 강제 예외 발생\n",
    "            print(a, b)\n",
    "except BreakOutLoopException:\n",
    "    print('DONE')"
   ]
  },
  {
   "cell_type": "markdown",
   "id": "6386dd89",
   "metadata": {},
   "source": [
    "# 연습문제"
   ]
  },
  {
   "cell_type": "code",
   "execution_count": 64,
   "id": "18c184fe",
   "metadata": {
    "ExecuteTime": {
     "end_time": "2024-11-07T08:36:13.471016Z",
     "start_time": "2024-11-07T08:36:08.390676Z"
    }
   },
   "outputs": [
    {
     "name": "stdout",
     "output_type": "stream",
     "text": [
      "정수를 입력하시오 > a\n",
      "잘못된 입력입니다. 숫자를 입력해주세요.\n",
      "정수를 입력하시오 > a\n",
      "잘못된 입력입니다. 숫자를 입력해주세요.\n",
      "정수를 입력하시오 > a\n",
      "잘못된 입력입니다. 숫자를 입력해주세요.\n",
      "정수를 입력하시오 > a\n",
      "잘못된 입력입니다. 숫자를 입력해주세요.\n",
      "정수를 입력하시오 > a\n",
      "잘못된 입력입니다. 숫자를 입력해주세요.\n",
      "정수를 입력하시오 > 1\n",
      "1는 홀수입니다.\n"
     ]
    }
   ],
   "source": [
    "# 1. 양의 정수를 입력 받아 홀수인지 짝수인지를 판별하는 프로그램을 작성하세요. 양의 정수가 아니면 숫자를 다시 입력 받아야 합니다.\n",
    "while True:\n",
    "    try:\n",
    "        number = int(input('정수를 입력하시오 > '))\n",
    "        if number<= 0:\n",
    "            print('양의 정수를 입력해야 합니다. 다시 입력하세요 >> ')\n",
    "        else:\n",
    "            if number %2 == 0:\n",
    "                print(\"{}은 짝수입니다\".format(number))\n",
    "            else:\n",
    "                print(\"{}는 홀수입니다.\".format(number))\n",
    "        break\n",
    "    \n",
    "    except ValueError:\n",
    "        # 입력이 정수가 아닐 경우 예외 처리\n",
    "        print(\"잘못된 입력입니다. 숫자를 입력해주세요.\")\n",
    "   \n",
    "        "
   ]
  },
  {
   "cell_type": "code",
   "execution_count": 67,
   "id": "bcb74865",
   "metadata": {
    "ExecuteTime": {
     "end_time": "2024-11-07T08:38:18.884947Z",
     "start_time": "2024-11-07T08:38:18.878958Z"
    }
   },
   "outputs": [
    {
     "name": "stdout",
     "output_type": "stream",
     "text": [
      "165\n"
     ]
    }
   ],
   "source": [
    "# 3. 다음 코드는 1부터 30까지(30포함) 자연수 중에서 3의 배수의 총 합 을 출력하는 프로그램입니다. 빈칸의 코드를 완성하시오.\n",
    "sum = 0\n",
    "for i in range(1, 31): \n",
    "    if i %3==0:\n",
    "        sum = sum + i\n",
    "    else:\n",
    "        pass\n",
    "print(sum)"
   ]
  },
  {
   "cell_type": "code",
   "execution_count": 2,
   "id": "de44804b",
   "metadata": {
    "ExecuteTime": {
     "end_time": "2024-11-07T08:45:16.373229Z",
     "start_time": "2024-11-07T08:45:16.363232Z"
    }
   },
   "outputs": [
    {
     "name": "stdout",
     "output_type": "stream",
     "text": [
      "1 3 5 7 9 "
     ]
    }
   ],
   "source": [
    "# 4.다음 코드의 실행결과가 “1 3 5 7 9”가 되도록 빈칸을 완성하시오\n",
    "num = 1  \n",
    "while num <= 10:  \n",
    "    if num % 2 == 1:  \n",
    "        print(num, end=' ')  \n",
    "    num += 2  \n"
   ]
  },
  {
   "cell_type": "code",
   "execution_count": 8,
   "id": "a9fc8151",
   "metadata": {
    "ExecuteTime": {
     "end_time": "2024-11-07T08:48:54.367801Z",
     "start_time": "2024-11-07T08:48:54.361803Z"
    }
   },
   "outputs": [
    {
     "name": "stdout",
     "output_type": "stream",
     "text": [
      "1 2 3 4 5 6 7 8 9 \n"
     ]
    }
   ],
   "source": [
    "# 5.다음 2차원 리스트의 모든 값을 출력하는 코드입니다. 빈칸을 완성하시오.\n",
    "list2d = [ [1,2,3],[4,5,6,7],[8,9]]\n",
    "for row in list2d:\n",
    "    for data in row:\n",
    "        print(data, end= ' ')\n",
    "print()"
   ]
  },
  {
   "cell_type": "code",
   "execution_count": 22,
   "id": "078706df",
   "metadata": {
    "ExecuteTime": {
     "end_time": "2024-11-07T08:56:14.197052Z",
     "start_time": "2024-11-07T08:56:14.191056Z"
    }
   },
   "outputs": [
    {
     "name": "stdout",
     "output_type": "stream",
     "text": [
      "0 apple\n",
      "1 banana\n"
     ]
    }
   ],
   "source": [
    "# 6.다음 빈칸에 들어갈 함수 이름은?\n",
    "colors = {\"red\":'apple', \"yellow\":'banana'}\n",
    "for i, v in enumerate(colors.values()):\n",
    "    print(i, v)\n"
   ]
  },
  {
   "cell_type": "code",
   "execution_count": 24,
   "id": "f724dde0",
   "metadata": {
    "ExecuteTime": {
     "end_time": "2024-11-07T08:56:51.075974Z",
     "start_time": "2024-11-07T08:56:51.069978Z"
    }
   },
   "outputs": [
    {
     "name": "stdout",
     "output_type": "stream",
     "text": [
      "1 1\n"
     ]
    }
   ],
   "source": [
    "# 7.다음 코드의 실행결과는?\n",
    "for i in range(0, 2):\n",
    "    for j in range(0,2):\n",
    "        if i==j:\n",
    "            break\n",
    "print(i, j)\n",
    "\n",
    "#실행값 : 1 1"
   ]
  },
  {
   "cell_type": "code",
   "execution_count": 29,
   "id": "3b70db70",
   "metadata": {
    "ExecuteTime": {
     "end_time": "2024-11-07T08:59:20.732966Z",
     "start_time": "2024-11-07T08:59:20.725968Z"
    }
   },
   "outputs": [
    {
     "name": "stdout",
     "output_type": "stream",
     "text": [
      "0 0\n",
      "1 0\n",
      "1 1\n"
     ]
    }
   ],
   "source": [
    "# 8.다음 코드의 실행 결과로 출력될 수 없는 것은?\n",
    "for i in range(0, 2):\n",
    "    for j in range(0,2):\n",
    "        print(i, j)\n",
    "        if i==j:\n",
    "            break\n",
    "            \n",
    "# 정답: 2번"
   ]
  },
  {
   "cell_type": "code",
   "execution_count": 28,
   "id": "c430e1ba",
   "metadata": {
    "ExecuteTime": {
     "end_time": "2024-11-07T08:58:59.491922Z",
     "start_time": "2024-11-07T08:58:59.484927Z"
    }
   },
   "outputs": [
    {
     "name": "stdout",
     "output_type": "stream",
     "text": [
      "3579"
     ]
    }
   ],
   "source": [
    "# 9.다음 코드의 실행결과는?\n",
    "L = [3, 4, 5, 6, 7, 8, 9, 10]\n",
    "for i, data in enumerate(L):\n",
    "    if (i%2 == 0):\n",
    "        print(data, end='')\n",
    "        \n",
    "# 출력값: 3579"
   ]
  },
  {
   "cell_type": "code",
   "execution_count": null,
   "id": "1d895808",
   "metadata": {
    "ExecuteTime": {
     "start_time": "2024-11-08T02:02:07.657Z"
    }
   },
   "outputs": [],
   "source": [
    "# 10. 2단계.입력된 숫자가 틀리면 min~max 사이의 수라고 알려주고 숫자를 맞추면 축 하 메시지와 함께 종료합니다.(맞출 때까지 반복)\n",
    "randomNum = random.randint(1, 100)\n",
    "print(\"컴퓨터가 발생한 임의의 수 :\", randomNum)\n",
    "inputNum = 0 # 사용자가 맞출 수가 저장될 변수\n",
    "min = 1\n",
    "max = 100\n",
    "\n",
    "while True:\n",
    "    inputNum = int(input('{}~100 사이의 수를 맞춰 보세요 : ').format(min))\n",
    "    if (inputNum<1) | (inputNum>100) :\n",
    "        print('수의 범위를 벗어났습니다. 수의 범위는 1 ~ 100이고, {}을 입력'.format(randomNum))\n",
    "    elif randomNum < inputNum:\n",
    "        print('DOWN ↓')\n",
    "    elif randomNum > inputNum:\n",
    "        print('UP ↑')\n",
    "    else:\n",
    "        print('축하 축하 맞추셨습니다.')\n",
    "        break"
   ]
  },
  {
   "cell_type": "code",
   "execution_count": null,
   "id": "9da303d8",
   "metadata": {},
   "outputs": [],
   "source": []
  },
  {
   "cell_type": "code",
   "execution_count": null,
   "id": "153f0776",
   "metadata": {},
   "outputs": [],
   "source": []
  },
  {
   "cell_type": "code",
   "execution_count": null,
   "id": "324bac76",
   "metadata": {},
   "outputs": [],
   "source": []
  },
  {
   "cell_type": "code",
   "execution_count": null,
   "id": "9777c9b7",
   "metadata": {},
   "outputs": [],
   "source": []
  },
  {
   "cell_type": "code",
   "execution_count": null,
   "id": "b9990e95",
   "metadata": {},
   "outputs": [],
   "source": []
  },
  {
   "cell_type": "code",
   "execution_count": null,
   "id": "b6b56a03",
   "metadata": {},
   "outputs": [],
   "source": []
  },
  {
   "cell_type": "code",
   "execution_count": null,
   "id": "629a0f35",
   "metadata": {},
   "outputs": [],
   "source": []
  },
  {
   "cell_type": "code",
   "execution_count": null,
   "id": "110b6729",
   "metadata": {},
   "outputs": [],
   "source": []
  },
  {
   "cell_type": "code",
   "execution_count": null,
   "id": "69ec9ae4",
   "metadata": {},
   "outputs": [],
   "source": []
  },
  {
   "cell_type": "code",
   "execution_count": null,
   "id": "0a2c41da",
   "metadata": {},
   "outputs": [],
   "source": []
  },
  {
   "cell_type": "code",
   "execution_count": null,
   "id": "4afbcb2a",
   "metadata": {},
   "outputs": [],
   "source": []
  },
  {
   "cell_type": "code",
   "execution_count": null,
   "id": "adb19940",
   "metadata": {},
   "outputs": [],
   "source": []
  },
  {
   "cell_type": "code",
   "execution_count": null,
   "id": "d4316386",
   "metadata": {},
   "outputs": [],
   "source": []
  },
  {
   "cell_type": "code",
   "execution_count": null,
   "id": "bb6b83f8",
   "metadata": {},
   "outputs": [],
   "source": []
  },
  {
   "cell_type": "code",
   "execution_count": null,
   "id": "6933722b",
   "metadata": {},
   "outputs": [],
   "source": []
  },
  {
   "cell_type": "code",
   "execution_count": null,
   "id": "8bbe51ef",
   "metadata": {},
   "outputs": [],
   "source": []
  },
  {
   "cell_type": "code",
   "execution_count": null,
   "id": "817c0178",
   "metadata": {},
   "outputs": [],
   "source": []
  },
  {
   "cell_type": "code",
   "execution_count": null,
   "id": "92b90f6a",
   "metadata": {},
   "outputs": [],
   "source": []
  },
  {
   "cell_type": "code",
   "execution_count": null,
   "id": "a484c6f0",
   "metadata": {},
   "outputs": [],
   "source": []
  }
 ],
 "metadata": {
  "kernelspec": {
   "display_name": "Python 3 (ipykernel)",
   "language": "python",
   "name": "python3"
  },
  "language_info": {
   "codemirror_mode": {
    "name": "ipython",
    "version": 3
   },
   "file_extension": ".py",
   "mimetype": "text/x-python",
   "name": "python",
   "nbconvert_exporter": "python",
   "pygments_lexer": "ipython3",
   "version": "3.10.9"
  },
  "toc": {
   "base_numbering": 1,
   "nav_menu": {},
   "number_sections": true,
   "sideBar": true,
   "skip_h1_title": false,
   "title_cell": "Table of Contents",
   "title_sidebar": "Contents",
   "toc_cell": false,
   "toc_position": {},
   "toc_section_display": true,
   "toc_window_display": false
  }
 },
 "nbformat": 4,
 "nbformat_minor": 5
}
