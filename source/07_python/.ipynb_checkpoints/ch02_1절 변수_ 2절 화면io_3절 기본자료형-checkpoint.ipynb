{
 "cells": [
  {
   "cell_type": "markdown",
   "id": "3bf38c9d",
   "metadata": {},
   "source": [
    "<b><font size=\"6\" color=\"red\">ch02. 자료형과 연산자</font></b>"
   ]
  },
  {
   "cell_type": "markdown",
   "id": "d5b4d765",
   "metadata": {},
   "source": [
    "# 1절. 변수"
   ]
  },
  {
   "cell_type": "markdown",
   "id": "74d953e9",
   "metadata": {},
   "source": [
    "## 1.1 변수 선언\n",
    "- 파이썬은 변수 선언을 위한 타입이 없고, 별도의 선언 과정도 없음"
   ]
  },
  {
   "cell_type": "markdown",
   "id": "f5ceb2a8",
   "metadata": {},
   "source": [
    "## 1.2 변수 할당\n",
    "- 할당연산자를 이용해서 변수값을 할당하면 타입이 셋팅\n",
    "- 파이썬에서의 모든 변수는객체\n"
   ]
  },
  {
   "cell_type": "code",
   "execution_count": 1,
   "id": "702c6778",
   "metadata": {
    "ExecuteTime": {
     "end_time": "2024-11-04T07:34:48.527630Z",
     "start_time": "2024-11-04T07:34:48.509635Z"
    }
   },
   "outputs": [
    {
     "name": "stdout",
     "output_type": "stream",
     "text": [
      "계산된 넓이는 78.5\n"
     ]
    }
   ],
   "source": [
    "r = 5\n",
    "area = 3.14 * r * r\n",
    "print('계산된 넓이는', area)"
   ]
  },
  {
   "cell_type": "code",
   "execution_count": 2,
   "id": "f26205a8",
   "metadata": {
    "ExecuteTime": {
     "end_time": "2024-11-04T07:37:57.603885Z",
     "start_time": "2024-11-04T07:37:57.283991Z"
    }
   },
   "outputs": [],
   "source": [
    "import numpy as np # numpy라는 패키지(풀더)를 np라는 이름으로 사용"
   ]
  },
  {
   "cell_type": "code",
   "execution_count": 4,
   "id": "6db41dd2",
   "metadata": {
    "ExecuteTime": {
     "end_time": "2024-11-04T07:38:38.263572Z",
     "start_time": "2024-11-04T07:38:38.259572Z"
    }
   },
   "outputs": [
    {
     "name": "stdout",
     "output_type": "stream",
     "text": [
      "78.53981633974483\n"
     ]
    }
   ],
   "source": [
    "area = np.pi * r * r\n",
    "print(area)"
   ]
  },
  {
   "cell_type": "code",
   "execution_count": 14,
   "id": "b225671e",
   "metadata": {
    "ExecuteTime": {
     "end_time": "2024-11-04T07:59:25.695361Z",
     "start_time": "2024-11-04T07:59:25.690362Z"
    }
   },
   "outputs": [
    {
     "name": "stdout",
     "output_type": "stream",
     "text": [
      "area의 주소 :  2480239367728\n",
      "area의 타입 :  <class 'float'>\n"
     ]
    }
   ],
   "source": [
    "print('area의 주소 : ', id(area))\n",
    "print('area의 타입 : ', type(area))"
   ]
  },
  {
   "cell_type": "code",
   "execution_count": 15,
   "id": "2c6a9035",
   "metadata": {
    "ExecuteTime": {
     "end_time": "2024-11-04T07:59:39.444859Z",
     "start_time": "2024-11-04T07:59:39.433862Z"
    }
   },
   "outputs": [
    {
     "data": {
      "text/plain": [
       "False"
      ]
     },
     "execution_count": 15,
     "metadata": {},
     "output_type": "execute_result"
    }
   ],
   "source": [
    "area.is_integer()"
   ]
  },
  {
   "cell_type": "code",
   "execution_count": 16,
   "id": "06326072",
   "metadata": {
    "ExecuteTime": {
     "end_time": "2024-11-04T07:59:48.893765Z",
     "start_time": "2024-11-04T07:59:48.888765Z"
    }
   },
   "outputs": [],
   "source": [
    "area = 10"
   ]
  },
  {
   "cell_type": "code",
   "execution_count": 17,
   "id": "0e31b57e",
   "metadata": {
    "ExecuteTime": {
     "end_time": "2024-11-04T08:00:00.445981Z",
     "start_time": "2024-11-04T08:00:00.440983Z"
    }
   },
   "outputs": [
    {
     "name": "stdout",
     "output_type": "stream",
     "text": [
      "area의 주소 : 2480136389136\n",
      "area의 타입 :  <class 'int'>\n"
     ]
    }
   ],
   "source": [
    "print('area의 주소 :',id(area)) # id(area)  : area변수(객체)의 주소값\n",
    "print('area의 타입 : ', type(area))"
   ]
  },
  {
   "cell_type": "code",
   "execution_count": 18,
   "id": "122fbd34",
   "metadata": {
    "ExecuteTime": {
     "end_time": "2024-11-04T08:00:10.342742Z",
     "start_time": "2024-11-04T08:00:10.336742Z"
    }
   },
   "outputs": [
    {
     "name": "stdout",
     "output_type": "stream",
     "text": [
      "area의 주소 : 2480215066064\n",
      "area의 타입 :  <class 'str'>\n"
     ]
    }
   ],
   "source": [
    "area = '파이썬'\n",
    "print('area의 주소 :',id(area)) # id(area)  : area변수(객체)의 주소값\n",
    "print('area의 타입 : ', type(area))"
   ]
  },
  {
   "cell_type": "markdown",
   "id": "667a2500",
   "metadata": {},
   "source": [
    "## 1.3 변수 이름 규칙\n",
    "- 문자로 시작\n",
    "- 문자(특수문자는 _제외하고는 안됨), 숫자, _로 변수명 작성\n",
    "- 함수명은 변수이름으로 가능하나 피한다, 써야한다면 int_식으로 _를 붙여서 사용\n",
    "- 파이썬 예약어(if, while,..)는 변수이름 사용 불가.\n",
    "- 한글 변수는 꼭 필요시만 사용"
   ]
  },
  {
   "cell_type": "code",
   "execution_count": 19,
   "id": "55e5a669",
   "metadata": {
    "ExecuteTime": {
     "end_time": "2024-11-04T08:00:42.743131Z",
     "start_time": "2024-11-04T08:00:42.737132Z"
    }
   },
   "outputs": [
    {
     "data": {
      "text/plain": [
       "'홍길동'"
      ]
     },
     "execution_count": 19,
     "metadata": {},
     "output_type": "execute_result"
    }
   ],
   "source": [
    "이름 = \"홍길동\"\n",
    "이름"
   ]
  },
  {
   "cell_type": "code",
   "execution_count": 20,
   "id": "6563099d",
   "metadata": {
    "ExecuteTime": {
     "end_time": "2024-11-04T08:00:47.253654Z",
     "start_time": "2024-11-04T08:00:47.248657Z"
    }
   },
   "outputs": [
    {
     "name": "stdout",
     "output_type": "stream",
     "text": [
      "홍길동\n"
     ]
    }
   ],
   "source": [
    "print(이름)"
   ]
  },
  {
   "cell_type": "code",
   "execution_count": 21,
   "id": "6c04bc9d",
   "metadata": {
    "ExecuteTime": {
     "end_time": "2024-11-04T08:00:55.152068Z",
     "start_time": "2024-11-04T08:00:55.145071Z"
    }
   },
   "outputs": [
    {
     "ename": "SyntaxError",
     "evalue": "invalid syntax (2630263448.py, line 1)",
     "output_type": "error",
     "traceback": [
      "\u001b[1;36m  Cell \u001b[1;32mIn[21], line 1\u001b[1;36m\u001b[0m\n\u001b[1;33m    if = 5\u001b[0m\n\u001b[1;37m       ^\u001b[0m\n\u001b[1;31mSyntaxError\u001b[0m\u001b[1;31m:\u001b[0m invalid syntax\n"
     ]
    }
   ],
   "source": [
    "if = 5"
   ]
  },
  {
   "cell_type": "code",
   "execution_count": 23,
   "id": "46e228f3",
   "metadata": {
    "ExecuteTime": {
     "end_time": "2024-11-04T08:01:06.145466Z",
     "start_time": "2024-11-04T08:01:06.120476Z"
    }
   },
   "outputs": [
    {
     "ename": "NameError",
     "evalue": "name 'member' is not defined",
     "output_type": "error",
     "traceback": [
      "\u001b[1;31m---------------------------------------------------------------------------\u001b[0m",
      "\u001b[1;31mNameError\u001b[0m                                 Traceback (most recent call last)",
      "Cell \u001b[1;32mIn[23], line 1\u001b[0m\n\u001b[1;32m----> 1\u001b[0m \u001b[43mmember\u001b[49m\u001b[38;5;241m.\u001b[39mname \u001b[38;5;241m=\u001b[39m \u001b[38;5;241m5\u001b[39m\n",
      "\u001b[1;31mNameError\u001b[0m: name 'member' is not defined"
     ]
    }
   ],
   "source": [
    "member.name = 5 #변수에 .은 사용불가(R에서는 .을 변수명에 사용 가능)"
   ]
  },
  {
   "cell_type": "code",
   "execution_count": 24,
   "id": "7fee1315",
   "metadata": {
    "ExecuteTime": {
     "end_time": "2024-11-04T08:01:13.597026Z",
     "start_time": "2024-11-04T08:01:13.593028Z"
    }
   },
   "outputs": [],
   "source": [
    "print = 5"
   ]
  },
  {
   "cell_type": "code",
   "execution_count": 25,
   "id": "680c48bf",
   "metadata": {
    "ExecuteTime": {
     "end_time": "2024-11-04T08:01:21.359486Z",
     "start_time": "2024-11-04T08:01:21.336492Z"
    }
   },
   "outputs": [
    {
     "ename": "TypeError",
     "evalue": "'int' object is not callable",
     "output_type": "error",
     "traceback": [
      "\u001b[1;31m---------------------------------------------------------------------------\u001b[0m",
      "\u001b[1;31mTypeError\u001b[0m                                 Traceback (most recent call last)",
      "Cell \u001b[1;32mIn[25], line 1\u001b[0m\n\u001b[1;32m----> 1\u001b[0m \u001b[38;5;28;43mprint\u001b[39;49m\u001b[43m(\u001b[49m\u001b[43m이름\u001b[49m\u001b[43m)\u001b[49m\n",
      "\u001b[1;31mTypeError\u001b[0m: 'int' object is not callable"
     ]
    }
   ],
   "source": [
    "print(이름)"
   ]
  },
  {
   "cell_type": "code",
   "execution_count": 26,
   "id": "464c1002",
   "metadata": {
    "ExecuteTime": {
     "end_time": "2024-11-04T08:01:28.830038Z",
     "start_time": "2024-11-04T08:01:28.825040Z"
    }
   },
   "outputs": [
    {
     "name": "stdout",
     "output_type": "stream",
     "text": [
      "홍길동\n"
     ]
    }
   ],
   "source": [
    "del print # print 변수 삭제\n",
    "print_ = 5\n",
    "print(이름)"
   ]
  },
  {
   "cell_type": "code",
   "execution_count": 29,
   "id": "33b7847e",
   "metadata": {
    "ExecuteTime": {
     "end_time": "2024-11-04T08:07:40.548673Z",
     "start_time": "2024-11-04T08:07:40.541675Z"
    }
   },
   "outputs": [
    {
     "data": {
      "text/plain": [
       "complex"
      ]
     },
     "execution_count": 29,
     "metadata": {},
     "output_type": "execute_result"
    }
   ],
   "source": [
    "# 숫자 : 정수, 실수, 복소수\n",
    "i = 3 + 3j # 복소수\n",
    "type(i)"
   ]
  },
  {
   "cell_type": "code",
   "execution_count": 30,
   "id": "0ef7cb6c",
   "metadata": {
    "ExecuteTime": {
     "end_time": "2024-11-04T08:07:48.204165Z",
     "start_time": "2024-11-04T08:07:48.198169Z"
    }
   },
   "outputs": [
    {
     "data": {
      "text/plain": [
       "True"
      ]
     },
     "execution_count": 30,
     "metadata": {},
     "output_type": "execute_result"
    }
   ],
   "source": [
    "isinstance(i, complex) # i 변수(객체)가 complex타입인지 여부 "
   ]
  },
  {
   "cell_type": "markdown",
   "id": "31e97ca5",
   "metadata": {},
   "source": [
    "## 1.4 도움말"
   ]
  },
  {
   "cell_type": "code",
   "execution_count": 31,
   "id": "5e6175a6",
   "metadata": {
    "ExecuteTime": {
     "end_time": "2024-11-04T08:08:11.371578Z",
     "start_time": "2024-11-04T08:08:11.365580Z"
    }
   },
   "outputs": [
    {
     "name": "stdout",
     "output_type": "stream",
     "text": [
      "Help on built-in function print in module builtins:\n",
      "\n",
      "print(...)\n",
      "    print(value, ..., sep=' ', end='\\n', file=sys.stdout, flush=False)\n",
      "    \n",
      "    Prints the values to a stream, or to sys.stdout by default.\n",
      "    Optional keyword arguments:\n",
      "    file:  a file-like object (stream); defaults to the current sys.stdout.\n",
      "    sep:   string inserted between values, default a space.\n",
      "    end:   string appended after the last value, default a newline.\n",
      "    flush: whether to forcibly flush the stream.\n",
      "\n"
     ]
    }
   ],
   "source": [
    "help(print)"
   ]
  },
  {
   "cell_type": "code",
   "execution_count": null,
   "id": "513cde6b",
   "metadata": {
    "ExecuteTime": {
     "start_time": "2024-11-04T08:08:23.427Z"
    }
   },
   "outputs": [
    {
     "name": "stdout",
     "output_type": "stream",
     "text": [
      "\n",
      "Welcome to Python 3.10's help utility!\n",
      "\n",
      "If this is your first time using Python, you should definitely check out\n",
      "the tutorial on the internet at https://docs.python.org/3.10/tutorial/.\n",
      "\n",
      "Enter the name of any module, keyword, or topic to get help on writing\n",
      "Python programs and using Python modules.  To quit this help utility and\n",
      "return to the interpreter, just type \"quit\".\n",
      "\n",
      "To get a list of available modules, keywords, symbols, or topics, type\n",
      "\"modules\", \"keywords\", \"symbols\", or \"topics\".  Each module also comes\n",
      "with a one-line summary of what it does; to list the modules whose name\n",
      "or summary contain a given string such as \"spam\", type \"modules spam\".\n",
      "\n"
     ]
    }
   ],
   "source": [
    "help()"
   ]
  },
  {
   "cell_type": "code",
   "execution_count": null,
   "id": "d657d75b",
   "metadata": {
    "ExecuteTime": {
     "start_time": "2024-11-04T08:08:32.899Z"
    }
   },
   "outputs": [],
   "source": [
    "# 도움말 기능 : shift+tab 키\n",
    "print()"
   ]
  },
  {
   "cell_type": "code",
   "execution_count": 3,
   "id": "e7bbba56",
   "metadata": {
    "ExecuteTime": {
     "end_time": "2024-11-04T08:15:23.808816Z",
     "start_time": "2024-11-04T08:15:23.803816Z"
    }
   },
   "outputs": [],
   "source": [
    "def add(x,y):\n",
    "    '''\n",
    "    매개변수 2개를 받아 두자리 숫자로 만들어요\n",
    "    x = 10의 두자리 수가 됨\n",
    "    y = 1의 자리수가 됨(default값 0)\n",
    "    사용법 : add(2,3) =>23\n",
    "    '''\n",
    "    return x*10 + y"
   ]
  },
  {
   "cell_type": "code",
   "execution_count": 4,
   "id": "1496e667",
   "metadata": {
    "ExecuteTime": {
     "end_time": "2024-11-04T08:15:31.162919Z",
     "start_time": "2024-11-04T08:15:31.153918Z"
    }
   },
   "outputs": [
    {
     "data": {
      "text/plain": [
       "54"
      ]
     },
     "execution_count": 4,
     "metadata": {},
     "output_type": "execute_result"
    }
   ],
   "source": [
    "add(5,4)"
   ]
  },
  {
   "cell_type": "code",
   "execution_count": 6,
   "id": "cc890843",
   "metadata": {
    "ExecuteTime": {
     "end_time": "2024-11-04T08:15:47.223841Z",
     "start_time": "2024-11-04T08:15:47.218842Z"
    }
   },
   "outputs": [
    {
     "data": {
      "text/plain": [
       "50"
      ]
     },
     "execution_count": 6,
     "metadata": {},
     "output_type": "execute_result"
    }
   ],
   "source": [
    "add(5,0)"
   ]
  },
  {
   "cell_type": "code",
   "execution_count": null,
   "id": "d9838ae8",
   "metadata": {},
   "outputs": [],
   "source": [
    "a = add # 함수형 언어는 변수에 함수 할당 가능"
   ]
  },
  {
   "cell_type": "markdown",
   "id": "7479b569",
   "metadata": {
    "ExecuteTime": {
     "end_time": "2024-11-04T08:21:32.653835Z",
     "start_time": "2024-11-04T08:21:32.648842Z"
    }
   },
   "source": [
    "# 2절. 화면 i/o"
   ]
  },
  {
   "cell_type": "code",
   "execution_count": 8,
   "id": "b02984ed",
   "metadata": {
    "ExecuteTime": {
     "end_time": "2024-11-04T08:23:07.690714Z",
     "start_time": "2024-11-04T08:22:11.616080Z"
    }
   },
   "outputs": [
    {
     "name": "stdout",
     "output_type": "stream",
     "text": [
      "10\n"
     ]
    },
    {
     "data": {
      "text/plain": [
       "'10'"
      ]
     },
     "execution_count": 8,
     "metadata": {},
     "output_type": "execute_result"
    }
   ],
   "source": [
    "# input() : 사용자로부터 값을 입력받기 위한 함수, 입력값은 문자열\n",
    "first = input()\n",
    "first"
   ]
  },
  {
   "cell_type": "code",
   "execution_count": 10,
   "id": "cf691e3b",
   "metadata": {
    "ExecuteTime": {
     "end_time": "2024-11-04T08:23:58.999912Z",
     "start_time": "2024-11-04T08:23:56.439750Z"
    }
   },
   "outputs": [
    {
     "name": "stdout",
     "output_type": "stream",
     "text": [
      "첫번째 숫자는?10\n",
      "두번째 숫자는?20\n"
     ]
    }
   ],
   "source": [
    "first = input('첫번째 숫자는?')\n",
    "second = input('두번째 숫자는?')"
   ]
  },
  {
   "cell_type": "code",
   "execution_count": 11,
   "id": "a53bccca",
   "metadata": {
    "ExecuteTime": {
     "end_time": "2024-11-04T08:24:41.214088Z",
     "start_time": "2024-11-04T08:24:41.206090Z"
    }
   },
   "outputs": [
    {
     "name": "stdout",
     "output_type": "stream",
     "text": [
      "두 수의 합은? 1020\n"
     ]
    }
   ],
   "source": [
    "print('두 수의 합은?',first+second)"
   ]
  },
  {
   "cell_type": "code",
   "execution_count": 12,
   "id": "7491cdfa",
   "metadata": {
    "ExecuteTime": {
     "end_time": "2024-11-04T08:26:48.035558Z",
     "start_time": "2024-11-04T08:26:48.030560Z"
    }
   },
   "outputs": [],
   "source": [
    "sum = int(first) + int(second)"
   ]
  },
  {
   "cell_type": "code",
   "execution_count": 13,
   "id": "1b427759",
   "metadata": {
    "ExecuteTime": {
     "end_time": "2024-11-04T08:28:18.491935Z",
     "start_time": "2024-11-04T08:28:18.486938Z"
    }
   },
   "outputs": [
    {
     "name": "stdout",
     "output_type": "stream",
     "text": [
      "합 30\n"
     ]
    }
   ],
   "source": [
    "print('합', sum)\n"
   ]
  },
  {
   "cell_type": "code",
   "execution_count": 19,
   "id": "a35c90c1",
   "metadata": {
    "ExecuteTime": {
     "end_time": "2024-11-04T08:32:08.065485Z",
     "start_time": "2024-11-04T08:32:08.059487Z"
    }
   },
   "outputs": [
    {
     "name": "stdout",
     "output_type": "stream",
     "text": [
      "합 / 30 / Hello / World\t\tHello ~ Python\n"
     ]
    }
   ],
   "source": [
    "print('합', sum ,'Hello','World', sep=' / ', end='\\t\\t')\n",
    "print('Hello', 'Python', sep=' ~ ')"
   ]
  },
  {
   "cell_type": "code",
   "execution_count": null,
   "id": "7ed5f9ee",
   "metadata": {},
   "outputs": [],
   "source": [
    "print()"
   ]
  },
  {
   "cell_type": "code",
   "execution_count": 21,
   "id": "d39076ac",
   "metadata": {
    "ExecuteTime": {
     "end_time": "2024-11-04T08:34:41.320256Z",
     "start_time": "2024-11-04T08:34:41.314257Z"
    }
   },
   "outputs": [
    {
     "name": "stdout",
     "output_type": "stream",
     "text": [
      "hello world Hello Python\n"
     ]
    }
   ],
   "source": [
    "import sys\n",
    "print('hello','world','Hello','Python', file=sys.stdout)"
   ]
  },
  {
   "cell_type": "markdown",
   "id": "d995b034",
   "metadata": {},
   "source": [
    "# 3절. 기본 자료형\n",
    "- 프로그래밍 언어들은 변수가 가져야 할 값의 형식, 범위에 따라 값의 유형을 정해 놓고 사용\n",
    "- 자료형에 따라 값의 크기와 저장방식이 달라짐\n",
    "- 자료형에 따라 수행할 수 있는 명령어들이 달라짐.\n",
    "\n",
    "    * `숫자` - int, float, complex\n",
    "    * `문자` - str\n",
    "    * `논리` - bool"
   ]
  },
  {
   "cell_type": "markdown",
   "id": "7648b327",
   "metadata": {},
   "source": [
    "## 3.1 숫자형"
   ]
  },
  {
   "cell_type": "code",
   "execution_count": 22,
   "id": "ec3f2e0e",
   "metadata": {
    "ExecuteTime": {
     "end_time": "2024-11-04T08:44:49.292590Z",
     "start_time": "2024-11-04T08:44:49.287592Z"
    }
   },
   "outputs": [
    {
     "name": "stdout",
     "output_type": "stream",
     "text": [
      "9223372036854775807\n"
     ]
    }
   ],
   "source": [
    "import sys\n",
    "print(sys.maxsize)"
   ]
  },
  {
   "cell_type": "code",
   "execution_count": 24,
   "id": "4ddd4a98",
   "metadata": {
    "ExecuteTime": {
     "end_time": "2024-11-04T08:45:35.411487Z",
     "start_time": "2024-11-04T08:45:35.405489Z"
    }
   },
   "outputs": [
    {
     "name": "stdout",
     "output_type": "stream",
     "text": [
      "i값: 9223372036854775808\n",
      "<class 'int'>\n"
     ]
    }
   ],
   "source": [
    "i = sys.maxsize + 1\n",
    "print('i값:', i)\n",
    "print(type(i))"
   ]
  },
  {
   "cell_type": "code",
   "execution_count": 25,
   "id": "8245cf9f",
   "metadata": {
    "ExecuteTime": {
     "end_time": "2024-11-04T08:46:48.405586Z",
     "start_time": "2024-11-04T08:46:48.398586Z"
    }
   },
   "outputs": [
    {
     "data": {
      "text/plain": [
       "1.5"
      ]
     },
     "execution_count": 25,
     "metadata": {},
     "output_type": "execute_result"
    }
   ],
   "source": [
    "f = 3/2\n",
    "f"
   ]
  },
  {
   "cell_type": "code",
   "execution_count": 26,
   "id": "ed876988",
   "metadata": {
    "ExecuteTime": {
     "end_time": "2024-11-04T08:46:54.051735Z",
     "start_time": "2024-11-04T08:46:54.044737Z"
    }
   },
   "outputs": [
    {
     "data": {
      "text/plain": [
       "1.0"
      ]
     },
     "execution_count": 26,
     "metadata": {},
     "output_type": "execute_result"
    }
   ],
   "source": [
    "f = 3/3\n",
    "f"
   ]
  },
  {
   "cell_type": "code",
   "execution_count": 30,
   "id": "2825fb11",
   "metadata": {
    "ExecuteTime": {
     "end_time": "2024-11-04T08:48:44.210662Z",
     "start_time": "2024-11-04T08:48:44.204664Z"
    }
   },
   "outputs": [
    {
     "name": "stdout",
     "output_type": "stream",
     "text": [
      "1\n",
      "1\n"
     ]
    }
   ],
   "source": [
    "# 자바처럼 정수/정수의 결과를 정수로 나타내고 싶을 때\n",
    "f = int(3/2) # in() : int로 형변환\n",
    "print(f)\n",
    "f = 3//2 #몫연산자\n",
    "print(f)"
   ]
  },
  {
   "cell_type": "code",
   "execution_count": 32,
   "id": "e9d2698b",
   "metadata": {
    "ExecuteTime": {
     "end_time": "2024-11-04T08:50:59.811289Z",
     "start_time": "2024-11-04T08:50:59.804291Z"
    }
   },
   "outputs": [
    {
     "name": "stdout",
     "output_type": "stream",
     "text": [
      "(-1+0j)\n"
     ]
    }
   ],
   "source": [
    "c = 1j; #수학 시간 1i값과 같음\n",
    "print(c**2)"
   ]
  },
  {
   "cell_type": "code",
   "execution_count": 34,
   "id": "28429cb5",
   "metadata": {
    "ExecuteTime": {
     "end_time": "2024-11-04T08:52:49.825274Z",
     "start_time": "2024-11-04T08:52:49.819272Z"
    }
   },
   "outputs": [
    {
     "name": "stdout",
     "output_type": "stream",
     "text": [
      "지수형은 실수형으로 저장 : 1120000000000.0\n",
      "지수형 표현으로 할당시 실수형으로 저장: 1.12e-12\n"
     ]
    }
   ],
   "source": [
    "f = 1.12e12\n",
    "print('지수형은 실수형으로 저장 :', f)\n",
    "f = 1.12e-12\n",
    "print('지수형 표현으로 할당시 실수형으로 저장:' ,f)"
   ]
  },
  {
   "cell_type": "markdown",
   "id": "1ea1f9ea",
   "metadata": {},
   "source": [
    "## 3.2 문자형"
   ]
  },
  {
   "cell_type": "code",
   "execution_count": 37,
   "id": "df95f220",
   "metadata": {
    "ExecuteTime": {
     "end_time": "2024-11-04T08:55:42.982567Z",
     "start_time": "2024-11-04T08:55:42.976569Z"
    }
   },
   "outputs": [
    {
     "name": "stdout",
     "output_type": "stream",
     "text": [
      "홍길동'짱' 서울시 관악구 '신림'동\n"
     ]
    }
   ],
   "source": [
    "name = '홍길동\\'짱\\'' #홍길동'짱'\n",
    "address = \"서울시 관악구 '신림'동\"\n",
    "print(name, address)"
   ]
  },
  {
   "cell_type": "code",
   "execution_count": 38,
   "id": "d910c312",
   "metadata": {
    "ExecuteTime": {
     "end_time": "2024-11-04T08:56:41.053555Z",
     "start_time": "2024-11-04T08:56:41.048553Z"
    }
   },
   "outputs": [
    {
     "name": "stdout",
     "output_type": "stream",
     "text": [
      "여러 줄의 내용을 저장 \n",
      "줄바꿈문자를 쓰면 당연히 여러줄\n",
      "줄바꿈은 가독성 떨어져\n"
     ]
    }
   ],
   "source": [
    "text = '여러 줄의 내용을 저장 \\n줄바꿈문자를 쓰면 당연히 여러줄\\n줄바꿈은 가독성 떨어져'\n",
    "print(text)"
   ]
  },
  {
   "cell_type": "code",
   "execution_count": 40,
   "id": "0d42f54d",
   "metadata": {
    "ExecuteTime": {
     "end_time": "2024-11-04T08:57:47.926651Z",
     "start_time": "2024-11-04T08:57:47.920653Z"
    }
   },
   "outputs": [
    {
     "name": "stdout",
     "output_type": "stream",
     "text": [
      "여러 줄의 내용을 저장\n",
      "줄바꿈은 문자쓰지 않고 따옴표 3개로 처리\n",
      "이처럼 쓰는 경우가 더 많다고 함\n",
      "\n"
     ]
    }
   ],
   "source": [
    "text ='''여러 줄의 내용을 저장\n",
    "줄바꿈은 문자쓰지 않고 따옴표 3개로 처리\n",
    "이처럼 쓰는 경우가 더 많다고 함\n",
    "'''\n",
    "print(text)"
   ]
  },
  {
   "cell_type": "markdown",
   "id": "e3722326",
   "metadata": {},
   "source": [
    "###### ※ 문자열 연산"
   ]
  },
  {
   "cell_type": "code",
   "execution_count": 1,
   "id": "08371794",
   "metadata": {
    "ExecuteTime": {
     "end_time": "2024-11-05T00:59:32.633376Z",
     "start_time": "2024-11-05T00:59:32.613382Z"
    }
   },
   "outputs": [
    {
     "name": "stdout",
     "output_type": "stream",
     "text": [
      "홍길동동에번쩍\n"
     ]
    }
   ],
   "source": [
    "'''\n",
    "    여러줄 주석 용도\n",
    "    2024.11.5 문자열 연산 by 아무개\n",
    "'''\n",
    "name1 = '홍길동'\n",
    "name2 = '동에번쩍'\n",
    "print(name1+name2)"
   ]
  },
  {
   "cell_type": "code",
   "execution_count": 2,
   "id": "cea97e84",
   "metadata": {
    "ExecuteTime": {
     "end_time": "2024-11-05T00:59:45.969009Z",
     "start_time": "2024-11-05T00:59:45.964010Z"
    }
   },
   "outputs": [
    {
     "name": "stdout",
     "output_type": "stream",
     "text": [
      "홍길동홍길동홍길동\n"
     ]
    }
   ],
   "source": [
    "print(name1*3)"
   ]
  },
  {
   "cell_type": "markdown",
   "id": "ceade0c1",
   "metadata": {},
   "source": [
    "###### ※ raw 데이터\n",
    "    -용도 : 정규표현식 이름, 디렉토리 경로를 표현시 사용"
   ]
  },
  {
   "cell_type": "code",
   "execution_count": 3,
   "id": "f529464f",
   "metadata": {
    "ExecuteTime": {
     "end_time": "2024-11-05T01:01:28.632391Z",
     "start_time": "2024-11-05T01:01:28.627391Z"
    }
   },
   "outputs": [
    {
     "name": "stdout",
     "output_type": "stream",
     "text": [
      "Hello\\nWorld\n"
     ]
    }
   ],
   "source": [
    "# raw 데이터 처리시 이스케이프문자(\\n, \\t, \\r, \\', \\\")가 그대로 저장\n",
    "print(r'Hello\\nWorld')"
   ]
  },
  {
   "cell_type": "code",
   "execution_count": 4,
   "id": "ba5d927f",
   "metadata": {
    "ExecuteTime": {
     "end_time": "2024-11-05T01:04:49.784519Z",
     "start_time": "2024-11-05T01:04:49.778520Z"
    }
   },
   "outputs": [
    {
     "name": "stdout",
     "output_type": "stream",
     "text": [
      "이름:홍길동, 주소:서울, 전화:02-888-8888, 핸드폰:010-9999-9999, 특징:동해번쩍 서해번쩍 혈액형:B\n"
     ]
    }
   ],
   "source": [
    "# 정규표현식 이용\n",
    "import re\n",
    "data = \"이름:홍길동, 주소:서울, 전화:02-888-8888, 핸드폰:010-9999-9999, 특징:동해번쩍 서해번쩍 \\\n",
    "혈액형:B\"\n",
    "print(data)"
   ]
  },
  {
   "cell_type": "code",
   "execution_count": 7,
   "id": "d936bd30",
   "metadata": {
    "ExecuteTime": {
     "end_time": "2024-11-05T01:08:40.952818Z",
     "start_time": "2024-11-05T01:08:40.946820Z"
    }
   },
   "outputs": [
    {
     "data": {
      "text/plain": [
       "['02-888-8888', '010-9999-9999']"
      ]
     },
     "execution_count": 7,
     "metadata": {},
     "output_type": "execute_result"
    }
   ],
   "source": [
    "# 정규표현식 처리에서는 raw 데이터 처리를 하지 않아도 실행은 되나\n",
    "# 실수를 줄이고, 가독성을 높이는 용도로 raw 데이터 처리를 사용\n",
    "tel_pattern = r'\\d{2,3}-\\d{3,4}-\\d{4}'\n",
    "tels = re.findall(tel_pattern, data) # 해당 패턴 찾아줘\n",
    "tels"
   ]
  },
  {
   "cell_type": "code",
   "execution_count": 8,
   "id": "9517df30",
   "metadata": {
    "ExecuteTime": {
     "end_time": "2024-11-05T01:12:11.757488Z",
     "start_time": "2024-11-05T01:12:11.750492Z"
    }
   },
   "outputs": [
    {
     "data": {
      "text/plain": [
       "<re.Match object; span=(18, 29), match='02-888-8888'>"
      ]
     },
     "execution_count": 8,
     "metadata": {},
     "output_type": "execute_result"
    }
   ],
   "source": [
    "# 정규표현식 패턴과 처음 match 되는 것을 찾아줘...\n",
    "firstTel = re.search(tel_pattern, data)\n",
    "firstTel"
   ]
  },
  {
   "cell_type": "code",
   "execution_count": 9,
   "id": "7448abf8",
   "metadata": {
    "ExecuteTime": {
     "end_time": "2024-11-05T01:12:34.907909Z",
     "start_time": "2024-11-05T01:12:34.901910Z"
    }
   },
   "outputs": [
    {
     "name": "stdout",
     "output_type": "stream",
     "text": [
      "02-888-8888\n",
      "02-888-8888\n"
     ]
    }
   ],
   "source": [
    "print(data[18:29])\n",
    "print(firstTel.group(0))"
   ]
  },
  {
   "cell_type": "code",
   "execution_count": 10,
   "id": "63a36b9d",
   "metadata": {
    "ExecuteTime": {
     "end_time": "2024-11-05T01:19:06.835564Z",
     "start_time": "2024-11-05T01:19:06.828566Z"
    }
   },
   "outputs": [
    {
     "data": {
      "text/plain": [
       "<re.Match object; span=(18, 29), match='02-888-8888'>"
      ]
     },
     "execution_count": 10,
     "metadata": {},
     "output_type": "execute_result"
    }
   ],
   "source": [
    "phone_pattern = r'(\\d{2,3})-(\\d{3,4})-(\\d{4})'\n",
    "first_phone = re.search(phone_pattern, data)\n",
    "first_phone"
   ]
  },
  {
   "cell_type": "code",
   "execution_count": 11,
   "id": "335a2911",
   "metadata": {
    "ExecuteTime": {
     "end_time": "2024-11-05T01:20:40.066035Z",
     "start_time": "2024-11-05T01:20:40.059036Z"
    }
   },
   "outputs": [
    {
     "name": "stdout",
     "output_type": "stream",
     "text": [
      "전체 전화번호 : 02-888-8888\n",
      "국번 :  02\n",
      "중간번호:  888\n",
      "끝번호:  8888\n"
     ]
    }
   ],
   "source": [
    "print('전체 전화번호 :', first_phone.group(0))\n",
    "print('국번 : ', first_phone.group(1))\n",
    "print('중간번호: ', first_phone.group(2))\n",
    "print('끝번호: ', first_phone.group(3))"
   ]
  },
  {
   "cell_type": "code",
   "execution_count": 18,
   "id": "9af81075",
   "metadata": {
    "ExecuteTime": {
     "end_time": "2024-11-05T01:40:33.314095Z",
     "start_time": "2024-11-05T01:40:33.306097Z"
    }
   },
   "outputs": [],
   "source": [
    "# 파일경로에는 반드시 r을 사용하거나 \\\\로 이용하거나 /를 사용\n",
    "# file_path = 'D:\\\\myspace\\\\source\\\\07_python\\\\test.txt'\n",
    "# file_path = 'D:/myspace/source/07_python/test.txt'\n",
    "file_path = r'D:\\myspace\\source\\07_python\\test.txt'"
   ]
  },
  {
   "cell_type": "code",
   "execution_count": 21,
   "id": "d3f18d53",
   "metadata": {
    "ExecuteTime": {
     "end_time": "2024-11-05T01:44:18.168463Z",
     "start_time": "2024-11-05T01:44:18.160466Z"
    }
   },
   "outputs": [
    {
     "name": "stdout",
     "output_type": "stream",
     "text": [
      "Hello, World\n",
      "Hello, Python\n"
     ]
    }
   ],
   "source": [
    "file_stream = open(file_path, 'w')\n",
    "print('Hello, World', 'Hello, Python', sep='\\n')\n",
    "print('Hello, World', 'Hello, Python', sep='\\n', file=file_stream)\n",
    "file_stream.close()"
   ]
  },
  {
   "cell_type": "markdown",
   "id": "0998f956",
   "metadata": {},
   "source": [
    "###### ※문자열 슬라이싱"
   ]
  },
  {
   "cell_type": "code",
   "execution_count": 22,
   "id": "85294af1",
   "metadata": {
    "ExecuteTime": {
     "end_time": "2024-11-05T01:51:41.741206Z",
     "start_time": "2024-11-05T01:51:41.735207Z"
    }
   },
   "outputs": [
    {
     "data": {
      "text/plain": [
       "'0123456789'"
      ]
     },
     "execution_count": 22,
     "metadata": {},
     "output_type": "execute_result"
    }
   ],
   "source": [
    "str_ ='0123456789'\n",
    "str_"
   ]
  },
  {
   "cell_type": "code",
   "execution_count": 23,
   "id": "10c499cc",
   "metadata": {
    "ExecuteTime": {
     "end_time": "2024-11-05T01:52:03.364124Z",
     "start_time": "2024-11-05T01:52:03.357128Z"
    }
   },
   "outputs": [
    {
     "data": {
      "text/plain": [
       "('0', '2', '9')"
      ]
     },
     "execution_count": 23,
     "metadata": {},
     "output_type": "execute_result"
    }
   ],
   "source": [
    "str_[0], str_[2], str_[-1]"
   ]
  },
  {
   "cell_type": "code",
   "execution_count": 24,
   "id": "6b32944f",
   "metadata": {
    "ExecuteTime": {
     "end_time": "2024-11-05T01:55:56.074921Z",
     "start_time": "2024-11-05T01:55:56.068921Z"
    }
   },
   "outputs": [
    {
     "data": {
      "text/plain": [
       "'012'"
      ]
     },
     "execution_count": 24,
     "metadata": {},
     "output_type": "execute_result"
    }
   ],
   "source": [
    "'''\n",
    "문자열변수[from:stop] : from부터 stop앞까지 추출\n",
    "문자열변수[from:stop:step] : from부터 stop앞까지 step만큼 추출\n",
    "    from 생략시 처음부터\n",
    "    stop 생략시 끝까지\n",
    "    step 생략시 1\n",
    "'''\n",
    "str_[0:3]"
   ]
  },
  {
   "cell_type": "code",
   "execution_count": 26,
   "id": "1756cb39",
   "metadata": {
    "ExecuteTime": {
     "end_time": "2024-11-05T01:56:15.498559Z",
     "start_time": "2024-11-05T01:56:15.491560Z"
    }
   },
   "outputs": [
    {
     "data": {
      "text/plain": [
       "'5678'"
      ]
     },
     "execution_count": 26,
     "metadata": {},
     "output_type": "execute_result"
    }
   ],
   "source": [
    "str_[-5:-1]"
   ]
  },
  {
   "cell_type": "code",
   "execution_count": 27,
   "id": "a30185df",
   "metadata": {
    "ExecuteTime": {
     "end_time": "2024-11-05T01:58:59.545837Z",
     "start_time": "2024-11-05T01:58:59.538840Z"
    }
   },
   "outputs": [
    {
     "data": {
      "text/plain": [
       "'56789'"
      ]
     },
     "execution_count": 27,
     "metadata": {},
     "output_type": "execute_result"
    }
   ],
   "source": [
    "# 인덱싱시 없는 인덱스번호를 사용하면 에러\n",
    "# 슬라이싱시 인덱스 범위를 벗어나면 끝까지를 의미\n",
    "str_[5:19]"
   ]
  },
  {
   "cell_type": "code",
   "execution_count": 29,
   "id": "7d23b82d",
   "metadata": {
    "ExecuteTime": {
     "end_time": "2024-11-05T01:59:55.575491Z",
     "start_time": "2024-11-05T01:59:55.570491Z"
    }
   },
   "outputs": [
    {
     "name": "stdout",
     "output_type": "stream",
     "text": [
      "0123456789\n",
      "02468\n"
     ]
    }
   ],
   "source": [
    "print(str_[0:10])\n",
    "print(str_[0:10:2])"
   ]
  },
  {
   "cell_type": "code",
   "execution_count": 32,
   "id": "a093a514",
   "metadata": {
    "ExecuteTime": {
     "end_time": "2024-11-05T02:02:50.448048Z",
     "start_time": "2024-11-05T02:02:50.442049Z"
    }
   },
   "outputs": [
    {
     "name": "stdout",
     "output_type": "stream",
     "text": [
      "012345\n",
      "56789\n"
     ]
    }
   ],
   "source": [
    "print(str_[:6]) # 처음부터 6번째 앞까지\n",
    "print(str_[5:]) # 5부터 끝까지"
   ]
  },
  {
   "cell_type": "code",
   "execution_count": 33,
   "id": "59f12423",
   "metadata": {
    "ExecuteTime": {
     "end_time": "2024-11-05T02:03:56.984260Z",
     "start_time": "2024-11-05T02:03:56.978262Z"
    }
   },
   "outputs": [
    {
     "name": "stdout",
     "output_type": "stream",
     "text": [
      "987654321\n"
     ]
    }
   ],
   "source": [
    "print(str_[9:0:-1]) #9번째 부터 0까지 -1씩"
   ]
  },
  {
   "cell_type": "code",
   "execution_count": 34,
   "id": "a34ad1ed",
   "metadata": {
    "ExecuteTime": {
     "end_time": "2024-11-05T02:11:48.915113Z",
     "start_time": "2024-11-05T02:11:48.909115Z"
    }
   },
   "outputs": [
    {
     "name": "stdout",
     "output_type": "stream",
     "text": [
      "9876543210\n"
     ]
    }
   ],
   "source": [
    "# 마지막부터 처음까지 거꾸로 출력\n",
    "print(str_[9::-1])\n"
   ]
  },
  {
   "cell_type": "markdown",
   "id": "98335913",
   "metadata": {
    "ExecuteTime": {
     "end_time": "2024-11-05T02:12:07.569005Z",
     "start_time": "2024-11-05T02:12:07.564006Z"
    }
   },
   "source": [
    "## 3.3 논리형(True, False)"
   ]
  },
  {
   "cell_type": "code",
   "execution_count": 37,
   "id": "17dfe9e7",
   "metadata": {
    "ExecuteTime": {
     "end_time": "2024-11-05T02:15:31.778232Z",
     "start_time": "2024-11-05T02:15:31.772233Z"
    }
   },
   "outputs": [
    {
     "name": "stdout",
     "output_type": "stream",
     "text": [
      "True\n",
      "<class 'bool'>\n",
      "True\n"
     ]
    }
   ],
   "source": [
    "a = True\n",
    "print(a)\n",
    "print(type(a))\n",
    "print(isinstance(a,bool))"
   ]
  },
  {
   "cell_type": "code",
   "execution_count": 38,
   "id": "091a4348",
   "metadata": {
    "ExecuteTime": {
     "end_time": "2024-11-05T02:15:55.056612Z",
     "start_time": "2024-11-05T02:15:55.050610Z"
    }
   },
   "outputs": [
    {
     "data": {
      "text/plain": [
       "(1, 0)"
      ]
     },
     "execution_count": 38,
     "metadata": {},
     "output_type": "execute_result"
    }
   ],
   "source": [
    "int(True), int(False)"
   ]
  },
  {
   "cell_type": "code",
   "execution_count": null,
   "id": "47209cf7",
   "metadata": {},
   "outputs": [],
   "source": [
    "# False로 간주되는 것 : (0, '', -빈스트링, None, []-빈리스트,()-빈튜플, {}-빈 딕셔너리)"
   ]
  },
  {
   "cell_type": "code",
   "execution_count": 39,
   "id": "e29c4a76",
   "metadata": {
    "ExecuteTime": {
     "end_time": "2024-11-05T02:17:22.769885Z",
     "start_time": "2024-11-05T02:17:22.763889Z"
    }
   },
   "outputs": [
    {
     "name": "stdout",
     "output_type": "stream",
     "text": [
      "False다\n"
     ]
    }
   ],
   "source": [
    "if 0:\n",
    "    print('True다')\n",
    "else:\n",
    "    print('False다')"
   ]
  },
  {
   "cell_type": "markdown",
   "id": "0fa147e4",
   "metadata": {},
   "source": [
    "## 3.4 자료형 확인 및 형변환 함수\n",
    "    -type()\n",
    "    -int() : 정수형 변환\n",
    "    -float() : 실수형 변환\n",
    "    -str() : 문자형 변환\n",
    "    -bool() : 논리형 변환\n",
    "   "
   ]
  },
  {
   "cell_type": "code",
   "execution_count": 41,
   "id": "a5964707",
   "metadata": {
    "ExecuteTime": {
     "end_time": "2024-11-05T02:38:58.294390Z",
     "start_time": "2024-11-05T02:38:58.288392Z"
    }
   },
   "outputs": [
    {
     "data": {
      "text/plain": [
       "(123, 123)"
      ]
     },
     "execution_count": 41,
     "metadata": {},
     "output_type": "execute_result"
    }
   ],
   "source": [
    "int('123'), int(123.55)"
   ]
  },
  {
   "cell_type": "code",
   "execution_count": 42,
   "id": "9a412e10",
   "metadata": {
    "ExecuteTime": {
     "end_time": "2024-11-05T02:39:26.569129Z",
     "start_time": "2024-11-05T02:39:26.544136Z"
    }
   },
   "outputs": [
    {
     "ename": "ValueError",
     "evalue": "invalid literal for int() with base 10: ''",
     "output_type": "error",
     "traceback": [
      "\u001b[1;31m---------------------------------------------------------------------------\u001b[0m",
      "\u001b[1;31mValueError\u001b[0m                                Traceback (most recent call last)",
      "Cell \u001b[1;32mIn[42], line 1\u001b[0m\n\u001b[1;32m----> 1\u001b[0m \u001b[38;5;28;43mint\u001b[39;49m\u001b[43m(\u001b[49m\u001b[38;5;124;43m'\u001b[39;49m\u001b[38;5;124;43m'\u001b[39;49m\u001b[43m)\u001b[49m, \u001b[38;5;28mint\u001b[39m(\u001b[38;5;124m'\u001b[39m\u001b[38;5;124m \u001b[39m\u001b[38;5;124m'\u001b[39m), \u001b[38;5;28mint\u001b[39m(\u001b[38;5;28;01mNone\u001b[39;00m), \u001b[38;5;28mint\u001b[39m(\u001b[38;5;241m123.45\u001b[39m)\n",
      "\u001b[1;31mValueError\u001b[0m: invalid literal for int() with base 10: ''"
     ]
    }
   ],
   "source": [
    "# 에러나는 것들\n",
    "int(''), int(' '), int(None), int('123.45')"
   ]
  },
  {
   "cell_type": "code",
   "execution_count": 43,
   "id": "45243ee2",
   "metadata": {
    "ExecuteTime": {
     "end_time": "2024-11-05T02:42:12.509889Z",
     "start_time": "2024-11-05T02:42:12.502893Z"
    }
   },
   "outputs": [
    {
     "data": {
      "text/plain": [
       "(123.45, 23.0)"
      ]
     },
     "execution_count": 43,
     "metadata": {},
     "output_type": "execute_result"
    }
   ],
   "source": [
    "float('123.45'), float(23)"
   ]
  },
  {
   "cell_type": "code",
   "execution_count": 44,
   "id": "843727a5",
   "metadata": {
    "ExecuteTime": {
     "end_time": "2024-11-05T02:43:27.096464Z",
     "start_time": "2024-11-05T02:43:27.070471Z"
    }
   },
   "outputs": [
    {
     "ename": "ValueError",
     "evalue": "could not convert string to float: ''",
     "output_type": "error",
     "traceback": [
      "\u001b[1;31m---------------------------------------------------------------------------\u001b[0m",
      "\u001b[1;31mValueError\u001b[0m                                Traceback (most recent call last)",
      "Cell \u001b[1;32mIn[44], line 1\u001b[0m\n\u001b[1;32m----> 1\u001b[0m \u001b[38;5;28;43mfloat\u001b[39;49m\u001b[43m(\u001b[49m\u001b[38;5;124;43m'\u001b[39;49m\u001b[38;5;124;43m'\u001b[39;49m\u001b[43m)\u001b[49m, \u001b[38;5;28mfloat\u001b[39m(\u001b[38;5;124m'\u001b[39m\u001b[38;5;124m \u001b[39m\u001b[38;5;124m'\u001b[39m), \u001b[38;5;28mfloat\u001b[39m(\u001b[38;5;28;01mNone\u001b[39;00m), \u001b[38;5;28mfloat\u001b[39m(\u001b[38;5;124m'\u001b[39m\u001b[38;5;124m1,123\u001b[39m\u001b[38;5;124m'\u001b[39m)\n",
      "\u001b[1;31mValueError\u001b[0m: could not convert string to float: ''"
     ]
    }
   ],
   "source": [
    "float(''), float(' '), float(None), float('1,123')"
   ]
  },
  {
   "cell_type": "code",
   "execution_count": 45,
   "id": "9fa7d300",
   "metadata": {
    "ExecuteTime": {
     "end_time": "2024-11-05T02:44:33.763167Z",
     "start_time": "2024-11-05T02:44:33.758173Z"
    }
   },
   "outputs": [
    {
     "data": {
      "text/plain": [
       "('10', '10.9', '11200000000.0')"
      ]
     },
     "execution_count": 45,
     "metadata": {},
     "output_type": "execute_result"
    }
   ],
   "source": [
    "str(10), str(10.9), str(1.12e10)"
   ]
  },
  {
   "cell_type": "code",
   "execution_count": null,
   "id": "173dd60f",
   "metadata": {},
   "outputs": [],
   "source": []
  },
  {
   "cell_type": "markdown",
   "id": "17ccae81",
   "metadata": {},
   "source": [
    "파이썬 기본 자료형\n",
    " 1. 숫자 - int, float, complex\n",
    " 2. 문자 - str, 문자슬라이싱, raw 데이터처리시 이스케이프문자(\\n,\\\\,\\,\\t)를 그대로 저장\n",
    " 3. 논리 - False로 판별되는 경우 0, '', None, [] , (). {}"
   ]
  },
  {
   "cell_type": "code",
   "execution_count": null,
   "id": "06eeb049",
   "metadata": {},
   "outputs": [],
   "source": []
  },
  {
   "cell_type": "code",
   "execution_count": null,
   "id": "ccad976c",
   "metadata": {},
   "outputs": [],
   "source": []
  },
  {
   "cell_type": "code",
   "execution_count": null,
   "id": "61f663d7",
   "metadata": {},
   "outputs": [],
   "source": []
  },
  {
   "cell_type": "code",
   "execution_count": null,
   "id": "6b161ab7",
   "metadata": {},
   "outputs": [],
   "source": []
  },
  {
   "cell_type": "code",
   "execution_count": null,
   "id": "43431ef2",
   "metadata": {},
   "outputs": [],
   "source": []
  },
  {
   "cell_type": "code",
   "execution_count": null,
   "id": "46a7fa7e",
   "metadata": {},
   "outputs": [],
   "source": []
  },
  {
   "cell_type": "code",
   "execution_count": null,
   "id": "c14287fb",
   "metadata": {},
   "outputs": [],
   "source": []
  },
  {
   "cell_type": "code",
   "execution_count": null,
   "id": "c5c39767",
   "metadata": {},
   "outputs": [],
   "source": []
  },
  {
   "cell_type": "code",
   "execution_count": null,
   "id": "0222d26c",
   "metadata": {},
   "outputs": [],
   "source": []
  },
  {
   "cell_type": "code",
   "execution_count": null,
   "id": "833e2046",
   "metadata": {},
   "outputs": [],
   "source": []
  },
  {
   "cell_type": "code",
   "execution_count": null,
   "id": "bc375184",
   "metadata": {},
   "outputs": [],
   "source": []
  },
  {
   "cell_type": "code",
   "execution_count": null,
   "id": "fb0dae5d",
   "metadata": {},
   "outputs": [],
   "source": []
  },
  {
   "cell_type": "code",
   "execution_count": null,
   "id": "a1db6fac",
   "metadata": {},
   "outputs": [],
   "source": []
  }
 ],
 "metadata": {
  "kernelspec": {
   "display_name": "Python 3 (ipykernel)",
   "language": "python",
   "name": "python3"
  },
  "language_info": {
   "codemirror_mode": {
    "name": "ipython",
    "version": 3
   },
   "file_extension": ".py",
   "mimetype": "text/x-python",
   "name": "python",
   "nbconvert_exporter": "python",
   "pygments_lexer": "ipython3",
   "version": "3.10.9"
  },
  "toc": {
   "base_numbering": 1,
   "nav_menu": {},
   "number_sections": true,
   "sideBar": true,
   "skip_h1_title": false,
   "title_cell": "Table of Contents",
   "title_sidebar": "Contents",
   "toc_cell": false,
   "toc_position": {},
   "toc_section_display": true,
   "toc_window_display": false
  }
 },
 "nbformat": 4,
 "nbformat_minor": 5
}
