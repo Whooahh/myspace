{
 "cells": [
  {
   "cell_type": "code",
   "execution_count": 1,
   "id": "a7f48d20",
   "metadata": {
    "ExecuteTime": {
     "end_time": "2024-11-08T03:02:21.024985Z",
     "start_time": "2024-11-08T03:02:21.016994Z"
    }
   },
   "outputs": [
    {
     "data": {
      "text/html": [
       "\n",
       "<style>\n",
       "div.container{width:99% !important;}\n",
       "div.cell.code_cell.rendered{width:85%;}\n",
       "div.CodeMirror {font-family:Consolas; font-size:10pt;}\n",
       "div.output {font-size:10pt; font-weight:bold;}\n",
       "div.input {font-family:Consolas; font-size:10pt;}\n",
       "div.prompt {min-width:50px;}\n",
       "div#toc-wrapper{padding-top:100px;}\n",
       "span.toc-item-num{display:none;}\n",
       "div.text_cell_render ul li{font-size:10pt;padding:5px;}\n",
       "</style>\n"
      ],
      "text/plain": [
       "<IPython.core.display.HTML object>"
      ]
     },
     "metadata": {},
     "output_type": "display_data"
    }
   ],
   "source": [
    "from IPython.display import display, HTML\n",
    "\n",
    "display(\n",
    "    HTML(\"\"\"\n",
    "<style>\n",
    "div.container{width:99% !important;}\n",
    "div.cell.code_cell.rendered{width:85%;}\n",
    "div.CodeMirror {font-family:Consolas; font-size:10pt;}\n",
    "div.output {font-size:10pt; font-weight:bold;}\n",
    "div.input {font-family:Consolas; font-size:10pt;}\n",
    "div.prompt {min-width:50px;}\n",
    "div#toc-wrapper{padding-top:100px;}\n",
    "span.toc-item-num{display:none;}\n",
    "div.text_cell_render ul li{font-size:10pt;padding:5px;}\n",
    "</style>\n",
    "\"\"\"))"
   ]
  },
  {
   "cell_type": "markdown",
   "id": "b9525d26",
   "metadata": {},
   "source": [
    "<b><font color=\"red\" size=\"6\">ch05. 함수</font></b>\n",
    "- 반복해서 사용할 코드를 묶어 놓고 그것에 이름을 붙인 것.\n",
    "- Overloading 불가\n",
    "- 함수의 정의\n",
    "```\n",
    "def 함수명 ([매개변수1, 매개변수2, ..]):\n",
    "    명령어1\n",
    "    명령어2\n",
    "    return 리턴값\n",
    "```"
   ]
  },
  {
   "cell_type": "markdown",
   "id": "569745d8",
   "metadata": {},
   "source": [
    "### 1절. 함수의 정의 및 사용"
   ]
  },
  {
   "cell_type": "markdown",
   "id": "1b7298b6",
   "metadata": {},
   "source": [
    "#### 1.1 함수정의하기"
   ]
  },
  {
   "cell_type": "code",
   "execution_count": 2,
   "id": "58db0633",
   "metadata": {
    "ExecuteTime": {
     "end_time": "2024-11-08T03:13:17.272188Z",
     "start_time": "2024-11-08T03:13:17.268194Z"
    }
   },
   "outputs": [],
   "source": [
    "def my_hello(x, msg): #함수 정의\n",
    "    for i in range(x):\n",
    "        print(i,msg)"
   ]
  },
  {
   "cell_type": "code",
   "execution_count": 3,
   "id": "47e1e4ef",
   "metadata": {
    "ExecuteTime": {
     "end_time": "2024-11-08T03:16:28.262699Z",
     "start_time": "2024-11-08T03:16:28.254720Z"
    }
   },
   "outputs": [
    {
     "name": "stdout",
     "output_type": "stream",
     "text": [
      "0 Hello Python\n",
      "1 Hello Python\n",
      "2 Hello Python\n",
      "3 Hello Python\n",
      "4 Hello Python\n"
     ]
    }
   ],
   "source": [
    "my_hello(5, 'Hello Python')"
   ]
  },
  {
   "cell_type": "code",
   "execution_count": 4,
   "id": "b2830afd",
   "metadata": {
    "ExecuteTime": {
     "end_time": "2024-11-08T03:16:36.477625Z",
     "start_time": "2024-11-08T03:16:36.471610Z"
    }
   },
   "outputs": [
    {
     "data": {
      "text/plain": [
       "str"
      ]
     },
     "execution_count": 4,
     "metadata": {},
     "output_type": "execute_result"
    }
   ],
   "source": [
    "type('my_hello')"
   ]
  },
  {
   "cell_type": "code",
   "execution_count": 5,
   "id": "d517df08",
   "metadata": {
    "ExecuteTime": {
     "end_time": "2024-11-08T03:16:50.546616Z",
     "start_time": "2024-11-08T03:16:50.541627Z"
    }
   },
   "outputs": [
    {
     "data": {
      "text/plain": [
       "int"
      ]
     },
     "execution_count": 5,
     "metadata": {},
     "output_type": "execute_result"
    }
   ],
   "source": [
    "my_hello = 10\n",
    "type(my_hello)"
   ]
  },
  {
   "cell_type": "code",
   "execution_count": 6,
   "id": "b01ae025",
   "metadata": {
    "ExecuteTime": {
     "end_time": "2024-11-08T03:16:55.249582Z",
     "start_time": "2024-11-08T03:16:54.766873Z"
    }
   },
   "outputs": [
    {
     "ename": "TypeError",
     "evalue": "'int' object is not callable",
     "output_type": "error",
     "traceback": [
      "\u001b[1;31m---------------------------------------------------------------------------\u001b[0m",
      "\u001b[1;31mTypeError\u001b[0m                                 Traceback (most recent call last)",
      "Cell \u001b[1;32mIn[6], line 1\u001b[0m\n\u001b[1;32m----> 1\u001b[0m \u001b[43mmy_hello\u001b[49m\u001b[43m(\u001b[49m\u001b[38;5;241;43m5\u001b[39;49m\u001b[43m,\u001b[49m\u001b[43m \u001b[49m\u001b[38;5;124;43m'\u001b[39;49m\u001b[38;5;124;43mHello Python\u001b[39;49m\u001b[38;5;124;43m'\u001b[39;49m\u001b[43m)\u001b[49m\n",
      "\u001b[1;31mTypeError\u001b[0m: 'int' object is not callable"
     ]
    }
   ],
   "source": [
    "my_hello(5, 'Hello Python')"
   ]
  },
  {
   "cell_type": "code",
   "execution_count": 7,
   "id": "cecc125c",
   "metadata": {
    "ExecuteTime": {
     "end_time": "2024-11-08T03:20:03.562015Z",
     "start_time": "2024-11-08T03:20:03.542069Z"
    }
   },
   "outputs": [
    {
     "ename": "NameError",
     "evalue": "name 'my_hello' is not defined",
     "output_type": "error",
     "traceback": [
      "\u001b[1;31m---------------------------------------------------------------------------\u001b[0m",
      "\u001b[1;31mNameError\u001b[0m                                 Traceback (most recent call last)",
      "Cell \u001b[1;32mIn[7], line 3\u001b[0m\n\u001b[0;32m      1\u001b[0m \u001b[38;5;28;01mdel\u001b[39;00m my_hello\n\u001b[0;32m      2\u001b[0m \u001b[38;5;66;03m# 변수를 삭제해도 함수는 사용불가 (파이썬 내장함수만 사용 가능)\u001b[39;00m\n\u001b[1;32m----> 3\u001b[0m \u001b[43mmy_hello\u001b[49m(\u001b[38;5;241m2\u001b[39m, msg)\n",
      "\u001b[1;31mNameError\u001b[0m: name 'my_hello' is not defined"
     ]
    }
   ],
   "source": [
    "del my_hello\n",
    "# 변수를 삭제해도 함수는 사용불가 (파이썬 내장함수만 사용 가능)\n",
    "my_hello(2, msg)"
   ]
  },
  {
   "cell_type": "code",
   "execution_count": 16,
   "id": "48396185",
   "metadata": {
    "ExecuteTime": {
     "end_time": "2024-11-08T05:11:23.597887Z",
     "start_time": "2024-11-08T05:11:23.592920Z"
    }
   },
   "outputs": [],
   "source": [
    "def my_hello():\n",
    "    print('Hello, Python')\n",
    "    print('Hello, World')"
   ]
  },
  {
   "cell_type": "code",
   "execution_count": 17,
   "id": "6d072d19",
   "metadata": {
    "ExecuteTime": {
     "end_time": "2024-11-08T05:11:28.516063Z",
     "start_time": "2024-11-08T05:11:28.511077Z"
    }
   },
   "outputs": [
    {
     "name": "stdout",
     "output_type": "stream",
     "text": [
      "Hello, Python\n",
      "Hello, World\n"
     ]
    }
   ],
   "source": [
    "my_hello()"
   ]
  },
  {
   "cell_type": "code",
   "execution_count": 18,
   "id": "1eb3a7eb",
   "metadata": {
    "ExecuteTime": {
     "end_time": "2024-11-08T05:11:36.677373Z",
     "start_time": "2024-11-08T05:11:36.671386Z"
    }
   },
   "outputs": [
    {
     "data": {
      "text/plain": [
       "<function __main__.my_hello()>"
      ]
     },
     "execution_count": 18,
     "metadata": {},
     "output_type": "execute_result"
    }
   ],
   "source": [
    "my_hello"
   ]
  },
  {
   "cell_type": "code",
   "execution_count": 9,
   "id": "a9fd2154",
   "metadata": {
    "ExecuteTime": {
     "end_time": "2024-11-08T03:37:26.930586Z",
     "start_time": "2024-11-08T03:37:26.925603Z"
    }
   },
   "outputs": [
    {
     "data": {
      "text/plain": [
       "'__main__'"
      ]
     },
     "execution_count": 9,
     "metadata": {},
     "output_type": "execute_result"
    }
   ],
   "source": [
    "__name__"
   ]
  },
  {
   "cell_type": "code",
   "execution_count": 20,
   "id": "e70be1df",
   "metadata": {
    "ExecuteTime": {
     "end_time": "2024-11-08T05:11:47.387209Z",
     "start_time": "2024-11-08T05:11:47.382222Z"
    }
   },
   "outputs": [
    {
     "name": "stdout",
     "output_type": "stream",
     "text": [
      "Hello, Python\n",
      "Hello, World\n"
     ]
    }
   ],
   "source": [
    "if __name__ == '__main__':\n",
    "    my_hello()"
   ]
  },
  {
   "cell_type": "code",
   "execution_count": 11,
   "id": "ebf425e7",
   "metadata": {
    "ExecuteTime": {
     "end_time": "2024-11-08T03:52:31.693013Z",
     "start_time": "2024-11-08T03:52:31.678053Z"
    }
   },
   "outputs": [
    {
     "name": "stdout",
     "output_type": "stream",
     "text": [
      "모듈(*.py파일)모듈테스트 입니다\n",
      "주말 잘 보내세요\n"
     ]
    }
   ],
   "source": [
    "import a # a.py가 해석되서 "
   ]
  },
  {
   "cell_type": "code",
   "execution_count": 12,
   "id": "ff3f37aa",
   "metadata": {
    "ExecuteTime": {
     "end_time": "2024-11-08T04:00:50.586219Z",
     "start_time": "2024-11-08T04:00:50.581193Z"
    }
   },
   "outputs": [],
   "source": [
    "from a import test"
   ]
  },
  {
   "cell_type": "code",
   "execution_count": 13,
   "id": "5f50778d",
   "metadata": {
    "ExecuteTime": {
     "end_time": "2024-11-08T04:00:54.913723Z",
     "start_time": "2024-11-08T04:00:54.908736Z"
    }
   },
   "outputs": [
    {
     "name": "stdout",
     "output_type": "stream",
     "text": [
      "모듈(*.py파일)모듈테스트 입니다\n",
      "주말 잘 보내세요\n"
     ]
    }
   ],
   "source": [
    "test()"
   ]
  },
  {
   "cell_type": "markdown",
   "id": "b950fa69",
   "metadata": {},
   "source": [
    "### 1.2 docstring"
   ]
  },
  {
   "cell_type": "code",
   "execution_count": 7,
   "id": "7989a438",
   "metadata": {
    "ExecuteTime": {
     "end_time": "2024-11-08T05:18:06.067097Z",
     "start_time": "2024-11-08T05:18:06.063109Z"
    }
   },
   "outputs": [],
   "source": [
    "def my_function():\n",
    "    \"\"\"\n",
    "    함수의 첫 라인에 독스트링을 포함할 수 있습니다\n",
    "    독스트링은 함수의 설명서를 달아주는 역할.\n",
    "    주석보다 많은 기능(함수 호출시 shift+tab으로 독스트링을 볼 수 있음)\n",
    "    \"\"\"\n",
    "    pass"
   ]
  },
  {
   "cell_type": "code",
   "execution_count": 8,
   "id": "878c5ea1",
   "metadata": {
    "ExecuteTime": {
     "end_time": "2024-11-08T05:18:07.914906Z",
     "start_time": "2024-11-08T05:18:07.909902Z"
    }
   },
   "outputs": [
    {
     "name": "stdout",
     "output_type": "stream",
     "text": [
      "\n",
      "    함수의 첫 라인에 독스트링을 포함할 수 있습니다\n",
      "    독스트링은 함수의 설명서를 달아주는 역할.\n",
      "    주석보다 많은 기능(함수 호출시 shift+tab으로 독스트링을 볼 수 있음)\n",
      "    \n"
     ]
    }
   ],
   "source": [
    "print (my_function.__doc__)"
   ]
  },
  {
   "cell_type": "code",
   "execution_count": 10,
   "id": "32f5758b",
   "metadata": {
    "ExecuteTime": {
     "end_time": "2024-11-08T05:18:49.491864Z",
     "start_time": "2024-11-08T05:18:49.487854Z"
    }
   },
   "outputs": [],
   "source": [
    "def fibonacci(n):\n",
    "    '''\n",
    "    매개변수로 들어온 n값 미만의 피보나치 수열을 출력합니다\n",
    "    ex. n=10 : 0, 1, 1, 2, 3, 5, 8\n",
    "    '''\n",
    "    a,b = 0, 1\n",
    "    while a<n :\n",
    "        print(a, end=' ')\n",
    "        a, b = b, a+b\n",
    "    print()"
   ]
  },
  {
   "cell_type": "code",
   "execution_count": 4,
   "id": "9cb030f7",
   "metadata": {
    "ExecuteTime": {
     "end_time": "2024-11-08T05:15:28.802529Z",
     "start_time": "2024-11-08T05:15:28.798540Z"
    }
   },
   "outputs": [
    {
     "name": "stdout",
     "output_type": "stream",
     "text": [
      "hello\thi\n"
     ]
    }
   ],
   "source": [
    "print('hello', end='\\t')\n",
    "print('hi')"
   ]
  },
  {
   "cell_type": "code",
   "execution_count": 12,
   "id": "d3e5a323",
   "metadata": {
    "ExecuteTime": {
     "end_time": "2024-11-08T05:20:32.898839Z",
     "start_time": "2024-11-08T05:20:32.893853Z"
    }
   },
   "outputs": [
    {
     "name": "stdout",
     "output_type": "stream",
     "text": [
      "0 1 1 2 3 5 8 13 21 34 55 89 144 233 377 610 987 \n"
     ]
    }
   ],
   "source": [
    "fibonacci(1000)"
   ]
  },
  {
   "cell_type": "markdown",
   "id": "76911843",
   "metadata": {},
   "source": [
    "### 1.3 지역변수(local var)와 전역변수(global var)"
   ]
  },
  {
   "cell_type": "code",
   "execution_count": 15,
   "id": "95611e40",
   "metadata": {
    "ExecuteTime": {
     "end_time": "2024-11-08T05:27:40.770957Z",
     "start_time": "2024-11-08T05:27:40.765923Z"
    }
   },
   "outputs": [
    {
     "name": "stdout",
     "output_type": "stream",
     "text": [
      "함수 안 :  100\n",
      "함수 밖 :  100\n"
     ]
    }
   ],
   "source": [
    "global_var = 100 # 전역변수\n",
    "def func1():\n",
    "    print('함수 안 : ', global_var)\n",
    "func1()\n",
    "print('함수 밖 : ', global_var)"
   ]
  },
  {
   "cell_type": "code",
   "execution_count": 17,
   "id": "e16442ad",
   "metadata": {
    "ExecuteTime": {
     "end_time": "2024-11-08T05:29:08.850976Z",
     "start_time": "2024-11-08T05:29:08.845000Z"
    }
   },
   "outputs": [
    {
     "ename": "IndentationError",
     "evalue": "unexpected indent (572024004.py, line 5)",
     "output_type": "error",
     "traceback": [
      "\u001b[1;36m  Cell \u001b[1;32mIn[17], line 5\u001b[1;36m\u001b[0m\n\u001b[1;33m    print('함수 밖 : ', local_var)\u001b[0m\n\u001b[1;37m    ^\u001b[0m\n\u001b[1;31mIndentationError\u001b[0m\u001b[1;31m:\u001b[0m unexpected indent\n"
     ]
    }
   ],
   "source": [
    "def func2():\n",
    "    local_var = 200 # 지역변수\n",
    "    print('함수 안 : ', local_var)\n",
    "func2()\n",
    "    print('함수 밖 : ', local_var)"
   ]
  },
  {
   "cell_type": "code",
   "execution_count": 18,
   "id": "22915ace",
   "metadata": {
    "ExecuteTime": {
     "end_time": "2024-11-08T05:42:32.554839Z",
     "start_time": "2024-11-08T05:42:32.549844Z"
    }
   },
   "outputs": [
    {
     "name": "stdout",
     "output_type": "stream",
     "text": [
      "함수 안 g_var :  100\n",
      "함수 밖 g_var :  200\n"
     ]
    }
   ],
   "source": [
    "# 랙시컬 특성\n",
    "g_var = 100 # 전역변수\n",
    "def func3():\n",
    "    global g_var # func3 함수 내에서의 g_var는 전역변수를 쓴다\n",
    "    print('함수 안 g_var : ', g_var)\n",
    "    g_var = 200\n",
    "func3()\n",
    "print('함수 밖 g_var : ', g_var)"
   ]
  },
  {
   "cell_type": "markdown",
   "id": "15b22d27",
   "metadata": {},
   "source": [
    "### 1.4 값에 의한 호출\n",
    "- 함수에 인수로 전달되는 변수가 스칼라 변수 일 때 (문자, 숫자, 논리형)일 때"
   ]
  },
  {
   "cell_type": "code",
   "execution_count": 3,
   "id": "faa9884d",
   "metadata": {
    "ExecuteTime": {
     "end_time": "2024-11-08T06:37:21.537205Z",
     "start_time": "2024-11-08T06:37:21.529206Z"
    }
   },
   "outputs": [
    {
     "data": {
      "text/plain": [
       "2046025689072"
      ]
     },
     "execution_count": 3,
     "metadata": {},
     "output_type": "execute_result"
    }
   ],
   "source": [
    "foo = 'a'\n",
    "id(foo)"
   ]
  },
  {
   "cell_type": "code",
   "execution_count": 4,
   "id": "0f529b33",
   "metadata": {
    "ExecuteTime": {
     "end_time": "2024-11-08T06:37:24.383516Z",
     "start_time": "2024-11-08T06:37:24.376540Z"
    }
   },
   "outputs": [
    {
     "name": "stdout",
     "output_type": "stream",
     "text": [
      "Before :  a 의 주소는  2046025689072\n",
      "After :  aaa 의 주소는  2046097576880\n"
     ]
    }
   ],
   "source": [
    "def func1(f):\n",
    "    print('Before : ', f, '의 주소는 ', id(f))\n",
    "    f = f*3\n",
    "    print('After : ', f, '의 주소는 ', id(f))\n",
    "func1(foo)"
   ]
  },
  {
   "cell_type": "code",
   "execution_count": 5,
   "id": "845c6260",
   "metadata": {
    "ExecuteTime": {
     "end_time": "2024-11-08T06:37:27.108372Z",
     "start_time": "2024-11-08T06:37:27.104369Z"
    }
   },
   "outputs": [
    {
     "name": "stdout",
     "output_type": "stream",
     "text": [
      "foo = a 의 주소는  2046025689072\n"
     ]
    }
   ],
   "source": [
    "print('foo =', foo, '의 주소는 ', id(foo))"
   ]
  },
  {
   "cell_type": "code",
   "execution_count": 16,
   "id": "da8c9c22",
   "metadata": {
    "ExecuteTime": {
     "end_time": "2024-11-08T06:37:52.621958Z",
     "start_time": "2024-11-08T06:37:52.615975Z"
    }
   },
   "outputs": [
    {
     "data": {
      "text/plain": [
       "2046132415552"
      ]
     },
     "execution_count": 16,
     "metadata": {},
     "output_type": "execute_result"
    }
   ],
   "source": [
    "L = [1,2,3,4,5]\n",
    "id(L)"
   ]
  },
  {
   "cell_type": "code",
   "execution_count": 17,
   "id": "d7dd2c02",
   "metadata": {
    "ExecuteTime": {
     "end_time": "2024-11-08T06:37:54.214409Z",
     "start_time": "2024-11-08T06:37:54.208426Z"
    }
   },
   "outputs": [
    {
     "name": "stdout",
     "output_type": "stream",
     "text": [
      "before : [1, 2, 3, 4, 5] 의 주소는  2046132415552\n",
      "after :  [1, 2, 3, 4, 5, 6] 의 주소는  2046132415552\n"
     ]
    }
   ],
   "source": [
    "def func2(f):\n",
    "    print('before :', f, '의 주소는 ', id(f))\n",
    "    f.append(6)\n",
    "    print('after : ', f, '의 주소는 ', id(f))\n",
    "func2(L)"
   ]
  },
  {
   "cell_type": "code",
   "execution_count": 18,
   "id": "c674af6f",
   "metadata": {
    "ExecuteTime": {
     "end_time": "2024-11-08T06:37:57.477725Z",
     "start_time": "2024-11-08T06:37:57.472735Z"
    }
   },
   "outputs": [
    {
     "name": "stdout",
     "output_type": "stream",
     "text": [
      "L= [1, 2, 3, 4, 5, 6] 의 주소는  2046132415552\n"
     ]
    }
   ],
   "source": [
    "print('L=', L, '의 주소는 ', id(L))"
   ]
  },
  {
   "cell_type": "markdown",
   "id": "65b7f252",
   "metadata": {},
   "source": [
    "### 1.6 함수의 이름 변경\n",
    "- Python : 함수형언어, 객체지향언어"
   ]
  },
  {
   "cell_type": "code",
   "execution_count": 19,
   "id": "5e234f2f",
   "metadata": {
    "ExecuteTime": {
     "end_time": "2024-11-08T06:38:01.037994Z",
     "start_time": "2024-11-08T06:38:01.032020Z"
    }
   },
   "outputs": [
    {
     "data": {
      "text/plain": [
       "[0, 1, 1, 2, 3, 5, 8, 13]"
      ]
     },
     "execution_count": 19,
     "metadata": {},
     "output_type": "execute_result"
    }
   ],
   "source": [
    "fibonacci(20)"
   ]
  },
  {
   "cell_type": "code",
   "execution_count": 20,
   "id": "c418105a",
   "metadata": {
    "ExecuteTime": {
     "end_time": "2024-11-08T06:38:03.117537Z",
     "start_time": "2024-11-08T06:38:03.112571Z"
    }
   },
   "outputs": [
    {
     "data": {
      "text/plain": [
       "[0, 1, 1, 2, 3, 5, 8, 13]"
      ]
     },
     "execution_count": 20,
     "metadata": {},
     "output_type": "execute_result"
    }
   ],
   "source": [
    "fibo = fibonacci # fibonacci 함수 이름 fibo로도 사용 가능\n",
    "fibo(20)"
   ]
  },
  {
   "cell_type": "code",
   "execution_count": 11,
   "id": "ebc1472c",
   "metadata": {
    "ExecuteTime": {
     "end_time": "2024-11-08T06:37:35.413612Z",
     "start_time": "2024-11-08T06:37:35.408614Z"
    }
   },
   "outputs": [
    {
     "data": {
      "text/plain": [
       "11"
      ]
     },
     "execution_count": 11,
     "metadata": {},
     "output_type": "execute_result"
    }
   ],
   "source": [
    "import random\n",
    "temp = random.randint\n",
    "temp(1, 20)"
   ]
  },
  {
   "cell_type": "markdown",
   "id": "a05403a2",
   "metadata": {},
   "source": [
    "# 2절. 함수의 실행결과 반환하는 return"
   ]
  },
  {
   "cell_type": "code",
   "execution_count": 12,
   "id": "e1de08ec",
   "metadata": {
    "ExecuteTime": {
     "end_time": "2024-11-08T06:37:35.800479Z",
     "start_time": "2024-11-08T06:37:35.794474Z"
    }
   },
   "outputs": [],
   "source": [
    "def fibonacci_print(n):\n",
    "    '''\n",
    "    매개변수로 들어온 n값 미만의 피보나치 수열을 출력합니다\n",
    "    ex. n=10 : 0, 1, 1, 2, 3, 5, 8\n",
    "    '''\n",
    "    \n",
    "    a, b = 0, 1\n",
    "    while a<n:\n",
    "        print(a, end=' ')\n",
    "        a, b = b, a+b\n",
    "    print()\n",
    "def fibonacci(n):\n",
    "    '''\n",
    "    매개변수로 들어온 n값 미만의 피보나치 수열을 리스트로 return\n",
    "    '''\n",
    "    \n",
    "    result = []\n",
    "    a, b = 0, 1\n",
    "    while a<n:\n",
    "        result.append(a)\n",
    "        a, b = b, a+b\n",
    "    return result"
   ]
  },
  {
   "cell_type": "code",
   "execution_count": 13,
   "id": "25c2ad00",
   "metadata": {
    "ExecuteTime": {
     "end_time": "2024-11-08T06:37:36.181858Z",
     "start_time": "2024-11-08T06:37:36.176864Z"
    }
   },
   "outputs": [
    {
     "name": "stdout",
     "output_type": "stream",
     "text": [
      "0 1 1 2 3 5 8 \n",
      "None\n",
      "<class 'NoneType'>\n"
     ]
    }
   ],
   "source": [
    "x = fibonacci_print(10)\n",
    "print(x) # return이 없는 \n",
    "print(type(x))"
   ]
  },
  {
   "cell_type": "code",
   "execution_count": 14,
   "id": "5989f1f2",
   "metadata": {
    "ExecuteTime": {
     "end_time": "2024-11-08T06:37:36.366819Z",
     "start_time": "2024-11-08T06:37:36.361839Z"
    }
   },
   "outputs": [
    {
     "name": "stdout",
     "output_type": "stream",
     "text": [
      "[0, 1, 1, 2, 3, 5, 8]\n"
     ]
    }
   ],
   "source": [
    "x = fibonacci(10)\n",
    "print(x)"
   ]
  },
  {
   "cell_type": "markdown",
   "id": "e26481fc",
   "metadata": {},
   "source": [
    "#### 여러개 값 return\n"
   ]
  },
  {
   "cell_type": "code",
   "execution_count": 21,
   "id": "111ce5d3",
   "metadata": {
    "ExecuteTime": {
     "end_time": "2024-11-08T06:39:35.773637Z",
     "start_time": "2024-11-08T06:39:35.769661Z"
    }
   },
   "outputs": [],
   "source": [
    "def swap(a, b):\n",
    "    '''\n",
    "    매개변수의 순서를 바꿔서 return\n",
    "    '''\n",
    "    return b, a"
   ]
  },
  {
   "cell_type": "code",
   "execution_count": 24,
   "id": "35b0d4ad",
   "metadata": {
    "ExecuteTime": {
     "end_time": "2024-11-08T06:40:50.221877Z",
     "start_time": "2024-11-08T06:40:50.216876Z"
    }
   },
   "outputs": [
    {
     "name": "stdout",
     "output_type": "stream",
     "text": [
      "함수 실행 전 x, y = 5 10\n",
      "함수 실행 후 x, y =  10 5\n"
     ]
    }
   ],
   "source": [
    "x, y = 5, 10\n",
    "print('함수 실행 전 x, y =', x, y)\n",
    "x, y = swap(x, y)\n",
    "print('함수 실행 후 x, y = ', x, y)"
   ]
  },
  {
   "cell_type": "code",
   "execution_count": 27,
   "id": "1b6c87f7",
   "metadata": {
    "ExecuteTime": {
     "end_time": "2024-11-08T06:41:36.069894Z",
     "start_time": "2024-11-08T06:41:36.064910Z"
    }
   },
   "outputs": [
    {
     "name": "stdout",
     "output_type": "stream",
     "text": [
      "<class 'tuple'>\n",
      "(20, 10)\n"
     ]
    }
   ],
   "source": [
    "a = swap (10, 20)\n",
    "print(type(a))\n",
    "print(a)"
   ]
  },
  {
   "cell_type": "markdown",
   "id": "7dc5b66a",
   "metadata": {},
   "source": [
    "# 3절. 함수의 매개변수★\n",
    "### 3.1 기본값을 갖는 매개변수"
   ]
  },
  {
   "cell_type": "code",
   "execution_count": 29,
   "id": "09493fd6",
   "metadata": {
    "ExecuteTime": {
     "end_time": "2024-11-08T06:46:56.637228Z",
     "start_time": "2024-11-08T06:46:56.632263Z"
    }
   },
   "outputs": [],
   "source": [
    "def make_url(ip, port=80): # 순서인 수 >기본값을 갖는 매개변수\n",
    "    return\"http://{}:{}\".format(ip,port)"
   ]
  },
  {
   "cell_type": "code",
   "execution_count": 31,
   "id": "5dfc8a2f",
   "metadata": {
    "ExecuteTime": {
     "end_time": "2024-11-08T06:47:28.459925Z",
     "start_time": "2024-11-08T06:47:28.455928Z"
    }
   },
   "outputs": [
    {
     "name": "stdout",
     "output_type": "stream",
     "text": [
      "http://localhost:8090\n",
      "http://localhost:80\n"
     ]
    }
   ],
   "source": [
    "print(make_url('localhost',8090))\n",
    "print(make_url('localhost'))"
   ]
  },
  {
   "cell_type": "code",
   "execution_count": null,
   "id": "14fec998",
   "metadata": {},
   "outputs": [],
   "source": []
  }
 ],
 "metadata": {
  "kernelspec": {
   "display_name": "Python 3 (ipykernel)",
   "language": "python",
   "name": "python3"
  },
  "language_info": {
   "codemirror_mode": {
    "name": "ipython",
    "version": 3
   },
   "file_extension": ".py",
   "mimetype": "text/x-python",
   "name": "python",
   "nbconvert_exporter": "python",
   "pygments_lexer": "ipython3",
   "version": "3.10.9"
  },
  "toc": {
   "base_numbering": 1,
   "nav_menu": {},
   "number_sections": true,
   "sideBar": true,
   "skip_h1_title": false,
   "title_cell": "Table of Contents",
   "title_sidebar": "Contents",
   "toc_cell": false,
   "toc_position": {
    "height": "calc(100% - 180px)",
    "left": "10px",
    "top": "150px",
    "width": "165px"
   },
   "toc_section_display": true,
   "toc_window_display": false
  }
 },
 "nbformat": 4,
 "nbformat_minor": 5
}
