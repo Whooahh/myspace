{
 "cells": [
  {
   "cell_type": "code",
   "execution_count": 3,
   "id": "8b9f253c",
   "metadata": {
    "ExecuteTime": {
     "end_time": "2024-11-18T05:00:43.119823Z",
     "start_time": "2024-11-18T05:00:43.113840Z"
    }
   },
   "outputs": [
    {
     "data": {
      "text/html": [
       "\n",
       "<style>\n",
       "div.container{width:99% !important;}\n",
       "div.cell.code_cell.rendered{width:90%;}\n",
       "div.CodeMirror {font-family:Consolas; font-size:11pt;}\n",
       "div.output {font-size:11pt; font-weight:bold;}\n",
       "div.input {font-family:Consolas; font-size:11pt;}\n",
       "div.prompt {min-width:70px;}\n",
       "div#toc-wrapper{padding-top:120px;}\n",
       "span.toc-item-num{display:none;}\n",
       "div.text_cell_render ul li{font-size:16pt;padding:5px;}\n",
       "div.CodeMirror-lines > div {padding-left:10px;}\n",
       "</style>\n"
      ],
      "text/plain": [
       "<IPython.core.display.HTML object>"
      ]
     },
     "metadata": {},
     "output_type": "display_data"
    }
   ],
   "source": [
    "from IPython.display import display, HTML\n",
    "display(HTML(\"\"\"\n",
    "<style>\n",
    "div.container{width:99% !important;}\n",
    "div.cell.code_cell.rendered{width:90%;}\n",
    "div.CodeMirror {font-family:Consolas; font-size:11pt;}\n",
    "div.output {font-size:11pt; font-weight:bold;}\n",
    "div.input {font-family:Consolas; font-size:11pt;}\n",
    "div.prompt {min-width:70px;}\n",
    "div#toc-wrapper{padding-top:120px;}\n",
    "span.toc-item-num{display:none;}\n",
    "div.text_cell_render ul li{font-size:16pt;padding:5px;}\n",
    "div.CodeMirror-lines > div {padding-left:10px;}\n",
    "</style>\n",
    "\"\"\"))"
   ]
  },
  {
   "cell_type": "markdown",
   "id": "84789215",
   "metadata": {},
   "source": [
    "<font color=\"red\" size=\"6\"><b>ch09. 파일 i/o 프로그래밍</b></font>"
   ]
  },
  {
   "cell_type": "markdown",
   "id": "f5299c55",
   "metadata": {},
   "source": [
    "# 1절. 파일에 데이터 저장하고 불러오기"
   ]
  },
  {
   "cell_type": "code",
   "execution_count": 4,
   "id": "ccd44b92",
   "metadata": {
    "ExecuteTime": {
     "end_time": "2024-11-18T05:00:48.007365Z",
     "start_time": "2024-11-18T05:00:48.001389Z"
    }
   },
   "outputs": [
    {
     "name": "stdout",
     "output_type": "stream",
     "text": [
      "True\n"
     ]
    }
   ],
   "source": [
    "# w 또는 wt : 기존의 파일이 있는 경우 덮어쓰기, 파일이 없는 경우 생성하여 쓰기\n",
    "# a 또는 at : 기본의 파일이 있는 경우 append, 파일이 없는 경우 생성하여 쓰기\n",
    "            # 쓰기 모드는 폴더가 없는 경우 예외 발생\n",
    "# r 또는 rt : 기본의 파일을 읽는 경우, 파일이 없는 경우 예외 발생\n",
    "f = open('data/ch09_sample.txt', 'w')\n",
    "print(f.writable())"
   ]
  },
  {
   "cell_type": "code",
   "execution_count": 5,
   "id": "8ab90147",
   "metadata": {
    "ExecuteTime": {
     "end_time": "2024-11-18T05:00:52.077395Z",
     "start_time": "2024-11-18T05:00:52.073405Z"
    }
   },
   "outputs": [],
   "source": [
    "f.write('Hello\\nWorld\\nHello\\nPython\\n') # 한글을 write하면 CP949로 저장(win)\n",
    "f.close()"
   ]
  },
  {
   "cell_type": "code",
   "execution_count": 6,
   "id": "5405598d",
   "metadata": {
    "ExecuteTime": {
     "end_time": "2024-11-18T05:00:53.855367Z",
     "start_time": "2024-11-18T05:00:53.850359Z"
    }
   },
   "outputs": [
    {
     "name": "stdout",
     "output_type": "stream",
     "text": [
      "쓰기 가능한지 여부 : True\n"
     ]
    }
   ],
   "source": [
    "# with구문을 사용하면 매번 close하는 코드가 불필요\n",
    "with open('data/ch09_sample.txt', 'wt') as f:\n",
    "    print('쓰기 가능한지 여부 :',f.writable())\n",
    "    f.write('Python is easy.\\nPython is smart.\\n')"
   ]
  },
  {
   "cell_type": "code",
   "execution_count": 7,
   "id": "48806379",
   "metadata": {
    "ExecuteTime": {
     "end_time": "2024-11-18T05:00:54.638523Z",
     "start_time": "2024-11-18T05:00:54.633537Z"
    }
   },
   "outputs": [
    {
     "name": "stdout",
     "output_type": "stream",
     "text": [
      "프린트 함수로 파일 쓰기가 가능합니다-콘솔 출력\n"
     ]
    }
   ],
   "source": [
    "with open('data/ch09_sample.txt', 'at') as f:\n",
    "    print('프린트 함수로 파일 쓰기가 가능합니다-콘솔 출력')\n",
    "    print('프린트 함수로 파일 쓰기가 가능합니다-파일 출력', file=f)"
   ]
  },
  {
   "cell_type": "markdown",
   "id": "12179b13",
   "metadata": {},
   "source": [
    "- euc-kr : 한글완성형 (믜x)\n",
    "- cp949 : 확장된 한글완성형 (믜O) - 엑셀에서 \n",
    "- utf-8 : 한글조합형(초중종성 따로 조합해서 저장) - 주피터노트북에서"
   ]
  },
  {
   "cell_type": "code",
   "execution_count": 8,
   "id": "f41433d8",
   "metadata": {
    "ExecuteTime": {
     "end_time": "2024-11-18T05:00:55.751403Z",
     "start_time": "2024-11-18T05:00:55.745400Z"
    }
   },
   "outputs": [],
   "source": [
    "with open('data/ch09_sample.txt', 'w', encoding='utf-8') as f:\n",
    "    f.write('= 여러 줄의 text를 쓰기 =\\n')\n",
    "    f.write('1방법: Hello\\nWorld\\n')\n",
    "    textlist = ['홍길동,30,서울\\n', '김길동,20,안양\\n']\n",
    "    f.write('2방법 : \\n')\n",
    "    for line in textlist:\n",
    "        f.write(line)\n",
    "    f.write('3방법 :\\n')\n",
    "    f.writelines(textlist)"
   ]
  },
  {
   "cell_type": "code",
   "execution_count": 20,
   "id": "d8d8d8da",
   "metadata": {},
   "outputs": [
    {
     "name": "stdout",
     "output_type": "stream",
     "text": [
      "= 여러 줄의 text를 쓰기 =\n",
      "1방법: Hello\n",
      "World\n",
      "2방법 : \n",
      "홍길동,30,서울\n",
      "김길동,20,안양\n",
      "3방법 :\n",
      "홍길동,30,서울\n",
      "김길동,20,안양\n"
     ]
    }
   ],
   "source": [
    "# 파일을 한줄 읽고 출력, 한줄 읽고 출력, ...\n",
    "with open('data/ch09_sample.txt', 'r', encoding='utf-8') as f:\n",
    "    line = f.readline() # 한줄 읽기\n",
    "    while line != '':\n",
    "        print(line, end='') # 파일에 \\n이 포함되어서 출력시 개행은 제거\n",
    "        line = f.readline()"
   ]
  },
  {
   "cell_type": "code",
   "execution_count": 9,
   "id": "b8a88599",
   "metadata": {
    "ExecuteTime": {
     "end_time": "2024-11-18T05:00:57.303529Z",
     "start_time": "2024-11-18T05:00:57.297545Z"
    }
   },
   "outputs": [
    {
     "name": "stdout",
     "output_type": "stream",
     "text": [
      "['= 여러 줄의 text를 쓰기 =\\n', '1방법: Hello\\n', 'World\\n', '2방법 : \\n', '홍길동,30,서울\\n', '김길동,20,안양\\n', '3방법 :\\n', '홍길동,30,서울\\n', '김길동,20,안양\\n']\n"
     ]
    }
   ],
   "source": [
    "# 파일을 한꺼번에 여러줄 읽어 list를 return\n",
    "with open('data/ch09_sample.txt', 'rt', encoding='utf-8') as txtfile:\n",
    "    lines = txtfile.readlines() # list로 return\n",
    "    print(lines)"
   ]
  },
  {
   "cell_type": "code",
   "execution_count": 10,
   "id": "43e68b5a",
   "metadata": {
    "ExecuteTime": {
     "end_time": "2024-11-18T05:00:59.141699Z",
     "start_time": "2024-11-18T05:00:59.136691Z"
    }
   },
   "outputs": [
    {
     "name": "stdout",
     "output_type": "stream",
     "text": [
      "= 여러 줄의 text를 쓰기 =\n",
      "1방법: Hello\n",
      "World\n",
      "2방법 : \n",
      "홍길동,30,서울\n",
      "김길동,20,안양\n",
      "3방법 :\n",
      "홍길동,30,서울\n",
      "김길동,20,안양\n"
     ]
    }
   ],
   "source": [
    "for line in lines:\n",
    "    print(line, end='')"
   ]
  },
  {
   "cell_type": "markdown",
   "id": "7a024f38",
   "metadata": {},
   "source": [
    "# 2절. 피클을 이용한 객체 저장 및 불러오기\n",
    "## 2.1 형식이 있는 텍스트 데이터 불러오기"
   ]
  },
  {
   "cell_type": "code",
   "execution_count": 39,
   "id": "b34b8d03",
   "metadata": {
    "ExecuteTime": {
     "end_time": "2024-11-18T05:41:25.365241Z",
     "start_time": "2024-11-18T05:41:25.358247Z"
    }
   },
   "outputs": [
    {
     "name": "stdout",
     "output_type": "stream",
     "text": [
      "이름:홍길동, 나이:20, 메일:kildong@hong.com,\t주소:서울시 관악구\n",
      "이름:홍길숙, 나이:25, 메일:kilsuk1@hong.com,\t주소:서울시 영등포구\n",
      "이름:신길동, 나이:30, 메일:shinkil@hong.com,\t주소:서울시 동작구\n"
     ]
    }
   ],
   "source": [
    "with open('data/ch09_member.txt','r',encoding='utf-8') as f:\n",
    "    lines = f.readlines()\n",
    "    # print(lines)\n",
    "for line in lines:\n",
    "    # print(line)\n",
    "    data = line.strip().split(',')\n",
    "    name = data[0]\n",
    "    age = int(data[1].strip()) # strip은 앞뒤 white space 제거\n",
    "    email = data[2].strip()\n",
    "    address = data[3].strip()\n",
    "    print('이름:{}, 나이:{}, 메일:{},\\t주소:{}'.format(name, age, email, address))"
   ]
  },
  {
   "cell_type": "code",
   "execution_count": 40,
   "id": "66150ca9",
   "metadata": {
    "ExecuteTime": {
     "end_time": "2024-11-18T05:41:27.061783Z",
     "start_time": "2024-11-18T05:41:27.055806Z"
    }
   },
   "outputs": [],
   "source": [
    "class Member:\n",
    "    def __init__(self, name, age, email, address):\n",
    "        self.name = name\n",
    "        self.age  = age\n",
    "        self.email= email\n",
    "        self.address = address\n",
    "    def __str__(self):\n",
    "        return \"이름:{}, 나이:{}, 메일:{},\\t주소:{}\".format(self.name,\n",
    "                                            self.age, self.email, self.address)\n",
    "    def __eq__(self, other):\n",
    "        '''\n",
    "        user1.__eq__(user2) 호출시 user1의 속성변수들과 user2의 속성변수들이 모두 같은 여부\n",
    "        '''\n",
    "        if isinstance(other, Member):\n",
    "            return self.name==other.name and self.age == other.age \\\n",
    "                    and self.email==other.email and self.address==other.address\n",
    "        else:\n",
    "            return False\n",
    "    def as_dict(self): # 객체를 딕셔너리로 바꿔 return\n",
    "        return {'name' : self.name,\n",
    "                'age' : self.age,\n",
    "                'email':self.email,\n",
    "                'address':self.address}"
   ]
  },
  {
   "cell_type": "code",
   "execution_count": 41,
   "id": "5b391bbf",
   "metadata": {
    "ExecuteTime": {
     "end_time": "2024-11-18T05:41:29.276435Z",
     "start_time": "2024-11-18T05:41:29.271442Z"
    }
   },
   "outputs": [
    {
     "name": "stdout",
     "output_type": "stream",
     "text": [
      "이름:홍길동, 나이:22, 메일:hong@hong.com,\t주소:서울\n",
      "{'name': '홍길동', 'age': 22, 'email': 'hong@hong.com', 'address': '서울'}\n"
     ]
    }
   ],
   "source": [
    "user = Member('홍길동',22, 'hong@hong.com', '서울') # 생성자 test\n",
    "print(user) # __str__ test\n",
    "print(user.as_dict()) # as_dict test"
   ]
  },
  {
   "cell_type": "code",
   "execution_count": 42,
   "id": "1d71867d",
   "metadata": {
    "ExecuteTime": {
     "end_time": "2024-11-18T05:41:30.012093Z",
     "start_time": "2024-11-18T05:41:30.007097Z"
    }
   },
   "outputs": [],
   "source": [
    "# 파일의 내용을 member list나 딕셔너리 list로 읽기\n",
    "user_list = [] # member list\n",
    "user_dict = [] # 딕셔너리 list\n",
    "with open('data/ch09_member.txt','r', encoding='utf-8') as f:\n",
    "    lines = f.readlines()\n",
    "for line in lines:\n",
    "    data = line.strip().split(',')\n",
    "    name = data[0]\n",
    "    age = int(data[1].strip())\n",
    "    email = data[2].strip()\n",
    "    address = data[3].strip()\n",
    "    user = Member(name, age, email, address)\n",
    "    user_list.append(user)\n",
    "    user_dict.append(user.as_dict())"
   ]
  },
  {
   "cell_type": "code",
   "execution_count": 43,
   "id": "4d81022b",
   "metadata": {
    "ExecuteTime": {
     "end_time": "2024-11-18T05:41:30.827219Z",
     "start_time": "2024-11-18T05:41:30.822210Z"
    }
   },
   "outputs": [
    {
     "name": "stdout",
     "output_type": "stream",
     "text": [
      "이름:홍길동, 나이:20, 메일:kildong@hong.com,\t주소:서울시 관악구\n",
      "이름:홍길숙, 나이:25, 메일:kilsuk1@hong.com,\t주소:서울시 영등포구\n",
      "이름:신길동, 나이:30, 메일:shinkil@hong.com,\t주소:서울시 동작구\n"
     ]
    }
   ],
   "source": [
    "# user_list (객체 list)\n",
    "for user in user_list:\n",
    "    print(user)"
   ]
  },
  {
   "cell_type": "code",
   "execution_count": 44,
   "id": "11017031",
   "metadata": {
    "ExecuteTime": {
     "end_time": "2024-11-18T05:41:31.797110Z",
     "start_time": "2024-11-18T05:41:31.790108Z"
    }
   },
   "outputs": [
    {
     "data": {
      "text/plain": [
       "[{'name': '홍길동', 'age': 20, 'email': 'kildong@hong.com', 'address': '서울시 관악구'},\n",
       " {'name': '홍길숙',\n",
       "  'age': 25,\n",
       "  'email': 'kilsuk1@hong.com',\n",
       "  'address': '서울시 영등포구'},\n",
       " {'name': '신길동', 'age': 30, 'email': 'shinkil@hong.com', 'address': '서울시 동작구'}]"
      ]
     },
     "execution_count": 44,
     "metadata": {},
     "output_type": "execute_result"
    }
   ],
   "source": [
    "# user_dict (딕셔너리 list)\n",
    "user_dict"
   ]
  },
  {
   "cell_type": "code",
   "execution_count": 45,
   "id": "d9d325a8",
   "metadata": {
    "ExecuteTime": {
     "end_time": "2024-11-18T05:41:33.411428Z",
     "start_time": "2024-11-18T05:41:33.407428Z"
    }
   },
   "outputs": [],
   "source": [
    "user1 = Member(\"홍길동\", 20, 'h@h.com', '서울')\n",
    "user2 = Member(\"홍길동\", 20, 'h@h.com', '서울')"
   ]
  },
  {
   "cell_type": "code",
   "execution_count": 46,
   "id": "c450c5b3",
   "metadata": {
    "ExecuteTime": {
     "end_time": "2024-11-18T05:41:34.061113Z",
     "start_time": "2024-11-18T05:41:34.056114Z"
    }
   },
   "outputs": [
    {
     "data": {
      "text/plain": [
       "True"
      ]
     },
     "execution_count": 46,
     "metadata": {},
     "output_type": "execute_result"
    }
   ],
   "source": [
    "user1 == user2"
   ]
  },
  {
   "cell_type": "code",
   "execution_count": 47,
   "id": "d94c18ff",
   "metadata": {
    "ExecuteTime": {
     "end_time": "2024-11-18T05:41:34.714455Z",
     "start_time": "2024-11-18T05:41:34.710474Z"
    }
   },
   "outputs": [
    {
     "name": "stdout",
     "output_type": "stream",
     "text": [
      "이름:홍길동, 나이:20, 메일:h@h.com,\t주소:서울\n"
     ]
    }
   ],
   "source": [
    "print(user1)"
   ]
  },
  {
   "cell_type": "code",
   "execution_count": 48,
   "id": "eb2c9c40",
   "metadata": {
    "ExecuteTime": {
     "end_time": "2024-11-18T05:41:35.234654Z",
     "start_time": "2024-11-18T05:41:35.230652Z"
    }
   },
   "outputs": [],
   "source": [
    "user1 = Member(\"홍길동\", 20, 'h@h.com', '서울')\n",
    "user2 = Member(\"김길동\", 25, 'k@h.com', '인천')\n",
    "user3 = Member(\"신길동\", 30, 's@h.com', '포천')\n",
    "user_list = [user1, user2, user3]"
   ]
  },
  {
   "cell_type": "code",
   "execution_count": 25,
   "id": "f7bf2cef",
   "metadata": {
    "ExecuteTime": {
     "end_time": "2024-11-18T05:27:57.948689Z",
     "start_time": "2024-11-18T05:27:57.944688Z"
    }
   },
   "outputs": [
    {
     "name": "stdout",
     "output_type": "stream",
     "text": [
      "이름:홍길동, 나이:20, 메일:h@h.com,\t주소:서울\n",
      "이름:김길동, 나이:25, 메일:k@h.com,\t주소:인천\n",
      "이름:신길동, 나이:30, 메일:s@h.com,\t주소:포천\n"
     ]
    }
   ],
   "source": [
    "for user in user_list:\n",
    "    print(user)"
   ]
  },
  {
   "cell_type": "code",
   "execution_count": 49,
   "id": "b16fb733",
   "metadata": {
    "ExecuteTime": {
     "end_time": "2024-11-18T05:41:36.900587Z",
     "start_time": "2024-11-18T05:41:36.895573Z"
    }
   },
   "outputs": [],
   "source": [
    "# 피클링을 이용한 객체를 파일에 저장하기\n",
    "import pickle\n",
    "with open('data/ch09_member.data', 'wb') as f:\n",
    "    pickle.dump(user_list, f)"
   ]
  },
  {
   "cell_type": "code",
   "execution_count": 50,
   "id": "0cc658ec",
   "metadata": {
    "ExecuteTime": {
     "end_time": "2024-11-18T05:41:37.761988Z",
     "start_time": "2024-11-18T05:41:37.757999Z"
    }
   },
   "outputs": [],
   "source": [
    "del user1, user2, user3"
   ]
  },
  {
   "cell_type": "code",
   "execution_count": 51,
   "id": "35c85f30",
   "metadata": {
    "ExecuteTime": {
     "end_time": "2024-11-18T05:41:38.354981Z",
     "start_time": "2024-11-18T05:41:38.350992Z"
    }
   },
   "outputs": [],
   "source": [
    "# 피클링을 이용한 파일에서 객체 데이터 읽기\n",
    "with open('data/ch09_member.data', 'rb') as f:\n",
    "    load_user_list = pickle.load(f)"
   ]
  },
  {
   "cell_type": "code",
   "execution_count": 52,
   "id": "90ad4a15",
   "metadata": {
    "ExecuteTime": {
     "end_time": "2024-11-18T05:41:38.922540Z",
     "start_time": "2024-11-18T05:41:38.917564Z"
    }
   },
   "outputs": [
    {
     "name": "stdout",
     "output_type": "stream",
     "text": [
      "이름:홍길동, 나이:20, 메일:h@h.com,\t주소:서울\n",
      "이름:김길동, 나이:25, 메일:k@h.com,\t주소:인천\n",
      "이름:신길동, 나이:30, 메일:s@h.com,\t주소:포천\n"
     ]
    }
   ],
   "source": [
    "for user in load_user_list:\n",
    "    print(user)"
   ]
  },
  {
   "cell_type": "code",
   "execution_count": 53,
   "id": "7ecb9006",
   "metadata": {
    "ExecuteTime": {
     "end_time": "2024-11-18T05:41:39.901368Z",
     "start_time": "2024-11-18T05:41:39.895355Z"
    }
   },
   "outputs": [
    {
     "data": {
      "text/plain": [
       "[True, True, True]"
      ]
     },
     "execution_count": 53,
     "metadata": {},
     "output_type": "execute_result"
    }
   ],
   "source": [
    "# user_list와 load_user_list가 모두 같은지 여부\n",
    "result = []\n",
    "for idx in range(len(user_list)):\n",
    "    result.append(user_list[idx] == load_user_list[idx])\n",
    "result"
   ]
  },
  {
   "cell_type": "code",
   "execution_count": 54,
   "id": "b1ffb48a",
   "metadata": {
    "ExecuteTime": {
     "end_time": "2024-11-18T05:41:40.796290Z",
     "start_time": "2024-11-18T05:41:40.791283Z"
    }
   },
   "outputs": [
    {
     "data": {
      "text/plain": [
       "True"
      ]
     },
     "execution_count": 54,
     "metadata": {},
     "output_type": "execute_result"
    }
   ],
   "source": [
    "all(result) # 모든 요ㅗ들이 Ture인지 여부"
   ]
  },
  {
   "cell_type": "markdown",
   "id": "815d0bf0",
   "metadata": {},
   "source": [
    "# 3절. csv 파일 읽기/쓰기"
   ]
  },
  {
   "cell_type": "markdown",
   "id": "d5ed0235",
   "metadata": {},
   "source": [
    "### 3.1 reader"
   ]
  },
  {
   "cell_type": "code",
   "execution_count": 57,
   "id": "17554cab",
   "metadata": {
    "ExecuteTime": {
     "end_time": "2024-11-18T06:00:49.411437Z",
     "start_time": "2024-11-18T06:00:49.405432Z"
    }
   },
   "outputs": [
    {
     "name": "stdout",
     "output_type": "stream",
     "text": [
      "['홍길동', ' 20', ' \"killdong@hong.com\"', ' \"서울시 관악구\"']\n",
      "['김길동', ' 40', ' \"kimdong@hong.com\"', ' \"서울시 영등포구\"']\n",
      "['신길동', ' 30', ' \"sindong@hong.com\"', ' \"서울시 동작구\"']\n"
     ]
    }
   ],
   "source": [
    "#utf-8로 인코딩된 csv파일 읽기\n",
    "import csv\n",
    "with open('data/ch09_member1.csv', 'r', encoding='UTF-8') as f:\n",
    "    reader = csv.reader(f)\n",
    "#    print(list(reader))\n",
    "    for row in reader:\n",
    "        print(row)"
   ]
  },
  {
   "cell_type": "code",
   "execution_count": 58,
   "id": "725d4d08",
   "metadata": {
    "ExecuteTime": {
     "end_time": "2024-11-18T06:20:58.314143Z",
     "start_time": "2024-11-18T06:20:58.309163Z"
    }
   },
   "outputs": [
    {
     "name": "stdout",
     "output_type": "stream",
     "text": [
      "[['홍길동', ' 20', ' \"killdong@hong.com\"', ' \"서울시 관악구\"'], ['김길동', ' 40', ' \"kimdong@hong.com\"', ' \"서울시 영등포구\"'], ['신길동', ' 30', ' \"sindong@hong.com\"', ' \"서울시 동작구\"']]\n"
     ]
    }
   ],
   "source": [
    "# CP949로 인코딩 된 csv파일 read\n",
    "with open('data/ch09_member1-cp.csv') as f:\n",
    "    reader = csv.reader(f)\n",
    "    result = list(reader)\n",
    "print(result)"
   ]
  },
  {
   "cell_type": "code",
   "execution_count": 63,
   "id": "1518362f",
   "metadata": {
    "ExecuteTime": {
     "end_time": "2024-11-18T06:33:20.050182Z",
     "start_time": "2024-11-18T06:33:20.044198Z"
    }
   },
   "outputs": [
    {
     "name": "stdout",
     "output_type": "stream",
     "text": [
      "파일에서 읽어온 딕셔너리 리스트\n",
      "[{'name': '홍길동', 'age': 20.0, 'email': 'killdong@hong.com', 'address': '서울시 관악구'}, {'name': '김길동', 'age': 40.0, 'email': 'kimdong@hong.com', 'address': '서울시 영등포구'}, {'name': '신길동', 'age': 30.0, 'email': 'sindong@hong.com', 'address': '서울시 동작구'}]\n"
     ]
    }
   ],
   "source": [
    "# csv 파일의 내용을 딕셔너리 리스트로 가져오기\n",
    "user_dict = []\n",
    "with open('data/ch09_member1.csv', encoding='utf-8') as f:\n",
    "    reader = csv.reader(f, quotechar = '\"',\n",
    "                       quoting=csv.QUOTE_NONNUMERIC)\n",
    "    for row in reader:\n",
    "        user_dict.append({'name' : row[0],\n",
    "                         'age' : row[1],\n",
    "                        'email' : row[2],\n",
    "                        'address' : row[3]})\n",
    "print('파일에서 읽어온 딕셔너리 리스트')\n",
    "print(user_dict)"
   ]
  },
  {
   "cell_type": "markdown",
   "id": "986a09aa",
   "metadata": {},
   "source": [
    "#### 3.2 writer"
   ]
  },
  {
   "cell_type": "code",
   "execution_count": 64,
   "id": "b28adc7c",
   "metadata": {
    "ExecuteTime": {
     "end_time": "2024-11-18T06:35:51.064044Z",
     "start_time": "2024-11-18T06:35:51.060055Z"
    }
   },
   "outputs": [],
   "source": [
    "user_list = [['홍길동',20,'hong@hong.com', '서울'],\n",
    "            ['신길동',30,'shin@hong.com','인천'],]"
   ]
  },
  {
   "cell_type": "code",
   "execution_count": 68,
   "id": "bc7284ae",
   "metadata": {
    "ExecuteTime": {
     "end_time": "2024-11-18T06:41:22.719685Z",
     "start_time": "2024-11-18T06:41:22.715687Z"
    }
   },
   "outputs": [],
   "source": [
    "# newline = '' 옵션을 빼면 개행이 2번\n",
    "try:\n",
    "    with open('data/ch09_member2-write-cp.csv', 'w', newline='') as f:\n",
    "        writer = csv.writer(f)\n",
    "        for user in user_list:\n",
    "            writer.writerow(user)\n",
    "except FileNotFoundError as e:\n",
    "    print(e)"
   ]
  },
  {
   "cell_type": "code",
   "execution_count": 70,
   "id": "8c20d93c",
   "metadata": {
    "ExecuteTime": {
     "end_time": "2024-11-18T06:51:19.839629Z",
     "start_time": "2024-11-18T06:51:19.834621Z"
    }
   },
   "outputs": [],
   "source": [
    "with open('data/ch09_member2-write.csv', 'w', encoding='utf-8') as f:\n",
    "    writer = csv.writer(f, quoting=csv.QUOTE_NONNUMERIC)\n",
    "    writer.writerows(user_list)"
   ]
  },
  {
   "cell_type": "markdown",
   "id": "65169ff6",
   "metadata": {},
   "source": [
    "## 3.3 DictReader\n",
    "- csv 파일의 자료를 딕셔너리 데이터로 읽기"
   ]
  },
  {
   "cell_type": "code",
   "execution_count": 72,
   "id": "93bc8526",
   "metadata": {
    "ExecuteTime": {
     "end_time": "2024-11-18T07:31:04.900766Z",
     "start_time": "2024-11-18T07:31:04.783051Z"
    }
   },
   "outputs": [
    {
     "ename": "ValueError",
     "evalue": "I/O operation on closed file.",
     "output_type": "error",
     "traceback": [
      "\u001b[1;31m---------------------------------------------------------------------------\u001b[0m",
      "\u001b[1;31mValueError\u001b[0m                                Traceback (most recent call last)",
      "Cell \u001b[1;32mIn[72], line 5\u001b[0m\n\u001b[0;32m      3\u001b[0m     dict_reader \u001b[38;5;241m=\u001b[39m csv\u001b[38;5;241m.\u001b[39mDictReader(f)\n\u001b[0;32m      4\u001b[0m \u001b[38;5;66;03m#    print(list(dict_reader))\u001b[39;00m\n\u001b[1;32m----> 5\u001b[0m \u001b[38;5;28;01mfor\u001b[39;00m row \u001b[38;5;129;01min\u001b[39;00m dict_reader:\n\u001b[0;32m      6\u001b[0m     \u001b[38;5;28;01mif\u001b[39;00m row[\u001b[38;5;124m'\u001b[39m\u001b[38;5;124mjob\u001b[39m\u001b[38;5;124m'\u001b[39m] \u001b[38;5;129;01mis\u001b[39;00m \u001b[38;5;28;01mNone\u001b[39;00m:\n\u001b[0;32m      7\u001b[0m         \u001b[38;5;28mprint\u001b[39m(row[\u001b[38;5;124m'\u001b[39m\u001b[38;5;124mname\u001b[39m\u001b[38;5;124m'\u001b[39m], row[\u001b[38;5;124m'\u001b[39m\u001b[38;5;124mage\u001b[39m\u001b[38;5;124m'\u001b[39m], row[\u001b[38;5;124m'\u001b[39m\u001b[38;5;124maddress\u001b[39m\u001b[38;5;124m'\u001b[39m])\n",
      "File \u001b[1;32m~\\anaconda3\\lib\\csv.py:110\u001b[0m, in \u001b[0;36mDictReader.__next__\u001b[1;34m(self)\u001b[0m\n\u001b[0;32m    107\u001b[0m \u001b[38;5;28;01mdef\u001b[39;00m \u001b[38;5;21m__next__\u001b[39m(\u001b[38;5;28mself\u001b[39m):\n\u001b[0;32m    108\u001b[0m     \u001b[38;5;28;01mif\u001b[39;00m \u001b[38;5;28mself\u001b[39m\u001b[38;5;241m.\u001b[39mline_num \u001b[38;5;241m==\u001b[39m \u001b[38;5;241m0\u001b[39m:\n\u001b[0;32m    109\u001b[0m         \u001b[38;5;66;03m# Used only for its side effect.\u001b[39;00m\n\u001b[1;32m--> 110\u001b[0m         \u001b[38;5;28;43mself\u001b[39;49m\u001b[38;5;241;43m.\u001b[39;49m\u001b[43mfieldnames\u001b[49m\n\u001b[0;32m    111\u001b[0m     row \u001b[38;5;241m=\u001b[39m \u001b[38;5;28mnext\u001b[39m(\u001b[38;5;28mself\u001b[39m\u001b[38;5;241m.\u001b[39mreader)\n\u001b[0;32m    112\u001b[0m     \u001b[38;5;28mself\u001b[39m\u001b[38;5;241m.\u001b[39mline_num \u001b[38;5;241m=\u001b[39m \u001b[38;5;28mself\u001b[39m\u001b[38;5;241m.\u001b[39mreader\u001b[38;5;241m.\u001b[39mline_num\n",
      "File \u001b[1;32m~\\anaconda3\\lib\\csv.py:97\u001b[0m, in \u001b[0;36mDictReader.fieldnames\u001b[1;34m(self)\u001b[0m\n\u001b[0;32m     95\u001b[0m \u001b[38;5;28;01mif\u001b[39;00m \u001b[38;5;28mself\u001b[39m\u001b[38;5;241m.\u001b[39m_fieldnames \u001b[38;5;129;01mis\u001b[39;00m \u001b[38;5;28;01mNone\u001b[39;00m:\n\u001b[0;32m     96\u001b[0m     \u001b[38;5;28;01mtry\u001b[39;00m:\n\u001b[1;32m---> 97\u001b[0m         \u001b[38;5;28mself\u001b[39m\u001b[38;5;241m.\u001b[39m_fieldnames \u001b[38;5;241m=\u001b[39m \u001b[38;5;28;43mnext\u001b[39;49m\u001b[43m(\u001b[49m\u001b[38;5;28;43mself\u001b[39;49m\u001b[38;5;241;43m.\u001b[39;49m\u001b[43mreader\u001b[49m\u001b[43m)\u001b[49m\n\u001b[0;32m     98\u001b[0m     \u001b[38;5;28;01mexcept\u001b[39;00m \u001b[38;5;167;01mStopIteration\u001b[39;00m:\n\u001b[0;32m     99\u001b[0m         \u001b[38;5;28;01mpass\u001b[39;00m\n",
      "\u001b[1;31mValueError\u001b[0m: I/O operation on closed file."
     ]
    }
   ],
   "source": [
    "# header가 있는 csv파일을 딕셔너리로 읽기\n",
    "with open('data/ch09_member3.csv', 'r', encoding='utf-8') as f:\n",
    "    dict_reader = csv.DictReader(f)\n",
    "#    print(list(dict_reader))\n",
    "for row in dict_reader:\n",
    "    if row['job'] is None:\n",
    "        print(row['name'], row['age'], row['address'])"
   ]
  },
  {
   "cell_type": "code",
   "execution_count": 73,
   "id": "cf595125",
   "metadata": {
    "ExecuteTime": {
     "end_time": "2024-11-18T07:32:43.294920Z",
     "start_time": "2024-11-18T07:32:42.166938Z"
    }
   },
   "outputs": [
    {
     "data": {
      "text/html": [
       "<div>\n",
       "<style scoped>\n",
       "    .dataframe tbody tr th:only-of-type {\n",
       "        vertical-align: middle;\n",
       "    }\n",
       "\n",
       "    .dataframe tbody tr th {\n",
       "        vertical-align: top;\n",
       "    }\n",
       "\n",
       "    .dataframe thead th {\n",
       "        text-align: right;\n",
       "    }\n",
       "</style>\n",
       "<table border=\"1\" class=\"dataframe\">\n",
       "  <thead>\n",
       "    <tr style=\"text-align: right;\">\n",
       "      <th></th>\n",
       "      <th>name</th>\n",
       "      <th>age</th>\n",
       "      <th>email</th>\n",
       "      <th>address</th>\n",
       "      <th>job</th>\n",
       "    </tr>\n",
       "  </thead>\n",
       "  <tbody>\n",
       "    <tr>\n",
       "      <th>0</th>\n",
       "      <td>홍길동</td>\n",
       "      <td>20</td>\n",
       "      <td>h@h.com</td>\n",
       "      <td>서울시 관악구</td>\n",
       "      <td>NaN</td>\n",
       "    </tr>\n",
       "    <tr>\n",
       "      <th>1</th>\n",
       "      <td>김길동</td>\n",
       "      <td>40</td>\n",
       "      <td>k@h.com</td>\n",
       "      <td>서울시 영등포구</td>\n",
       "      <td>팀장</td>\n",
       "    </tr>\n",
       "    <tr>\n",
       "      <th>2</th>\n",
       "      <td>신길동</td>\n",
       "      <td>30</td>\n",
       "      <td>s@h.com</td>\n",
       "      <td>서울시 동작구</td>\n",
       "      <td>NaN</td>\n",
       "    </tr>\n",
       "  </tbody>\n",
       "</table>\n",
       "</div>"
      ],
      "text/plain": [
       "  name   age    email   address  job\n",
       "0  홍길동    20  h@h.com   서울시 관악구  NaN\n",
       "1  김길동    40  k@h.com  서울시 영등포구   팀장\n",
       "2  신길동    30  s@h.com   서울시 동작구  NaN"
      ]
     },
     "execution_count": 73,
     "metadata": {},
     "output_type": "execute_result"
    }
   ],
   "source": [
    "# cf. csv파일을 데이터 프레임으로\n",
    "import pandas as pd\n",
    "member = pd.read_csv('data/ch09_member3.csv') # encoding='utf-8'기본\n",
    "member"
   ]
  },
  {
   "cell_type": "code",
   "execution_count": 74,
   "id": "0daec02d",
   "metadata": {
    "ExecuteTime": {
     "end_time": "2024-11-18T07:32:58.571950Z",
     "start_time": "2024-11-18T07:32:58.565967Z"
    }
   },
   "outputs": [
    {
     "data": {
      "text/plain": [
       "pandas.core.frame.DataFrame"
      ]
     },
     "execution_count": 74,
     "metadata": {},
     "output_type": "execute_result"
    }
   ],
   "source": [
    "type(member)"
   ]
  },
  {
   "cell_type": "code",
   "execution_count": 77,
   "id": "e214688e",
   "metadata": {
    "ExecuteTime": {
     "end_time": "2024-11-18T07:42:33.243993Z",
     "start_time": "2024-11-18T07:42:33.238021Z"
    }
   },
   "outputs": [
    {
     "name": "stdout",
     "output_type": "stream",
     "text": [
      "홍길동  20  \"killdong@hong.com\"  \"서울시 관악구\"\n",
      "김길동  40  \"kimdong@hong.com\"  \"서울시 영등포구\"\n",
      "신길동  30  \"sindong@hong.com\"  \"서울시 동작구\"\n"
     ]
    }
   ],
   "source": [
    "# header가 없는 csv파일을 딕셔너리로 읽기\n",
    "with open('data/ch09_member1-cp.csv', 'r', encoding='cp949') as f:\n",
    "    dict_reader = csv.DictReader(f, fieldnames=['Name', 'Age','Email', 'Address'])\n",
    "    for row in dict_reader:\n",
    "        print(row['Name'], row['Age'], row['Email'], row['Address'])"
   ]
  },
  {
   "cell_type": "code",
   "execution_count": 78,
   "id": "a1f24a33",
   "metadata": {
    "ExecuteTime": {
     "end_time": "2024-11-18T07:42:57.564596Z",
     "start_time": "2024-11-18T07:42:57.558616Z"
    }
   },
   "outputs": [
    {
     "name": "stdout",
     "output_type": "stream",
     "text": [
      "홍길동  20  \"killdong@hong.com\"  \"서울시 관악구\" None\n",
      "김길동  40  \"kimdong@hong.com\"  \"서울시 영등포구\" None\n",
      "신길동  30  \"sindong@hong.com\"  \"서울시 동작구\" None\n"
     ]
    }
   ],
   "source": [
    "with open('data/ch09_member1-cp.csv', 'r', encoding='cp949') as f:\n",
    "    dict_reader = csv.DictReader(f, fieldnames=['Name', 'Age','Email', 'Address', 'Job'])\n",
    "    for row in dict_reader:\n",
    "        print(row['Name'], row['Age'], row['Email'], row['Address'], row['Job'])"
   ]
  },
  {
   "cell_type": "code",
   "execution_count": 95,
   "id": "ab2efd1b",
   "metadata": {
    "ExecuteTime": {
     "end_time": "2024-11-18T07:52:26.780169Z",
     "start_time": "2024-11-18T07:52:26.774198Z"
    }
   },
   "outputs": [
    {
     "name": "stdout",
     "output_type": "stream",
     "text": [
      "홍길동 20 killdong@hong.com 서울시 관악구\n",
      "김길동 40 kimdong@hong.com 서울시 영등포구 팀장\n",
      "신길동 30 sindong@hong.com 서울시 동작구\n"
     ]
    }
   ],
   "source": [
    "# header가 없는 csv파일을 딕셔너리로 읽기\n",
    "with open('data/ch09_member1-cp.csv', 'r', encoding='cp949') as f:\n",
    "    dict_reader = csv.DictReader(f, fieldnames=['Name','Age','Email','Address'],\n",
    "                                restkey='Job')\n",
    "    for row in dict_reader:\n",
    "#         print(row)\n",
    "        if row['Job'][0] == '':\n",
    "            print(row['Name'], row['Age'], row['Email'], row['Address'])\n",
    "        else:\n",
    "            print(row['Name'], row['Age'], row['Email'], row['Address'], row['Job'][0])"
   ]
  },
  {
   "cell_type": "code",
   "execution_count": 102,
   "id": "5372a293",
   "metadata": {
    "ExecuteTime": {
     "end_time": "2024-11-18T07:57:24.707245Z",
     "start_time": "2024-11-18T07:57:24.702249Z"
    }
   },
   "outputs": [
    {
     "name": "stdout",
     "output_type": "stream",
     "text": [
      "[{'홍길동': '김길동', '20': '40', 'killdong@hong.com': 'kimdong@hong.com', '서울시 관악구': '서울시 영등포구', '': '팀장'}, {'홍길동': '신길동', '20': '30', 'killdong@hong.com': 'sindong@hong.com', '서울시 관악구': '서울시 동작구', '': ''}]\n"
     ]
    }
   ],
   "source": [
    "# ch09_member1-cp.csv의 내용을 딕셔너리 list로 받아보세요\n",
    "userlist = [] # 딕셔너리 list\n",
    "# 파일의 내용을 userlist에 담기\n",
    "with open('data/ch09_member1-cp.csv','r', encoding='cp949') as f:\n",
    "    csv_reader = csv.DictReader(f)\n",
    "    for row in csv_reader:\n",
    "        userlist.append(row)\n",
    "print(userlist)"
   ]
  },
  {
   "cell_type": "markdown",
   "id": "1fa58007",
   "metadata": {},
   "source": [
    "## 3.4 DictWriter\n",
    "- 딕셔너리 리스트를 csv파일로 쓰기"
   ]
  },
  {
   "cell_type": "code",
   "execution_count": 103,
   "id": "5f081519",
   "metadata": {
    "ExecuteTime": {
     "end_time": "2024-11-18T08:23:39.362886Z",
     "start_time": "2024-11-18T08:23:39.355899Z"
    }
   },
   "outputs": [
    {
     "name": "stdout",
     "output_type": "stream",
     "text": [
      "['name', 'age', 'emaeil', 'address']\n"
     ]
    }
   ],
   "source": [
    "user1 = {'name':'홍길동','age':20,'emaeil':'h@hong.com','address':'서울'}\n",
    "user2 = {'name':'신길동','age':25,'emaeil':'s@hong.com','address':'부산'}\n",
    "user3 = {'name':'김길동','age':35,'emaeil':'k@hong.com','address':'인천'}\n",
    "user_list = [user1, user2, user3]\n",
    "filenames = list(user1.keys())\n",
    "print(filenames)"
   ]
  },
  {
   "cell_type": "code",
   "execution_count": null,
   "id": "4f486392",
   "metadata": {},
   "outputs": [],
   "source": []
  },
  {
   "cell_type": "code",
   "execution_count": 117,
   "id": "d3042c70",
   "metadata": {
    "ExecuteTime": {
     "end_time": "2024-11-18T08:32:52.056336Z",
     "start_time": "2024-11-18T08:32:52.051349Z"
    }
   },
   "outputs": [],
   "source": [
    "with open('data/ch09_member4.csv', 'a', encoding='UTF-8', newline='') as f:\n",
    "    dict_writer = csv.DictWriter(f,fieldnames=filenames)\n",
    "#     dict_writer.writeheader() # header 한 줄 쓰기\n",
    "#     for user in user_list:\n",
    "#         dict_writer.writerow(user)\n",
    "    dict_writer.writerows(user_list)"
   ]
  },
  {
   "cell_type": "markdown",
   "id": "7a222ab9",
   "metadata": {},
   "source": [
    "# 4절. JSON파일에 저장하고 불러오기 (Dump, Load)\n",
    "\n",
    "## 4.1 JSON dump(파일에 저장)"
   ]
  },
  {
   "cell_type": "code",
   "execution_count": null,
   "id": "14e04a73",
   "metadata": {},
   "outputs": [],
   "source": []
  },
  {
   "cell_type": "code",
   "execution_count": null,
   "id": "1b969589",
   "metadata": {},
   "outputs": [],
   "source": []
  },
  {
   "cell_type": "code",
   "execution_count": null,
   "id": "e4d6d5d0",
   "metadata": {},
   "outputs": [],
   "source": []
  },
  {
   "cell_type": "code",
   "execution_count": null,
   "id": "93f38578",
   "metadata": {},
   "outputs": [],
   "source": []
  },
  {
   "cell_type": "code",
   "execution_count": null,
   "id": "1d267659",
   "metadata": {},
   "outputs": [],
   "source": []
  },
  {
   "cell_type": "code",
   "execution_count": null,
   "id": "2bacbd6f",
   "metadata": {},
   "outputs": [],
   "source": []
  },
  {
   "cell_type": "code",
   "execution_count": null,
   "id": "28a216c6",
   "metadata": {},
   "outputs": [],
   "source": []
  },
  {
   "cell_type": "code",
   "execution_count": null,
   "id": "fa1ba452",
   "metadata": {},
   "outputs": [],
   "source": []
  },
  {
   "cell_type": "code",
   "execution_count": null,
   "id": "bcd56039",
   "metadata": {},
   "outputs": [],
   "source": []
  },
  {
   "cell_type": "code",
   "execution_count": null,
   "id": "894d61fb",
   "metadata": {},
   "outputs": [],
   "source": []
  },
  {
   "cell_type": "code",
   "execution_count": null,
   "id": "2b055b6c",
   "metadata": {},
   "outputs": [],
   "source": []
  },
  {
   "cell_type": "code",
   "execution_count": null,
   "id": "c8655f11",
   "metadata": {},
   "outputs": [],
   "source": []
  },
  {
   "cell_type": "code",
   "execution_count": null,
   "id": "d760a0ee",
   "metadata": {},
   "outputs": [],
   "source": []
  },
  {
   "cell_type": "code",
   "execution_count": null,
   "id": "3aa21f02",
   "metadata": {},
   "outputs": [],
   "source": []
  }
 ],
 "metadata": {
  "kernelspec": {
   "display_name": "Python 3 (ipykernel)",
   "language": "python",
   "name": "python3"
  },
  "language_info": {
   "codemirror_mode": {
    "name": "ipython",
    "version": 3
   },
   "file_extension": ".py",
   "mimetype": "text/x-python",
   "name": "python",
   "nbconvert_exporter": "python",
   "pygments_lexer": "ipython3",
   "version": "3.10.9"
  },
  "toc": {
   "base_numbering": 1,
   "nav_menu": {},
   "number_sections": true,
   "sideBar": true,
   "skip_h1_title": false,
   "title_cell": "Table of Contents",
   "title_sidebar": "Contents",
   "toc_cell": false,
   "toc_position": {
    "height": "calc(100% - 180px)",
    "left": "10px",
    "top": "150px",
    "width": "165px"
   },
   "toc_section_display": true,
   "toc_window_display": true
  }
 },
 "nbformat": 4,
 "nbformat_minor": 5
}
