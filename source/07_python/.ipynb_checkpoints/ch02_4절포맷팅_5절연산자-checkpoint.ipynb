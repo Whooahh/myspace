{
 "cells": [
  {
   "cell_type": "code",
   "execution_count": 1,
   "id": "b982c361",
   "metadata": {
    "ExecuteTime": {
     "end_time": "2024-11-05T02:54:52.278860Z",
     "start_time": "2024-11-05T02:54:52.257866Z"
    }
   },
   "outputs": [
    {
     "data": {
      "text/html": [
       "\n",
       "<style>\n",
       "div#toc-header{margin-top:150px;}\n",
       "</style>\n",
       "<style>\n",
       "span.toc-item-num{\n",
       "    display:none;\n",
       "}\n",
       "</style>\n"
      ],
      "text/plain": [
       "<IPython.core.display.HTML object>"
      ]
     },
     "metadata": {},
     "output_type": "display_data"
    }
   ],
   "source": [
    "from IPython.display import display, HTML\n",
    "display(HTML(\"\"\"\n",
    "<style>\n",
    "div#toc-header{margin-top:150px;}\n",
    "</style>\n",
    "<style>\n",
    "span.toc-item-num{\n",
    "    display:none;\n",
    "}\n",
    "</style>\n",
    "\"\"\"))"
   ]
  },
  {
   "cell_type": "markdown",
   "id": "4f889222",
   "metadata": {},
   "source": [
    "<b><font size=\"6\" color=\"red\">ch02. 자료형과 연산자</font></b>"
   ]
  },
  {
   "cell_type": "markdown",
   "id": "cfbb8c54",
   "metadata": {},
   "source": [
    "# 4절. 포맷팅\n",
    "    - 포맷팅이랑?\n",
    "        출력할 문자, 숫자, 날짜데이터에 형식을 지정하는 것\n",
    "    - 변수와 텍스트를 결합해서 보기 좋은 형식의 새로운 텍스트를 만들 수 있음"
   ]
  },
  {
   "cell_type": "markdown",
   "id": "0cc6cdae",
   "metadata": {},
   "source": [
    "### 4.1 문자열에 형식 지정하는 방법"
   ]
  },
  {
   "cell_type": "code",
   "execution_count": 10,
   "id": "f0bfeea5",
   "metadata": {
    "ExecuteTime": {
     "end_time": "2024-11-05T03:01:10.578982Z",
     "start_time": "2024-11-05T03:01:10.573984Z"
    }
   },
   "outputs": [
    {
     "name": "stdout",
     "output_type": "stream",
     "text": [
      "홍길동님의 나이는 30세 입니다\n"
     ]
    }
   ],
   "source": [
    "name = \"홍길동\"\n",
    "age = 30\n",
    "print(name, '님의 나이는 ',  age, '세 입니다', sep='')"
   ]
  },
  {
   "cell_type": "code",
   "execution_count": 11,
   "id": "3eb7dd4b",
   "metadata": {
    "ExecuteTime": {
     "end_time": "2024-11-05T03:05:23.834164Z",
     "start_time": "2024-11-05T03:05:23.828166Z"
    }
   },
   "outputs": [
    {
     "name": "stdout",
     "output_type": "stream",
     "text": [
      "%s님의 나이는 %d살입니다\n",
      "홍길동님의 나이는 30살 입니다\n"
     ]
    }
   ],
   "source": [
    "# %s문자, %d 진수정수,%f실수\n",
    "print(\"%s님의 나이는 %d살입니다\")\n",
    "print(f\"{name}님의 나이는 {age}살 입니다\")"
   ]
  },
  {
   "cell_type": "code",
   "execution_count": 15,
   "id": "af9386b1",
   "metadata": {
    "ExecuteTime": {
     "end_time": "2024-11-05T03:08:21.601866Z",
     "start_time": "2024-11-05T03:08:21.594870Z"
    }
   },
   "outputs": [
    {
     "name": "stdout",
     "output_type": "stream",
     "text": [
      "홍길동님의 나이는 30살 입니다\n",
      "홍길동님의 나이는 30살 입니다\n",
      "30살 홍길동님 반갑습니다. 홍길동님 어서오세요\n"
     ]
    }
   ],
   "source": [
    "print(\"{}님의 나이는 {}살 입니다\". format(name, age))\n",
    "print(\"{0}님의 나이는 {1}살 입니다\". format(name, age))\n",
    "print(\"{1}살 {0}님 반갑습니다. {0}님 어서오세요\". format(name, age))"
   ]
  },
  {
   "cell_type": "markdown",
   "id": "082588d0",
   "metadata": {},
   "source": [
    "### 4.2 format 문법"
   ]
  },
  {
   "cell_type": "code",
   "execution_count": null,
   "id": "9fe83f99",
   "metadata": {},
   "outputs": [],
   "source": [
    "# \"{[인덱스]:[공백대체문자],[정렬방법],[자릿수],[타입]}.format(변수명)\"\n",
    "\n",
    "    # 인덱스 : format 함수 안의 매개변수의 순서\n",
    "    # 정렬방법 : <: 왼쪽 정렬 >:오른쪽 정렬 ^:가운데 정렬\n",
    "    # 정수자릿수 : 출력할 자릿수, 변수내용보다 작은 자릿수가 지정되면 자릿수 지정 무시\n",
    "    # 실수자릿수 : 전체 출력 될 자리수, 변수 중에 출력 할 자리수\n",
    "    # 타입: d(10진수정수), o(8진수), b(2진수), x(16진수)"
   ]
  },
  {
   "cell_type": "code",
   "execution_count": 19,
   "id": "0cfc2e83",
   "metadata": {
    "ExecuteTime": {
     "end_time": "2024-11-05T03:41:32.437825Z",
     "start_time": "2024-11-05T03:41:25.955948Z"
    }
   },
   "outputs": [
    {
     "name": "stdout",
     "output_type": "stream",
     "text": [
      "이름은?이아무개\n",
      "나이는?20\n",
      "20살 이아무개님 안녕하세요\n",
      "*20**살 이아무개______님 안녕하세요\n"
     ]
    }
   ],
   "source": [
    "name = input('이름은?')\n",
    "age = int(input('나이는?'))\n",
    "print('{}살 {}님 안녕하세요'.format(age, name))\n",
    "# 공백대체문자를 쓸 경우 정렬방식을 기입해야 함\n",
    "print('{0:*^5d}살 {1:_<10}님 안녕하세요'.format(age,name))"
   ]
  },
  {
   "cell_type": "code",
   "execution_count": 22,
   "id": "43a84a26",
   "metadata": {
    "ExecuteTime": {
     "end_time": "2024-11-05T03:46:42.289183Z",
     "start_time": "2024-11-05T03:46:42.282186Z"
    }
   },
   "outputs": [
    {
     "name": "stdout",
     "output_type": "stream",
     "text": [
      "[12345], [     12345], [12345]\n",
      "[Hello], [Hello     ], [Hello]\n"
     ]
    }
   ],
   "source": [
    "# 숫자일 경우 오른쪽 정렬(기본값)\n",
    "# 문자일 경우 왼쪽 정렬(기본값)\n",
    "# 변수보다 작은 자리수를 지정하면 자릿수가 무시되고 다 출력\n",
    "a = 12345\n",
    "s = 'Hello'\n",
    "print(\"[{}], [{:10}], [{:3}]\".format(a,a,a))\n",
    "print(\"[{0}], [{0:10}], [{0:3}]\".format(s))"
   ]
  },
  {
   "cell_type": "code",
   "execution_count": 27,
   "id": "afae087a",
   "metadata": {
    "ExecuteTime": {
     "end_time": "2024-11-05T03:51:03.389682Z",
     "start_time": "2024-11-05T03:51:03.382684Z"
    }
   },
   "outputs": [
    {
     "name": "stdout",
     "output_type": "stream",
     "text": [
      "[10  ], [  20], [ 3  ]\n"
     ]
    }
   ],
   "source": [
    "# 정렬방법 :< ^ >\n",
    "a, b, c = 10, 20, 3\n",
    "print(\"[{:<4}], [{:>4}], [{:^4}]\".format(a, b, c))"
   ]
  },
  {
   "cell_type": "code",
   "execution_count": 31,
   "id": "7b02f44b",
   "metadata": {
    "ExecuteTime": {
     "end_time": "2024-11-05T03:56:44.363023Z",
     "start_time": "2024-11-05T03:56:44.357025Z"
    }
   },
   "outputs": [
    {
     "name": "stdout",
     "output_type": "stream",
     "text": [
      "[$$$$$$$$10],[     10.00],[     123.6], [He        ]\n"
     ]
    }
   ],
   "source": [
    "# 실수자릿수\n",
    "a = 10\n",
    "f = 123.56\n",
    "s = 'Hello'\n",
    "print('[{0:$>10}],[{0:10.2f}],[{1:10.1f}], [{2:10.2}]'.format(a, f, s))"
   ]
  },
  {
   "cell_type": "code",
   "execution_count": 35,
   "id": "1d884f13",
   "metadata": {
    "ExecuteTime": {
     "end_time": "2024-11-05T04:06:41.023018Z",
     "start_time": "2024-11-05T04:06:41.017021Z"
    }
   },
   "outputs": [
    {
     "name": "stdout",
     "output_type": "stream",
     "text": [
      "[123$$$$$$$]\n"
     ]
    }
   ],
   "source": [
    "# 공백 대체문자를 쓸 경우 반드시 정렬방식 표현\n",
    "print(\"[{:$<10}]\".format(a))\n",
    "# print(\"[{:$10}]\".format(a)) 에러남"
   ]
  },
  {
   "cell_type": "code",
   "execution_count": 38,
   "id": "84e0adcd",
   "metadata": {
    "ExecuteTime": {
     "end_time": "2024-11-05T04:08:49.414041Z",
     "start_time": "2024-11-05T04:08:49.407043Z"
    }
   },
   "outputs": [
    {
     "name": "stdout",
     "output_type": "stream",
     "text": [
      "[      -123], [      +123], [       123]\n",
      "[-      123], [       123], [       123]\n",
      "[-      123], [+      123], [       123]\n",
      "[-000000123], [+000000123], [0000000123]\n"
     ]
    }
   ],
   "source": [
    "# 자리수 앞에 +를 붙이면 양수의 경우도 부호를 붙여줌\n",
    "# 자리수 앞에 =를 붙이면 부호가 자릿수 앞에 표시됨(음수의 경우)\n",
    "# 자리수 앞에 =+를 붙이면 부호가 자릿수 맨 앞에 표시됨 (음수, 양수 포함)\n",
    "# 자리수 앞에 0을 붙이면 빈자리에 0을 채움\n",
    "# 공백대체문자를 쓸 경우 자리수 앞에 0이 무시\n",
    "a, b = 123, -123\n",
    "print(\"[{:+10}], [{:+10}], [{:10}]\".format(b, a, a))\n",
    "print(\"[{:=10}], [{:=10}], [{:10}]\".format(b, a, a))\n",
    "print(\"[{:=+10}], [{:=+10}], [{:10}]\".format(b, a, a))\n",
    "print(\"[{:=+010}], [{:=+010}], [{:010}]\".format(b, a, a))\n",
    "print(\"[{:=+010}], [{:=+010}], [{:010}]\".format(b, a, a))"
   ]
  },
  {
   "cell_type": "code",
   "execution_count": 44,
   "id": "4d5c59f8",
   "metadata": {
    "ExecuteTime": {
     "end_time": "2024-11-05T05:16:54.783269Z",
     "start_time": "2024-11-05T05:16:54.777270Z"
    }
   },
   "outputs": [
    {
     "name": "stdout",
     "output_type": "stream",
     "text": [
      "a = [       2.8]\n",
      "s = [he        ]\n"
     ]
    }
   ],
   "source": [
    "# 전체자리수.표현될자리수\n",
    "a = 2.758\n",
    "s = 'hello'\n",
    "print(\"a = [{:10.2}]\".format(a))\n",
    "print(\"s = [{:10.2}]\".format(s))"
   ]
  },
  {
   "cell_type": "code",
   "execution_count": 46,
   "id": "9dcc5e8a",
   "metadata": {
    "ExecuteTime": {
     "end_time": "2024-11-05T05:17:25.398243Z",
     "start_time": "2024-11-05T05:17:25.393247Z"
    }
   },
   "outputs": [
    {
     "name": "stdout",
     "output_type": "stream",
     "text": [
      "a = [      2.76]\n"
     ]
    }
   ],
   "source": [
    "#전체자리수.표현될자리수f\n",
    "print(\"a = [{:10.2f}]\".format(a))"
   ]
  },
  {
   "cell_type": "code",
   "execution_count": 49,
   "id": "ae723d10",
   "metadata": {
    "ExecuteTime": {
     "end_time": "2024-11-05T05:31:06.657432Z",
     "start_time": "2024-11-05T05:31:06.651433Z"
    }
   },
   "outputs": [
    {
     "name": "stdout",
     "output_type": "stream",
     "text": [
      "10진수 : [   15]\n",
      "8진수 : [    f]\n",
      "16진수 : [   17]\n",
      "2진수 : [ 1111]\n"
     ]
    }
   ],
   "source": [
    "# 10진수, 8진수, 16진수, 2진수 출력\n",
    "a = 15\n",
    "print(\"10진수 : [{:5d}]\".format(a))\n",
    "print(\"8진수 : [{:5x}]\".format(a))\n",
    "print(\"16진수 : [{:5o}]\".format(a))\n",
    "print(\"2진수 : [{:5b}]\".format(a))"
   ]
  },
  {
   "cell_type": "code",
   "execution_count": 50,
   "id": "e76e9d88",
   "metadata": {
    "ExecuteTime": {
     "end_time": "2024-11-05T05:31:31.441315Z",
     "start_time": "2024-11-05T05:31:31.436316Z"
    }
   },
   "outputs": [
    {
     "name": "stdout",
     "output_type": "stream",
     "text": [
      "[{:10.3}]\n"
     ]
    }
   ],
   "source": [
    "a = 2.785\n",
    "print(\"[{:10.3}]\")"
   ]
  },
  {
   "cell_type": "code",
   "execution_count": 53,
   "id": "5e027dea",
   "metadata": {
    "ExecuteTime": {
     "end_time": "2024-11-05T05:38:26.045230Z",
     "start_time": "2024-11-05T05:38:26.016239Z"
    }
   },
   "outputs": [
    {
     "name": "stdout",
     "output_type": "stream",
     "text": [
      "[    +2.785]\n"
     ]
    },
    {
     "ename": "IndexError",
     "evalue": "Replacement index 1 out of range for positional args tuple",
     "output_type": "error",
     "traceback": [
      "\u001b[1;31m---------------------------------------------------------------------------\u001b[0m",
      "\u001b[1;31mIndexError\u001b[0m                                Traceback (most recent call last)",
      "Cell \u001b[1;32mIn[53], line 6\u001b[0m\n\u001b[0;32m      3\u001b[0m precision \u001b[38;5;241m=\u001b[39m \u001b[38;5;241m4\u001b[39m\n\u001b[0;32m      4\u001b[0m \u001b[38;5;28mprint\u001b[39m(\u001b[38;5;124m\"\u001b[39m\u001b[38;5;124m[\u001b[39m\u001b[38;5;124m{\u001b[39m\u001b[38;5;124m:\u001b[39m\u001b[38;5;132;01m{sign}\u001b[39;00m\u001b[38;5;132;01m{width}\u001b[39;00m\u001b[38;5;124m.\u001b[39m\u001b[38;5;132;01m{precision}\u001b[39;00m\u001b[38;5;124m}]\u001b[39m\u001b[38;5;124m\"\u001b[39m\u001b[38;5;241m.\u001b[39mformat(a,\n\u001b[0;32m      5\u001b[0m         sign\u001b[38;5;241m=\u001b[39msign, width\u001b[38;5;241m=\u001b[39mwidth, precision\u001b[38;5;241m=\u001b[39mprecision))\n\u001b[1;32m----> 6\u001b[0m \u001b[38;5;28mprint\u001b[39m(\u001b[38;5;124;43m\"\u001b[39;49m\u001b[38;5;124;43m[\u001b[39;49m\u001b[38;5;124;43m{\u001b[39;49m\u001b[38;5;124;43m:\u001b[39;49m\u001b[38;5;132;43;01m{}\u001b[39;49;00m\u001b[38;5;132;43;01m{}\u001b[39;49;00m\u001b[38;5;124;43m.\u001b[39;49m\u001b[38;5;132;43;01m{}\u001b[39;49;00m\u001b[38;5;124;43m}]\u001b[39;49m\u001b[38;5;124;43m\"\u001b[39;49m\u001b[38;5;241;43m.\u001b[39;49m\u001b[43mformat\u001b[49m\u001b[43m(\u001b[49m\u001b[43ma\u001b[49m\u001b[43m,\u001b[49m\u001b[43msign\u001b[49m\u001b[38;5;241;43m=\u001b[39;49m\u001b[43msign\u001b[49m\u001b[43m,\u001b[49m\u001b[43m \u001b[49m\u001b[43mwidth\u001b[49m\u001b[38;5;241;43m=\u001b[39;49m\u001b[43mwidth\u001b[49m\u001b[43m,\u001b[49m\u001b[43m \u001b[49m\u001b[43mprecision\u001b[49m\u001b[38;5;241;43m=\u001b[39;49m\u001b[43mprecision\u001b[49m\u001b[43m)\u001b[49m)\n",
      "\u001b[1;31mIndexError\u001b[0m: Replacement index 1 out of range for positional args tuple"
     ]
    }
   ],
   "source": [
    "sign = '+'\n",
    "width = 10\n",
    "precision = 4\n",
    "print(\"[{:{sign}{width}.{precision}}]\".format(a,\n",
    "        sign=sign, width=width, precision=precision))\n",
    "print(\"[{:{}{}.{}}]\".format(a,sign=sign, width=width, precision=precision))"
   ]
  },
  {
   "cell_type": "markdown",
   "id": "b1dde229",
   "metadata": {},
   "source": [
    "### 4.3 날짜 출력"
   ]
  },
  {
   "cell_type": "code",
   "execution_count": 61,
   "id": "22a6c022",
   "metadata": {
    "ExecuteTime": {
     "end_time": "2024-11-05T05:47:44.235312Z",
     "start_time": "2024-11-05T05:47:44.228315Z"
    }
   },
   "outputs": [
    {
     "data": {
      "text/plain": [
       "datetime.datetime(2024, 11, 5, 14, 42)"
      ]
     },
     "execution_count": 61,
     "metadata": {},
     "output_type": "execute_result"
    }
   ],
   "source": [
    "# format 이용\n",
    "#datetime 모듈(파이썬 파일 : datetime.py)안에 datetime이라는 함수 추가\n",
    "from datetime import datetime\n",
    "thatday = datetime(2024, 11, 5, 14, 42)\n",
    "thatday"
   ]
  },
  {
   "cell_type": "code",
   "execution_count": 62,
   "id": "0c019bf5",
   "metadata": {
    "ExecuteTime": {
     "end_time": "2024-11-05T05:47:46.224661Z",
     "start_time": "2024-11-05T05:47:46.219662Z"
    }
   },
   "outputs": [
    {
     "name": "stdout",
     "output_type": "stream",
     "text": [
      "2024년11월05일 14시42분00초\n",
      "2024년11월05일 PM 02시42분00초\n"
     ]
    }
   ],
   "source": [
    "print(\"{:%Y년%m월%d일 %H시%M분%S초}\".format(thatday))\n",
    "print(\"{:%Y년%m월%d일 %p %I시%M분%S초}\".format(thatday))"
   ]
  },
  {
   "cell_type": "code",
   "execution_count": 64,
   "id": "92864f5c",
   "metadata": {
    "ExecuteTime": {
     "end_time": "2024-11-05T05:52:21.672469Z",
     "start_time": "2024-11-05T05:52:21.666471Z"
    }
   },
   "outputs": [
    {
     "data": {
      "text/plain": [
       "'2024년11월05일 PM 02시42분00초'"
      ]
     },
     "execution_count": 64,
     "metadata": {},
     "output_type": "execute_result"
    }
   ],
   "source": [
    "# 날짜를 문자열로 전환하는 함수\n",
    "from time import strftime\n",
    "thatdayStr = strftime(\"{:%Y년%m월%d일 %p %I시%M분%S초}\".format(thatday))\n",
    "thatdayStr"
   ]
  },
  {
   "cell_type": "code",
   "execution_count": 65,
   "id": "36f14d0d",
   "metadata": {
    "ExecuteTime": {
     "end_time": "2024-11-05T05:52:45.720593Z",
     "start_time": "2024-11-05T05:52:45.713596Z"
    }
   },
   "outputs": [
    {
     "data": {
      "text/plain": [
       "time.struct_time(tm_year=2024, tm_mon=11, tm_mday=5, tm_hour=14, tm_min=52, tm_sec=45, tm_wday=1, tm_yday=310, tm_isdst=0)"
      ]
     },
     "execution_count": 65,
     "metadata": {},
     "output_type": "execute_result"
    }
   ],
   "source": [
    "from time import localtime\n",
    "now = localtime()\n",
    "now"
   ]
  },
  {
   "cell_type": "code",
   "execution_count": 69,
   "id": "76d137dc",
   "metadata": {
    "ExecuteTime": {
     "end_time": "2024-11-05T05:56:13.976720Z",
     "start_time": "2024-11-05T05:56:13.968726Z"
    }
   },
   "outputs": [
    {
     "data": {
      "text/plain": [
       "'2024년11월05일 PM 02시 56분 13초'"
      ]
     },
     "execution_count": 69,
     "metadata": {},
     "output_type": "execute_result"
    }
   ],
   "source": [
    "strftime(\"%Y년%m월%d일 %p %I시 %M분 %S초\".format(now))"
   ]
  },
  {
   "cell_type": "code",
   "execution_count": 68,
   "id": "d46347fe",
   "metadata": {
    "ExecuteTime": {
     "end_time": "2024-11-05T05:55:56.610716Z",
     "start_time": "2024-11-05T05:55:56.584725Z"
    }
   },
   "outputs": [
    {
     "ename": "TypeError",
     "evalue": "unsupported format string passed to time.struct_time.__format__",
     "output_type": "error",
     "traceback": [
      "\u001b[1;31m---------------------------------------------------------------------------\u001b[0m",
      "\u001b[1;31mTypeError\u001b[0m                                 Traceback (most recent call last)",
      "Cell \u001b[1;32mIn[68], line 1\u001b[0m\n\u001b[1;32m----> 1\u001b[0m \u001b[38;5;28mprint\u001b[39m(\u001b[38;5;124;43m\"\u001b[39;49m\u001b[38;5;124;43m{\u001b[39;49m\u001b[38;5;124;43m:\u001b[39;49m\u001b[38;5;124;43m%\u001b[39;49m\u001b[38;5;124;43mY년\u001b[39;49m\u001b[38;5;124;43m%\u001b[39;49m\u001b[38;5;124;43mm월\u001b[39;49m\u001b[38;5;132;43;01m%d\u001b[39;49;00m\u001b[38;5;124;43m일 \u001b[39;49m\u001b[38;5;124;43m%\u001b[39;49m\u001b[38;5;124;43mp \u001b[39;49m\u001b[38;5;124;43m%\u001b[39;49m\u001b[38;5;124;43mI시 \u001b[39;49m\u001b[38;5;124;43m%\u001b[39;49m\u001b[38;5;124;43mM분 \u001b[39;49m\u001b[38;5;124;43m%\u001b[39;49m\u001b[38;5;124;43mS초}\u001b[39;49m\u001b[38;5;124;43m\"\u001b[39;49m\u001b[38;5;241;43m.\u001b[39;49m\u001b[43mformat\u001b[49m\u001b[43m(\u001b[49m\u001b[43mnow\u001b[49m\u001b[43m)\u001b[49m)\n",
      "\u001b[1;31mTypeError\u001b[0m: unsupported format string passed to time.struct_time.__format__"
     ]
    }
   ],
   "source": [
    "# print(\"{:%Y년%m월%d일 %p %I시 %M분 %S초}\".format(now))"
   ]
  },
  {
   "cell_type": "markdown",
   "id": "ae3750a7",
   "metadata": {},
   "source": [
    "# 5절. 연산자"
   ]
  },
  {
   "cell_type": "markdown",
   "id": "0c3004c4",
   "metadata": {},
   "source": [
    "#### 5.1 산술연산자 : +, -, *, /, //(몫연산자), %(나머지), **(제곱)"
   ]
  },
  {
   "cell_type": "code",
   "execution_count": 70,
   "id": "74b2d529",
   "metadata": {
    "ExecuteTime": {
     "end_time": "2024-11-05T06:00:24.431382Z",
     "start_time": "2024-11-05T06:00:24.425384Z"
    }
   },
   "outputs": [
    {
     "name": "stdout",
     "output_type": "stream",
     "text": [
      "100000\n"
     ]
    }
   ],
   "source": [
    "print(10**5) #10의 5승"
   ]
  },
  {
   "cell_type": "markdown",
   "id": "057d67a2",
   "metadata": {},
   "source": [
    "#### 5.2 할당연산자 : =, +=, -=, /=, //=, %="
   ]
  },
  {
   "cell_type": "code",
   "execution_count": 72,
   "id": "5165dad9",
   "metadata": {
    "ExecuteTime": {
     "end_time": "2024-11-05T06:12:43.135498Z",
     "start_time": "2024-11-05T06:12:43.128499Z"
    }
   },
   "outputs": [
    {
     "data": {
      "text/plain": [
       "3"
      ]
     },
     "execution_count": 72,
     "metadata": {},
     "output_type": "execute_result"
    }
   ],
   "source": [
    "a = 10\n",
    "a //= 3 # a = a//3\n",
    "a"
   ]
  },
  {
   "cell_type": "markdown",
   "id": "2c0e67b2",
   "metadata": {},
   "source": [
    "#### 5.3 논리연산자 : &, and, | , or, not"
   ]
  },
  {
   "cell_type": "code",
   "execution_count": 74,
   "id": "1fea7003",
   "metadata": {
    "ExecuteTime": {
     "end_time": "2024-11-05T06:20:54.546908Z",
     "start_time": "2024-11-05T06:20:54.541909Z"
    }
   },
   "outputs": [
    {
     "name": "stdout",
     "output_type": "stream",
     "text": [
      "True\n",
      "0\n"
     ]
    }
   ],
   "source": [
    "print((10>3 & 10<5))\n",
    "print( 12 & 1) # 비트 연산 #1100 (12)\n",
    "                           #0001 (1)\n",
    "                           # & 0000 (0)\n",
    "    "
   ]
  },
  {
   "cell_type": "code",
   "execution_count": 78,
   "id": "16f1b5bb",
   "metadata": {
    "ExecuteTime": {
     "end_time": "2024-11-05T06:32:36.895985Z",
     "start_time": "2024-11-05T06:32:36.888987Z"
    }
   },
   "outputs": [
    {
     "name": "stdout",
     "output_type": "stream",
     "text": [
      "abc\n",
      "0\n",
      "None\n"
     ]
    }
   ],
   "source": [
    "# and :  거짓으로 판별되는 첫번째 항의 결과 반환\n",
    "      # 모든 항이 참이면, 마지막항의 결과 반환\n",
    "print(True and True and 'abc')\n",
    "print(0 and False)\n",
    "print(True and None)"
   ]
  },
  {
   "cell_type": "code",
   "execution_count": 79,
   "id": "36ae019e",
   "metadata": {
    "ExecuteTime": {
     "end_time": "2024-11-05T06:32:41.870356Z",
     "start_time": "2024-11-05T06:32:41.864358Z"
    }
   },
   "outputs": [
    {
     "name": "stdout",
     "output_type": "stream",
     "text": [
      "True\n"
     ]
    }
   ],
   "source": [
    "print( (10>5) and (10>7) )"
   ]
  },
  {
   "cell_type": "code",
   "execution_count": 80,
   "id": "6dc0c5ae",
   "metadata": {
    "ExecuteTime": {
     "end_time": "2024-11-05T06:32:46.949174Z",
     "start_time": "2024-11-05T06:32:46.944173Z"
    }
   },
   "outputs": [
    {
     "name": "stdout",
     "output_type": "stream",
     "text": [
      "논리연산(연산자 앞뒤에 논리형일 때) : True\n",
      "비트연산(연산자 앞이나 뒤에 숫자일 때) 3\n"
     ]
    }
   ],
   "source": [
    "# | : 논리연산, 비트연산\n",
    "result = False | True\n",
    "print('논리연산(연산자 앞뒤에 논리형일 때) :',result)\n",
    "result = False | 3 # 0000 | 0011\n",
    "print('비트연산(연산자 앞이나 뒤에 숫자일 때)',result)"
   ]
  },
  {
   "cell_type": "code",
   "execution_count": 83,
   "id": "1fe03a3a",
   "metadata": {
    "ExecuteTime": {
     "end_time": "2024-11-05T06:37:04.852039Z",
     "start_time": "2024-11-05T06:37:04.846039Z"
    }
   },
   "outputs": [
    {
     "name": "stdout",
     "output_type": "stream",
     "text": [
      "[]\n",
      "HONG\n"
     ]
    }
   ],
   "source": [
    "# or :  참으로 판별되는 첫번째 항의 결과 반환\n",
    "      # 모든 항이 거짓이면, 마지막항의 결과 반환\n",
    "print(False or 0 or '' or None or [])\n",
    "print('HONG' or 0 or False)"
   ]
  },
  {
   "cell_type": "markdown",
   "id": "ba2db5e0",
   "metadata": {},
   "source": [
    "#### 5.4 비교연산자 : >, >=, <, <= , ==, !="
   ]
  },
  {
   "cell_type": "code",
   "execution_count": 89,
   "id": "6ec96dc3",
   "metadata": {
    "ExecuteTime": {
     "end_time": "2024-11-05T06:43:21.585910Z",
     "start_time": "2024-11-05T06:43:21.579914Z"
    }
   },
   "outputs": [
    {
     "name": "stdout",
     "output_type": "stream",
     "text": [
      "True\n",
      "True\n",
      "True\n"
     ]
    }
   ],
   "source": [
    "# 비교연산자는 이항, 삼항, ... 다항 연산자\n",
    "x = 5 \n",
    "print ( (4 < x ) & (x < 10))\n",
    "print ( (4 < x  < 10))\n",
    "print (1 < 2 < 4 < x < 10)"
   ]
  },
  {
   "cell_type": "code",
   "execution_count": 90,
   "id": "c903c5a2",
   "metadata": {
    "ExecuteTime": {
     "end_time": "2024-11-05T06:45:00.018675Z",
     "start_time": "2024-11-05T06:45:00.012679Z"
    },
    "scrolled": true
   },
   "outputs": [
    {
     "name": "stdout",
     "output_type": "stream",
     "text": [
      "True\n",
      "False\n",
      "False\n",
      "False\n"
     ]
    }
   ],
   "source": [
    "# 비교연산자의 우선 순위가 논리연산의 우선순위보다 낮음\n",
    "print( (10>5) & (10>7) )\n",
    "print(  10>5  &  10>7 )\n",
    "print( 10>(5 & 10)>7)\n",
    "print( 10 > 0 > 7)\n",
    "# 0101 (5)\n",
    "# 1010 (10)"
   ]
  },
  {
   "cell_type": "code",
   "execution_count": 86,
   "id": "aa2cf1c7",
   "metadata": {
    "ExecuteTime": {
     "end_time": "2024-11-05T06:38:30.811081Z",
     "start_time": "2024-11-05T06:38:30.806081Z"
    }
   },
   "outputs": [
    {
     "name": "stdout",
     "output_type": "stream",
     "text": [
      "True\n"
     ]
    }
   ],
   "source": [
    "x = 5\n",
    "print( (4 < x) & (x < 10))"
   ]
  },
  {
   "cell_type": "code",
   "execution_count": 95,
   "id": "05aaf903",
   "metadata": {
    "ExecuteTime": {
     "end_time": "2024-11-05T06:50:59.754399Z",
     "start_time": "2024-11-05T06:50:59.728417Z"
    }
   },
   "outputs": [
    {
     "ename": "TypeError",
     "evalue": "unsupported operand type(s) for &: 'str' and 'int'",
     "output_type": "error",
     "traceback": [
      "\u001b[1;31m---------------------------------------------------------------------------\u001b[0m",
      "\u001b[1;31mTypeError\u001b[0m                                 Traceback (most recent call last)",
      "Cell \u001b[1;32mIn[95], line 3\u001b[0m\n\u001b[0;32m      1\u001b[0m address \u001b[38;5;241m=\u001b[39m \u001b[38;5;124m'\u001b[39m\u001b[38;5;124m서울\u001b[39m\u001b[38;5;124m'\u001b[39m\n\u001b[0;32m      2\u001b[0m age \u001b[38;5;241m=\u001b[39m \u001b[38;5;241m30\u001b[39m\n\u001b[1;32m----> 3\u001b[0m \u001b[38;5;28mprint\u001b[39m(address\u001b[38;5;241m==\u001b[39m\u001b[38;5;124;43m'\u001b[39;49m\u001b[38;5;124;43m서울\u001b[39;49m\u001b[38;5;124;43m'\u001b[39;49m\u001b[43m \u001b[49m\u001b[38;5;241;43m&\u001b[39;49m\u001b[43m \u001b[49m\u001b[43mage\u001b[49m\u001b[38;5;241m>\u001b[39m\u001b[38;5;241m=\u001b[39m\u001b[38;5;241m30\u001b[39m)\n",
      "\u001b[1;31mTypeError\u001b[0m: unsupported operand type(s) for &: 'str' and 'int'"
     ]
    }
   ],
   "source": [
    "address = '서울'\n",
    "age = 30\n",
    "print(address=='서울' & age>=30) # 우선순위를 보고 괄호를 반드시"
   ]
  },
  {
   "cell_type": "code",
   "execution_count": 92,
   "id": "aa238485",
   "metadata": {
    "ExecuteTime": {
     "end_time": "2024-11-05T06:47:54.488543Z",
     "start_time": "2024-11-05T06:47:54.481545Z"
    }
   },
   "outputs": [
    {
     "data": {
      "text/plain": [
       "True"
      ]
     },
     "execution_count": 92,
     "metadata": {},
     "output_type": "execute_result"
    }
   ],
   "source": [
    "# 문자는 ASCII 코드 순으로 비교 : 특수문자 < 숫자문자 < 대문자 < 소문자 (abc 순)\n",
    "'scott' < 'tiger'"
   ]
  },
  {
   "cell_type": "code",
   "execution_count": 93,
   "id": "8a36e4f6",
   "metadata": {
    "ExecuteTime": {
     "end_time": "2024-11-05T06:48:08.088089Z",
     "start_time": "2024-11-05T06:48:08.081091Z"
    }
   },
   "outputs": [
    {
     "data": {
      "text/plain": [
       "True"
      ]
     },
     "execution_count": 93,
     "metadata": {},
     "output_type": "execute_result"
    }
   ],
   "source": [
    "'감우성' < '홍길동'"
   ]
  },
  {
   "cell_type": "markdown",
   "id": "20c81986",
   "metadata": {},
   "source": [
    "#### 5.5 비트연산"
   ]
  },
  {
   "cell_type": "code",
   "execution_count": 96,
   "id": "81f30903",
   "metadata": {
    "ExecuteTime": {
     "end_time": "2024-11-05T06:56:30.851407Z",
     "start_time": "2024-11-05T06:56:30.846407Z"
    }
   },
   "outputs": [],
   "source": [
    "a = '''\n",
    "x   y   x&y   x|y    x^y(XOR)  \n",
    "0   0    0     1      0\n",
    "0   1    0     1      1\n",
    "1   0    0     1      1\n",
    "1   1    1     1      0\n",
    "'''"
   ]
  },
  {
   "cell_type": "code",
   "execution_count": 99,
   "id": "ee1ee764",
   "metadata": {
    "ExecuteTime": {
     "end_time": "2024-11-05T07:22:13.314519Z",
     "start_time": "2024-11-05T07:22:13.307521Z"
    }
   },
   "outputs": [
    {
     "name": "stdout",
     "output_type": "stream",
     "text": [
      " a = 15 : 1111\n",
      " b =  2 :   10\n",
      " a&b =  2 :   10\n",
      " a|b = 15 : 1111\n",
      " a^b = 13 : 1101\n"
     ]
    }
   ],
   "source": [
    "a =15\n",
    "b = 2\n",
    "print(\" a = {0:2} : {0:4b}\".format(a))\n",
    "print(\" b = {0:2} : {0:4b}\".format(b))\n",
    "print(\" a&b = {0:2} : {0:4b}\".format(a&b))\n",
    "print(\" a|b = {0:2} : {0:4b}\".format(a|b))\n",
    "print(\" a^b = {0:2} : {0:4b}\".format(a^b))"
   ]
  },
  {
   "cell_type": "code",
   "execution_count": 100,
   "id": "319cdebf",
   "metadata": {
    "ExecuteTime": {
     "end_time": "2024-11-05T07:24:58.352474Z",
     "start_time": "2024-11-05T07:24:58.345476Z"
    }
   },
   "outputs": [
    {
     "data": {
      "text/plain": [
       "False"
      ]
     },
     "execution_count": 100,
     "metadata": {},
     "output_type": "execute_result"
    }
   ],
   "source": [
    "a = 15\n",
    "isinstance(a, float)"
   ]
  },
  {
   "cell_type": "code",
   "execution_count": null,
   "id": "23fa93d1",
   "metadata": {},
   "outputs": [],
   "source": []
  },
  {
   "cell_type": "code",
   "execution_count": null,
   "id": "6057f66b",
   "metadata": {},
   "outputs": [],
   "source": []
  },
  {
   "cell_type": "code",
   "execution_count": null,
   "id": "7af74923",
   "metadata": {},
   "outputs": [],
   "source": []
  },
  {
   "cell_type": "code",
   "execution_count": null,
   "id": "3454916e",
   "metadata": {},
   "outputs": [],
   "source": []
  },
  {
   "cell_type": "code",
   "execution_count": null,
   "id": "dff5bf01",
   "metadata": {},
   "outputs": [],
   "source": []
  },
  {
   "cell_type": "code",
   "execution_count": null,
   "id": "b9fbb764",
   "metadata": {},
   "outputs": [],
   "source": []
  },
  {
   "cell_type": "code",
   "execution_count": null,
   "id": "fc846261",
   "metadata": {},
   "outputs": [],
   "source": []
  }
 ],
 "metadata": {
  "kernelspec": {
   "display_name": "Python 3 (ipykernel)",
   "language": "python",
   "name": "python3"
  },
  "language_info": {
   "codemirror_mode": {
    "name": "ipython",
    "version": 3
   },
   "file_extension": ".py",
   "mimetype": "text/x-python",
   "name": "python",
   "nbconvert_exporter": "python",
   "pygments_lexer": "ipython3",
   "version": "3.10.9"
  },
  "toc": {
   "base_numbering": 1,
   "nav_menu": {},
   "number_sections": true,
   "sideBar": true,
   "skip_h1_title": false,
   "title_cell": "Table of Contents",
   "title_sidebar": "Contents",
   "toc_cell": false,
   "toc_position": {},
   "toc_section_display": true,
   "toc_window_display": false
  }
 },
 "nbformat": 4,
 "nbformat_minor": 5
}
